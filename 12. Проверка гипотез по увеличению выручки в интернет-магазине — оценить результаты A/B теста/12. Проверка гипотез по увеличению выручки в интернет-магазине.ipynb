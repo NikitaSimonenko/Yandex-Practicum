{
 "cells": [
  {
   "cell_type": "markdown",
   "id": "c869e81e",
   "metadata": {},
   "source": [
    "# Принятие решений в бизнесе"
   ]
  },
  {
   "cell_type": "markdown",
   "id": "5c9fcf09",
   "metadata": {},
   "source": [
    "**Описание проекта:**\n",
    "\n",
    "Вы — аналитик крупного интернет-магазина. Вместе с отделом маркетинга вы подготовили список гипотез для увеличения выручки.\n",
    "\n",
    "Приоритизируйте гипотезы, запустите A/B-тест и проанализируйте результаты. "
   ]
  },
  {
   "cell_type": "markdown",
   "id": "f279a32a",
   "metadata": {},
   "source": [
    "**Описание данных:**\n",
    "\n",
    "**Данные для первой части:**\n",
    "\n",
    "**Файл /datasets/hypothesis.csv:**\n",
    "- **Hypothesis** — краткое описание гипотезы;\n",
    "- **Reach** — охват пользователей по 10-балльной шкале;\n",
    "- **Impact** — влияние на пользователей по 10-балльной шкале;\n",
    "- **Confidence** — уверенность в гипотезе по 10-балльной шкале;\n",
    "- **Efforts** — затраты ресурсов на проверку гипотезы по 10-балльной шкале. Чем больше значение Efforts, тем дороже проверка гипотезы.\n",
    "\n",
    "**Данные для второй части:**\n",
    "\n",
    "**Файл /datasets/orders.csv:**\n",
    "- **transactionId** — идентификатор заказа;\n",
    "- **visitorId** — идентификатор пользователя, совершившего заказ;\n",
    "- **date** — дата, когда был совершён заказ;\n",
    "- **revenue** — выручка заказа;\n",
    "- **group** — группа A/B-теста, в которую попал заказ.\n",
    "\n",
    "**Файл /datasets/visitors.csv:**\n",
    "- **date** — дата;\n",
    "- **group** — группа A/B-теста;\n",
    "- **visitors** — количество пользователей в указанную дату в указанной группе A/B-теста"
   ]
  },
  {
   "cell_type": "markdown",
   "id": "255041d8",
   "metadata": {},
   "source": [
    "## **Предобработка данных**"
   ]
  },
  {
   "cell_type": "markdown",
   "id": "26e248ba",
   "metadata": {},
   "source": [
    "### Выгрузим библиотеки и ознакомимся с датафреймами"
   ]
  },
  {
   "cell_type": "code",
   "execution_count": 1,
   "id": "5e02f904",
   "metadata": {},
   "outputs": [],
   "source": [
    "#Выгрузим библиотеки \n",
    "import pandas as pd\n",
    "import numpy as np\n",
    "import seaborn as sns\n",
    "import matplotlib.pyplot as plt\n",
    "import datetime as dt\n",
    "from datetime import datetime, timedelta\n",
    "import time\n",
    "import random\n",
    "import warnings\n",
    "warnings.filterwarnings(\"ignore\")\n",
    "import re\n",
    "import ast\n",
    "from scipy import stats as st\n",
    "pd.options.display.max_colwidth = 130"
   ]
  },
  {
   "cell_type": "code",
   "execution_count": 2,
   "id": "29ea0f61",
   "metadata": {},
   "outputs": [],
   "source": [
    "#Загрузим датафреймы\n",
    "#Файл /datasets/hypothesis.csv\n",
    "try:\n",
    "    hypothesis = pd.read_csv('hypothesis.csv')\n",
    "except:\n",
    "    hypothesis = pd.read_csv('/datasets/hypothesis.csv')\n"
   ]
  },
  {
   "cell_type": "code",
   "execution_count": 3,
   "id": "7e35ac43",
   "metadata": {},
   "outputs": [],
   "source": [
    "#Файл /datasets/orders.csv\n",
    "try:\n",
    "    orders = pd.read_csv('orders.csv')\n",
    "except:\n",
    "    orders = pd.read_csv('/datasets/orders.csv')"
   ]
  },
  {
   "cell_type": "code",
   "execution_count": 4,
   "id": "1a5c0b4a",
   "metadata": {},
   "outputs": [],
   "source": [
    "#Файл /datasets/visitors.csv\n",
    "try:\n",
    "    visitors = pd.read_csv('visitors.csv')\n",
    "except:\n",
    "    visitors = pd.read_csv('/datasets/visitors.csv')"
   ]
  },
  {
   "cell_type": "code",
   "execution_count": 5,
   "id": "54252f33",
   "metadata": {},
   "outputs": [
    {
     "data": {
      "text/html": [
       "<div>\n",
       "<style scoped>\n",
       "    .dataframe tbody tr th:only-of-type {\n",
       "        vertical-align: middle;\n",
       "    }\n",
       "\n",
       "    .dataframe tbody tr th {\n",
       "        vertical-align: top;\n",
       "    }\n",
       "\n",
       "    .dataframe thead th {\n",
       "        text-align: right;\n",
       "    }\n",
       "</style>\n",
       "<table border=\"1\" class=\"dataframe\">\n",
       "  <thead>\n",
       "    <tr style=\"text-align: right;\">\n",
       "      <th></th>\n",
       "      <th>Hypothesis</th>\n",
       "      <th>Reach</th>\n",
       "      <th>Impact</th>\n",
       "      <th>Confidence</th>\n",
       "      <th>Efforts</th>\n",
       "    </tr>\n",
       "  </thead>\n",
       "  <tbody>\n",
       "    <tr>\n",
       "      <th>0</th>\n",
       "      <td>Добавить два новых канала привлечения трафика, что позволит привлекать на 30% больше пользователей</td>\n",
       "      <td>3</td>\n",
       "      <td>10</td>\n",
       "      <td>8</td>\n",
       "      <td>6</td>\n",
       "    </tr>\n",
       "    <tr>\n",
       "      <th>1</th>\n",
       "      <td>Запустить собственную службу доставки, что сократит срок доставки заказов</td>\n",
       "      <td>2</td>\n",
       "      <td>5</td>\n",
       "      <td>4</td>\n",
       "      <td>10</td>\n",
       "    </tr>\n",
       "    <tr>\n",
       "      <th>2</th>\n",
       "      <td>Добавить блоки рекомендаций товаров на сайт интернет магазина, чтобы повысить конверсию и средний чек заказа</td>\n",
       "      <td>8</td>\n",
       "      <td>3</td>\n",
       "      <td>7</td>\n",
       "      <td>3</td>\n",
       "    </tr>\n",
       "    <tr>\n",
       "      <th>3</th>\n",
       "      <td>Изменить структура категорий, что увеличит конверсию, т.к. пользователи быстрее найдут нужный товар</td>\n",
       "      <td>8</td>\n",
       "      <td>3</td>\n",
       "      <td>3</td>\n",
       "      <td>8</td>\n",
       "    </tr>\n",
       "    <tr>\n",
       "      <th>4</th>\n",
       "      <td>Изменить цвет фона главной страницы, чтобы увеличить вовлеченность пользователей</td>\n",
       "      <td>3</td>\n",
       "      <td>1</td>\n",
       "      <td>1</td>\n",
       "      <td>1</td>\n",
       "    </tr>\n",
       "    <tr>\n",
       "      <th>5</th>\n",
       "      <td>Добавить страницу отзывов клиентов о магазине, что позволит увеличить количество заказов</td>\n",
       "      <td>3</td>\n",
       "      <td>2</td>\n",
       "      <td>2</td>\n",
       "      <td>3</td>\n",
       "    </tr>\n",
       "    <tr>\n",
       "      <th>6</th>\n",
       "      <td>Показать на главной странице баннеры с актуальными акциями и распродажами, чтобы увеличить конверсию</td>\n",
       "      <td>5</td>\n",
       "      <td>3</td>\n",
       "      <td>8</td>\n",
       "      <td>3</td>\n",
       "    </tr>\n",
       "    <tr>\n",
       "      <th>7</th>\n",
       "      <td>Добавить форму подписки на все основные страницы, чтобы собрать базу клиентов для email-рассылок</td>\n",
       "      <td>10</td>\n",
       "      <td>7</td>\n",
       "      <td>8</td>\n",
       "      <td>5</td>\n",
       "    </tr>\n",
       "    <tr>\n",
       "      <th>8</th>\n",
       "      <td>Запустить акцию, дающую скидку на товар в день рождения</td>\n",
       "      <td>1</td>\n",
       "      <td>9</td>\n",
       "      <td>9</td>\n",
       "      <td>5</td>\n",
       "    </tr>\n",
       "  </tbody>\n",
       "</table>\n",
       "</div>"
      ],
      "text/plain": [
       "                                                                                                     Hypothesis  \\\n",
       "0            Добавить два новых канала привлечения трафика, что позволит привлекать на 30% больше пользователей   \n",
       "1                                     Запустить собственную службу доставки, что сократит срок доставки заказов   \n",
       "2  Добавить блоки рекомендаций товаров на сайт интернет магазина, чтобы повысить конверсию и средний чек заказа   \n",
       "3           Изменить структура категорий, что увеличит конверсию, т.к. пользователи быстрее найдут нужный товар   \n",
       "4                              Изменить цвет фона главной страницы, чтобы увеличить вовлеченность пользователей   \n",
       "5                      Добавить страницу отзывов клиентов о магазине, что позволит увеличить количество заказов   \n",
       "6          Показать на главной странице баннеры с актуальными акциями и распродажами, чтобы увеличить конверсию   \n",
       "7              Добавить форму подписки на все основные страницы, чтобы собрать базу клиентов для email-рассылок   \n",
       "8                                                       Запустить акцию, дающую скидку на товар в день рождения   \n",
       "\n",
       "   Reach  Impact  Confidence  Efforts  \n",
       "0      3      10           8        6  \n",
       "1      2       5           4       10  \n",
       "2      8       3           7        3  \n",
       "3      8       3           3        8  \n",
       "4      3       1           1        1  \n",
       "5      3       2           2        3  \n",
       "6      5       3           8        3  \n",
       "7     10       7           8        5  \n",
       "8      1       9           9        5  "
      ]
     },
     "metadata": {},
     "output_type": "display_data"
    },
    {
     "name": "stdout",
     "output_type": "stream",
     "text": [
      "<class 'pandas.core.frame.DataFrame'>\n",
      "RangeIndex: 9 entries, 0 to 8\n",
      "Data columns (total 5 columns):\n",
      " #   Column      Non-Null Count  Dtype \n",
      "---  ------      --------------  ----- \n",
      " 0   Hypothesis  9 non-null      object\n",
      " 1   Reach       9 non-null      int64 \n",
      " 2   Impact      9 non-null      int64 \n",
      " 3   Confidence  9 non-null      int64 \n",
      " 4   Efforts     9 non-null      int64 \n",
      "dtypes: int64(4), object(1)\n",
      "memory usage: 488.0+ bytes\n",
      "---------------------\n",
      "Дубликатов в датафрейме - 0\n",
      "Пропусков в датафрейме - Hypothesis    0\n",
      "Reach         0\n",
      "Impact        0\n",
      "Confidence    0\n",
      "Efforts       0\n",
      "dtype: int64\n"
     ]
    }
   ],
   "source": [
    "#Ознакомимся с датафреймом hypothesis\n",
    "display(hypothesis.head(10))\n",
    "hypothesis.info()\n",
    "print('---------------------')\n",
    "print('Дубликатов в датафрейме -', hypothesis.duplicated().sum())\n",
    "print('Пропусков в датафрейме -', hypothesis.isna().sum())"
   ]
  },
  {
   "cell_type": "code",
   "execution_count": 6,
   "id": "365a9e7a",
   "metadata": {},
   "outputs": [
    {
     "data": {
      "text/html": [
       "<div>\n",
       "<style scoped>\n",
       "    .dataframe tbody tr th:only-of-type {\n",
       "        vertical-align: middle;\n",
       "    }\n",
       "\n",
       "    .dataframe tbody tr th {\n",
       "        vertical-align: top;\n",
       "    }\n",
       "\n",
       "    .dataframe thead th {\n",
       "        text-align: right;\n",
       "    }\n",
       "</style>\n",
       "<table border=\"1\" class=\"dataframe\">\n",
       "  <thead>\n",
       "    <tr style=\"text-align: right;\">\n",
       "      <th></th>\n",
       "      <th>transactionId</th>\n",
       "      <th>visitorId</th>\n",
       "      <th>date</th>\n",
       "      <th>revenue</th>\n",
       "      <th>group</th>\n",
       "    </tr>\n",
       "  </thead>\n",
       "  <tbody>\n",
       "    <tr>\n",
       "      <th>0</th>\n",
       "      <td>3667963787</td>\n",
       "      <td>3312258926</td>\n",
       "      <td>2019-08-15</td>\n",
       "      <td>1650</td>\n",
       "      <td>B</td>\n",
       "    </tr>\n",
       "    <tr>\n",
       "      <th>1</th>\n",
       "      <td>2804400009</td>\n",
       "      <td>3642806036</td>\n",
       "      <td>2019-08-15</td>\n",
       "      <td>730</td>\n",
       "      <td>B</td>\n",
       "    </tr>\n",
       "    <tr>\n",
       "      <th>2</th>\n",
       "      <td>2961555356</td>\n",
       "      <td>4069496402</td>\n",
       "      <td>2019-08-15</td>\n",
       "      <td>400</td>\n",
       "      <td>A</td>\n",
       "    </tr>\n",
       "    <tr>\n",
       "      <th>3</th>\n",
       "      <td>3797467345</td>\n",
       "      <td>1196621759</td>\n",
       "      <td>2019-08-15</td>\n",
       "      <td>9759</td>\n",
       "      <td>B</td>\n",
       "    </tr>\n",
       "    <tr>\n",
       "      <th>4</th>\n",
       "      <td>2282983706</td>\n",
       "      <td>2322279887</td>\n",
       "      <td>2019-08-15</td>\n",
       "      <td>2308</td>\n",
       "      <td>B</td>\n",
       "    </tr>\n",
       "    <tr>\n",
       "      <th>5</th>\n",
       "      <td>182168103</td>\n",
       "      <td>935554773</td>\n",
       "      <td>2019-08-15</td>\n",
       "      <td>2210</td>\n",
       "      <td>B</td>\n",
       "    </tr>\n",
       "    <tr>\n",
       "      <th>6</th>\n",
       "      <td>398296753</td>\n",
       "      <td>2900797465</td>\n",
       "      <td>2019-08-15</td>\n",
       "      <td>1860</td>\n",
       "      <td>B</td>\n",
       "    </tr>\n",
       "    <tr>\n",
       "      <th>7</th>\n",
       "      <td>2626614568</td>\n",
       "      <td>78758296</td>\n",
       "      <td>2019-08-15</td>\n",
       "      <td>1044</td>\n",
       "      <td>A</td>\n",
       "    </tr>\n",
       "    <tr>\n",
       "      <th>8</th>\n",
       "      <td>1576988021</td>\n",
       "      <td>295230930</td>\n",
       "      <td>2019-08-15</td>\n",
       "      <td>13710</td>\n",
       "      <td>A</td>\n",
       "    </tr>\n",
       "    <tr>\n",
       "      <th>9</th>\n",
       "      <td>1506739906</td>\n",
       "      <td>1882260405</td>\n",
       "      <td>2019-08-15</td>\n",
       "      <td>1855</td>\n",
       "      <td>B</td>\n",
       "    </tr>\n",
       "  </tbody>\n",
       "</table>\n",
       "</div>"
      ],
      "text/plain": [
       "   transactionId   visitorId        date  revenue group\n",
       "0     3667963787  3312258926  2019-08-15     1650     B\n",
       "1     2804400009  3642806036  2019-08-15      730     B\n",
       "2     2961555356  4069496402  2019-08-15      400     A\n",
       "3     3797467345  1196621759  2019-08-15     9759     B\n",
       "4     2282983706  2322279887  2019-08-15     2308     B\n",
       "5      182168103   935554773  2019-08-15     2210     B\n",
       "6      398296753  2900797465  2019-08-15     1860     B\n",
       "7     2626614568    78758296  2019-08-15     1044     A\n",
       "8     1576988021   295230930  2019-08-15    13710     A\n",
       "9     1506739906  1882260405  2019-08-15     1855     B"
      ]
     },
     "metadata": {},
     "output_type": "display_data"
    },
    {
     "name": "stdout",
     "output_type": "stream",
     "text": [
      "<class 'pandas.core.frame.DataFrame'>\n",
      "RangeIndex: 1197 entries, 0 to 1196\n",
      "Data columns (total 5 columns):\n",
      " #   Column         Non-Null Count  Dtype \n",
      "---  ------         --------------  ----- \n",
      " 0   transactionId  1197 non-null   int64 \n",
      " 1   visitorId      1197 non-null   int64 \n",
      " 2   date           1197 non-null   object\n",
      " 3   revenue        1197 non-null   int64 \n",
      " 4   group          1197 non-null   object\n",
      "dtypes: int64(3), object(2)\n",
      "memory usage: 46.9+ KB\n",
      "---------------------\n",
      "Дубликатов в датафрейме - 0\n",
      "Пропусков в датафрейме - transactionId    0\n",
      "visitorId        0\n",
      "date             0\n",
      "revenue          0\n",
      "group            0\n",
      "dtype: int64\n"
     ]
    }
   ],
   "source": [
    "#Ознакомимся с датафреймом orders\n",
    "display(orders.head(10))\n",
    "orders.info()\n",
    "print('---------------------')\n",
    "print('Дубликатов в датафрейме -', orders.duplicated().sum())\n",
    "print('Пропусков в датафрейме -', orders.isna().sum())"
   ]
  },
  {
   "cell_type": "code",
   "execution_count": 7,
   "id": "70115841",
   "metadata": {},
   "outputs": [
    {
     "data": {
      "text/html": [
       "<div>\n",
       "<style scoped>\n",
       "    .dataframe tbody tr th:only-of-type {\n",
       "        vertical-align: middle;\n",
       "    }\n",
       "\n",
       "    .dataframe tbody tr th {\n",
       "        vertical-align: top;\n",
       "    }\n",
       "\n",
       "    .dataframe thead th {\n",
       "        text-align: right;\n",
       "    }\n",
       "</style>\n",
       "<table border=\"1\" class=\"dataframe\">\n",
       "  <thead>\n",
       "    <tr style=\"text-align: right;\">\n",
       "      <th></th>\n",
       "      <th>date</th>\n",
       "      <th>group</th>\n",
       "      <th>visitors</th>\n",
       "    </tr>\n",
       "  </thead>\n",
       "  <tbody>\n",
       "    <tr>\n",
       "      <th>0</th>\n",
       "      <td>2019-08-01</td>\n",
       "      <td>A</td>\n",
       "      <td>719</td>\n",
       "    </tr>\n",
       "    <tr>\n",
       "      <th>1</th>\n",
       "      <td>2019-08-02</td>\n",
       "      <td>A</td>\n",
       "      <td>619</td>\n",
       "    </tr>\n",
       "    <tr>\n",
       "      <th>2</th>\n",
       "      <td>2019-08-03</td>\n",
       "      <td>A</td>\n",
       "      <td>507</td>\n",
       "    </tr>\n",
       "    <tr>\n",
       "      <th>3</th>\n",
       "      <td>2019-08-04</td>\n",
       "      <td>A</td>\n",
       "      <td>717</td>\n",
       "    </tr>\n",
       "    <tr>\n",
       "      <th>4</th>\n",
       "      <td>2019-08-05</td>\n",
       "      <td>A</td>\n",
       "      <td>756</td>\n",
       "    </tr>\n",
       "    <tr>\n",
       "      <th>...</th>\n",
       "      <td>...</td>\n",
       "      <td>...</td>\n",
       "      <td>...</td>\n",
       "    </tr>\n",
       "    <tr>\n",
       "      <th>57</th>\n",
       "      <td>2019-08-27</td>\n",
       "      <td>B</td>\n",
       "      <td>720</td>\n",
       "    </tr>\n",
       "    <tr>\n",
       "      <th>58</th>\n",
       "      <td>2019-08-28</td>\n",
       "      <td>B</td>\n",
       "      <td>654</td>\n",
       "    </tr>\n",
       "    <tr>\n",
       "      <th>59</th>\n",
       "      <td>2019-08-29</td>\n",
       "      <td>B</td>\n",
       "      <td>531</td>\n",
       "    </tr>\n",
       "    <tr>\n",
       "      <th>60</th>\n",
       "      <td>2019-08-30</td>\n",
       "      <td>B</td>\n",
       "      <td>490</td>\n",
       "    </tr>\n",
       "    <tr>\n",
       "      <th>61</th>\n",
       "      <td>2019-08-31</td>\n",
       "      <td>B</td>\n",
       "      <td>718</td>\n",
       "    </tr>\n",
       "  </tbody>\n",
       "</table>\n",
       "<p>62 rows × 3 columns</p>\n",
       "</div>"
      ],
      "text/plain": [
       "          date group  visitors\n",
       "0   2019-08-01     A       719\n",
       "1   2019-08-02     A       619\n",
       "2   2019-08-03     A       507\n",
       "3   2019-08-04     A       717\n",
       "4   2019-08-05     A       756\n",
       "..         ...   ...       ...\n",
       "57  2019-08-27     B       720\n",
       "58  2019-08-28     B       654\n",
       "59  2019-08-29     B       531\n",
       "60  2019-08-30     B       490\n",
       "61  2019-08-31     B       718\n",
       "\n",
       "[62 rows x 3 columns]"
      ]
     },
     "execution_count": 7,
     "metadata": {},
     "output_type": "execute_result"
    }
   ],
   "source": [
    "visitors"
   ]
  },
  {
   "cell_type": "code",
   "execution_count": 8,
   "id": "3035ac5f",
   "metadata": {},
   "outputs": [
    {
     "data": {
      "text/html": [
       "<div>\n",
       "<style scoped>\n",
       "    .dataframe tbody tr th:only-of-type {\n",
       "        vertical-align: middle;\n",
       "    }\n",
       "\n",
       "    .dataframe tbody tr th {\n",
       "        vertical-align: top;\n",
       "    }\n",
       "\n",
       "    .dataframe thead th {\n",
       "        text-align: right;\n",
       "    }\n",
       "</style>\n",
       "<table border=\"1\" class=\"dataframe\">\n",
       "  <thead>\n",
       "    <tr style=\"text-align: right;\">\n",
       "      <th></th>\n",
       "      <th>date</th>\n",
       "      <th>group</th>\n",
       "      <th>visitors</th>\n",
       "    </tr>\n",
       "  </thead>\n",
       "  <tbody>\n",
       "    <tr>\n",
       "      <th>0</th>\n",
       "      <td>2019-08-01</td>\n",
       "      <td>A</td>\n",
       "      <td>719</td>\n",
       "    </tr>\n",
       "    <tr>\n",
       "      <th>1</th>\n",
       "      <td>2019-08-02</td>\n",
       "      <td>A</td>\n",
       "      <td>619</td>\n",
       "    </tr>\n",
       "    <tr>\n",
       "      <th>2</th>\n",
       "      <td>2019-08-03</td>\n",
       "      <td>A</td>\n",
       "      <td>507</td>\n",
       "    </tr>\n",
       "    <tr>\n",
       "      <th>3</th>\n",
       "      <td>2019-08-04</td>\n",
       "      <td>A</td>\n",
       "      <td>717</td>\n",
       "    </tr>\n",
       "    <tr>\n",
       "      <th>4</th>\n",
       "      <td>2019-08-05</td>\n",
       "      <td>A</td>\n",
       "      <td>756</td>\n",
       "    </tr>\n",
       "    <tr>\n",
       "      <th>5</th>\n",
       "      <td>2019-08-06</td>\n",
       "      <td>A</td>\n",
       "      <td>667</td>\n",
       "    </tr>\n",
       "    <tr>\n",
       "      <th>6</th>\n",
       "      <td>2019-08-07</td>\n",
       "      <td>A</td>\n",
       "      <td>644</td>\n",
       "    </tr>\n",
       "    <tr>\n",
       "      <th>7</th>\n",
       "      <td>2019-08-08</td>\n",
       "      <td>A</td>\n",
       "      <td>610</td>\n",
       "    </tr>\n",
       "    <tr>\n",
       "      <th>8</th>\n",
       "      <td>2019-08-09</td>\n",
       "      <td>A</td>\n",
       "      <td>617</td>\n",
       "    </tr>\n",
       "    <tr>\n",
       "      <th>9</th>\n",
       "      <td>2019-08-10</td>\n",
       "      <td>A</td>\n",
       "      <td>406</td>\n",
       "    </tr>\n",
       "  </tbody>\n",
       "</table>\n",
       "</div>"
      ],
      "text/plain": [
       "         date group  visitors\n",
       "0  2019-08-01     A       719\n",
       "1  2019-08-02     A       619\n",
       "2  2019-08-03     A       507\n",
       "3  2019-08-04     A       717\n",
       "4  2019-08-05     A       756\n",
       "5  2019-08-06     A       667\n",
       "6  2019-08-07     A       644\n",
       "7  2019-08-08     A       610\n",
       "8  2019-08-09     A       617\n",
       "9  2019-08-10     A       406"
      ]
     },
     "metadata": {},
     "output_type": "display_data"
    },
    {
     "name": "stdout",
     "output_type": "stream",
     "text": [
      "<class 'pandas.core.frame.DataFrame'>\n",
      "RangeIndex: 62 entries, 0 to 61\n",
      "Data columns (total 3 columns):\n",
      " #   Column    Non-Null Count  Dtype \n",
      "---  ------    --------------  ----- \n",
      " 0   date      62 non-null     object\n",
      " 1   group     62 non-null     object\n",
      " 2   visitors  62 non-null     int64 \n",
      "dtypes: int64(1), object(2)\n",
      "memory usage: 1.6+ KB\n",
      "---------------------\n",
      "Дубликатов в датафрейме - 0\n",
      "Пропусков в датафрейме - date        0\n",
      "group       0\n",
      "visitors    0\n",
      "dtype: int64\n"
     ]
    }
   ],
   "source": [
    "#Ознакомимся с датафреймом visitors\n",
    "display(visitors.head(10))\n",
    "visitors.info()\n",
    "print('---------------------')\n",
    "print('Дубликатов в датафрейме -', visitors.duplicated().sum())\n",
    "print('Пропусков в датафрейме -', visitors.isna().sum())"
   ]
  },
  {
   "cell_type": "markdown",
   "id": "89597736",
   "metadata": {},
   "source": [
    "<div style=\"border:solid Blue 2px; padding: 20px\">\n",
    "\n",
    "**Вывод:** \n",
    "- Выгрузили библиотеки;\n",
    "- Загрузили датафреймы;\n",
    "- Пропусков и дубликатов в данных не обнаружено;\n",
    "- Столбы в hypothesis нужно привести к нижнему регистру;\n",
    "- Также столбцы с датами нужно привести к правильному типу."
   ]
  },
  {
   "cell_type": "markdown",
   "id": "3ce3c22f",
   "metadata": {},
   "source": [
    "### Предобработка данных"
   ]
  },
  {
   "cell_type": "code",
   "execution_count": 9,
   "id": "aea7e511",
   "metadata": {},
   "outputs": [],
   "source": [
    "#Приведем столбцы к правильному виду\n",
    "hypothesis.columns = hypothesis.columns.str.lower()"
   ]
  },
  {
   "cell_type": "code",
   "execution_count": 10,
   "id": "dafe7f4c",
   "metadata": {},
   "outputs": [],
   "source": [
    "#Приведем столбцы с датами к правильному типу\n",
    "orders['date'] = pd.to_datetime(orders['date'])\n",
    "visitors['date'] = pd.to_datetime(visitors['date'])"
   ]
  },
  {
   "cell_type": "markdown",
   "id": "7ddf33a5",
   "metadata": {},
   "source": [
    "<div style=\"border:solid Blue 2px; padding: 20px\">\n",
    "\n",
    "**Вывод:** \n",
    "- Привели столбцы к правильным видам и типам"
   ]
  },
  {
   "cell_type": "markdown",
   "id": "86f4d245",
   "metadata": {},
   "source": [
    "## **Анализ столбца \"group\"**"
   ]
  },
  {
   "cell_type": "code",
   "execution_count": 11,
   "id": "b727176c",
   "metadata": {},
   "outputs": [
    {
     "data": {
      "text/plain": [
       "array(['B', 'A'], dtype=object)"
      ]
     },
     "execution_count": 11,
     "metadata": {},
     "output_type": "execute_result"
    }
   ],
   "source": [
    "#Проверим сколько всего видов групп в orders\n",
    "orders['group'].unique()"
   ]
  },
  {
   "cell_type": "code",
   "execution_count": 12,
   "id": "0d42b113",
   "metadata": {},
   "outputs": [
    {
     "data": {
      "text/plain": [
       "B    640\n",
       "A    557\n",
       "Name: group, dtype: int64"
      ]
     },
     "execution_count": 12,
     "metadata": {},
     "output_type": "execute_result"
    }
   ],
   "source": [
    "#Посчитаем количество\n",
    "orders_group = orders['group'].value_counts()\n",
    "orders_group"
   ]
  },
  {
   "cell_type": "code",
   "execution_count": 13,
   "id": "fa76865b",
   "metadata": {},
   "outputs": [
    {
     "data": {
      "text/plain": [
       "B    53.0\n",
       "A    47.0\n",
       "Name: group, dtype: float64"
      ]
     },
     "execution_count": 13,
     "metadata": {},
     "output_type": "execute_result"
    }
   ],
   "source": [
    "#Переведем данные в проценты\n",
    "orders_group['rate'] = round(orders['group'].value_counts() / orders_group.sum(), 2) * 100\n",
    "orders_group['rate']"
   ]
  },
  {
   "cell_type": "code",
   "execution_count": 14,
   "id": "87ccf02d",
   "metadata": {},
   "outputs": [
    {
     "data": {
      "image/png": "[encoded data removed]",
      "text/plain": [
       "<Figure size 432x288 with 1 Axes>"
      ]
     },
     "metadata": {},
     "output_type": "display_data"
    }
   ],
   "source": [
    "#Посмотрим на графике\n",
    "plt.pie(orders_group['rate'], labels=orders_group['rate'].index, autopct='%1.1f%%')\n",
    "plt.title('Соотношение')\n",
    "plt.show()"
   ]
  },
  {
   "cell_type": "markdown",
   "id": "3e13f84a",
   "metadata": {},
   "source": [
    "<div style=\"border:solid Blue 2px; padding: 20px\">\n",
    "\n",
    "**Вывод:** Групп \"B\" больше, чем групп \"А\" - 53%:47%"
   ]
  },
  {
   "cell_type": "markdown",
   "id": "c5b2683c",
   "metadata": {},
   "source": [
    "## **Часть 1. Приоритизация гипотез**"
   ]
  },
  {
   "cell_type": "markdown",
   "id": "b731c89e",
   "metadata": {},
   "source": [
    "### Применим фреймворк ICE для приоритизации гипотез. Отсортируем их по убыванию приоритета"
   ]
  },
  {
   "cell_type": "code",
   "execution_count": 15,
   "id": "b00c07b8",
   "metadata": {},
   "outputs": [
    {
     "data": {
      "text/html": [
       "<div>\n",
       "<style scoped>\n",
       "    .dataframe tbody tr th:only-of-type {\n",
       "        vertical-align: middle;\n",
       "    }\n",
       "\n",
       "    .dataframe tbody tr th {\n",
       "        vertical-align: top;\n",
       "    }\n",
       "\n",
       "    .dataframe thead th {\n",
       "        text-align: right;\n",
       "    }\n",
       "</style>\n",
       "<table border=\"1\" class=\"dataframe\">\n",
       "  <thead>\n",
       "    <tr style=\"text-align: right;\">\n",
       "      <th></th>\n",
       "      <th>hypothesis</th>\n",
       "      <th>ICE</th>\n",
       "    </tr>\n",
       "  </thead>\n",
       "  <tbody>\n",
       "    <tr>\n",
       "      <th>8</th>\n",
       "      <td>Запустить акцию, дающую скидку на товар в день рождения</td>\n",
       "      <td>16.200000</td>\n",
       "    </tr>\n",
       "    <tr>\n",
       "      <th>0</th>\n",
       "      <td>Добавить два новых канала привлечения трафика, что позволит привлекать на 30% больше пользователей</td>\n",
       "      <td>13.333333</td>\n",
       "    </tr>\n",
       "    <tr>\n",
       "      <th>7</th>\n",
       "      <td>Добавить форму подписки на все основные страницы, чтобы собрать базу клиентов для email-рассылок</td>\n",
       "      <td>11.200000</td>\n",
       "    </tr>\n",
       "    <tr>\n",
       "      <th>6</th>\n",
       "      <td>Показать на главной странице баннеры с актуальными акциями и распродажами, чтобы увеличить конверсию</td>\n",
       "      <td>8.000000</td>\n",
       "    </tr>\n",
       "    <tr>\n",
       "      <th>2</th>\n",
       "      <td>Добавить блоки рекомендаций товаров на сайт интернет магазина, чтобы повысить конверсию и средний чек заказа</td>\n",
       "      <td>7.000000</td>\n",
       "    </tr>\n",
       "    <tr>\n",
       "      <th>1</th>\n",
       "      <td>Запустить собственную службу доставки, что сократит срок доставки заказов</td>\n",
       "      <td>2.000000</td>\n",
       "    </tr>\n",
       "    <tr>\n",
       "      <th>5</th>\n",
       "      <td>Добавить страницу отзывов клиентов о магазине, что позволит увеличить количество заказов</td>\n",
       "      <td>1.333333</td>\n",
       "    </tr>\n",
       "    <tr>\n",
       "      <th>3</th>\n",
       "      <td>Изменить структура категорий, что увеличит конверсию, т.к. пользователи быстрее найдут нужный товар</td>\n",
       "      <td>1.125000</td>\n",
       "    </tr>\n",
       "    <tr>\n",
       "      <th>4</th>\n",
       "      <td>Изменить цвет фона главной страницы, чтобы увеличить вовлеченность пользователей</td>\n",
       "      <td>1.000000</td>\n",
       "    </tr>\n",
       "  </tbody>\n",
       "</table>\n",
       "</div>"
      ],
      "text/plain": [
       "                                                                                                     hypothesis  \\\n",
       "8                                                       Запустить акцию, дающую скидку на товар в день рождения   \n",
       "0            Добавить два новых канала привлечения трафика, что позволит привлекать на 30% больше пользователей   \n",
       "7              Добавить форму подписки на все основные страницы, чтобы собрать базу клиентов для email-рассылок   \n",
       "6          Показать на главной странице баннеры с актуальными акциями и распродажами, чтобы увеличить конверсию   \n",
       "2  Добавить блоки рекомендаций товаров на сайт интернет магазина, чтобы повысить конверсию и средний чек заказа   \n",
       "1                                     Запустить собственную службу доставки, что сократит срок доставки заказов   \n",
       "5                      Добавить страницу отзывов клиентов о магазине, что позволит увеличить количество заказов   \n",
       "3           Изменить структура категорий, что увеличит конверсию, т.к. пользователи быстрее найдут нужный товар   \n",
       "4                              Изменить цвет фона главной страницы, чтобы увеличить вовлеченность пользователей   \n",
       "\n",
       "         ICE  \n",
       "8  16.200000  \n",
       "0  13.333333  \n",
       "7  11.200000  \n",
       "6   8.000000  \n",
       "2   7.000000  \n",
       "1   2.000000  \n",
       "5   1.333333  \n",
       "3   1.125000  \n",
       "4   1.000000  "
      ]
     },
     "metadata": {},
     "output_type": "display_data"
    }
   ],
   "source": [
    "#Применим фреймворк ICE\n",
    "hypothesis['ICE'] = hypothesis['impact'] * hypothesis['confidence']/hypothesis['efforts']\n",
    "hypothesis['ICE'] = hypothesis['ICE'].astype('float')\n",
    "display(hypothesis[['hypothesis','ICE']].sort_values(by='ICE', ascending=False).head(10))"
   ]
  },
  {
   "cell_type": "markdown",
   "id": "632ca3df",
   "metadata": {},
   "source": [
    "**Вывод:**\n",
    "\n",
    "Самыми приоритетными гипотезами по ICE, являются:\n",
    "- Запустить акцию, дающую скидку на товар в день рождения;\n",
    "- Добавить два новых канала привлечения трафика, что позволит привлекать на 30% больше пользователей;\n",
    "- Добавить форму подписки на все основные страницы, чтобы собрать базу клиентов для email-рассылок.\n"
   ]
  },
  {
   "cell_type": "markdown",
   "id": "ef1df5c4",
   "metadata": {},
   "source": [
    "###  Применим фреймворк RICE для приоритизации гипотез. Отсортируем их по убыванию приоритета."
   ]
  },
  {
   "cell_type": "code",
   "execution_count": 16,
   "id": "215efb76",
   "metadata": {},
   "outputs": [
    {
     "data": {
      "text/html": [
       "<div>\n",
       "<style scoped>\n",
       "    .dataframe tbody tr th:only-of-type {\n",
       "        vertical-align: middle;\n",
       "    }\n",
       "\n",
       "    .dataframe tbody tr th {\n",
       "        vertical-align: top;\n",
       "    }\n",
       "\n",
       "    .dataframe thead th {\n",
       "        text-align: right;\n",
       "    }\n",
       "</style>\n",
       "<table border=\"1\" class=\"dataframe\">\n",
       "  <thead>\n",
       "    <tr style=\"text-align: right;\">\n",
       "      <th></th>\n",
       "      <th>hypothesis</th>\n",
       "      <th>RICE</th>\n",
       "    </tr>\n",
       "  </thead>\n",
       "  <tbody>\n",
       "    <tr>\n",
       "      <th>7</th>\n",
       "      <td>Добавить форму подписки на все основные страницы, чтобы собрать базу клиентов для email-рассылок</td>\n",
       "      <td>112.0</td>\n",
       "    </tr>\n",
       "    <tr>\n",
       "      <th>2</th>\n",
       "      <td>Добавить блоки рекомендаций товаров на сайт интернет магазина, чтобы повысить конверсию и средний чек заказа</td>\n",
       "      <td>56.0</td>\n",
       "    </tr>\n",
       "    <tr>\n",
       "      <th>0</th>\n",
       "      <td>Добавить два новых канала привлечения трафика, что позволит привлекать на 30% больше пользователей</td>\n",
       "      <td>40.0</td>\n",
       "    </tr>\n",
       "    <tr>\n",
       "      <th>6</th>\n",
       "      <td>Показать на главной странице баннеры с актуальными акциями и распродажами, чтобы увеличить конверсию</td>\n",
       "      <td>40.0</td>\n",
       "    </tr>\n",
       "    <tr>\n",
       "      <th>8</th>\n",
       "      <td>Запустить акцию, дающую скидку на товар в день рождения</td>\n",
       "      <td>16.2</td>\n",
       "    </tr>\n",
       "    <tr>\n",
       "      <th>3</th>\n",
       "      <td>Изменить структура категорий, что увеличит конверсию, т.к. пользователи быстрее найдут нужный товар</td>\n",
       "      <td>9.0</td>\n",
       "    </tr>\n",
       "    <tr>\n",
       "      <th>1</th>\n",
       "      <td>Запустить собственную службу доставки, что сократит срок доставки заказов</td>\n",
       "      <td>4.0</td>\n",
       "    </tr>\n",
       "    <tr>\n",
       "      <th>5</th>\n",
       "      <td>Добавить страницу отзывов клиентов о магазине, что позволит увеличить количество заказов</td>\n",
       "      <td>4.0</td>\n",
       "    </tr>\n",
       "    <tr>\n",
       "      <th>4</th>\n",
       "      <td>Изменить цвет фона главной страницы, чтобы увеличить вовлеченность пользователей</td>\n",
       "      <td>3.0</td>\n",
       "    </tr>\n",
       "  </tbody>\n",
       "</table>\n",
       "</div>"
      ],
      "text/plain": [
       "                                                                                                     hypothesis  \\\n",
       "7              Добавить форму подписки на все основные страницы, чтобы собрать базу клиентов для email-рассылок   \n",
       "2  Добавить блоки рекомендаций товаров на сайт интернет магазина, чтобы повысить конверсию и средний чек заказа   \n",
       "0            Добавить два новых канала привлечения трафика, что позволит привлекать на 30% больше пользователей   \n",
       "6          Показать на главной странице баннеры с актуальными акциями и распродажами, чтобы увеличить конверсию   \n",
       "8                                                       Запустить акцию, дающую скидку на товар в день рождения   \n",
       "3           Изменить структура категорий, что увеличит конверсию, т.к. пользователи быстрее найдут нужный товар   \n",
       "1                                     Запустить собственную службу доставки, что сократит срок доставки заказов   \n",
       "5                      Добавить страницу отзывов клиентов о магазине, что позволит увеличить количество заказов   \n",
       "4                              Изменить цвет фона главной страницы, чтобы увеличить вовлеченность пользователей   \n",
       "\n",
       "    RICE  \n",
       "7  112.0  \n",
       "2   56.0  \n",
       "0   40.0  \n",
       "6   40.0  \n",
       "8   16.2  \n",
       "3    9.0  \n",
       "1    4.0  \n",
       "5    4.0  \n",
       "4    3.0  "
      ]
     },
     "metadata": {},
     "output_type": "display_data"
    }
   ],
   "source": [
    "#Применим фреймфорк RICE\n",
    "hypothesis['RICE'] = hypothesis['reach'] * hypothesis['impact'] * hypothesis['confidence']/hypothesis['efforts']\n",
    "hypothesis['RICE'] = hypothesis['RICE'].astype('float')\n",
    "display(hypothesis[['hypothesis','RICE']].sort_values(by='RICE', ascending=False).head(10))"
   ]
  },
  {
   "cell_type": "markdown",
   "id": "2c2d48c9",
   "metadata": {},
   "source": [
    "**Вывод:**\n",
    "\n",
    "Самыми приоритетными гипотезами по RICE, являются:\n",
    "- Добавить форму подписки на все основные страницы, чтобы собрать базу клиентов для email-рассылок\n",
    "- Добавить блоки рекомендаций товаров на сайт интернет магазина, чтобы повысить конверсию и средний чек заказа\n",
    "- Добавить два новых канала привлечения трафика, что позволит привлекать на 30% больше пользователей"
   ]
  },
  {
   "cell_type": "markdown",
   "id": "352ddcab",
   "metadata": {},
   "source": [
    "### Укажем, как изменилась приоритизация гипотез при применении RICE вместо ICE"
   ]
  },
  {
   "cell_type": "markdown",
   "id": "3bf6d7ae",
   "metadata": {},
   "source": [
    "<div style=\"border:solid Blue 2px; padding: 20px\">\n",
    "\n",
    "**Вывод:**\n",
    "\n",
    "- В основном, главным различие является различное положение гипотез относительно фреймворка RICE от ICE. Это можно объяснить тем, что в RICE используется компонент Reach - т.е. скольких пользователей затронет изменение, которое мы хотим внести. \n",
    "\n",
    "- Если пройтись по приоритетным гипотезам, то можно сказать о том, что гипотеза \"Запустить акцию, дающую скидку на товар в день рождения\" является приоритетной только в случае фреймворка \"ICE\", т.к. не были учтен компонент Reach\n",
    "\n",
    "- В случае же с другими приоритетными гипотезами почти все идентично, они так и остаются приоритетными, а именно: \"Добавить форму подписки на все основные страницы, чтобы собрать базу клиентов для email-рассылок\", \"Добавить два новых канала привлечения трафика, что позволит привлекать на 30% больше пользователей\""
   ]
  },
  {
   "cell_type": "markdown",
   "id": "1b132c20",
   "metadata": {},
   "source": [
    "## **Часть 2. Анализ A/B-теста**"
   ]
  },
  {
   "cell_type": "markdown",
   "id": "6da6d56d",
   "metadata": {},
   "source": [
    "### Построим график кумулятивной выручки по группам"
   ]
  },
  {
   "cell_type": "code",
   "execution_count": 17,
   "id": "6ea8c2c3",
   "metadata": {},
   "outputs": [
    {
     "data": {
      "image/png": "[encoded data removed]",
      "text/plain": [
       "<Figure size 1080x360 with 1 Axes>"
      ]
     },
     "metadata": {
      "needs_background": "light"
     },
     "output_type": "display_data"
    }
   ],
   "source": [
    "#Построим график\n",
    "datesGroups = orders[['date', 'group']].drop_duplicates()\n",
    "\n",
    "ordersAggregated = datesGroups.apply(\n",
    "    lambda x: orders[\n",
    "        np.logical_and(\n",
    "            orders['date'] <= x['date'], orders['group'] == x['group']\n",
    "        )\n",
    "    ].agg(\n",
    "        {\n",
    "            'date': 'max',\n",
    "            'group': 'max',\n",
    "            'transactionId': 'nunique',\n",
    "            'visitorId': 'nunique',\n",
    "            'revenue': 'sum',\n",
    "        }\n",
    "    ),\n",
    "    axis=1,\n",
    ").sort_values(by=['date', 'group'])\n",
    "\n",
    "visitorsAggregated = datesGroups.apply(\n",
    "    lambda x: visitors[\n",
    "        np.logical_and(\n",
    "            visitors['date'] <= x['date'], visitors['group'] == x['group']\n",
    "        )\n",
    "    ].agg({'date': 'max', 'group': 'max', 'visitors': 'sum'}),\n",
    "    axis=1,\n",
    ").sort_values(by=['date', 'group'])\n",
    "\n",
    "cumulativeData = ordersAggregated.merge(\n",
    "    visitorsAggregated, left_on=['date', 'group'], right_on=['date', 'group']\n",
    ")\n",
    "cumulativeData.columns = [\n",
    "    'date',\n",
    "    'group',\n",
    "    'orders',\n",
    "    'buyers',\n",
    "    'revenue',\n",
    "    'visitors',\n",
    "]\n",
    "\n",
    "cumulativeData['conversion'] = (\n",
    "    cumulativeData['orders'] / cumulativeData['visitors']\n",
    ")\n",
    "\n",
    "cumulativeDataA = cumulativeData[cumulativeData['group'] == 'A']\n",
    "cumulativeDataB = cumulativeData[cumulativeData['group'] == 'B']\n",
    "\n",
    "plt.figure(figsize=(15, 5))\n",
    "plt.plot(cumulativeDataA['date'], cumulativeDataA['revenue'], label='A')\n",
    "plt.plot(cumulativeDataB['date'], cumulativeDataB['revenue'], label='B')\n",
    "plt.legend()\n",
    "plt.title(\"Кумулятивной выручки по группам\")\n",
    "plt.ylabel(\"Объем кумулятивной выручки\")\n",
    "plt.xlabel(\"Дата\")\n",
    "plt.show()"
   ]
  },
  {
   "cell_type": "markdown",
   "id": "0f7621e9",
   "metadata": {},
   "source": [
    "<div style=\"border:solid Blue 2px; padding: 20px\">\n",
    "\n",
    "**Вывод:** \n",
    "- Кумулятивная выручка группы \"B\" выше, чем у группы \"A\"\n",
    "- После 2019-08-17 график группы \"B\" резко пошел вверх. На данный момент сложно сказать, почему произошел такой скачок"
   ]
  },
  {
   "cell_type": "markdown",
   "id": "5484a0b9",
   "metadata": {},
   "source": [
    "### Построим график кумулятивного среднего чека по группам"
   ]
  },
  {
   "cell_type": "code",
   "execution_count": 18,
   "id": "81bec8d5",
   "metadata": {},
   "outputs": [
    {
     "data": {
      "image/png": "[encoded data removed]",
      "text/plain": [
       "<Figure size 1080x360 with 1 Axes>"
      ]
     },
     "metadata": {
      "needs_background": "light"
     },
     "output_type": "display_data"
    }
   ],
   "source": [
    "#Построим график\n",
    "plt.figure(figsize=(15, 5))\n",
    "plt.plot(cumulativeDataA['date'],cumulativeDataA['revenue']/cumulativeDataA['orders'], label='A')\n",
    "plt.plot(cumulativeDataB['date'],cumulativeDataB['revenue']/cumulativeDataB['orders'], label='B')\n",
    "plt.legend()\n",
    "plt.title(\"Кумулятивный средний чек по группам\")\n",
    "plt.ylabel(\"Средний чек\")\n",
    "plt.xlabel(\"Дата\")\n",
    "plt.show()"
   ]
  },
  {
   "cell_type": "markdown",
   "id": "63667757",
   "metadata": {},
   "source": [
    "<div style=\"border:solid Blue 2px; padding: 20px\">\n",
    "\n",
    "**Вывод:** \n",
    "- Начиная с 2019-08-01 по 2019-08-17 графики показывают постоянно меняющееся положение кумулятивного среднего чека у групп\n",
    "- После 2019-08-17 происходит скачок в пользу группы \"B\", после чего графики выравниваются. Также пока сложно сказать, почему произошел такой скачок, можно лишь предположить, что в группе \"B\" были совершенны крупные покупки, которые превышают значения среднего чека"
   ]
  },
  {
   "cell_type": "markdown",
   "id": "8207b168",
   "metadata": {},
   "source": [
    "### Построим график относительного изменения кумулятивного среднего чека группы B к группе A"
   ]
  },
  {
   "cell_type": "code",
   "execution_count": 19,
   "id": "54550d0d",
   "metadata": {},
   "outputs": [
    {
     "data": {
      "image/png": "[encoded data removed]",
      "text/plain": [
       "<Figure size 1080x360 with 1 Axes>"
      ]
     },
     "metadata": {
      "needs_background": "light"
     },
     "output_type": "display_data"
    }
   ],
   "source": [
    "#Построим график\n",
    "mergedCumulativeRevenue = cumulativeDataA.merge(cumulativeDataB, left_on='date', right_on='date', how='left', suffixes=['A', 'B'])\n",
    "plt.figure(figsize=(15, 5))\n",
    "plt.plot(mergedCumulativeRevenue['date'], (mergedCumulativeRevenue['revenueB']/mergedCumulativeRevenue['ordersB'])/(mergedCumulativeRevenue['revenueA']/mergedCumulativeRevenue['ordersA'])-1)\n",
    "plt.axhline(y=0, color='black', linestyle='--')\n",
    "plt.title(\"Относительное изменение кумулятивного среднего чека группы B к группе А\")\n",
    "plt.ylabel(\"Отношение\")\n",
    "plt.xlabel(\"Дата\")\n",
    "plt.show()\n"
   ]
  },
  {
   "cell_type": "markdown",
   "id": "36e1944f",
   "metadata": {},
   "source": [
    "<div style=\"border:solid Blue 2px; padding: 20px\">\n",
    "\n",
    "**Вывод:** \n",
    "- Относительное изменение кумулятивного среднего чека группы \"B\" значительно превышает значения группы \"A\"\n",
    "- Однако, значение в период 2019-08-13 может относится к предположению о крупной покупке"
   ]
  },
  {
   "cell_type": "markdown",
   "id": "207e0b22",
   "metadata": {},
   "source": [
    "### Построим график кумулятивного среднего количества заказов на посетителя по группам"
   ]
  },
  {
   "cell_type": "code",
   "execution_count": 20,
   "id": "38060640",
   "metadata": {},
   "outputs": [
    {
     "data": {
      "image/png": "[encoded data removed]",
      "text/plain": [
       "<Figure size 1080x360 with 1 Axes>"
      ]
     },
     "metadata": {
      "needs_background": "light"
     },
     "output_type": "display_data"
    }
   ],
   "source": [
    "#Построим график\n",
    "# считаем кумулятивную конверсию\n",
    "cumulativeData['conversion'] = cumulativeData['orders']/cumulativeData['visitors']\n",
    "\n",
    "# отделяем данные по группе A\n",
    "cumulativeDataA = cumulativeData[cumulativeData['group']=='A']\n",
    "\n",
    "# отделяем данные по группе B\n",
    "cumulativeDataB = cumulativeData[cumulativeData['group']=='B']\n",
    "\n",
    "# строим графики\n",
    "plt.figure(figsize=(15, 5))\n",
    "plt.plot(cumulativeDataA['date'], cumulativeDataA['conversion'], label='A')\n",
    "plt.plot(cumulativeDataB['date'], cumulativeDataB['conversion'], label='B')\n",
    "plt.legend()\n",
    "plt.title(\"Кумулятивное среднее количество заказов на посетителя по группам\")\n",
    "plt.ylabel(\"Среднее количество заказов\")\n",
    "plt.xlabel(\"Дата\")\n",
    "plt.show()"
   ]
  },
  {
   "cell_type": "markdown",
   "id": "db1f5712",
   "metadata": {},
   "source": [
    "<div style=\"border:solid Blue 2px; padding: 20px\">\n",
    "\n",
    "**Вывод:** \n",
    "- Кумулятивное среднее количество заказов на посетителя в группе \"B\" превышает значение в группе \"A\""
   ]
  },
  {
   "cell_type": "markdown",
   "id": "c26fd35f",
   "metadata": {},
   "source": [
    "### Построим график относительного изменения кумулятивного среднего количества заказов на посетителя группы B к группе A"
   ]
  },
  {
   "cell_type": "code",
   "execution_count": 21,
   "id": "c518ba49",
   "metadata": {},
   "outputs": [
    {
     "data": {
      "image/png": "[encoded data removed]",
      "text/plain": [
       "<Figure size 1080x360 with 1 Axes>"
      ]
     },
     "metadata": {
      "needs_background": "light"
     },
     "output_type": "display_data"
    }
   ],
   "source": [
    "#Построим график\n",
    "mergedCumulativeConversions = cumulativeDataA[['date','conversion']].merge(cumulativeDataB[['date','conversion']], left_on='date', right_on='date', how='left', suffixes=['A', 'B'])\n",
    "\n",
    "plt.figure(figsize=(15, 5))\n",
    "plt.plot(mergedCumulativeConversions['date'], mergedCumulativeConversions['conversionB']/mergedCumulativeConversions['conversionA']-1, label=\"Относительный прирост конверсии группы B относительно группы A\")\n",
    "plt.legend()\n",
    "plt.axhline(y=0, color='black', linestyle='--')\n",
    "plt.axhline(y=0.2, color='grey', linestyle='--')\n",
    "plt.title(\"Относительное изменение кумулятивного среднего количества заказов\")\n",
    "plt.ylabel(\"Отношение среднего количество заказов\")\n",
    "plt.xlabel(\"Дата\")\n",
    "plt.show()"
   ]
  },
  {
   "cell_type": "markdown",
   "id": "9efc9ae8",
   "metadata": {},
   "source": [
    "<div style=\"border:solid Blue 2px; padding: 20px\">\n",
    "\n",
    "**Вывод:** \n",
    "Относительное изменение кумулятивного среднего количество заказов в группе \"B\" превышает значение в группе \"A\""
   ]
  },
  {
   "cell_type": "markdown",
   "id": "1a31d305",
   "metadata": {},
   "source": [
    "### Построим точечный график количества заказов по пользователям"
   ]
  },
  {
   "cell_type": "code",
   "execution_count": 22,
   "id": "aeabbd80",
   "metadata": {},
   "outputs": [
    {
     "data": {
      "image/png": "[encoded data removed]",
      "text/plain": [
       "<Figure size 1080x288 with 1 Axes>"
      ]
     },
     "metadata": {
      "needs_background": "light"
     },
     "output_type": "display_data"
    }
   ],
   "source": [
    "#Построим график\n",
    "ordersByUsers = (\n",
    "    orders.groupby('visitorId', as_index=False)\n",
    "    .agg({'transactionId': 'nunique'})\n",
    ")\n",
    "ordersByUsers.columns = ['visitorId', 'orders']\n",
    "\n",
    "# серия из чисел от 0 до количества наблюдений в ordersByUsers\n",
    "x_values = pd.Series(range(0, len(ordersByUsers)))\n",
    "plt.figure(figsize=(15, 4))\n",
    "plt.scatter(x_values, ordersByUsers['orders'])\n",
    "plt.title(\"Точечный график количества заказов по пользователям\")\n",
    "plt.ylabel(\"Количество заказов\")\n",
    "plt.xlabel(\"Пользователи\")\n",
    "plt.show()"
   ]
  },
  {
   "cell_type": "markdown",
   "id": "3f6580c9",
   "metadata": {},
   "source": [
    "<div style=\"border:solid Blue 2px; padding: 20px\">\n",
    "\n",
    "**Вывод:** Большинство пользователей покупали всего 1 заказ, однако есть и пользователи, которые купили больше 10"
   ]
  },
  {
   "cell_type": "markdown",
   "id": "9bd8d824",
   "metadata": {},
   "source": [
    "### Посчитаем 95-й и 99-й перцентили количества заказов на пользователя"
   ]
  },
  {
   "cell_type": "code",
   "execution_count": 23,
   "id": "f8e8382d",
   "metadata": {},
   "outputs": [
    {
     "data": {
      "text/plain": [
       "array([2., 4.])"
      ]
     },
     "execution_count": 23,
     "metadata": {},
     "output_type": "execute_result"
    }
   ],
   "source": [
    "#Считаем процентиль\n",
    "np.percentile(ordersByUsers['orders'], [95, 99])"
   ]
  },
  {
   "cell_type": "markdown",
   "id": "525169cd",
   "metadata": {},
   "source": [
    "<div style=\"border:solid Blue 2px; padding: 20px\">\n",
    "\n",
    "**Вывод:** Не более 2% пользователей совершали больше 2х продаж, и не более 4% пользователей - больше 4%. Однако эти данные не очищены, после очистки процент должен измениться"
   ]
  },
  {
   "cell_type": "markdown",
   "id": "8c447d5f",
   "metadata": {},
   "source": [
    "### Построим точечный график стоимостей заказов"
   ]
  },
  {
   "cell_type": "code",
   "execution_count": 24,
   "id": "5f3407b2",
   "metadata": {},
   "outputs": [
    {
     "data": {
      "image/png": "[encoded data removed]",
      "text/plain": [
       "<Figure size 1080x360 with 1 Axes>"
      ]
     },
     "metadata": {
      "needs_background": "light"
     },
     "output_type": "display_data"
    }
   ],
   "source": [
    "#Построим график\n",
    "x_values = pd.Series(range(0, len(orders['revenue'])))\n",
    "plt.figure(figsize=(15, 5))\n",
    "plt.scatter(x_values, orders['revenue'])\n",
    "plt.title(\"Точечный график стоимостей заказов\")\n",
    "plt.ylabel(\"Стоимость заказа\")\n",
    "plt.xlabel(\"Пользователи\")\n",
    "plt.show()"
   ]
  },
  {
   "cell_type": "markdown",
   "id": "e4d1bd2e",
   "metadata": {},
   "source": [
    "<div style=\"border:solid Blue 2px; padding: 20px\">\n",
    "\n",
    "**Вывод:** \n",
    "- По графику можно заметить, что стоимость заказов не превышает 20000, колеблится где-то около 15000;\n",
    "- Также можно увидеть 2 выброса"
   ]
  },
  {
   "cell_type": "markdown",
   "id": "9cd787af",
   "metadata": {},
   "source": [
    "### Посчитаем 95-й и 99-й перцентили стоимости заказов"
   ]
  },
  {
   "cell_type": "code",
   "execution_count": 25,
   "id": "a41af96b",
   "metadata": {},
   "outputs": [
    {
     "data": {
      "text/plain": [
       "array([28000. , 58233.2])"
      ]
     },
     "execution_count": 25,
     "metadata": {},
     "output_type": "execute_result"
    }
   ],
   "source": [
    "#Считаем перцентиль\n",
    "np.percentile(orders['revenue'], [95, 99])"
   ]
  },
  {
   "cell_type": "markdown",
   "id": "ecbc67ef",
   "metadata": {},
   "source": [
    "<div style=\"border:solid Blue 2px; padding: 20px\">\n",
    "\n",
    "**Вывод:** 58233 является той суммой, которую не превышают 99% пользователей, у оставшегося 1% стоимость выше"
   ]
  },
  {
   "cell_type": "markdown",
   "id": "b4144558",
   "metadata": {},
   "source": [
    "### Посчитаем статистическую значимость различий в среднем количестве заказов на посетителя между группами по «сырым» данным"
   ]
  },
  {
   "cell_type": "markdown",
   "id": "866e6cbd",
   "metadata": {},
   "source": [
    "**Гипотеза:**\n",
    "\n",
    "**H_0:** Различий в среднем количество заказов на посетителя между группами по \"сырым\" данным нет\n",
    "\n",
    "**H_1:** Различия в среднем количество заказов на посетителя между группами по \"сырым\" данным есть"
   ]
  },
  {
   "cell_type": "code",
   "execution_count": 26,
   "id": "efd4dd8f",
   "metadata": {},
   "outputs": [],
   "source": [
    "#Проверяем гипотезу\n",
    "visitorsADaily = visitors[visitors['group'] == 'A'][['date', 'visitors']]\n",
    "visitorsADaily.columns = ['date', 'visitorsPerDateA']\n",
    "\n",
    "visitorsACummulative = visitorsADaily.apply(\n",
    "    lambda x: visitorsADaily[visitorsADaily['date'] <= x['date']].agg(\n",
    "        {'date': 'max', 'visitorsPerDateA': 'sum'}\n",
    "    ),\n",
    "    axis=1,\n",
    ")\n",
    "visitorsACummulative.columns = ['date', 'visitorsCummulativeA']\n",
    "\n",
    "visitorsBDaily = visitors[visitors['group'] == 'B'][['date', 'visitors']]\n",
    "visitorsBDaily.columns = ['date', 'visitorsPerDateB']\n",
    "\n",
    "visitorsBCummulative = visitorsBDaily.apply(\n",
    "    lambda x: visitorsBDaily[visitorsBDaily['date'] <= x['date']].agg(\n",
    "        {'date': 'max', 'visitorsPerDateB': 'sum'}\n",
    "    ),\n",
    "    axis=1,\n",
    ")\n",
    "visitorsBCummulative.columns = ['date', 'visitorsCummulativeB']\n",
    "\n",
    "ordersADaily = (\n",
    "    orders[orders['group'] == 'A'][['date', 'transactionId', 'visitorId', 'revenue']]\n",
    "    .groupby('date', as_index=False)\n",
    "    .agg({'transactionId': pd.Series.nunique, 'revenue': 'sum'})\n",
    ")\n",
    "ordersADaily.columns = ['date', 'ordersPerDateA', 'revenuePerDateA']\n",
    "\n",
    "ordersACummulative = ordersADaily.apply(\n",
    "    lambda x: ordersADaily[ordersADaily['date'] <= x['date']].agg(\n",
    "        {'date': 'max', 'ordersPerDateA': 'sum', 'revenuePerDateA': 'sum'}\n",
    "    ),\n",
    "    axis=1,\n",
    ").sort_values(by=['date'])\n",
    "ordersACummulative.columns = [\n",
    "    'date',\n",
    "    'ordersCummulativeA',\n",
    "    'revenueCummulativeA',\n",
    "]\n",
    "\n",
    "ordersBDaily = (\n",
    "    orders[orders['group'] == 'B'][['date', 'transactionId', 'visitorId', 'revenue']]\n",
    "    .groupby('date', as_index=False)\n",
    "    .agg({'transactionId': pd.Series.nunique, 'revenue': 'sum'})\n",
    ")\n",
    "ordersBDaily.columns = ['date', 'ordersPerDateB', 'revenuePerDateB']\n",
    "\n",
    "ordersBCummulative = ordersBDaily.apply(\n",
    "    lambda x: ordersBDaily[ordersBDaily['date'] <= x['date']].agg(\n",
    "        {'date': 'max', 'ordersPerDateB': 'sum', 'revenuePerDateB': 'sum'}\n",
    "    ),\n",
    "    axis=1,\n",
    ").sort_values(by=['date'])\n",
    "ordersBCummulative.columns = [\n",
    "    'date',\n",
    "    'ordersCummulativeB',\n",
    "    'revenueCummulativeB',\n",
    "]\n",
    "\n",
    "data = (\n",
    "    ordersADaily.merge(\n",
    "        ordersBDaily, left_on='date', right_on='date', how='left'\n",
    "    )\n",
    "    .merge(ordersACummulative, left_on='date', right_on='date', how='left')\n",
    "    .merge(ordersBCummulative, left_on='date', right_on='date', how='left')\n",
    "    .merge(visitorsADaily, left_on='date', right_on='date', how='left')\n",
    "    .merge(visitorsBDaily, left_on='date', right_on='date', how='left')\n",
    "    .merge(visitorsACummulative, left_on='date', right_on='date', how='left')\n",
    "    .merge(visitorsBCummulative, left_on='date', right_on='date', how='left')\n",
    ")\n",
    "\n",
    "ordersByUsersA = (\n",
    "    orders[orders['group'] == 'A']\n",
    "    .groupby('visitorId', as_index=False)\n",
    "    .agg({'transactionId': pd.Series.nunique})\n",
    ")\n",
    "ordersByUsersA.columns = ['visitorId', 'orders']\n",
    "\n",
    "ordersByUsersB = (\n",
    "    orders[orders['group'] == 'B']\n",
    "    .groupby('visitorId', as_index=False)\n",
    "    .agg({'transactionId': pd.Series.nunique})\n",
    ")\n",
    "ordersByUsersB.columns = ['visitorId', 'orders']\n",
    "\n",
    "sampleA = pd.concat(\n",
    "    [\n",
    "        ordersByUsersA['orders'],\n",
    "        pd.Series(\n",
    "            0,\n",
    "            index=np.arange(\n",
    "                data['visitorsPerDateA'].sum() - len(ordersByUsersA['orders'])\n",
    "            ),\n",
    "            name='orders',\n",
    "        ),\n",
    "    ],\n",
    "    axis=0,\n",
    ")\n",
    "\n",
    "sampleB = pd.concat(\n",
    "    [\n",
    "        ordersByUsersB['orders'],\n",
    "        pd.Series(\n",
    "            0,\n",
    "            index=np.arange(\n",
    "                data['visitorsPerDateB'].sum() - len(ordersByUsersB['orders'])\n",
    "            ),\n",
    "            name='orders',\n",
    "        ),\n",
    "    ],\n",
    "    axis=0,\n",
    ")\n"
   ]
  },
  {
   "cell_type": "code",
   "execution_count": 27,
   "id": "474a2bb1",
   "metadata": {},
   "outputs": [
    {
     "name": "stdout",
     "output_type": "stream",
     "text": [
      "p_value - 0.01679\n"
     ]
    }
   ],
   "source": [
    "print('p_value -',\"{0:.5f}\".format(st.mannwhitneyu(sampleA, sampleB)[1]))\n"
   ]
  },
  {
   "cell_type": "code",
   "execution_count": 28,
   "id": "d18874fc",
   "metadata": {},
   "outputs": [
    {
     "name": "stdout",
     "output_type": "stream",
     "text": [
      "Разница между группами - 0.138\n"
     ]
    }
   ],
   "source": [
    "print('Разница между группами -',\"{0:.3f}\".format((data['ordersPerDateB'].sum()/data['visitorsPerDateB'].sum())/(data['ordersPerDateA'].sum()/data['visitorsPerDateA'].sum())-1))"
   ]
  },
  {
   "cell_type": "markdown",
   "id": "22d2f070",
   "metadata": {},
   "source": [
    "<div style=\"border:solid Blue 2px; padding: 20px\">\n",
    "\n",
    "**Вывод:** \n",
    "- Отвергаем нулевую гипотезу, т.к. p_value (0.01679) < alpha (0.05)\n",
    "- Разница между группами - 0.138 (13.8%)\n",
    "                                                           "
   ]
  },
  {
   "cell_type": "markdown",
   "id": "c6151d29",
   "metadata": {},
   "source": [
    "### Посчитаем статистическую значимость различий в среднем чеке заказа между группами по «сырым» данным"
   ]
  },
  {
   "cell_type": "markdown",
   "id": "eec75920",
   "metadata": {},
   "source": [
    "**Гипотеза:**\n",
    "\n",
    "- **H_0:** Различий по статистическим значимостям в среднем чеке заказа между группами по \"сырым\" данным нет\n",
    "- **H_1:** Различия по статистическим значимостям в среднем чеке заказа между группами по \"сырым\" данным есть"
   ]
  },
  {
   "cell_type": "code",
   "execution_count": 29,
   "id": "7d43ab3b",
   "metadata": {},
   "outputs": [
    {
     "name": "stdout",
     "output_type": "stream",
     "text": [
      "p_value - 0.729\n"
     ]
    }
   ],
   "source": [
    "print('p_value -','{0:.3f}'.format(st.mannwhitneyu(orders[orders['group']=='A']['revenue'], orders[orders['group']=='B']['revenue'])[1]))"
   ]
  },
  {
   "cell_type": "code",
   "execution_count": 30,
   "id": "2fb06dfd",
   "metadata": {},
   "outputs": [
    {
     "name": "stdout",
     "output_type": "stream",
     "text": [
      "Разница между группами - 0.259\n"
     ]
    }
   ],
   "source": [
    "print('Разница между группами -','{0:.3f}'.format(orders[orders['group']=='B']['revenue'].mean()/orders[orders['group']=='A']['revenue'].mean()-1))"
   ]
  },
  {
   "cell_type": "markdown",
   "id": "75fb59d5",
   "metadata": {},
   "source": [
    "<div style=\"border:solid Blue 2px; padding: 20px\">\n",
    "\n",
    "**Вывод:** \n",
    "- Не отвергаем нулевую гипотезу, т.к. p_value (0.729) > alpha(0.05)\n",
    "- Разница между группами - 0.259 (25.9%)"
   ]
  },
  {
   "cell_type": "markdown",
   "id": "89f21f7c",
   "metadata": {},
   "source": [
    "### Посчитаем статистическую значимость различий в среднем количестве заказов на посетителя между группами по «очищенным» данным"
   ]
  },
  {
   "cell_type": "markdown",
   "id": "eb2aeadf",
   "metadata": {},
   "source": [
    "**Гипотеза:**\n",
    "\n",
    "- **H_0:** Различий между статистической значимостью в среднем количестве заказов на посетителя между группами по \"очищенным данным\" нет\n",
    "\n",
    "- **H_1:** Различия между статистической значимостью в среднем количестве заказов на посетителя между группами по \"очищенным данным\" есть"
   ]
  },
  {
   "cell_type": "code",
   "execution_count": 31,
   "id": "b6d0de7a",
   "metadata": {},
   "outputs": [
    {
     "name": "stdout",
     "output_type": "stream",
     "text": [
      "Убрано пользователей - 15\n"
     ]
    }
   ],
   "source": [
    "#Чистим данные\n",
    "usersWithManyOrders = pd.concat(\n",
    "    [\n",
    "        ordersByUsersA[ordersByUsersA['orders'] > np.percentile(ordersByUsers['orders'], 99)]['visitorId'],\n",
    "        ordersByUsersB[ordersByUsersB['orders'] > np.percentile(ordersByUsers['orders'], 99)]['visitorId'],\n",
    "    ],\n",
    "    axis=0,\n",
    ")\n",
    "usersWithExpensiveOrders = orders[orders['revenue'] > np.percentile(orders['revenue'], 99)]['visitorId']\n",
    "abnormalUsers = (\n",
    "    pd.concat([usersWithManyOrders, usersWithExpensiveOrders], axis=0)\n",
    "    .drop_duplicates()\n",
    "    .sort_values()\n",
    ")\n",
    "#print(abnormalUsers.head(5))\n",
    "print('Убрано пользователей -',abnormalUsers.shape[0]) "
   ]
  },
  {
   "cell_type": "code",
   "execution_count": 32,
   "id": "fbe40d4a",
   "metadata": {},
   "outputs": [],
   "source": [
    "# Проверяем гипотезу\n",
    "sampleAFiltered = pd.concat(\n",
    "    [\n",
    "        ordersByUsersA[\n",
    "            np.logical_not(ordersByUsersA['visitorId'].isin(abnormalUsers))\n",
    "        ]['orders'],\n",
    "        pd.Series(\n",
    "            0,\n",
    "            index=np.arange(\n",
    "                data['visitorsPerDateA'].sum() - len(ordersByUsersA['orders'])\n",
    "            ),\n",
    "            name='orders',\n",
    "        ),\n",
    "    ],\n",
    "    axis=0,\n",
    ")\n",
    "\n",
    "sampleBFiltered = pd.concat(\n",
    "    [\n",
    "        ordersByUsersB[\n",
    "            np.logical_not(ordersByUsersB['visitorId'].isin(abnormalUsers))\n",
    "        ]['orders'],\n",
    "        pd.Series(\n",
    "            0,\n",
    "            index=np.arange(\n",
    "                data['visitorsPerDateB'].sum() - len(ordersByUsersB['orders'])\n",
    "            ),\n",
    "            name='orders',\n",
    "        ),\n",
    "    ],\n",
    "    axis=0,\n",
    ") "
   ]
  },
  {
   "cell_type": "code",
   "execution_count": 33,
   "id": "a48e3d7e",
   "metadata": {},
   "outputs": [
    {
     "name": "stdout",
     "output_type": "stream",
     "text": [
      "p_value - 0.014\n"
     ]
    }
   ],
   "source": [
    "print('p_value -','{0:.3f}'.format(st.mannwhitneyu(sampleAFiltered, sampleBFiltered)[1]))"
   ]
  },
  {
   "cell_type": "code",
   "execution_count": 34,
   "id": "8052b11f",
   "metadata": {},
   "outputs": [
    {
     "name": "stdout",
     "output_type": "stream",
     "text": [
      "Различия между группами - 0.153\n"
     ]
    }
   ],
   "source": [
    "print('Различия между группами -','{0:.3f}'.format(sampleBFiltered.mean()/sampleAFiltered.mean()-1))"
   ]
  },
  {
   "cell_type": "markdown",
   "id": "2719eb29",
   "metadata": {},
   "source": [
    "<div style=\"border:solid Blue 2px; padding: 20px\">\n",
    "\n",
    "**Вывод:** \n",
    "- Отвергаем нулевую гипотезу, т.к. p_value (0.014) < alpha(0.05)\n",
    "- Разница между группами - 0.153 (15.3%)\n",
    "- Вывод остался прежним                                                              "
   ]
  },
  {
   "cell_type": "markdown",
   "id": "711e365c",
   "metadata": {},
   "source": [
    "### Посчитаем статистическую значимость различий в среднем чеке заказа между группами по «очищенным» данным"
   ]
  },
  {
   "cell_type": "markdown",
   "id": "896df182",
   "metadata": {},
   "source": [
    "**Гипотеза:**\n",
    "\n",
    "**H_0:** Различий в статистической значимости в среднем чеке заказа между группами по \"очищенным\" данным нет\n",
    "\n",
    "**H_1:** Различия в статистической значимости в среднем чеке заказа между группами по \"очищенным\" данным есть"
   ]
  },
  {
   "cell_type": "code",
   "execution_count": 35,
   "id": "e27ba465",
   "metadata": {},
   "outputs": [
    {
     "name": "stdout",
     "output_type": "stream",
     "text": [
      "p_value - 0.851\n"
     ]
    }
   ],
   "source": [
    "#Проверим гипотезу\n",
    "print('p_value -',\n",
    "    '{0:.3f}'.format(\n",
    "        st.mannwhitneyu(\n",
    "            orders[\n",
    "                np.logical_and(\n",
    "                    orders['group'] == 'A',\n",
    "                    np.logical_not(orders['visitorId'].isin(abnormalUsers)),\n",
    "                )\n",
    "            ]['revenue'],\n",
    "            orders[\n",
    "                np.logical_and(\n",
    "                    orders['group'] == 'B',\n",
    "                    np.logical_not(orders['visitorId'].isin(abnormalUsers)),\n",
    "                )\n",
    "            ]['revenue'],\n",
    "        )[1]\n",
    "    )\n",
    ")"
   ]
  },
  {
   "cell_type": "code",
   "execution_count": 36,
   "id": "7062246a",
   "metadata": {},
   "outputs": [
    {
     "name": "stdout",
     "output_type": "stream",
     "text": [
      "Различия в среднем чеке - 0.006\n"
     ]
    }
   ],
   "source": [
    "print('Различия в среднем чеке -',\n",
    "    '{0:.3f}'.format(\n",
    "        \n",
    "            orders[\n",
    "                np.logical_and(\n",
    "                    orders['group'] == 'A',\n",
    "                    np.logical_not(orders['visitorId'].isin(abnormalUsers)),\n",
    "                )\n",
    "            ]['revenue'].mean() /\n",
    "            orders[\n",
    "                np.logical_and(\n",
    "                    orders['group'] == 'B',\n",
    "                    np.logical_not(orders['visitorId'].isin(abnormalUsers)),\n",
    "                )\n",
    "            ]['revenue'].mean()-1\n",
    "    )\n",
    ")"
   ]
  },
  {
   "cell_type": "markdown",
   "id": "5ccb01ad",
   "metadata": {},
   "source": [
    "<div style=\"border:solid Blue 2px; padding: 20px\">\n",
    "\n",
    "**Вывод:**\n",
    "- Так как p_value (0.851) > alpha (0.05), то мы не отвергаем нулевую гипотезу;\n",
    "- Различия в среднем чеке - 0.006\n",
    "- Выводы совпадают"
   ]
  },
  {
   "cell_type": "markdown",
   "id": "4787ecd2",
   "metadata": {},
   "source": [
    "### Принятие решения по результатам теста"
   ]
  },
  {
   "cell_type": "markdown",
   "id": "1f410b18",
   "metadata": {},
   "source": [
    "<div style=\"border:solid Blue 2px; padding: 20px\">\n",
    "\n",
    "**Вывод:**\n",
    "- На основании полученных результатов после анализа статистической значимости, можно сделать вывод, что группа \"B\" превышает значения группы \"А\".\n",
    "- Следовательно, продолжать тестирование не имеет смысла, фиксируем победу группы \"В\""
   ]
  }
 ],
 "metadata": {
  "ExecuteTimeLog": [
   {
    "duration": 1554,
    "start_time": "2023-09-15T15:52:05.386Z"
   },
   {
    "duration": 183,
    "start_time": "2023-09-15T15:52:06.943Z"
   },
   {
    "duration": 27,
    "start_time": "2023-09-15T15:52:07.128Z"
   },
   {
    "duration": 22,
    "start_time": "2023-09-15T15:52:07.158Z"
   },
   {
    "duration": 22,
    "start_time": "2023-09-15T15:52:07.182Z"
   },
   {
    "duration": 3,
    "start_time": "2023-09-15T15:52:07.207Z"
   },
   {
    "duration": 1431,
    "start_time": "2023-09-15T15:52:07.213Z"
   },
   {
    "duration": 0,
    "start_time": "2023-09-15T15:52:08.647Z"
   },
   {
    "duration": 0,
    "start_time": "2023-09-15T15:52:08.648Z"
   },
   {
    "duration": 1,
    "start_time": "2023-09-15T15:52:08.649Z"
   },
   {
    "duration": 0,
    "start_time": "2023-09-15T15:52:08.651Z"
   },
   {
    "duration": 0,
    "start_time": "2023-09-15T15:52:08.652Z"
   },
   {
    "duration": 0,
    "start_time": "2023-09-15T15:52:08.653Z"
   },
   {
    "duration": 0,
    "start_time": "2023-09-15T15:52:08.654Z"
   },
   {
    "duration": 0,
    "start_time": "2023-09-15T15:52:08.655Z"
   },
   {
    "duration": 0,
    "start_time": "2023-09-15T15:52:08.656Z"
   },
   {
    "duration": 0,
    "start_time": "2023-09-15T15:52:08.658Z"
   },
   {
    "duration": 0,
    "start_time": "2023-09-15T15:52:08.659Z"
   },
   {
    "duration": 0,
    "start_time": "2023-09-15T15:52:08.660Z"
   },
   {
    "duration": 0,
    "start_time": "2023-09-15T15:52:08.661Z"
   },
   {
    "duration": 0,
    "start_time": "2023-09-15T15:52:08.662Z"
   },
   {
    "duration": 0,
    "start_time": "2023-09-15T15:52:08.663Z"
   },
   {
    "duration": 1,
    "start_time": "2023-09-15T15:52:08.664Z"
   },
   {
    "duration": 0,
    "start_time": "2023-09-15T15:52:08.665Z"
   },
   {
    "duration": 0,
    "start_time": "2023-09-15T15:52:08.667Z"
   },
   {
    "duration": 0,
    "start_time": "2023-09-15T15:52:08.668Z"
   },
   {
    "duration": 0,
    "start_time": "2023-09-15T15:52:08.669Z"
   },
   {
    "duration": 0,
    "start_time": "2023-09-15T15:52:08.670Z"
   },
   {
    "duration": 0,
    "start_time": "2023-09-15T15:52:08.671Z"
   },
   {
    "duration": 0,
    "start_time": "2023-09-15T15:52:08.672Z"
   },
   {
    "duration": 0,
    "start_time": "2023-09-15T15:52:08.673Z"
   },
   {
    "duration": 0,
    "start_time": "2023-09-15T15:52:08.674Z"
   },
   {
    "duration": 0,
    "start_time": "2023-09-15T15:52:08.676Z"
   },
   {
    "duration": 1345,
    "start_time": "2023-09-15T19:41:07.147Z"
   },
   {
    "duration": 190,
    "start_time": "2023-09-15T19:41:08.494Z"
   },
   {
    "duration": 24,
    "start_time": "2023-09-15T19:41:08.686Z"
   },
   {
    "duration": 53,
    "start_time": "2023-09-15T19:41:08.713Z"
   },
   {
    "duration": 17,
    "start_time": "2023-09-15T19:41:08.768Z"
   },
   {
    "duration": 3,
    "start_time": "2023-09-15T19:41:08.787Z"
   },
   {
    "duration": 1994,
    "start_time": "2023-09-15T19:41:08.791Z"
   },
   {
    "duration": 0,
    "start_time": "2023-09-15T19:41:10.788Z"
   },
   {
    "duration": 0,
    "start_time": "2023-09-15T19:41:10.790Z"
   },
   {
    "duration": 0,
    "start_time": "2023-09-15T19:41:10.791Z"
   },
   {
    "duration": 0,
    "start_time": "2023-09-15T19:41:10.792Z"
   },
   {
    "duration": 0,
    "start_time": "2023-09-15T19:41:10.793Z"
   },
   {
    "duration": 0,
    "start_time": "2023-09-15T19:41:10.795Z"
   },
   {
    "duration": 0,
    "start_time": "2023-09-15T19:41:10.796Z"
   },
   {
    "duration": 0,
    "start_time": "2023-09-15T19:41:10.797Z"
   },
   {
    "duration": 0,
    "start_time": "2023-09-15T19:41:10.798Z"
   },
   {
    "duration": 0,
    "start_time": "2023-09-15T19:41:10.799Z"
   },
   {
    "duration": 0,
    "start_time": "2023-09-15T19:41:10.800Z"
   },
   {
    "duration": 0,
    "start_time": "2023-09-15T19:41:10.801Z"
   },
   {
    "duration": 0,
    "start_time": "2023-09-15T19:41:10.803Z"
   },
   {
    "duration": 0,
    "start_time": "2023-09-15T19:41:10.804Z"
   },
   {
    "duration": 0,
    "start_time": "2023-09-15T19:41:10.805Z"
   },
   {
    "duration": 0,
    "start_time": "2023-09-15T19:41:10.806Z"
   },
   {
    "duration": 0,
    "start_time": "2023-09-15T19:41:10.808Z"
   },
   {
    "duration": 0,
    "start_time": "2023-09-15T19:41:10.809Z"
   },
   {
    "duration": 0,
    "start_time": "2023-09-15T19:41:10.810Z"
   },
   {
    "duration": 0,
    "start_time": "2023-09-15T19:41:10.811Z"
   },
   {
    "duration": 0,
    "start_time": "2023-09-15T19:41:10.812Z"
   },
   {
    "duration": 0,
    "start_time": "2023-09-15T19:41:10.813Z"
   },
   {
    "duration": 0,
    "start_time": "2023-09-15T19:41:10.814Z"
   },
   {
    "duration": 0,
    "start_time": "2023-09-15T19:41:10.815Z"
   },
   {
    "duration": 0,
    "start_time": "2023-09-15T19:41:10.816Z"
   },
   {
    "duration": 0,
    "start_time": "2023-09-15T19:41:10.817Z"
   },
   {
    "duration": 19,
    "start_time": "2023-09-15T19:41:38.773Z"
   },
   {
    "duration": 8,
    "start_time": "2023-09-15T19:41:59.066Z"
   },
   {
    "duration": 185,
    "start_time": "2023-09-15T19:42:32.530Z"
   },
   {
    "duration": 75,
    "start_time": "2023-09-15T19:43:37.613Z"
   },
   {
    "duration": 49,
    "start_time": "2023-09-15T19:43:38.161Z"
   },
   {
    "duration": 64,
    "start_time": "2023-09-15T19:43:38.642Z"
   },
   {
    "duration": 19,
    "start_time": "2023-09-15T19:43:39.535Z"
   },
   {
    "duration": 19,
    "start_time": "2023-09-15T19:43:39.992Z"
   },
   {
    "duration": 18,
    "start_time": "2023-09-15T19:43:40.947Z"
   },
   {
    "duration": 17,
    "start_time": "2023-09-15T19:43:46.196Z"
   },
   {
    "duration": 1124,
    "start_time": "2023-09-15T19:46:05.777Z"
   },
   {
    "duration": 67,
    "start_time": "2023-09-15T19:46:06.904Z"
   },
   {
    "duration": 121,
    "start_time": "2023-09-15T19:46:06.972Z"
   },
   {
    "duration": 89,
    "start_time": "2023-09-15T19:46:07.095Z"
   },
   {
    "duration": 26,
    "start_time": "2023-09-15T19:46:07.186Z"
   },
   {
    "duration": 21,
    "start_time": "2023-09-15T19:46:07.214Z"
   },
   {
    "duration": 140,
    "start_time": "2023-09-15T19:46:07.237Z"
   },
   {
    "duration": 93,
    "start_time": "2023-09-15T19:46:07.379Z"
   },
   {
    "duration": 17,
    "start_time": "2023-09-15T19:46:07.473Z"
   },
   {
    "duration": 45,
    "start_time": "2023-09-15T19:46:07.492Z"
   },
   {
    "duration": 11,
    "start_time": "2023-09-15T19:46:07.539Z"
   },
   {
    "duration": 37,
    "start_time": "2023-09-15T19:46:07.552Z"
   },
   {
    "duration": 26,
    "start_time": "2023-09-15T19:46:07.591Z"
   },
   {
    "duration": 90,
    "start_time": "2023-09-15T19:46:07.619Z"
   },
   {
    "duration": 36,
    "start_time": "2023-09-15T19:46:07.710Z"
   },
   {
    "duration": 83,
    "start_time": "2023-09-15T19:46:07.748Z"
   },
   {
    "duration": 551,
    "start_time": "2023-09-15T19:46:07.832Z"
   },
   {
    "duration": 208,
    "start_time": "2023-09-15T19:46:08.385Z"
   },
   {
    "duration": 358,
    "start_time": "2023-09-15T19:46:08.595Z"
   },
   {
    "duration": 248,
    "start_time": "2023-09-15T19:46:08.954Z"
   },
   {
    "duration": 364,
    "start_time": "2023-09-15T19:46:09.204Z"
   },
   {
    "duration": 166,
    "start_time": "2023-09-15T19:46:09.569Z"
   },
   {
    "duration": 4,
    "start_time": "2023-09-15T19:46:09.737Z"
   },
   {
    "duration": 330,
    "start_time": "2023-09-15T19:46:09.742Z"
   },
   {
    "duration": 6,
    "start_time": "2023-09-15T19:46:10.073Z"
   },
   {
    "duration": 458,
    "start_time": "2023-09-15T19:46:10.081Z"
   },
   {
    "duration": 24,
    "start_time": "2023-09-15T19:46:10.541Z"
   },
   {
    "duration": 38,
    "start_time": "2023-09-15T19:46:10.569Z"
   },
   {
    "duration": 137,
    "start_time": "2023-09-15T19:46:10.609Z"
   },
   {
    "duration": 94,
    "start_time": "2023-09-15T19:46:10.748Z"
   },
   {
    "duration": 22,
    "start_time": "2023-09-15T19:46:10.844Z"
   },
   {
    "duration": 14,
    "start_time": "2023-09-15T19:46:10.868Z"
   },
   {
    "duration": 27,
    "start_time": "2023-09-15T19:46:10.884Z"
   },
   {
    "duration": 4,
    "start_time": "2023-09-15T19:46:10.913Z"
   },
   {
    "duration": 100,
    "start_time": "2023-09-15T19:46:10.919Z"
   },
   {
    "duration": 34,
    "start_time": "2023-09-15T19:46:11.021Z"
   },
   {
    "duration": 1468,
    "start_time": "2023-09-16T09:54:15.912Z"
   },
   {
    "duration": 157,
    "start_time": "2023-09-16T09:54:17.382Z"
   },
   {
    "duration": 205,
    "start_time": "2023-09-16T09:54:17.540Z"
   },
   {
    "duration": 91,
    "start_time": "2023-09-16T09:54:17.747Z"
   },
   {
    "duration": 35,
    "start_time": "2023-09-16T09:54:17.841Z"
   },
   {
    "duration": 21,
    "start_time": "2023-09-16T09:54:17.878Z"
   },
   {
    "duration": 11,
    "start_time": "2023-09-16T09:54:17.901Z"
   },
   {
    "duration": 20,
    "start_time": "2023-09-16T09:54:17.914Z"
   },
   {
    "duration": 4,
    "start_time": "2023-09-16T09:54:17.935Z"
   },
   {
    "duration": 8,
    "start_time": "2023-09-16T09:54:17.942Z"
   },
   {
    "duration": 12,
    "start_time": "2023-09-16T09:54:17.951Z"
   },
   {
    "duration": 7,
    "start_time": "2023-09-16T09:54:17.965Z"
   },
   {
    "duration": 42,
    "start_time": "2023-09-16T09:54:17.974Z"
   },
   {
    "duration": 93,
    "start_time": "2023-09-16T09:54:18.017Z"
   },
   {
    "duration": 14,
    "start_time": "2023-09-16T09:54:18.112Z"
   },
   {
    "duration": 25,
    "start_time": "2023-09-16T09:54:18.128Z"
   },
   {
    "duration": 672,
    "start_time": "2023-09-16T09:54:18.155Z"
   },
   {
    "duration": 234,
    "start_time": "2023-09-16T09:54:18.829Z"
   },
   {
    "duration": 398,
    "start_time": "2023-09-16T09:54:19.065Z"
   },
   {
    "duration": 253,
    "start_time": "2023-09-16T09:54:19.465Z"
   },
   {
    "duration": 344,
    "start_time": "2023-09-16T09:54:19.720Z"
   },
   {
    "duration": 166,
    "start_time": "2023-09-16T09:54:20.066Z"
   },
   {
    "duration": 5,
    "start_time": "2023-09-16T09:54:20.233Z"
   },
   {
    "duration": 180,
    "start_time": "2023-09-16T09:54:20.240Z"
   },
   {
    "duration": 6,
    "start_time": "2023-09-16T09:54:20.422Z"
   },
   {
    "duration": 453,
    "start_time": "2023-09-16T09:54:20.430Z"
   },
   {
    "duration": 32,
    "start_time": "2023-09-16T09:54:20.885Z"
   },
   {
    "duration": 7,
    "start_time": "2023-09-16T09:54:20.920Z"
   },
   {
    "duration": 16,
    "start_time": "2023-09-16T09:54:20.929Z"
   },
   {
    "duration": 19,
    "start_time": "2023-09-16T09:54:20.947Z"
   },
   {
    "duration": 28,
    "start_time": "2023-09-16T09:54:20.967Z"
   },
   {
    "duration": 43,
    "start_time": "2023-09-16T09:54:20.996Z"
   },
   {
    "duration": 55,
    "start_time": "2023-09-16T09:54:21.040Z"
   },
   {
    "duration": 4,
    "start_time": "2023-09-16T09:54:21.097Z"
   },
   {
    "duration": 14,
    "start_time": "2023-09-16T09:54:21.103Z"
   },
   {
    "duration": 45,
    "start_time": "2023-09-16T09:54:21.118Z"
   }
  ],
  "kernelspec": {
   "display_name": "Python 3 (ipykernel)",
   "language": "python",
   "name": "python3"
  },
  "language_info": {
   "codemirror_mode": {
    "name": "ipython",
    "version": 3
   },
   "file_extension": ".py",
   "mimetype": "text/x-python",
   "name": "python",
   "nbconvert_exporter": "python",
   "pygments_lexer": "ipython3",
   "version": "3.9.13"
  },
  "toc": {
   "base_numbering": 1,
   "nav_menu": {},
   "number_sections": false,
   "sideBar": true,
   "skip_h1_title": false,
   "title_cell": "Table of Contents",
   "title_sidebar": "Contents",
   "toc_cell": false,
   "toc_position": {
    "height": "calc(100% - 180px)",
    "left": "10px",
    "top": "150px",
    "width": "303.312px"
   },
   "toc_section_display": true,
   "toc_window_display": true
  }
 },
 "nbformat": 4,
 "nbformat_minor": 5
}
