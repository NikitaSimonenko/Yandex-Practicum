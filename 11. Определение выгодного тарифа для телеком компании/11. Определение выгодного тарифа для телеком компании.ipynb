{
 "cells": [
  {
   "cell_type": "markdown",
   "id": "e39078cc",
   "metadata": {},
   "source": [
    "# Сервис аренды самокатов GoFast"
   ]
  },
  {
   "cell_type": "markdown",
   "id": "5c16354e",
   "metadata": {},
   "source": [
    "**Описание проекта**\n",
    "\n",
    "Вы аналитик популярного сервиса аренды самокатов GoFast. Вам передали данные о некоторых пользователях из нескольких городов, а также об их поездках. Проанализируйте данные и проверьте некоторые гипотезы, которые могут помочь бизнесу вырасти.\n",
    "Чтобы совершать поездки по городу, пользователи сервиса GoFast пользуются мобильным приложением. Сервисом можно пользоваться:\n",
    "\n",
    "**Без подписки** \n",
    "- абонентская плата отсутствует;\n",
    "- стоимость одной минуты поездки — 8 рублей;\n",
    "- стоимость старта (начала поездки) — 50 рублей;\n",
    "\n",
    "**С подпиской Ultra**\n",
    "- абонентская плата — 199 рублей в месяц;\n",
    "- стоимость одной минуты поездки — 6 рублей;\n",
    "- стоимость старта — бесплатно."
   ]
  },
  {
   "cell_type": "markdown",
   "id": "707bdb06",
   "metadata": {},
   "source": [
    "**Описание данных**\n",
    "\n",
    "В основных данных есть информация о пользователях, их поездках и подписках.\n",
    "\n",
    "**Пользователи — users_go.csv**\n",
    "\n",
    "- **user_id**\t- уникальный идентификатор пользователя;\n",
    "- **name** - имя пользователя\n",
    "- **age**\t- возраст\n",
    "- **city** - город\n",
    "- **subscription_type** - тип подписки (free, ultra)\n",
    "\n",
    "**Поездки — rides_go.csv**\n",
    "\n",
    "- **user_id** - уникальный идентификатор пользователя\n",
    "- **distance** - расстояние, которое пользователь проехал в текущей сессии (в метрах)\n",
    "- **duration** - продолжительность сессии (в минутах) — время с того момента, как пользователь нажал кнопку «Начать поездку» до момента, как он нажал кнопку «Завершить поездку»\n",
    "- **date** -\tдата совершения поездки\n",
    "\n",
    "**Подписки — subscriptions_go.csv**\n",
    "- **subscription_type** - тип подписки\n",
    "- **minute_price** - стоимость одной минуты поездки по данной подписке\n",
    "- **start_ride_price** - стоимость начала поездки\n",
    "- **subscription_fee** - стоимость ежемесячного платежа"
   ]
  },
  {
   "cell_type": "markdown",
   "id": "f11b4761",
   "metadata": {},
   "source": [
    "## **Загрузим и ознакомимся с данными**\n",
    "### Выгрузим библиотеки"
   ]
  },
  {
   "cell_type": "code",
   "execution_count": 1,
   "id": "b0b5c765",
   "metadata": {},
   "outputs": [
    {
     "name": "stderr",
     "output_type": "stream",
     "text": [
      "/opt/conda/lib/python3.9/site-packages/scipy/__init__.py:155: UserWarning: A NumPy version >=1.18.5 and <1.25.0 is required for this version of SciPy (detected version 1.25.2\n",
      "  warnings.warn(f\"A NumPy version >={np_minversion} and <{np_maxversion}\"\n"
     ]
    }
   ],
   "source": [
    "#Загрузим библиотеки\n",
    "import pandas as pd\n",
    "import numpy as np\n",
    "import seaborn as sns\n",
    "import matplotlib.pyplot as plt\n",
    "import datetime as dt\n",
    "from datetime import datetime, timedelta\n",
    "import time\n",
    "import random\n",
    "import warnings\n",
    "warnings.filterwarnings(\"ignore\")\n",
    "import re\n",
    "import ast\n",
    "from scipy import stats as st"
   ]
  },
  {
   "cell_type": "markdown",
   "id": "05962bfc",
   "metadata": {},
   "source": [
    "### Загрузим датасеты"
   ]
  },
  {
   "cell_type": "code",
   "execution_count": 2,
   "id": "5235b3b4",
   "metadata": {
    "scrolled": true
   },
   "outputs": [
    {
     "data": {
      "text/html": [
       "<div>\n",
       "<style scoped>\n",
       "    .dataframe tbody tr th:only-of-type {\n",
       "        vertical-align: middle;\n",
       "    }\n",
       "\n",
       "    .dataframe tbody tr th {\n",
       "        vertical-align: top;\n",
       "    }\n",
       "\n",
       "    .dataframe thead th {\n",
       "        text-align: right;\n",
       "    }\n",
       "</style>\n",
       "<table border=\"1\" class=\"dataframe\">\n",
       "  <thead>\n",
       "    <tr style=\"text-align: right;\">\n",
       "      <th></th>\n",
       "      <th>user_id</th>\n",
       "      <th>name</th>\n",
       "      <th>age</th>\n",
       "      <th>city</th>\n",
       "      <th>subscription_type</th>\n",
       "    </tr>\n",
       "  </thead>\n",
       "  <tbody>\n",
       "    <tr>\n",
       "      <th>0</th>\n",
       "      <td>1</td>\n",
       "      <td>Кира</td>\n",
       "      <td>22</td>\n",
       "      <td>Тюмень</td>\n",
       "      <td>ultra</td>\n",
       "    </tr>\n",
       "    <tr>\n",
       "      <th>1</th>\n",
       "      <td>2</td>\n",
       "      <td>Станислав</td>\n",
       "      <td>31</td>\n",
       "      <td>Омск</td>\n",
       "      <td>ultra</td>\n",
       "    </tr>\n",
       "    <tr>\n",
       "      <th>2</th>\n",
       "      <td>3</td>\n",
       "      <td>Алексей</td>\n",
       "      <td>20</td>\n",
       "      <td>Москва</td>\n",
       "      <td>ultra</td>\n",
       "    </tr>\n",
       "    <tr>\n",
       "      <th>3</th>\n",
       "      <td>4</td>\n",
       "      <td>Константин</td>\n",
       "      <td>26</td>\n",
       "      <td>Ростов-на-Дону</td>\n",
       "      <td>ultra</td>\n",
       "    </tr>\n",
       "    <tr>\n",
       "      <th>4</th>\n",
       "      <td>5</td>\n",
       "      <td>Адель</td>\n",
       "      <td>28</td>\n",
       "      <td>Омск</td>\n",
       "      <td>ultra</td>\n",
       "    </tr>\n",
       "  </tbody>\n",
       "</table>\n",
       "</div>"
      ],
      "text/plain": [
       "   user_id        name  age            city subscription_type\n",
       "0        1        Кира   22          Тюмень             ultra\n",
       "1        2   Станислав   31            Омск             ultra\n",
       "2        3     Алексей   20          Москва             ultra\n",
       "3        4  Константин   26  Ростов-на-Дону             ultra\n",
       "4        5       Адель   28            Омск             ultra"
      ]
     },
     "metadata": {},
     "output_type": "display_data"
    },
    {
     "name": "stdout",
     "output_type": "stream",
     "text": [
      "<class 'pandas.core.frame.DataFrame'>\n",
      "RangeIndex: 1565 entries, 0 to 1564\n",
      "Data columns (total 5 columns):\n",
      " #   Column             Non-Null Count  Dtype \n",
      "---  ------             --------------  ----- \n",
      " 0   user_id            1565 non-null   int64 \n",
      " 1   name               1565 non-null   object\n",
      " 2   age                1565 non-null   int64 \n",
      " 3   city               1565 non-null   object\n",
      " 4   subscription_type  1565 non-null   object\n",
      "dtypes: int64(2), object(3)\n",
      "memory usage: 61.3+ KB\n"
     ]
    }
   ],
   "source": [
    "#Загрузим датафрейм с пользователями\n",
    "try:\n",
    "    users_go = pd.read_csv('users_go.csv')\n",
    "except:\n",
    "    users_go = pd.read_csv('/datasets/users_go.csv')\n",
    "display(users_go.head())\n",
    "users_go.info()"
   ]
  },
  {
   "cell_type": "code",
   "execution_count": 3,
   "id": "e4e1ff1f",
   "metadata": {},
   "outputs": [
    {
     "data": {
      "text/html": [
       "<div>\n",
       "<style scoped>\n",
       "    .dataframe tbody tr th:only-of-type {\n",
       "        vertical-align: middle;\n",
       "    }\n",
       "\n",
       "    .dataframe tbody tr th {\n",
       "        vertical-align: top;\n",
       "    }\n",
       "\n",
       "    .dataframe thead th {\n",
       "        text-align: right;\n",
       "    }\n",
       "</style>\n",
       "<table border=\"1\" class=\"dataframe\">\n",
       "  <thead>\n",
       "    <tr style=\"text-align: right;\">\n",
       "      <th></th>\n",
       "      <th>user_id</th>\n",
       "      <th>distance</th>\n",
       "      <th>duration</th>\n",
       "      <th>date</th>\n",
       "    </tr>\n",
       "  </thead>\n",
       "  <tbody>\n",
       "    <tr>\n",
       "      <th>0</th>\n",
       "      <td>1</td>\n",
       "      <td>4409.919140</td>\n",
       "      <td>25.599769</td>\n",
       "      <td>2021-01-01</td>\n",
       "    </tr>\n",
       "    <tr>\n",
       "      <th>1</th>\n",
       "      <td>1</td>\n",
       "      <td>2617.592153</td>\n",
       "      <td>15.816871</td>\n",
       "      <td>2021-01-18</td>\n",
       "    </tr>\n",
       "    <tr>\n",
       "      <th>2</th>\n",
       "      <td>1</td>\n",
       "      <td>754.159807</td>\n",
       "      <td>6.232113</td>\n",
       "      <td>2021-04-20</td>\n",
       "    </tr>\n",
       "    <tr>\n",
       "      <th>3</th>\n",
       "      <td>1</td>\n",
       "      <td>2694.783254</td>\n",
       "      <td>18.511000</td>\n",
       "      <td>2021-08-11</td>\n",
       "    </tr>\n",
       "    <tr>\n",
       "      <th>4</th>\n",
       "      <td>1</td>\n",
       "      <td>4028.687306</td>\n",
       "      <td>26.265803</td>\n",
       "      <td>2021-08-28</td>\n",
       "    </tr>\n",
       "  </tbody>\n",
       "</table>\n",
       "</div>"
      ],
      "text/plain": [
       "   user_id     distance   duration        date\n",
       "0        1  4409.919140  25.599769  2021-01-01\n",
       "1        1  2617.592153  15.816871  2021-01-18\n",
       "2        1   754.159807   6.232113  2021-04-20\n",
       "3        1  2694.783254  18.511000  2021-08-11\n",
       "4        1  4028.687306  26.265803  2021-08-28"
      ]
     },
     "metadata": {},
     "output_type": "display_data"
    },
    {
     "name": "stdout",
     "output_type": "stream",
     "text": [
      "<class 'pandas.core.frame.DataFrame'>\n",
      "RangeIndex: 18068 entries, 0 to 18067\n",
      "Data columns (total 4 columns):\n",
      " #   Column    Non-Null Count  Dtype  \n",
      "---  ------    --------------  -----  \n",
      " 0   user_id   18068 non-null  int64  \n",
      " 1   distance  18068 non-null  float64\n",
      " 2   duration  18068 non-null  float64\n",
      " 3   date      18068 non-null  object \n",
      "dtypes: float64(2), int64(1), object(1)\n",
      "memory usage: 564.8+ KB\n"
     ]
    }
   ],
   "source": [
    "#Загрузим датафрейм с поездками\n",
    "try:\n",
    "    rides_go = pd.read_csv('rides_go.csv')\n",
    "except:\n",
    "    rides_go = pd.read_csv('/datasets/rides_go.csv')\n",
    "display(rides_go.head())\n",
    "rides_go.info()"
   ]
  },
  {
   "cell_type": "code",
   "execution_count": 4,
   "id": "72e29239",
   "metadata": {},
   "outputs": [
    {
     "data": {
      "text/html": [
       "<div>\n",
       "<style scoped>\n",
       "    .dataframe tbody tr th:only-of-type {\n",
       "        vertical-align: middle;\n",
       "    }\n",
       "\n",
       "    .dataframe tbody tr th {\n",
       "        vertical-align: top;\n",
       "    }\n",
       "\n",
       "    .dataframe thead th {\n",
       "        text-align: right;\n",
       "    }\n",
       "</style>\n",
       "<table border=\"1\" class=\"dataframe\">\n",
       "  <thead>\n",
       "    <tr style=\"text-align: right;\">\n",
       "      <th></th>\n",
       "      <th>subscription_type</th>\n",
       "      <th>minute_price</th>\n",
       "      <th>start_ride_price</th>\n",
       "      <th>subscription_fee</th>\n",
       "    </tr>\n",
       "  </thead>\n",
       "  <tbody>\n",
       "    <tr>\n",
       "      <th>0</th>\n",
       "      <td>free</td>\n",
       "      <td>8</td>\n",
       "      <td>50</td>\n",
       "      <td>0</td>\n",
       "    </tr>\n",
       "    <tr>\n",
       "      <th>1</th>\n",
       "      <td>ultra</td>\n",
       "      <td>6</td>\n",
       "      <td>0</td>\n",
       "      <td>199</td>\n",
       "    </tr>\n",
       "  </tbody>\n",
       "</table>\n",
       "</div>"
      ],
      "text/plain": [
       "  subscription_type  minute_price  start_ride_price  subscription_fee\n",
       "0              free             8                50                 0\n",
       "1             ultra             6                 0               199"
      ]
     },
     "metadata": {},
     "output_type": "display_data"
    },
    {
     "name": "stdout",
     "output_type": "stream",
     "text": [
      "<class 'pandas.core.frame.DataFrame'>\n",
      "RangeIndex: 2 entries, 0 to 1\n",
      "Data columns (total 4 columns):\n",
      " #   Column             Non-Null Count  Dtype \n",
      "---  ------             --------------  ----- \n",
      " 0   subscription_type  2 non-null      object\n",
      " 1   minute_price       2 non-null      int64 \n",
      " 2   start_ride_price   2 non-null      int64 \n",
      " 3   subscription_fee   2 non-null      int64 \n",
      "dtypes: int64(3), object(1)\n",
      "memory usage: 192.0+ bytes\n"
     ]
    }
   ],
   "source": [
    "#Загрузим датафрейм с подписками\n",
    "try:\n",
    "    subscriptions_go = pd.read_csv('subscriptions_go.csv')\n",
    "except:\n",
    "    subscriptions_go = pd.read_csv('/datasets/subscriptions_go.csv')\n",
    "display(subscriptions_go.head())\n",
    "subscriptions_go.info()"
   ]
  },
  {
   "cell_type": "markdown",
   "id": "3f599700",
   "metadata": {},
   "source": [
    "<div style=\"border:solid Blue 2px; padding: 20px\">\n",
    "\n",
    "**Вывод:** Загрузили и вывели информацию о датафреймах. Пропусков нет, но следует проверить на дубликаты и привести столбец \"date\" к правильному типу данных."
   ]
  },
  {
   "cell_type": "markdown",
   "id": "0299247a",
   "metadata": {},
   "source": [
    "## **Предобработка данных**"
   ]
  },
  {
   "cell_type": "markdown",
   "id": "281ae4fc",
   "metadata": {},
   "source": [
    "### Столбец \"date\""
   ]
  },
  {
   "cell_type": "code",
   "execution_count": 5,
   "id": "d9fe67b1",
   "metadata": {},
   "outputs": [],
   "source": [
    "#Приведем столбец к правильному типу данных\n",
    "rides_go['date'] = pd.to_datetime(rides_go['date'])"
   ]
  },
  {
   "cell_type": "markdown",
   "id": "0f4aed3c",
   "metadata": {},
   "source": [
    "### Создадим новый столбец с номером месяца на основе столбца date"
   ]
  },
  {
   "cell_type": "code",
   "execution_count": 6,
   "id": "e1813934",
   "metadata": {},
   "outputs": [
    {
     "data": {
      "text/html": [
       "<div>\n",
       "<style scoped>\n",
       "    .dataframe tbody tr th:only-of-type {\n",
       "        vertical-align: middle;\n",
       "    }\n",
       "\n",
       "    .dataframe tbody tr th {\n",
       "        vertical-align: top;\n",
       "    }\n",
       "\n",
       "    .dataframe thead th {\n",
       "        text-align: right;\n",
       "    }\n",
       "</style>\n",
       "<table border=\"1\" class=\"dataframe\">\n",
       "  <thead>\n",
       "    <tr style=\"text-align: right;\">\n",
       "      <th></th>\n",
       "      <th>user_id</th>\n",
       "      <th>distance</th>\n",
       "      <th>duration</th>\n",
       "      <th>date</th>\n",
       "      <th>date_month</th>\n",
       "    </tr>\n",
       "  </thead>\n",
       "  <tbody>\n",
       "    <tr>\n",
       "      <th>0</th>\n",
       "      <td>1</td>\n",
       "      <td>4409.919140</td>\n",
       "      <td>25.599769</td>\n",
       "      <td>2021-01-01</td>\n",
       "      <td>1</td>\n",
       "    </tr>\n",
       "    <tr>\n",
       "      <th>1</th>\n",
       "      <td>1</td>\n",
       "      <td>2617.592153</td>\n",
       "      <td>15.816871</td>\n",
       "      <td>2021-01-18</td>\n",
       "      <td>1</td>\n",
       "    </tr>\n",
       "    <tr>\n",
       "      <th>2</th>\n",
       "      <td>1</td>\n",
       "      <td>754.159807</td>\n",
       "      <td>6.232113</td>\n",
       "      <td>2021-04-20</td>\n",
       "      <td>4</td>\n",
       "    </tr>\n",
       "    <tr>\n",
       "      <th>3</th>\n",
       "      <td>1</td>\n",
       "      <td>2694.783254</td>\n",
       "      <td>18.511000</td>\n",
       "      <td>2021-08-11</td>\n",
       "      <td>8</td>\n",
       "    </tr>\n",
       "    <tr>\n",
       "      <th>4</th>\n",
       "      <td>1</td>\n",
       "      <td>4028.687306</td>\n",
       "      <td>26.265803</td>\n",
       "      <td>2021-08-28</td>\n",
       "      <td>8</td>\n",
       "    </tr>\n",
       "    <tr>\n",
       "      <th>...</th>\n",
       "      <td>...</td>\n",
       "      <td>...</td>\n",
       "      <td>...</td>\n",
       "      <td>...</td>\n",
       "      <td>...</td>\n",
       "    </tr>\n",
       "    <tr>\n",
       "      <th>18063</th>\n",
       "      <td>1534</td>\n",
       "      <td>3781.098080</td>\n",
       "      <td>19.822962</td>\n",
       "      <td>2021-11-04</td>\n",
       "      <td>11</td>\n",
       "    </tr>\n",
       "    <tr>\n",
       "      <th>18064</th>\n",
       "      <td>1534</td>\n",
       "      <td>2840.423057</td>\n",
       "      <td>21.409799</td>\n",
       "      <td>2021-11-16</td>\n",
       "      <td>11</td>\n",
       "    </tr>\n",
       "    <tr>\n",
       "      <th>18065</th>\n",
       "      <td>1534</td>\n",
       "      <td>3826.185507</td>\n",
       "      <td>18.435051</td>\n",
       "      <td>2021-11-18</td>\n",
       "      <td>11</td>\n",
       "    </tr>\n",
       "    <tr>\n",
       "      <th>18066</th>\n",
       "      <td>1534</td>\n",
       "      <td>2902.308661</td>\n",
       "      <td>16.674362</td>\n",
       "      <td>2021-11-27</td>\n",
       "      <td>11</td>\n",
       "    </tr>\n",
       "    <tr>\n",
       "      <th>18067</th>\n",
       "      <td>1534</td>\n",
       "      <td>2371.711192</td>\n",
       "      <td>15.893917</td>\n",
       "      <td>2021-12-29</td>\n",
       "      <td>12</td>\n",
       "    </tr>\n",
       "  </tbody>\n",
       "</table>\n",
       "<p>18068 rows × 5 columns</p>\n",
       "</div>"
      ],
      "text/plain": [
       "       user_id     distance   duration       date  date_month\n",
       "0            1  4409.919140  25.599769 2021-01-01           1\n",
       "1            1  2617.592153  15.816871 2021-01-18           1\n",
       "2            1   754.159807   6.232113 2021-04-20           4\n",
       "3            1  2694.783254  18.511000 2021-08-11           8\n",
       "4            1  4028.687306  26.265803 2021-08-28           8\n",
       "...        ...          ...        ...        ...         ...\n",
       "18063     1534  3781.098080  19.822962 2021-11-04          11\n",
       "18064     1534  2840.423057  21.409799 2021-11-16          11\n",
       "18065     1534  3826.185507  18.435051 2021-11-18          11\n",
       "18066     1534  2902.308661  16.674362 2021-11-27          11\n",
       "18067     1534  2371.711192  15.893917 2021-12-29          12\n",
       "\n",
       "[18068 rows x 5 columns]"
      ]
     },
     "execution_count": 6,
     "metadata": {},
     "output_type": "execute_result"
    }
   ],
   "source": [
    "#Создадим новый столбец\n",
    "rides_go['date_month'] = rides_go['date'].dt.month\n",
    "#Проверим\n",
    "rides_go"
   ]
  },
  {
   "cell_type": "markdown",
   "id": "ab3a8c6d",
   "metadata": {},
   "source": [
    "### Проверим наличие пропущенных значений и дубликатов в датафреймах"
   ]
  },
  {
   "cell_type": "markdown",
   "id": "e1677177",
   "metadata": {},
   "source": [
    "#### Датафрейм \"users_go\""
   ]
  },
  {
   "cell_type": "code",
   "execution_count": 7,
   "id": "c5e1fbad",
   "metadata": {},
   "outputs": [
    {
     "name": "stdout",
     "output_type": "stream",
     "text": [
      "user_id              0\n",
      "name                 0\n",
      "age                  0\n",
      "city                 0\n",
      "subscription_type    0\n",
      "dtype: int64\n"
     ]
    }
   ],
   "source": [
    "#Проверим наличие пропущенных значений\n",
    "print(users_go.isna().sum())"
   ]
  },
  {
   "cell_type": "code",
   "execution_count": 8,
   "id": "de3c9da1",
   "metadata": {},
   "outputs": [
    {
     "name": "stdout",
     "output_type": "stream",
     "text": [
      "В данных 31 дубликат\n"
     ]
    }
   ],
   "source": [
    "#Проверим датафрейм на наличие дубликатов\n",
    "print('В данных',users_go.duplicated().sum(), 'дубликат')"
   ]
  },
  {
   "cell_type": "code",
   "execution_count": 9,
   "id": "a3647d01",
   "metadata": {},
   "outputs": [
    {
     "data": {
      "text/html": [
       "<div>\n",
       "<style scoped>\n",
       "    .dataframe tbody tr th:only-of-type {\n",
       "        vertical-align: middle;\n",
       "    }\n",
       "\n",
       "    .dataframe tbody tr th {\n",
       "        vertical-align: top;\n",
       "    }\n",
       "\n",
       "    .dataframe thead th {\n",
       "        text-align: right;\n",
       "    }\n",
       "</style>\n",
       "<table border=\"1\" class=\"dataframe\">\n",
       "  <thead>\n",
       "    <tr style=\"text-align: right;\">\n",
       "      <th></th>\n",
       "      <th>user_id</th>\n",
       "      <th>name</th>\n",
       "      <th>age</th>\n",
       "      <th>city</th>\n",
       "      <th>subscription_type</th>\n",
       "    </tr>\n",
       "  </thead>\n",
       "  <tbody>\n",
       "    <tr>\n",
       "      <th>1534</th>\n",
       "      <td>293</td>\n",
       "      <td>Агата</td>\n",
       "      <td>26</td>\n",
       "      <td>Краснодар</td>\n",
       "      <td>ultra</td>\n",
       "    </tr>\n",
       "    <tr>\n",
       "      <th>1535</th>\n",
       "      <td>16</td>\n",
       "      <td>Амалия</td>\n",
       "      <td>27</td>\n",
       "      <td>Краснодар</td>\n",
       "      <td>ultra</td>\n",
       "    </tr>\n",
       "    <tr>\n",
       "      <th>1536</th>\n",
       "      <td>909</td>\n",
       "      <td>Константин</td>\n",
       "      <td>20</td>\n",
       "      <td>Екатеринбург</td>\n",
       "      <td>free</td>\n",
       "    </tr>\n",
       "    <tr>\n",
       "      <th>1537</th>\n",
       "      <td>403</td>\n",
       "      <td>Полина</td>\n",
       "      <td>19</td>\n",
       "      <td>Сочи</td>\n",
       "      <td>ultra</td>\n",
       "    </tr>\n",
       "    <tr>\n",
       "      <th>1538</th>\n",
       "      <td>908</td>\n",
       "      <td>Рустам</td>\n",
       "      <td>30</td>\n",
       "      <td>Тюмень</td>\n",
       "      <td>free</td>\n",
       "    </tr>\n",
       "    <tr>\n",
       "      <th>1539</th>\n",
       "      <td>43</td>\n",
       "      <td>Стефания</td>\n",
       "      <td>22</td>\n",
       "      <td>Омск</td>\n",
       "      <td>ultra</td>\n",
       "    </tr>\n",
       "    <tr>\n",
       "      <th>1540</th>\n",
       "      <td>127</td>\n",
       "      <td>Павел</td>\n",
       "      <td>25</td>\n",
       "      <td>Пятигорск</td>\n",
       "      <td>ultra</td>\n",
       "    </tr>\n",
       "    <tr>\n",
       "      <th>1541</th>\n",
       "      <td>659</td>\n",
       "      <td>Злата</td>\n",
       "      <td>27</td>\n",
       "      <td>Ростов-на-Дону</td>\n",
       "      <td>ultra</td>\n",
       "    </tr>\n",
       "    <tr>\n",
       "      <th>1542</th>\n",
       "      <td>204</td>\n",
       "      <td>Руслан</td>\n",
       "      <td>30</td>\n",
       "      <td>Пятигорск</td>\n",
       "      <td>ultra</td>\n",
       "    </tr>\n",
       "    <tr>\n",
       "      <th>1543</th>\n",
       "      <td>153</td>\n",
       "      <td>Герман</td>\n",
       "      <td>23</td>\n",
       "      <td>Москва</td>\n",
       "      <td>ultra</td>\n",
       "    </tr>\n",
       "    <tr>\n",
       "      <th>1544</th>\n",
       "      <td>1245</td>\n",
       "      <td>Регина</td>\n",
       "      <td>27</td>\n",
       "      <td>Пятигорск</td>\n",
       "      <td>free</td>\n",
       "    </tr>\n",
       "    <tr>\n",
       "      <th>1545</th>\n",
       "      <td>807</td>\n",
       "      <td>Александр</td>\n",
       "      <td>28</td>\n",
       "      <td>Екатеринбург</td>\n",
       "      <td>free</td>\n",
       "    </tr>\n",
       "    <tr>\n",
       "      <th>1546</th>\n",
       "      <td>924</td>\n",
       "      <td>Мария</td>\n",
       "      <td>23</td>\n",
       "      <td>Пятигорск</td>\n",
       "      <td>free</td>\n",
       "    </tr>\n",
       "    <tr>\n",
       "      <th>1547</th>\n",
       "      <td>635</td>\n",
       "      <td>Герман</td>\n",
       "      <td>21</td>\n",
       "      <td>Москва</td>\n",
       "      <td>ultra</td>\n",
       "    </tr>\n",
       "    <tr>\n",
       "      <th>1548</th>\n",
       "      <td>136</td>\n",
       "      <td>Марсель</td>\n",
       "      <td>25</td>\n",
       "      <td>Тюмень</td>\n",
       "      <td>ultra</td>\n",
       "    </tr>\n",
       "    <tr>\n",
       "      <th>1549</th>\n",
       "      <td>108</td>\n",
       "      <td>Влада</td>\n",
       "      <td>29</td>\n",
       "      <td>Тюмень</td>\n",
       "      <td>ultra</td>\n",
       "    </tr>\n",
       "    <tr>\n",
       "      <th>1550</th>\n",
       "      <td>737</td>\n",
       "      <td>Мелания</td>\n",
       "      <td>27</td>\n",
       "      <td>Ростов-на-Дону</td>\n",
       "      <td>free</td>\n",
       "    </tr>\n",
       "    <tr>\n",
       "      <th>1551</th>\n",
       "      <td>666</td>\n",
       "      <td>Зарина</td>\n",
       "      <td>29</td>\n",
       "      <td>Москва</td>\n",
       "      <td>ultra</td>\n",
       "    </tr>\n",
       "    <tr>\n",
       "      <th>1552</th>\n",
       "      <td>297</td>\n",
       "      <td>Егор</td>\n",
       "      <td>33</td>\n",
       "      <td>Пятигорск</td>\n",
       "      <td>ultra</td>\n",
       "    </tr>\n",
       "    <tr>\n",
       "      <th>1553</th>\n",
       "      <td>121</td>\n",
       "      <td>Алина</td>\n",
       "      <td>25</td>\n",
       "      <td>Пятигорск</td>\n",
       "      <td>ultra</td>\n",
       "    </tr>\n",
       "    <tr>\n",
       "      <th>1554</th>\n",
       "      <td>1198</td>\n",
       "      <td>Демид</td>\n",
       "      <td>29</td>\n",
       "      <td>Ростов-на-Дону</td>\n",
       "      <td>free</td>\n",
       "    </tr>\n",
       "    <tr>\n",
       "      <th>1555</th>\n",
       "      <td>72</td>\n",
       "      <td>Никита</td>\n",
       "      <td>25</td>\n",
       "      <td>Москва</td>\n",
       "      <td>ultra</td>\n",
       "    </tr>\n",
       "    <tr>\n",
       "      <th>1556</th>\n",
       "      <td>422</td>\n",
       "      <td>Кирилл</td>\n",
       "      <td>27</td>\n",
       "      <td>Сочи</td>\n",
       "      <td>ultra</td>\n",
       "    </tr>\n",
       "    <tr>\n",
       "      <th>1557</th>\n",
       "      <td>611</td>\n",
       "      <td>Владимир</td>\n",
       "      <td>28</td>\n",
       "      <td>Омск</td>\n",
       "      <td>ultra</td>\n",
       "    </tr>\n",
       "    <tr>\n",
       "      <th>1558</th>\n",
       "      <td>1237</td>\n",
       "      <td>Евгения</td>\n",
       "      <td>23</td>\n",
       "      <td>Тюмень</td>\n",
       "      <td>free</td>\n",
       "    </tr>\n",
       "    <tr>\n",
       "      <th>1559</th>\n",
       "      <td>209</td>\n",
       "      <td>Андрей</td>\n",
       "      <td>23</td>\n",
       "      <td>Омск</td>\n",
       "      <td>ultra</td>\n",
       "    </tr>\n",
       "    <tr>\n",
       "      <th>1560</th>\n",
       "      <td>829</td>\n",
       "      <td>Федор</td>\n",
       "      <td>29</td>\n",
       "      <td>Пятигорск</td>\n",
       "      <td>free</td>\n",
       "    </tr>\n",
       "    <tr>\n",
       "      <th>1561</th>\n",
       "      <td>809</td>\n",
       "      <td>Юрий</td>\n",
       "      <td>26</td>\n",
       "      <td>Сочи</td>\n",
       "      <td>free</td>\n",
       "    </tr>\n",
       "    <tr>\n",
       "      <th>1562</th>\n",
       "      <td>307</td>\n",
       "      <td>Ясмина</td>\n",
       "      <td>19</td>\n",
       "      <td>Краснодар</td>\n",
       "      <td>ultra</td>\n",
       "    </tr>\n",
       "    <tr>\n",
       "      <th>1563</th>\n",
       "      <td>47</td>\n",
       "      <td>Юрий</td>\n",
       "      <td>28</td>\n",
       "      <td>Тюмень</td>\n",
       "      <td>ultra</td>\n",
       "    </tr>\n",
       "    <tr>\n",
       "      <th>1564</th>\n",
       "      <td>1045</td>\n",
       "      <td>Артемий</td>\n",
       "      <td>28</td>\n",
       "      <td>Ростов-на-Дону</td>\n",
       "      <td>free</td>\n",
       "    </tr>\n",
       "  </tbody>\n",
       "</table>\n",
       "</div>"
      ],
      "text/plain": [
       "      user_id        name  age            city subscription_type\n",
       "1534      293       Агата   26       Краснодар             ultra\n",
       "1535       16      Амалия   27       Краснодар             ultra\n",
       "1536      909  Константин   20    Екатеринбург              free\n",
       "1537      403      Полина   19            Сочи             ultra\n",
       "1538      908      Рустам   30          Тюмень              free\n",
       "1539       43    Стефания   22            Омск             ultra\n",
       "1540      127       Павел   25       Пятигорск             ultra\n",
       "1541      659       Злата   27  Ростов-на-Дону             ultra\n",
       "1542      204      Руслан   30       Пятигорск             ultra\n",
       "1543      153      Герман   23          Москва             ultra\n",
       "1544     1245      Регина   27       Пятигорск              free\n",
       "1545      807   Александр   28    Екатеринбург              free\n",
       "1546      924       Мария   23       Пятигорск              free\n",
       "1547      635      Герман   21          Москва             ultra\n",
       "1548      136     Марсель   25          Тюмень             ultra\n",
       "1549      108       Влада   29          Тюмень             ultra\n",
       "1550      737     Мелания   27  Ростов-на-Дону              free\n",
       "1551      666      Зарина   29          Москва             ultra\n",
       "1552      297        Егор   33       Пятигорск             ultra\n",
       "1553      121       Алина   25       Пятигорск             ultra\n",
       "1554     1198       Демид   29  Ростов-на-Дону              free\n",
       "1555       72      Никита   25          Москва             ultra\n",
       "1556      422      Кирилл   27            Сочи             ultra\n",
       "1557      611    Владимир   28            Омск             ultra\n",
       "1558     1237     Евгения   23          Тюмень              free\n",
       "1559      209      Андрей   23            Омск             ultra\n",
       "1560      829       Федор   29       Пятигорск              free\n",
       "1561      809        Юрий   26            Сочи              free\n",
       "1562      307      Ясмина   19       Краснодар             ultra\n",
       "1563       47        Юрий   28          Тюмень             ultra\n",
       "1564     1045     Артемий   28  Ростов-на-Дону              free"
      ]
     },
     "execution_count": 9,
     "metadata": {},
     "output_type": "execute_result"
    }
   ],
   "source": [
    "#Ознакомимся с дубликатами\n",
    "users_go[users_go.duplicated()]"
   ]
  },
  {
   "cell_type": "code",
   "execution_count": 10,
   "id": "dc71a95e",
   "metadata": {},
   "outputs": [
    {
     "name": "stdout",
     "output_type": "stream",
     "text": [
      "В данных 0 дубликатов\n"
     ]
    }
   ],
   "source": [
    "#Удалим дубликаты\n",
    "users_go.drop_duplicates(inplace=True)\n",
    "#Проверим\n",
    "print('В данных',users_go.duplicated().sum(), 'дубликатов')"
   ]
  },
  {
   "cell_type": "markdown",
   "id": "1eb9758a",
   "metadata": {},
   "source": [
    "#### Датафрейм \"rides_go\""
   ]
  },
  {
   "cell_type": "code",
   "execution_count": 11,
   "id": "64ff6b09",
   "metadata": {},
   "outputs": [
    {
     "name": "stdout",
     "output_type": "stream",
     "text": [
      "user_id       0\n",
      "distance      0\n",
      "duration      0\n",
      "date          0\n",
      "date_month    0\n",
      "dtype: int64\n"
     ]
    }
   ],
   "source": [
    "#Проверим наличие пропущенных значений\n",
    "print(rides_go.isna().sum())"
   ]
  },
  {
   "cell_type": "code",
   "execution_count": 12,
   "id": "5ddedd2b",
   "metadata": {},
   "outputs": [
    {
     "name": "stdout",
     "output_type": "stream",
     "text": [
      "В данных 0 дубликатов\n"
     ]
    }
   ],
   "source": [
    "#Проверим датафрейм на наличие дубликатов\n",
    "print('В данных',rides_go.duplicated().sum(), 'дубликатов')"
   ]
  },
  {
   "cell_type": "markdown",
   "id": "b7c406cb",
   "metadata": {},
   "source": [
    "#### Датафрейм \"subscriptions_go\""
   ]
  },
  {
   "cell_type": "code",
   "execution_count": 13,
   "id": "c8f089a7",
   "metadata": {},
   "outputs": [
    {
     "name": "stdout",
     "output_type": "stream",
     "text": [
      "subscription_type    0\n",
      "minute_price         0\n",
      "start_ride_price     0\n",
      "subscription_fee     0\n",
      "dtype: int64\n"
     ]
    }
   ],
   "source": [
    "#Проверим наличие пропущенных значений\n",
    "print(subscriptions_go.isna().sum())"
   ]
  },
  {
   "cell_type": "code",
   "execution_count": 14,
   "id": "efc3bdb8",
   "metadata": {},
   "outputs": [
    {
     "name": "stdout",
     "output_type": "stream",
     "text": [
      "В данных 0 дубликатов\n"
     ]
    }
   ],
   "source": [
    "#Проверим датафрейм на наличие дубликатов\n",
    "print('В данных',subscriptions_go.duplicated().sum(), 'дубликатов')"
   ]
  },
  {
   "cell_type": "markdown",
   "id": "ccfb9a1f",
   "metadata": {},
   "source": [
    "<div style=\"border:solid Blue 2px; padding: 20px\">\n",
    "\n",
    "**Вывод:**\n",
    "1. Привели столбец \"date\" к правильному типу\n",
    "2. Создали новый столбец с номером месяца\n",
    "3. Пропущенных значений не обнаружили\n",
    "4. Избавились от дубликатов в \"users_go\""
   ]
  },
  {
   "cell_type": "markdown",
   "id": "0512e86a",
   "metadata": {},
   "source": [
    "## **Исследовательский анализ данных**"
   ]
  },
  {
   "cell_type": "markdown",
   "id": "fddf3608",
   "metadata": {},
   "source": [
    "### Частота встречаемости городов"
   ]
  },
  {
   "cell_type": "code",
   "execution_count": 15,
   "id": "72c7343d",
   "metadata": {},
   "outputs": [
    {
     "data": {
      "text/plain": [
       "city\n",
       "Пятигорск         219\n",
       "Екатеринбург      204\n",
       "Ростов-на-Дону    198\n",
       "Краснодар         193\n",
       "Сочи              189\n",
       "Омск              183\n",
       "Тюмень            180\n",
       "Москва            168\n",
       "Name: count, dtype: int64"
      ]
     },
     "execution_count": 15,
     "metadata": {},
     "output_type": "execute_result"
    }
   ],
   "source": [
    "#Создадим датафрейм, куда загрузим данные о частоте\n",
    "city_percent = users_go['city'].value_counts()\n",
    "city_percent"
   ]
  },
  {
   "cell_type": "code",
   "execution_count": 16,
   "id": "47145193",
   "metadata": {},
   "outputs": [
    {
     "data": {
      "text/plain": [
       "city\n",
       "Пятигорск         14.0\n",
       "Екатеринбург      13.0\n",
       "Ростов-на-Дону    13.0\n",
       "Краснодар         13.0\n",
       "Сочи              12.0\n",
       "Омск              12.0\n",
       "Тюмень            12.0\n",
       "Москва            11.0\n",
       "Name: count, dtype: float64"
      ]
     },
     "execution_count": 16,
     "metadata": {},
     "output_type": "execute_result"
    }
   ],
   "source": [
    "#Переведем данные в проценты\n",
    "city_percent['rate'] = round(users_go['city'].value_counts() / city_percent.sum(), 2) * 100\n",
    "city_percent['rate']"
   ]
  },
  {
   "cell_type": "code",
   "execution_count": 17,
   "id": "87eae170",
   "metadata": {},
   "outputs": [
    {
     "data": {
      "image/png": "[encoded data removed]",
      "text/plain": [
       "<Figure size 432x288 with 1 Axes>"
      ]
     },
     "metadata": {
      "needs_background": "light"
     },
     "output_type": "display_data"
    }
   ],
   "source": [
    "city_percent['rate'].plot(kind='bar')\n",
    "plt.title('Частота встречаемости городов')\n",
    "plt.xlabel('Города')\n",
    "plt.ylabel('Частота встречаемости')\n",
    "plt.show()"
   ]
  },
  {
   "cell_type": "markdown",
   "id": "7b60c18d",
   "metadata": {},
   "source": [
    "**Вывод:** Самым распространненым городом является Пятигорск, Москва же наоборот, встречается реже"
   ]
  },
  {
   "cell_type": "markdown",
   "id": "6b5dc873",
   "metadata": {},
   "source": [
    "### Cоотношение пользователей с подпиской и без подписки"
   ]
  },
  {
   "cell_type": "code",
   "execution_count": 18,
   "id": "d91c10ac",
   "metadata": {},
   "outputs": [
    {
     "data": {
      "text/plain": [
       "subscription_type\n",
       "free     835\n",
       "ultra    699\n",
       "Name: count, dtype: int64"
      ]
     },
     "execution_count": 18,
     "metadata": {},
     "output_type": "execute_result"
    }
   ],
   "source": [
    "#Создадим датафрейм с соотношением\n",
    "subscription_status = users_go['subscription_type'].value_counts()\n",
    "subscription_status"
   ]
  },
  {
   "cell_type": "code",
   "execution_count": 19,
   "id": "0ed27756",
   "metadata": {},
   "outputs": [
    {
     "data": {
      "text/plain": [
       "subscription_type\n",
       "free     54.0\n",
       "ultra    46.0\n",
       "Name: count, dtype: float64"
      ]
     },
     "execution_count": 19,
     "metadata": {},
     "output_type": "execute_result"
    }
   ],
   "source": [
    "#Переведем данные в проценты\n",
    "subscription_status['rate'] = round(users_go['subscription_type'].value_counts() / subscription_status.sum(), 2) * 100\n",
    "subscription_status['rate']"
   ]
  },
  {
   "cell_type": "code",
   "execution_count": 20,
   "id": "661ff387",
   "metadata": {},
   "outputs": [
    {
     "data": {
      "image/png": "[encoded data removed]",
      "text/plain": [
       "<Figure size 432x288 with 1 Axes>"
      ]
     },
     "metadata": {},
     "output_type": "display_data"
    }
   ],
   "source": [
    "#Выведем график\n",
    "plt.pie(subscription_status['rate'], labels=subscription_status['rate'].index, autopct='%1.1f%%')\n",
    "plt.title('Соотношение пользователей с подпиской и без подписки')\n",
    "plt.show()\n"
   ]
  },
  {
   "cell_type": "markdown",
   "id": "21c001a6",
   "metadata": {},
   "source": [
    "**Вывод:** Пользователей с подпиской меньше(46%), чем без подписки(54%)"
   ]
  },
  {
   "cell_type": "markdown",
   "id": "2771268f",
   "metadata": {},
   "source": [
    "### Возраст пользователей"
   ]
  },
  {
   "cell_type": "code",
   "execution_count": 21,
   "id": "f14475d8",
   "metadata": {},
   "outputs": [
    {
     "name": "stdout",
     "output_type": "stream",
     "text": [
      "Самому младшему пользователю - 12\n"
     ]
    }
   ],
   "source": [
    "#Выведем возраст самого младшего пользователя\n",
    "print('Самому младшему пользователю -',users_go['age'].sort_values().min())"
   ]
  },
  {
   "cell_type": "code",
   "execution_count": 22,
   "id": "a6f9684d",
   "metadata": {
    "scrolled": true
   },
   "outputs": [
    {
     "name": "stdout",
     "output_type": "stream",
     "text": [
      "Самому старшему пользователю - 43\n"
     ]
    }
   ],
   "source": [
    "#Выведем возраст самого старшего пользователя\n",
    "print('Самому старшему пользователю -',users_go['age'].sort_values().max())"
   ]
  },
  {
   "cell_type": "code",
   "execution_count": 23,
   "id": "8fc89b24",
   "metadata": {},
   "outputs": [
    {
     "name": "stdout",
     "output_type": "stream",
     "text": [
      "Средний возраст - 25.0\n"
     ]
    }
   ],
   "source": [
    "#Выведем средний возраст\n",
    "print('Средний возраст -',users_go['age'].sort_values().median())"
   ]
  },
  {
   "cell_type": "code",
   "execution_count": 24,
   "id": "d806976a",
   "metadata": {},
   "outputs": [
    {
     "data": {
      "image/png": "[encoded data removed]",
      "text/plain": [
       "<Figure size 432x288 with 1 Axes>"
      ]
     },
     "metadata": {
      "needs_background": "light"
     },
     "output_type": "display_data"
    }
   ],
   "source": [
    "#Выведем график\n",
    "users_go['age'].plot(kind='hist')\n",
    "plt.title('Возраст пользователей')\n",
    "plt.xlabel('Возраст')\n",
    "plt.ylabel('Количество пользователей')\n",
    "plt.show()"
   ]
  },
  {
   "cell_type": "markdown",
   "id": "bc887e3e",
   "metadata": {},
   "source": [
    "**Вывод:**\n",
    "- Возраст младшего пользователя - 12\n",
    "- Возраст старшего пользователя - 43\n",
    "- Средний возраст - 25. В общем и целом же от 22 до 27 лет"
   ]
  },
  {
   "cell_type": "markdown",
   "id": "ce074832",
   "metadata": {},
   "source": [
    "### Расстояние, которое пользователь преодолел за одну поездку"
   ]
  },
  {
   "cell_type": "code",
   "execution_count": 25,
   "id": "85ed5902",
   "metadata": {},
   "outputs": [
    {
     "name": "stdout",
     "output_type": "stream",
     "text": [
      "Самая короткая поездка - 0.86 метра\n"
     ]
    }
   ],
   "source": [
    "#Выведем самую короткую поездку\n",
    "print('Самая короткая поездка -',round(rides_go['distance'].sort_values().min(),2),'метра')"
   ]
  },
  {
   "cell_type": "code",
   "execution_count": 26,
   "id": "737e8eff",
   "metadata": {},
   "outputs": [
    {
     "name": "stdout",
     "output_type": "stream",
     "text": [
      "Самая длинная поездка - 7211.01 метров\n"
     ]
    }
   ],
   "source": [
    "#Выведем самую длинную поездку\n",
    "print('Самая длинная поездка -',round(rides_go['distance'].sort_values().max(),2),'метров')"
   ]
  },
  {
   "cell_type": "code",
   "execution_count": 27,
   "id": "bdd3af93",
   "metadata": {},
   "outputs": [
    {
     "name": "stdout",
     "output_type": "stream",
     "text": [
      "Среднее расстояние - 3070.66 метров\n"
     ]
    }
   ],
   "source": [
    "#Выведем среднее расстояние\n",
    "print('Среднее расстояние -',round(rides_go['distance'].sort_values().mean(),2),'метров')"
   ]
  },
  {
   "cell_type": "code",
   "execution_count": 28,
   "id": "4c08caf4",
   "metadata": {},
   "outputs": [
    {
     "data": {
      "image/png": "[encoded data removed]",
      "text/plain": [
       "<Figure size 720x432 with 1 Axes>"
      ]
     },
     "metadata": {
      "needs_background": "light"
     },
     "output_type": "display_data"
    }
   ],
   "source": [
    "#Выведем график\n",
    "ax = rides_go['distance'].plot(kind='hist', bins=50, figsize=(10,6), grid = True)\n",
    "ax.set_title('Расстояние, которое пользователь преодолел за одну поездку')\n",
    "ax.set_xlabel('Метры')\n",
    "ax.set_ylabel('Количество поездок')\n",
    "ax.set_xlim(left=0)\n",
    "plt.show()"
   ]
  },
  {
   "cell_type": "markdown",
   "id": "8823c93a",
   "metadata": {},
   "source": [
    "**Вывод:**\n",
    "- Самая короткая поездка - 0.86 метра\n",
    "- Самая длинная поездка - 7211.01 метров\n",
    "- Среднее расстояние - 3070.66 метров"
   ]
  },
  {
   "cell_type": "markdown",
   "id": "c449f72d",
   "metadata": {},
   "source": [
    "### Продолжительность поездок"
   ]
  },
  {
   "cell_type": "code",
   "execution_count": 29,
   "id": "b6d3c991",
   "metadata": {},
   "outputs": [
    {
     "name": "stdout",
     "output_type": "stream",
     "text": [
      "Самая быстрая поездка - 0.5 минуты\n"
     ]
    }
   ],
   "source": [
    "#Выведем самую быструю поездку\n",
    "print('Самая быстрая поездка -',rides_go['duration'].sort_values().min(),'минуты')"
   ]
  },
  {
   "cell_type": "code",
   "execution_count": 30,
   "id": "ad5c32c6",
   "metadata": {},
   "outputs": [
    {
     "name": "stdout",
     "output_type": "stream",
     "text": [
      "Самая долгая поездка - 40.82 минут\n"
     ]
    }
   ],
   "source": [
    "#Выведем самую долгую поездку\n",
    "print('Самая долгая поездка -',round(rides_go['duration'].sort_values().max(),2),'минут')"
   ]
  },
  {
   "cell_type": "code",
   "execution_count": 31,
   "id": "977c314e",
   "metadata": {},
   "outputs": [
    {
     "name": "stdout",
     "output_type": "stream",
     "text": [
      "Среднее время поездки - 17.81 минут\n"
     ]
    }
   ],
   "source": [
    "#Выведем среднее время поездки\n",
    "print('Среднее время поездки -',round(rides_go['duration'].sort_values().mean(),2),'минут')"
   ]
  },
  {
   "cell_type": "code",
   "execution_count": 32,
   "id": "cb466f26",
   "metadata": {},
   "outputs": [
    {
     "data": {
      "image/png": "[encoded data removed]",
      "text/plain": [
       "<Figure size 720x432 with 1 Axes>"
      ]
     },
     "metadata": {
      "needs_background": "light"
     },
     "output_type": "display_data"
    }
   ],
   "source": [
    "#Выведем график\n",
    "ax = rides_go['duration'].plot(kind='hist', bins=50, figsize=(10,6), grid = True)\n",
    "ax.set_title('Продолжительность поездок')\n",
    "ax.set_xlabel('Минуты')\n",
    "ax.set_ylabel('Количество поездок')\n",
    "ax.set_xlim(left=0)\n",
    "plt.show()"
   ]
  },
  {
   "cell_type": "markdown",
   "id": "a52852dd",
   "metadata": {},
   "source": [
    "**Вывод:**\n",
    "- Самая быстрая поездка - 0.5 минуты\n",
    "- Самая долгая поездка - 40.82 минут\n",
    "- Среднее время поездки - 17.81 минут. В общем и целом же от 15 до 21 минуты"
   ]
  },
  {
   "cell_type": "markdown",
   "id": "de30768d",
   "metadata": {},
   "source": [
    "<div style=\"border:solid Blue 2px; padding: 20px\">\n",
    "\n",
    "**Вывод:**\n",
    "  \n",
    "**Частота встречаемости городов:**\n",
    "- Самым часто встречающимся городом является Пятигорск - 14%, наименее же встречаемый город Москва - 11%. Могу предположить, что связано это с размерами городов: Москва намного больше Пятигорска и в большинстве случаев жители преподчитают пользоваться услугами такси, нежели самокатами.\n",
    "\n",
    "**Соотношение пользователей с подпиской и без:**\n",
    "- Пользователей с подпиской меньше(46%), чем без подписки(54%);\n",
    "\n",
    "**Возраст пользователей:**\n",
    "- Возраст младшего пользователя - 12;\n",
    "- Возраст старшего пользователя - 43;\n",
    "- Средний возраст - 25. В общем и целом же от 22 до 27 лет;\n",
    "\n",
    "**Расстояние, которое пользователь преодолел за одну поездку:**\n",
    "- Самая короткая поездка - 0.86 метра\n",
    "- Самая длинная поездка - 7211.01 метров\n",
    "- Среднее расстояние - 3070.66 метров\n",
    "\n",
    "**Продолжительность поездок:**\n",
    "- Самая быстрая поездка - 0.5 минуты. Тут есть несколько причин, почему так может быть: Пользователь взял самокат, необратив внимание на зарядку, либо же какая-то неисправность самого самоката(не работают тормоза и т.д.)\n",
    "- Самая долгая поездка - 40.82 минут\n",
    "- Среднее время поездки - 17.81 минут. В общем и целом же от 15 до 21 минуты"
   ]
  },
  {
   "cell_type": "markdown",
   "id": "bae7ca17",
   "metadata": {},
   "source": [
    "## **Объединение данных**"
   ]
  },
  {
   "cell_type": "markdown",
   "id": "c1c5c756",
   "metadata": {},
   "source": [
    "### Создадим общий датафрейм"
   ]
  },
  {
   "cell_type": "code",
   "execution_count": 33,
   "id": "689bce0c",
   "metadata": {},
   "outputs": [
    {
     "data": {
      "text/html": [
       "<div>\n",
       "<style scoped>\n",
       "    .dataframe tbody tr th:only-of-type {\n",
       "        vertical-align: middle;\n",
       "    }\n",
       "\n",
       "    .dataframe tbody tr th {\n",
       "        vertical-align: top;\n",
       "    }\n",
       "\n",
       "    .dataframe thead th {\n",
       "        text-align: right;\n",
       "    }\n",
       "</style>\n",
       "<table border=\"1\" class=\"dataframe\">\n",
       "  <thead>\n",
       "    <tr style=\"text-align: right;\">\n",
       "      <th></th>\n",
       "      <th>user_id</th>\n",
       "      <th>name</th>\n",
       "      <th>age</th>\n",
       "      <th>city</th>\n",
       "      <th>subscription_type</th>\n",
       "      <th>distance</th>\n",
       "      <th>duration</th>\n",
       "      <th>date</th>\n",
       "      <th>date_month</th>\n",
       "      <th>minute_price</th>\n",
       "      <th>start_ride_price</th>\n",
       "      <th>subscription_fee</th>\n",
       "    </tr>\n",
       "  </thead>\n",
       "  <tbody>\n",
       "    <tr>\n",
       "      <th>0</th>\n",
       "      <td>1</td>\n",
       "      <td>Кира</td>\n",
       "      <td>22</td>\n",
       "      <td>Тюмень</td>\n",
       "      <td>ultra</td>\n",
       "      <td>4409.919140</td>\n",
       "      <td>25.599769</td>\n",
       "      <td>2021-01-01</td>\n",
       "      <td>1</td>\n",
       "      <td>6</td>\n",
       "      <td>0</td>\n",
       "      <td>199</td>\n",
       "    </tr>\n",
       "    <tr>\n",
       "      <th>1</th>\n",
       "      <td>1</td>\n",
       "      <td>Кира</td>\n",
       "      <td>22</td>\n",
       "      <td>Тюмень</td>\n",
       "      <td>ultra</td>\n",
       "      <td>2617.592153</td>\n",
       "      <td>15.816871</td>\n",
       "      <td>2021-01-18</td>\n",
       "      <td>1</td>\n",
       "      <td>6</td>\n",
       "      <td>0</td>\n",
       "      <td>199</td>\n",
       "    </tr>\n",
       "    <tr>\n",
       "      <th>2</th>\n",
       "      <td>1</td>\n",
       "      <td>Кира</td>\n",
       "      <td>22</td>\n",
       "      <td>Тюмень</td>\n",
       "      <td>ultra</td>\n",
       "      <td>754.159807</td>\n",
       "      <td>6.232113</td>\n",
       "      <td>2021-04-20</td>\n",
       "      <td>4</td>\n",
       "      <td>6</td>\n",
       "      <td>0</td>\n",
       "      <td>199</td>\n",
       "    </tr>\n",
       "    <tr>\n",
       "      <th>3</th>\n",
       "      <td>1</td>\n",
       "      <td>Кира</td>\n",
       "      <td>22</td>\n",
       "      <td>Тюмень</td>\n",
       "      <td>ultra</td>\n",
       "      <td>2694.783254</td>\n",
       "      <td>18.511000</td>\n",
       "      <td>2021-08-11</td>\n",
       "      <td>8</td>\n",
       "      <td>6</td>\n",
       "      <td>0</td>\n",
       "      <td>199</td>\n",
       "    </tr>\n",
       "    <tr>\n",
       "      <th>4</th>\n",
       "      <td>1</td>\n",
       "      <td>Кира</td>\n",
       "      <td>22</td>\n",
       "      <td>Тюмень</td>\n",
       "      <td>ultra</td>\n",
       "      <td>4028.687306</td>\n",
       "      <td>26.265803</td>\n",
       "      <td>2021-08-28</td>\n",
       "      <td>8</td>\n",
       "      <td>6</td>\n",
       "      <td>0</td>\n",
       "      <td>199</td>\n",
       "    </tr>\n",
       "    <tr>\n",
       "      <th>...</th>\n",
       "      <td>...</td>\n",
       "      <td>...</td>\n",
       "      <td>...</td>\n",
       "      <td>...</td>\n",
       "      <td>...</td>\n",
       "      <td>...</td>\n",
       "      <td>...</td>\n",
       "      <td>...</td>\n",
       "      <td>...</td>\n",
       "      <td>...</td>\n",
       "      <td>...</td>\n",
       "      <td>...</td>\n",
       "    </tr>\n",
       "    <tr>\n",
       "      <th>18063</th>\n",
       "      <td>1534</td>\n",
       "      <td>Альберт</td>\n",
       "      <td>25</td>\n",
       "      <td>Краснодар</td>\n",
       "      <td>free</td>\n",
       "      <td>3781.098080</td>\n",
       "      <td>19.822962</td>\n",
       "      <td>2021-11-04</td>\n",
       "      <td>11</td>\n",
       "      <td>8</td>\n",
       "      <td>50</td>\n",
       "      <td>0</td>\n",
       "    </tr>\n",
       "    <tr>\n",
       "      <th>18064</th>\n",
       "      <td>1534</td>\n",
       "      <td>Альберт</td>\n",
       "      <td>25</td>\n",
       "      <td>Краснодар</td>\n",
       "      <td>free</td>\n",
       "      <td>2840.423057</td>\n",
       "      <td>21.409799</td>\n",
       "      <td>2021-11-16</td>\n",
       "      <td>11</td>\n",
       "      <td>8</td>\n",
       "      <td>50</td>\n",
       "      <td>0</td>\n",
       "    </tr>\n",
       "    <tr>\n",
       "      <th>18065</th>\n",
       "      <td>1534</td>\n",
       "      <td>Альберт</td>\n",
       "      <td>25</td>\n",
       "      <td>Краснодар</td>\n",
       "      <td>free</td>\n",
       "      <td>3826.185507</td>\n",
       "      <td>18.435051</td>\n",
       "      <td>2021-11-18</td>\n",
       "      <td>11</td>\n",
       "      <td>8</td>\n",
       "      <td>50</td>\n",
       "      <td>0</td>\n",
       "    </tr>\n",
       "    <tr>\n",
       "      <th>18066</th>\n",
       "      <td>1534</td>\n",
       "      <td>Альберт</td>\n",
       "      <td>25</td>\n",
       "      <td>Краснодар</td>\n",
       "      <td>free</td>\n",
       "      <td>2902.308661</td>\n",
       "      <td>16.674362</td>\n",
       "      <td>2021-11-27</td>\n",
       "      <td>11</td>\n",
       "      <td>8</td>\n",
       "      <td>50</td>\n",
       "      <td>0</td>\n",
       "    </tr>\n",
       "    <tr>\n",
       "      <th>18067</th>\n",
       "      <td>1534</td>\n",
       "      <td>Альберт</td>\n",
       "      <td>25</td>\n",
       "      <td>Краснодар</td>\n",
       "      <td>free</td>\n",
       "      <td>2371.711192</td>\n",
       "      <td>15.893917</td>\n",
       "      <td>2021-12-29</td>\n",
       "      <td>12</td>\n",
       "      <td>8</td>\n",
       "      <td>50</td>\n",
       "      <td>0</td>\n",
       "    </tr>\n",
       "  </tbody>\n",
       "</table>\n",
       "<p>18068 rows × 12 columns</p>\n",
       "</div>"
      ],
      "text/plain": [
       "       user_id     name  age       city subscription_type     distance  \\\n",
       "0            1     Кира   22     Тюмень             ultra  4409.919140   \n",
       "1            1     Кира   22     Тюмень             ultra  2617.592153   \n",
       "2            1     Кира   22     Тюмень             ultra   754.159807   \n",
       "3            1     Кира   22     Тюмень             ultra  2694.783254   \n",
       "4            1     Кира   22     Тюмень             ultra  4028.687306   \n",
       "...        ...      ...  ...        ...               ...          ...   \n",
       "18063     1534  Альберт   25  Краснодар              free  3781.098080   \n",
       "18064     1534  Альберт   25  Краснодар              free  2840.423057   \n",
       "18065     1534  Альберт   25  Краснодар              free  3826.185507   \n",
       "18066     1534  Альберт   25  Краснодар              free  2902.308661   \n",
       "18067     1534  Альберт   25  Краснодар              free  2371.711192   \n",
       "\n",
       "        duration       date  date_month  minute_price  start_ride_price  \\\n",
       "0      25.599769 2021-01-01           1             6                 0   \n",
       "1      15.816871 2021-01-18           1             6                 0   \n",
       "2       6.232113 2021-04-20           4             6                 0   \n",
       "3      18.511000 2021-08-11           8             6                 0   \n",
       "4      26.265803 2021-08-28           8             6                 0   \n",
       "...          ...        ...         ...           ...               ...   \n",
       "18063  19.822962 2021-11-04          11             8                50   \n",
       "18064  21.409799 2021-11-16          11             8                50   \n",
       "18065  18.435051 2021-11-18          11             8                50   \n",
       "18066  16.674362 2021-11-27          11             8                50   \n",
       "18067  15.893917 2021-12-29          12             8                50   \n",
       "\n",
       "       subscription_fee  \n",
       "0                   199  \n",
       "1                   199  \n",
       "2                   199  \n",
       "3                   199  \n",
       "4                   199  \n",
       "...                 ...  \n",
       "18063                 0  \n",
       "18064                 0  \n",
       "18065                 0  \n",
       "18066                 0  \n",
       "18067                 0  \n",
       "\n",
       "[18068 rows x 12 columns]"
      ]
     },
     "execution_count": 33,
     "metadata": {},
     "output_type": "execute_result"
    }
   ],
   "source": [
    "#Объединяем данные\n",
    "df = users_go.merge(rides_go)\n",
    "df = df.merge(subscriptions_go)\n",
    "df"
   ]
  },
  {
   "cell_type": "markdown",
   "id": "735383e7",
   "metadata": {},
   "source": [
    "### Создадим отдельные датафреймы для пользователей с подпиской и без"
   ]
  },
  {
   "cell_type": "code",
   "execution_count": 34,
   "id": "8e86b370",
   "metadata": {},
   "outputs": [
    {
     "data": {
      "text/html": [
       "<div>\n",
       "<style scoped>\n",
       "    .dataframe tbody tr th:only-of-type {\n",
       "        vertical-align: middle;\n",
       "    }\n",
       "\n",
       "    .dataframe tbody tr th {\n",
       "        vertical-align: top;\n",
       "    }\n",
       "\n",
       "    .dataframe thead th {\n",
       "        text-align: right;\n",
       "    }\n",
       "</style>\n",
       "<table border=\"1\" class=\"dataframe\">\n",
       "  <thead>\n",
       "    <tr style=\"text-align: right;\">\n",
       "      <th></th>\n",
       "      <th>user_id</th>\n",
       "      <th>name</th>\n",
       "      <th>age</th>\n",
       "      <th>city</th>\n",
       "      <th>subscription_type</th>\n",
       "      <th>distance</th>\n",
       "      <th>duration</th>\n",
       "      <th>date</th>\n",
       "      <th>date_month</th>\n",
       "      <th>minute_price</th>\n",
       "      <th>start_ride_price</th>\n",
       "      <th>subscription_fee</th>\n",
       "    </tr>\n",
       "  </thead>\n",
       "  <tbody>\n",
       "    <tr>\n",
       "      <th>6500</th>\n",
       "      <td>700</td>\n",
       "      <td>Айдар</td>\n",
       "      <td>22</td>\n",
       "      <td>Омск</td>\n",
       "      <td>free</td>\n",
       "      <td>2515.690719</td>\n",
       "      <td>14.944286</td>\n",
       "      <td>2021-01-02</td>\n",
       "      <td>1</td>\n",
       "      <td>8</td>\n",
       "      <td>50</td>\n",
       "      <td>0</td>\n",
       "    </tr>\n",
       "    <tr>\n",
       "      <th>6501</th>\n",
       "      <td>700</td>\n",
       "      <td>Айдар</td>\n",
       "      <td>22</td>\n",
       "      <td>Омск</td>\n",
       "      <td>free</td>\n",
       "      <td>846.932642</td>\n",
       "      <td>16.234663</td>\n",
       "      <td>2021-02-01</td>\n",
       "      <td>2</td>\n",
       "      <td>8</td>\n",
       "      <td>50</td>\n",
       "      <td>0</td>\n",
       "    </tr>\n",
       "    <tr>\n",
       "      <th>6502</th>\n",
       "      <td>700</td>\n",
       "      <td>Айдар</td>\n",
       "      <td>22</td>\n",
       "      <td>Омск</td>\n",
       "      <td>free</td>\n",
       "      <td>4004.434142</td>\n",
       "      <td>20.016628</td>\n",
       "      <td>2021-02-04</td>\n",
       "      <td>2</td>\n",
       "      <td>8</td>\n",
       "      <td>50</td>\n",
       "      <td>0</td>\n",
       "    </tr>\n",
       "    <tr>\n",
       "      <th>6503</th>\n",
       "      <td>700</td>\n",
       "      <td>Айдар</td>\n",
       "      <td>22</td>\n",
       "      <td>Омск</td>\n",
       "      <td>free</td>\n",
       "      <td>1205.911290</td>\n",
       "      <td>9.782872</td>\n",
       "      <td>2021-02-10</td>\n",
       "      <td>2</td>\n",
       "      <td>8</td>\n",
       "      <td>50</td>\n",
       "      <td>0</td>\n",
       "    </tr>\n",
       "    <tr>\n",
       "      <th>6504</th>\n",
       "      <td>700</td>\n",
       "      <td>Айдар</td>\n",
       "      <td>22</td>\n",
       "      <td>Омск</td>\n",
       "      <td>free</td>\n",
       "      <td>3047.379435</td>\n",
       "      <td>17.427673</td>\n",
       "      <td>2021-02-14</td>\n",
       "      <td>2</td>\n",
       "      <td>8</td>\n",
       "      <td>50</td>\n",
       "      <td>0</td>\n",
       "    </tr>\n",
       "    <tr>\n",
       "      <th>...</th>\n",
       "      <td>...</td>\n",
       "      <td>...</td>\n",
       "      <td>...</td>\n",
       "      <td>...</td>\n",
       "      <td>...</td>\n",
       "      <td>...</td>\n",
       "      <td>...</td>\n",
       "      <td>...</td>\n",
       "      <td>...</td>\n",
       "      <td>...</td>\n",
       "      <td>...</td>\n",
       "      <td>...</td>\n",
       "    </tr>\n",
       "    <tr>\n",
       "      <th>18063</th>\n",
       "      <td>1534</td>\n",
       "      <td>Альберт</td>\n",
       "      <td>25</td>\n",
       "      <td>Краснодар</td>\n",
       "      <td>free</td>\n",
       "      <td>3781.098080</td>\n",
       "      <td>19.822962</td>\n",
       "      <td>2021-11-04</td>\n",
       "      <td>11</td>\n",
       "      <td>8</td>\n",
       "      <td>50</td>\n",
       "      <td>0</td>\n",
       "    </tr>\n",
       "    <tr>\n",
       "      <th>18064</th>\n",
       "      <td>1534</td>\n",
       "      <td>Альберт</td>\n",
       "      <td>25</td>\n",
       "      <td>Краснодар</td>\n",
       "      <td>free</td>\n",
       "      <td>2840.423057</td>\n",
       "      <td>21.409799</td>\n",
       "      <td>2021-11-16</td>\n",
       "      <td>11</td>\n",
       "      <td>8</td>\n",
       "      <td>50</td>\n",
       "      <td>0</td>\n",
       "    </tr>\n",
       "    <tr>\n",
       "      <th>18065</th>\n",
       "      <td>1534</td>\n",
       "      <td>Альберт</td>\n",
       "      <td>25</td>\n",
       "      <td>Краснодар</td>\n",
       "      <td>free</td>\n",
       "      <td>3826.185507</td>\n",
       "      <td>18.435051</td>\n",
       "      <td>2021-11-18</td>\n",
       "      <td>11</td>\n",
       "      <td>8</td>\n",
       "      <td>50</td>\n",
       "      <td>0</td>\n",
       "    </tr>\n",
       "    <tr>\n",
       "      <th>18066</th>\n",
       "      <td>1534</td>\n",
       "      <td>Альберт</td>\n",
       "      <td>25</td>\n",
       "      <td>Краснодар</td>\n",
       "      <td>free</td>\n",
       "      <td>2902.308661</td>\n",
       "      <td>16.674362</td>\n",
       "      <td>2021-11-27</td>\n",
       "      <td>11</td>\n",
       "      <td>8</td>\n",
       "      <td>50</td>\n",
       "      <td>0</td>\n",
       "    </tr>\n",
       "    <tr>\n",
       "      <th>18067</th>\n",
       "      <td>1534</td>\n",
       "      <td>Альберт</td>\n",
       "      <td>25</td>\n",
       "      <td>Краснодар</td>\n",
       "      <td>free</td>\n",
       "      <td>2371.711192</td>\n",
       "      <td>15.893917</td>\n",
       "      <td>2021-12-29</td>\n",
       "      <td>12</td>\n",
       "      <td>8</td>\n",
       "      <td>50</td>\n",
       "      <td>0</td>\n",
       "    </tr>\n",
       "  </tbody>\n",
       "</table>\n",
       "<p>11568 rows × 12 columns</p>\n",
       "</div>"
      ],
      "text/plain": [
       "       user_id     name  age       city subscription_type     distance  \\\n",
       "6500       700    Айдар   22       Омск              free  2515.690719   \n",
       "6501       700    Айдар   22       Омск              free   846.932642   \n",
       "6502       700    Айдар   22       Омск              free  4004.434142   \n",
       "6503       700    Айдар   22       Омск              free  1205.911290   \n",
       "6504       700    Айдар   22       Омск              free  3047.379435   \n",
       "...        ...      ...  ...        ...               ...          ...   \n",
       "18063     1534  Альберт   25  Краснодар              free  3781.098080   \n",
       "18064     1534  Альберт   25  Краснодар              free  2840.423057   \n",
       "18065     1534  Альберт   25  Краснодар              free  3826.185507   \n",
       "18066     1534  Альберт   25  Краснодар              free  2902.308661   \n",
       "18067     1534  Альберт   25  Краснодар              free  2371.711192   \n",
       "\n",
       "        duration       date  date_month  minute_price  start_ride_price  \\\n",
       "6500   14.944286 2021-01-02           1             8                50   \n",
       "6501   16.234663 2021-02-01           2             8                50   \n",
       "6502   20.016628 2021-02-04           2             8                50   \n",
       "6503    9.782872 2021-02-10           2             8                50   \n",
       "6504   17.427673 2021-02-14           2             8                50   \n",
       "...          ...        ...         ...           ...               ...   \n",
       "18063  19.822962 2021-11-04          11             8                50   \n",
       "18064  21.409799 2021-11-16          11             8                50   \n",
       "18065  18.435051 2021-11-18          11             8                50   \n",
       "18066  16.674362 2021-11-27          11             8                50   \n",
       "18067  15.893917 2021-12-29          12             8                50   \n",
       "\n",
       "       subscription_fee  \n",
       "6500                  0  \n",
       "6501                  0  \n",
       "6502                  0  \n",
       "6503                  0  \n",
       "6504                  0  \n",
       "...                 ...  \n",
       "18063                 0  \n",
       "18064                 0  \n",
       "18065                 0  \n",
       "18066                 0  \n",
       "18067                 0  \n",
       "\n",
       "[11568 rows x 12 columns]"
      ]
     },
     "execution_count": 34,
     "metadata": {},
     "output_type": "execute_result"
    }
   ],
   "source": [
    "#Создадим датафрейм для пользователей без подписка\n",
    "df_free = df[df['subscription_type'] == 'free']\n",
    "df_free"
   ]
  },
  {
   "cell_type": "code",
   "execution_count": 35,
   "id": "58d5eb7b",
   "metadata": {},
   "outputs": [
    {
     "data": {
      "text/html": [
       "<div>\n",
       "<style scoped>\n",
       "    .dataframe tbody tr th:only-of-type {\n",
       "        vertical-align: middle;\n",
       "    }\n",
       "\n",
       "    .dataframe tbody tr th {\n",
       "        vertical-align: top;\n",
       "    }\n",
       "\n",
       "    .dataframe thead th {\n",
       "        text-align: right;\n",
       "    }\n",
       "</style>\n",
       "<table border=\"1\" class=\"dataframe\">\n",
       "  <thead>\n",
       "    <tr style=\"text-align: right;\">\n",
       "      <th></th>\n",
       "      <th>user_id</th>\n",
       "      <th>name</th>\n",
       "      <th>age</th>\n",
       "      <th>city</th>\n",
       "      <th>subscription_type</th>\n",
       "      <th>distance</th>\n",
       "      <th>duration</th>\n",
       "      <th>date</th>\n",
       "      <th>date_month</th>\n",
       "      <th>minute_price</th>\n",
       "      <th>start_ride_price</th>\n",
       "      <th>subscription_fee</th>\n",
       "    </tr>\n",
       "  </thead>\n",
       "  <tbody>\n",
       "    <tr>\n",
       "      <th>0</th>\n",
       "      <td>1</td>\n",
       "      <td>Кира</td>\n",
       "      <td>22</td>\n",
       "      <td>Тюмень</td>\n",
       "      <td>ultra</td>\n",
       "      <td>4409.919140</td>\n",
       "      <td>25.599769</td>\n",
       "      <td>2021-01-01</td>\n",
       "      <td>1</td>\n",
       "      <td>6</td>\n",
       "      <td>0</td>\n",
       "      <td>199</td>\n",
       "    </tr>\n",
       "    <tr>\n",
       "      <th>1</th>\n",
       "      <td>1</td>\n",
       "      <td>Кира</td>\n",
       "      <td>22</td>\n",
       "      <td>Тюмень</td>\n",
       "      <td>ultra</td>\n",
       "      <td>2617.592153</td>\n",
       "      <td>15.816871</td>\n",
       "      <td>2021-01-18</td>\n",
       "      <td>1</td>\n",
       "      <td>6</td>\n",
       "      <td>0</td>\n",
       "      <td>199</td>\n",
       "    </tr>\n",
       "    <tr>\n",
       "      <th>2</th>\n",
       "      <td>1</td>\n",
       "      <td>Кира</td>\n",
       "      <td>22</td>\n",
       "      <td>Тюмень</td>\n",
       "      <td>ultra</td>\n",
       "      <td>754.159807</td>\n",
       "      <td>6.232113</td>\n",
       "      <td>2021-04-20</td>\n",
       "      <td>4</td>\n",
       "      <td>6</td>\n",
       "      <td>0</td>\n",
       "      <td>199</td>\n",
       "    </tr>\n",
       "    <tr>\n",
       "      <th>3</th>\n",
       "      <td>1</td>\n",
       "      <td>Кира</td>\n",
       "      <td>22</td>\n",
       "      <td>Тюмень</td>\n",
       "      <td>ultra</td>\n",
       "      <td>2694.783254</td>\n",
       "      <td>18.511000</td>\n",
       "      <td>2021-08-11</td>\n",
       "      <td>8</td>\n",
       "      <td>6</td>\n",
       "      <td>0</td>\n",
       "      <td>199</td>\n",
       "    </tr>\n",
       "    <tr>\n",
       "      <th>4</th>\n",
       "      <td>1</td>\n",
       "      <td>Кира</td>\n",
       "      <td>22</td>\n",
       "      <td>Тюмень</td>\n",
       "      <td>ultra</td>\n",
       "      <td>4028.687306</td>\n",
       "      <td>26.265803</td>\n",
       "      <td>2021-08-28</td>\n",
       "      <td>8</td>\n",
       "      <td>6</td>\n",
       "      <td>0</td>\n",
       "      <td>199</td>\n",
       "    </tr>\n",
       "    <tr>\n",
       "      <th>...</th>\n",
       "      <td>...</td>\n",
       "      <td>...</td>\n",
       "      <td>...</td>\n",
       "      <td>...</td>\n",
       "      <td>...</td>\n",
       "      <td>...</td>\n",
       "      <td>...</td>\n",
       "      <td>...</td>\n",
       "      <td>...</td>\n",
       "      <td>...</td>\n",
       "      <td>...</td>\n",
       "      <td>...</td>\n",
       "    </tr>\n",
       "    <tr>\n",
       "      <th>6495</th>\n",
       "      <td>699</td>\n",
       "      <td>Оксана</td>\n",
       "      <td>22</td>\n",
       "      <td>Москва</td>\n",
       "      <td>ultra</td>\n",
       "      <td>3973.046497</td>\n",
       "      <td>24.671163</td>\n",
       "      <td>2021-08-29</td>\n",
       "      <td>8</td>\n",
       "      <td>6</td>\n",
       "      <td>0</td>\n",
       "      <td>199</td>\n",
       "    </tr>\n",
       "    <tr>\n",
       "      <th>6496</th>\n",
       "      <td>699</td>\n",
       "      <td>Оксана</td>\n",
       "      <td>22</td>\n",
       "      <td>Москва</td>\n",
       "      <td>ultra</td>\n",
       "      <td>3288.702563</td>\n",
       "      <td>15.892886</td>\n",
       "      <td>2021-09-12</td>\n",
       "      <td>9</td>\n",
       "      <td>6</td>\n",
       "      <td>0</td>\n",
       "      <td>199</td>\n",
       "    </tr>\n",
       "    <tr>\n",
       "      <th>6497</th>\n",
       "      <td>699</td>\n",
       "      <td>Оксана</td>\n",
       "      <td>22</td>\n",
       "      <td>Москва</td>\n",
       "      <td>ultra</td>\n",
       "      <td>3076.159348</td>\n",
       "      <td>14.389525</td>\n",
       "      <td>2021-09-26</td>\n",
       "      <td>9</td>\n",
       "      <td>6</td>\n",
       "      <td>0</td>\n",
       "      <td>199</td>\n",
       "    </tr>\n",
       "    <tr>\n",
       "      <th>6498</th>\n",
       "      <td>699</td>\n",
       "      <td>Оксана</td>\n",
       "      <td>22</td>\n",
       "      <td>Москва</td>\n",
       "      <td>ultra</td>\n",
       "      <td>4707.845501</td>\n",
       "      <td>15.839579</td>\n",
       "      <td>2021-10-17</td>\n",
       "      <td>10</td>\n",
       "      <td>6</td>\n",
       "      <td>0</td>\n",
       "      <td>199</td>\n",
       "    </tr>\n",
       "    <tr>\n",
       "      <th>6499</th>\n",
       "      <td>699</td>\n",
       "      <td>Оксана</td>\n",
       "      <td>22</td>\n",
       "      <td>Москва</td>\n",
       "      <td>ultra</td>\n",
       "      <td>3202.890770</td>\n",
       "      <td>25.217345</td>\n",
       "      <td>2021-12-03</td>\n",
       "      <td>12</td>\n",
       "      <td>6</td>\n",
       "      <td>0</td>\n",
       "      <td>199</td>\n",
       "    </tr>\n",
       "  </tbody>\n",
       "</table>\n",
       "<p>6500 rows × 12 columns</p>\n",
       "</div>"
      ],
      "text/plain": [
       "      user_id    name  age    city subscription_type     distance   duration  \\\n",
       "0           1    Кира   22  Тюмень             ultra  4409.919140  25.599769   \n",
       "1           1    Кира   22  Тюмень             ultra  2617.592153  15.816871   \n",
       "2           1    Кира   22  Тюмень             ultra   754.159807   6.232113   \n",
       "3           1    Кира   22  Тюмень             ultra  2694.783254  18.511000   \n",
       "4           1    Кира   22  Тюмень             ultra  4028.687306  26.265803   \n",
       "...       ...     ...  ...     ...               ...          ...        ...   \n",
       "6495      699  Оксана   22  Москва             ultra  3973.046497  24.671163   \n",
       "6496      699  Оксана   22  Москва             ultra  3288.702563  15.892886   \n",
       "6497      699  Оксана   22  Москва             ultra  3076.159348  14.389525   \n",
       "6498      699  Оксана   22  Москва             ultra  4707.845501  15.839579   \n",
       "6499      699  Оксана   22  Москва             ultra  3202.890770  25.217345   \n",
       "\n",
       "           date  date_month  minute_price  start_ride_price  subscription_fee  \n",
       "0    2021-01-01           1             6                 0               199  \n",
       "1    2021-01-18           1             6                 0               199  \n",
       "2    2021-04-20           4             6                 0               199  \n",
       "3    2021-08-11           8             6                 0               199  \n",
       "4    2021-08-28           8             6                 0               199  \n",
       "...         ...         ...           ...               ...               ...  \n",
       "6495 2021-08-29           8             6                 0               199  \n",
       "6496 2021-09-12           9             6                 0               199  \n",
       "6497 2021-09-26           9             6                 0               199  \n",
       "6498 2021-10-17          10             6                 0               199  \n",
       "6499 2021-12-03          12             6                 0               199  \n",
       "\n",
       "[6500 rows x 12 columns]"
      ]
     },
     "execution_count": 35,
     "metadata": {},
     "output_type": "execute_result"
    }
   ],
   "source": [
    "#Создадим датафрейм для пользователей с подпиской\n",
    "df_ultra = df[df['subscription_type'] == 'ultra']\n",
    "df_ultra"
   ]
  },
  {
   "cell_type": "markdown",
   "id": "43f0b38e",
   "metadata": {},
   "source": [
    "### Визуализируем информацию о расстоянии и времени поездок для пользователей обеих категорий"
   ]
  },
  {
   "cell_type": "markdown",
   "id": "f2f11012",
   "metadata": {},
   "source": [
    "#### Пользователи без подписки"
   ]
  },
  {
   "cell_type": "code",
   "execution_count": 36,
   "id": "d287110c",
   "metadata": {},
   "outputs": [
    {
     "name": "stdout",
     "output_type": "stream",
     "text": [
      "Самая короткая поездка - 0.86 метра\n",
      "Самая длинная поездка - 7211.01 метров\n",
      "Средняя длина поездки - 3045.5 метров\n"
     ]
    }
   ],
   "source": [
    "#Выведем самую короткую поездку\n",
    "print('Самая короткая поездка -',round(df_free['distance'].sort_values().min(),2),'метра')\n",
    "#Выведем самую длинную поездку\n",
    "print('Самая длинная поездка -',round(df_free['distance'].sort_values().max(),2),'метров')\n",
    "#Выведем среднюю длину поездки\n",
    "print('Средняя длина поездки -',round(df_free['distance'].sort_values().mean(),2),'метров')"
   ]
  },
  {
   "cell_type": "code",
   "execution_count": 37,
   "id": "b649e67b",
   "metadata": {},
   "outputs": [
    {
     "data": {
      "image/png": "[encoded data removed]",
      "text/plain": [
       "<Figure size 720x432 with 1 Axes>"
      ]
     },
     "metadata": {
      "needs_background": "light"
     },
     "output_type": "display_data"
    }
   ],
   "source": [
    "#Визуализируем информацию о расстоянии\n",
    "ax = df_free['distance'].plot(kind='hist', bins=50, figsize=(10,6), grid = True)\n",
    "ax.set_title('Расстояние, которое пользователь преодолел за одну поездку')\n",
    "ax.set_xlabel('Метры')\n",
    "ax.set_ylabel('Количество поездок')\n",
    "ax.set_xlim(left=0)\n",
    "plt.show()"
   ]
  },
  {
   "cell_type": "code",
   "execution_count": 38,
   "id": "db53a0ab",
   "metadata": {},
   "outputs": [
    {
     "data": {
      "image/png": "[encoded data removed]",
      "text/plain": [
       "<Figure size 720x432 with 1 Axes>"
      ]
     },
     "metadata": {
      "needs_background": "light"
     },
     "output_type": "display_data"
    }
   ],
   "source": [
    "#Визуализируем информацию о времени поездок\n",
    "ax = df_free['duration'].plot(kind='hist', bins=50, figsize=(10,6), grid = True)\n",
    "ax.set_title('Продолжительность поездок')\n",
    "ax.set_xlabel('Минуты')\n",
    "ax.set_ylabel('Количество поездок')\n",
    "ax.set_xlim(left=0)\n",
    "plt.show()"
   ]
  },
  {
   "cell_type": "markdown",
   "id": "9d1b5208",
   "metadata": {},
   "source": [
    "#### Пользователи с подпиской"
   ]
  },
  {
   "cell_type": "code",
   "execution_count": 39,
   "id": "e4b4af44",
   "metadata": {},
   "outputs": [
    {
     "name": "stdout",
     "output_type": "stream",
     "text": [
      "Самая короткая поездка - 244.21 метра\n",
      "Самая длинная поездка - 5699.77 метров\n",
      "Средняя длина поездки - 3115.45 метров\n"
     ]
    }
   ],
   "source": [
    "#Выведем самую короткую поездку\n",
    "print('Самая короткая поездка -',round(df_ultra['distance'].sort_values().min(),2),'метра')\n",
    "#Выведем самую длинную поездку\n",
    "print('Самая длинная поездка -',round(df_ultra['distance'].sort_values().max(),2),'метров')\n",
    "#Выведем среднюю длину поездки\n",
    "print('Средняя длина поездки -',round(df_ultra['distance'].sort_values().mean(),2),'метров')"
   ]
  },
  {
   "cell_type": "code",
   "execution_count": 40,
   "id": "83f9c2de",
   "metadata": {},
   "outputs": [
    {
     "data": {
      "image/png": "[encoded data removed]",
      "text/plain": [
       "<Figure size 720x432 with 1 Axes>"
      ]
     },
     "metadata": {
      "needs_background": "light"
     },
     "output_type": "display_data"
    }
   ],
   "source": [
    "#Визуализируем информацию о расстоянии\n",
    "ax = df_ultra['distance'].plot(kind='hist', bins=50, figsize=(10,6), grid = True)\n",
    "ax.set_title('Расстояние, которое пользователь преодолел за одну поездку')\n",
    "ax.set_xlabel('Метры')\n",
    "ax.set_ylabel('Количество поездок')\n",
    "ax.set_xlim(left=0)\n",
    "plt.show()"
   ]
  },
  {
   "cell_type": "code",
   "execution_count": 41,
   "id": "9da480b6",
   "metadata": {},
   "outputs": [
    {
     "data": {
      "image/png": "[encoded data removed]",
      "text/plain": [
       "<Figure size 720x432 with 1 Axes>"
      ]
     },
     "metadata": {
      "needs_background": "light"
     },
     "output_type": "display_data"
    }
   ],
   "source": [
    "#Визуализируем информацию о времени поездок\n",
    "ax = df_ultra['duration'].plot(kind='hist', bins=50, figsize=(10,6), grid = True)\n",
    "ax.set_title('Продолжительность поездок')\n",
    "ax.set_xlabel('Минуты')\n",
    "ax.set_ylabel('Количество поездок')\n",
    "ax.set_xlim(left=0)\n",
    "plt.show()"
   ]
  },
  {
   "cell_type": "markdown",
   "id": "74d04452",
   "metadata": {},
   "source": [
    "<div style=\"border:solid Blue 2px; padding: 20px\">\n",
    "\n",
    "**Вывод:**\n",
    "- Создали общий датафрейм - **df**\n",
    "- Создали отдельные датафреймы для пользователей с подпиской - **df_ultra** и без подписки - **df_free**\n",
    "\n",
    "**Пользователи без подписки:**\n",
    "- Самая короткая поездка - 0.86 метра\n",
    "- Самая длинная поездка - 7211.01 метров\n",
    "- Средняя длина поездки - 3045.5 метров\n",
    "\n",
    "**Пользователи с подпиской:**\n",
    "- Самая короткая поездка - 244.21 метра\n",
    "- Самая длинная поездка - 5699.77 метров\n",
    "- Средняя длина поездки - 3115.45 метров\n",
    "\n",
    "В общем и целом, можно заметить, что пользователи без подписки совершают длинные поездки чаще, чем пользователи с подпиской, однако средняя длина все же больше и пользователей с подпиской"
   ]
  },
  {
   "cell_type": "markdown",
   "id": "1befaa5f",
   "metadata": {},
   "source": [
    "## **Подсчет выручки**"
   ]
  },
  {
   "cell_type": "markdown",
   "id": "ac60db7c",
   "metadata": {},
   "source": [
    "### Найдем суммарное расстояние, количество поездок и суммарное время для каждого пользователя за каждый месяц"
   ]
  },
  {
   "cell_type": "code",
   "execution_count": 42,
   "id": "5beba609",
   "metadata": {},
   "outputs": [],
   "source": [
    "#Округляем\n",
    "df['duration'] = np.ceil(df['duration'])\n",
    "#Создадим датафрейм с данными\n",
    "df2 = pd.pivot_table(df,\n",
    "                     index = ['user_id', 'date_month'],\n",
    "                     values = ['distance', 'duration', 'name', 'subscription_type'],\n",
    "                     aggfunc = {'distance': sum,\n",
    "                               'name': len,\n",
    "                               'duration': sum,\n",
    "                               'subscription_type': min})"
   ]
  },
  {
   "cell_type": "code",
   "execution_count": 43,
   "id": "94255e10",
   "metadata": {},
   "outputs": [],
   "source": [
    "#Переименуем столбцы\n",
    "df2.rename(columns = {'distance' : 'distance_sum', \n",
    "                      'name' : 'trips_count', \n",
    "                      'duration' : 'duration_sum'}, inplace = True)"
   ]
  },
  {
   "cell_type": "code",
   "execution_count": 44,
   "id": "9d4f66e8",
   "metadata": {},
   "outputs": [],
   "source": [
    "#Округляем\n",
    "#df2['duration_sum'] = np.ceil(df2['duration_sum'])"
   ]
  },
  {
   "cell_type": "code",
   "execution_count": 45,
   "id": "1e9c1e5b",
   "metadata": {},
   "outputs": [
    {
     "data": {
      "text/html": [
       "<div>\n",
       "<style scoped>\n",
       "    .dataframe tbody tr th:only-of-type {\n",
       "        vertical-align: middle;\n",
       "    }\n",
       "\n",
       "    .dataframe tbody tr th {\n",
       "        vertical-align: top;\n",
       "    }\n",
       "\n",
       "    .dataframe thead th {\n",
       "        text-align: right;\n",
       "    }\n",
       "</style>\n",
       "<table border=\"1\" class=\"dataframe\">\n",
       "  <thead>\n",
       "    <tr style=\"text-align: right;\">\n",
       "      <th></th>\n",
       "      <th></th>\n",
       "      <th>distance_sum</th>\n",
       "      <th>duration_sum</th>\n",
       "      <th>trips_count</th>\n",
       "      <th>subscription_type</th>\n",
       "    </tr>\n",
       "    <tr>\n",
       "      <th>user_id</th>\n",
       "      <th>date_month</th>\n",
       "      <th></th>\n",
       "      <th></th>\n",
       "      <th></th>\n",
       "      <th></th>\n",
       "    </tr>\n",
       "  </thead>\n",
       "  <tbody>\n",
       "    <tr>\n",
       "      <th rowspan=\"5\" valign=\"top\">1</th>\n",
       "      <th>1</th>\n",
       "      <td>7027.511294</td>\n",
       "      <td>42.0</td>\n",
       "      <td>2</td>\n",
       "      <td>ultra</td>\n",
       "    </tr>\n",
       "    <tr>\n",
       "      <th>4</th>\n",
       "      <td>754.159807</td>\n",
       "      <td>7.0</td>\n",
       "      <td>1</td>\n",
       "      <td>ultra</td>\n",
       "    </tr>\n",
       "    <tr>\n",
       "      <th>8</th>\n",
       "      <td>6723.470560</td>\n",
       "      <td>46.0</td>\n",
       "      <td>2</td>\n",
       "      <td>ultra</td>\n",
       "    </tr>\n",
       "    <tr>\n",
       "      <th>10</th>\n",
       "      <td>5809.911100</td>\n",
       "      <td>32.0</td>\n",
       "      <td>2</td>\n",
       "      <td>ultra</td>\n",
       "    </tr>\n",
       "    <tr>\n",
       "      <th>11</th>\n",
       "      <td>7003.499363</td>\n",
       "      <td>56.0</td>\n",
       "      <td>3</td>\n",
       "      <td>ultra</td>\n",
       "    </tr>\n",
       "    <tr>\n",
       "      <th>...</th>\n",
       "      <th>...</th>\n",
       "      <td>...</td>\n",
       "      <td>...</td>\n",
       "      <td>...</td>\n",
       "      <td>...</td>\n",
       "    </tr>\n",
       "    <tr>\n",
       "      <th rowspan=\"5\" valign=\"top\">1534</th>\n",
       "      <th>6</th>\n",
       "      <td>3409.468534</td>\n",
       "      <td>26.0</td>\n",
       "      <td>2</td>\n",
       "      <td>free</td>\n",
       "    </tr>\n",
       "    <tr>\n",
       "      <th>8</th>\n",
       "      <td>7622.453034</td>\n",
       "      <td>48.0</td>\n",
       "      <td>2</td>\n",
       "      <td>free</td>\n",
       "    </tr>\n",
       "    <tr>\n",
       "      <th>9</th>\n",
       "      <td>4928.173852</td>\n",
       "      <td>23.0</td>\n",
       "      <td>1</td>\n",
       "      <td>free</td>\n",
       "    </tr>\n",
       "    <tr>\n",
       "      <th>11</th>\n",
       "      <td>13350.015305</td>\n",
       "      <td>78.0</td>\n",
       "      <td>4</td>\n",
       "      <td>free</td>\n",
       "    </tr>\n",
       "    <tr>\n",
       "      <th>12</th>\n",
       "      <td>2371.711192</td>\n",
       "      <td>16.0</td>\n",
       "      <td>1</td>\n",
       "      <td>free</td>\n",
       "    </tr>\n",
       "  </tbody>\n",
       "</table>\n",
       "<p>11331 rows × 4 columns</p>\n",
       "</div>"
      ],
      "text/plain": [
       "                    distance_sum  duration_sum  trips_count subscription_type\n",
       "user_id date_month                                                           \n",
       "1       1            7027.511294          42.0            2             ultra\n",
       "        4             754.159807           7.0            1             ultra\n",
       "        8            6723.470560          46.0            2             ultra\n",
       "        10           5809.911100          32.0            2             ultra\n",
       "        11           7003.499363          56.0            3             ultra\n",
       "...                          ...           ...          ...               ...\n",
       "1534    6            3409.468534          26.0            2              free\n",
       "        8            7622.453034          48.0            2              free\n",
       "        9            4928.173852          23.0            1              free\n",
       "        11          13350.015305          78.0            4              free\n",
       "        12           2371.711192          16.0            1              free\n",
       "\n",
       "[11331 rows x 4 columns]"
      ]
     },
     "execution_count": 45,
     "metadata": {},
     "output_type": "execute_result"
    }
   ],
   "source": [
    "df2"
   ]
  },
  {
   "cell_type": "markdown",
   "id": "2d861378",
   "metadata": {},
   "source": [
    "### Добавим столбец с помесячной выручкой, которую принёс каждый пользователь"
   ]
  },
  {
   "cell_type": "code",
   "execution_count": 46,
   "id": "7b89ad27",
   "metadata": {},
   "outputs": [],
   "source": [
    "#Создадим функцию\n",
    "def revenue(rev):\n",
    "    if rev['subscription_type'] == 'free':\n",
    "        return 8 * rev['duration_sum'] + 50 * rev['trips_count']\n",
    "    else:\n",
    "        return 6 * rev['duration_sum'] + 199"
   ]
  },
  {
   "cell_type": "code",
   "execution_count": 47,
   "id": "da5e6e5c",
   "metadata": {},
   "outputs": [
    {
     "data": {
      "text/plain": [
       "user_id  date_month\n",
       "1        1             451.0\n",
       "         4             241.0\n",
       "         8             475.0\n",
       "         10            391.0\n",
       "         11            535.0\n",
       "         12            367.0\n",
       "2        3             577.0\n",
       "         4             439.0\n",
       "         6             283.0\n",
       "         7             487.0\n",
       "         8             241.0\n",
       "         10            313.0\n",
       "         12            271.0\n",
       "3        1             277.0\n",
       "         2             433.0\n",
       "         4             325.0\n",
       "         5             577.0\n",
       "         7             601.0\n",
       "         9             337.0\n",
       "         12            277.0\n",
       "Name: monthly_revenue, dtype: float64"
      ]
     },
     "execution_count": 47,
     "metadata": {},
     "output_type": "execute_result"
    }
   ],
   "source": [
    "#Добавим столбец в датафрейм\n",
    "df2['monthly_revenue'] = df2.apply(revenue, axis=1)\n",
    "df2['monthly_revenue'].head(20)"
   ]
  },
  {
   "cell_type": "markdown",
   "id": "ee7583aa",
   "metadata": {},
   "source": [
    "<div style=\"border:solid Blue 2px; padding: 20px\">\n",
    "\n",
    "**Вывод:**\n",
    "- Создали новый датафрейм с суммарным расстояние, количеством поездок и суммарным временем для каждого пользователя за каждый месяц;\n",
    "- Добавили в датафрейм столбец с помесячной выручкой, которую принес каждый пользователь."
   ]
  },
  {
   "cell_type": "markdown",
   "id": "450bfc2f",
   "metadata": {},
   "source": [
    "## **Проверка гипотез**"
   ]
  },
  {
   "cell_type": "markdown",
   "id": "6763d202",
   "metadata": {},
   "source": [
    "### Тратят ли пользователи с подпиской больше времени на поездки?"
   ]
  },
  {
   "cell_type": "markdown",
   "id": "7c726611",
   "metadata": {},
   "source": [
    "**Гипотеза:**\n",
    "\n",
    "**H_0:** Время на поездки пользователей Ultra = Время на поездки пользователей Free\n",
    "\n",
    "**H_1:** Время на поездки пользователей Ultra > Время на поездки пользователей Free"
   ]
  },
  {
   "cell_type": "code",
   "execution_count": 48,
   "id": "0d2f456b",
   "metadata": {},
   "outputs": [
    {
     "name": "stdout",
     "output_type": "stream",
     "text": [
      "p-значение: 1.2804098316645618e-34\n",
      "Отвергаем нулевую гипотезу\n"
     ]
    }
   ],
   "source": [
    "#Проверим гипотезу\n",
    "alpha = 0.05 #указываем уровень статистической значимости\n",
    "results = st.ttest_ind(df_ultra['duration'],\n",
    "                       df_free['duration'],\n",
    "                       alternative = 'greater')\n",
    "\n",
    "print('p-значение:', results.pvalue)\n",
    "\n",
    "if results.pvalue < alpha:\n",
    "    print('Отвергаем нулевую гипотезу')\n",
    "else:\n",
    "    print('Не получилось отвергнуть нулевую гипотезу')"
   ]
  },
  {
   "cell_type": "code",
   "execution_count": 49,
   "id": "1fe1e494",
   "metadata": {},
   "outputs": [
    {
     "data": {
      "text/plain": [
       "<function matplotlib.pyplot.show(close=None, block=None)>"
      ]
     },
     "execution_count": 49,
     "metadata": {},
     "output_type": "execute_result"
    },
    {
     "data": {
      "image/png": "[encoded data removed]",
      "text/plain": [
       "<Figure size 720x360 with 1 Axes>"
      ]
     },
     "metadata": {
      "needs_background": "light"
     },
     "output_type": "display_data"
    }
   ],
   "source": [
    "#Посмотрим на графике\n",
    "(\n",
    "    df\n",
    "    .pivot_table(index = 'date_month', values = 'duration', columns = 'subscription_type')\n",
    "    .plot(title = 'Тратят ли пользователи с подпиской больше времени на поездки?', kind = 'line', grid = True, figsize = (10,5))\n",
    ")\n",
    "plt.xlabel('Месяц')\n",
    "plt.ylabel('Продолжительность поездки')\n",
    "plt.show"
   ]
  },
  {
   "cell_type": "markdown",
   "id": "2bdd6f2d",
   "metadata": {},
   "source": [
    "**Вывод:** Да, пользователи с подпиской тратят больше времени на поездки"
   ]
  },
  {
   "cell_type": "markdown",
   "id": "45b35d73",
   "metadata": {},
   "source": [
    "### Можно ли сказать, что среднее расстояние, которое проезжают пользователи с подпиской за одну поездку, не превышает 3130 метров?"
   ]
  },
  {
   "cell_type": "markdown",
   "id": "fab1466a",
   "metadata": {},
   "source": [
    "**Гипотеза:**\n",
    "\n",
    "**H_0:** Среднее расстояние пользователей с подпиской за одную поездку = 3130\n",
    "\n",
    "**H_1:** Среднее расстояние пользователей с подпиской за одную поездку > 3130"
   ]
  },
  {
   "cell_type": "code",
   "execution_count": 50,
   "id": "69aa9944",
   "metadata": {},
   "outputs": [
    {
     "name": "stdout",
     "output_type": "stream",
     "text": [
      "p-значение: 0.9195368847849785\n",
      "Не получилось отвергнуть нулевую гипотезу\n"
     ]
    }
   ],
   "source": [
    "#Проверим гипотезу\n",
    "\n",
    "interested_value = 3130\n",
    "\n",
    "alpha = 0.05\n",
    "\n",
    "results = st.ttest_1samp(df_ultra['distance'],\n",
    "                         interested_value,\n",
    "                         alternative = 'greater')\n",
    "print('p-значение:', results.pvalue)\n",
    "\n",
    "if results.pvalue < alpha:\n",
    "    print('Отвергаем нулевую гипотезу')\n",
    "else:\n",
    "    print('Не получилось отвергнуть нулевую гипотезу')"
   ]
  },
  {
   "cell_type": "code",
   "execution_count": 51,
   "id": "ddd7b68c",
   "metadata": {},
   "outputs": [
    {
     "data": {
      "text/plain": [
       "<function matplotlib.pyplot.show(close=None, block=None)>"
      ]
     },
     "execution_count": 51,
     "metadata": {},
     "output_type": "execute_result"
    },
    {
     "data": {
      "image/png": "[encoded data removed]",
      "text/plain": [
       "<Figure size 720x360 with 1 Axes>"
      ]
     },
     "metadata": {
      "needs_background": "light"
     },
     "output_type": "display_data"
    }
   ],
   "source": [
    "#Посмотрим на графике\n",
    "(\n",
    "    df_ultra\n",
    "    .pivot_table(index = 'date_month', values = 'distance', columns = 'subscription_type')\n",
    "    .plot(title = 'Среднее расстояние', kind = 'line', grid = True, figsize = (10,5))\n",
    ")\n",
    "plt.xlabel('Месяц')\n",
    "plt.ylabel('Метры')\n",
    "plt.show"
   ]
  },
  {
   "cell_type": "markdown",
   "id": "0276af19",
   "metadata": {},
   "source": [
    "**Вывод:** Можно, ведь не получилось отвергнуть нулевую гипотезу"
   ]
  },
  {
   "cell_type": "markdown",
   "id": "3daeb15f",
   "metadata": {},
   "source": [
    "###  Будет ли помесячная выручка от пользователей с подпиской по месяцам выше, чем выручка от пользователей без подписки?"
   ]
  },
  {
   "cell_type": "code",
   "execution_count": 52,
   "id": "29bd2ab0",
   "metadata": {},
   "outputs": [],
   "source": [
    "#Создадим отдельные переменные для пользователей с подпиской и без\n",
    "ultra_month = df2.loc[df2.subscription_type == 'ultra', 'monthly_revenue']\n",
    "free_month = df2.loc[df2.subscription_type == 'free', 'monthly_revenue']"
   ]
  },
  {
   "cell_type": "code",
   "execution_count": 53,
   "id": "2fd0e568",
   "metadata": {},
   "outputs": [
    {
     "name": "stdout",
     "output_type": "stream",
     "text": [
      "p-значение: 1.8850394384715216e-31\n",
      "Отвергаем нулевую гипотезу\n"
     ]
    }
   ],
   "source": [
    "#Проверим гипотезу\n",
    "#H_0: выручка ultra = выручка free\n",
    "#H_1: выручка ultra > выручка free\n",
    "\n",
    "alpha = 0.05 #указываем уровень статистической значимости\n",
    "\n",
    "results = st.ttest_ind(ultra_month,\n",
    "                       free_month,\n",
    "                       alternative = 'greater')\n",
    "\n",
    "print('p-значение:', results.pvalue)\n",
    "\n",
    "if results.pvalue < alpha:\n",
    "    print('Отвергаем нулевую гипотезу')\n",
    "else:\n",
    "    print('Не получилось отвергнуть нулевую гипотезу')"
   ]
  },
  {
   "cell_type": "markdown",
   "id": "d87c1039",
   "metadata": {},
   "source": [
    "**Вывод:** Да, помесячная выручка от пользователей с подпиской по месяцам выше, чем выручка от пользователей без подписки"
   ]
  },
  {
   "cell_type": "markdown",
   "id": "328f2e4d",
   "metadata": {},
   "source": [
    "### Какой тест вам понадобился бы для проверки этой гипотезы?"
   ]
  },
  {
   "cell_type": "markdown",
   "id": "6433bd92",
   "metadata": {},
   "source": [
    "**Вывод:** В данном случае более правильным будет использовать гипотезу о равенстве средних для зависимых выборок, где:\n",
    "- H_0: обращения до обновления = обращения после обновления\n",
    "- H_1: обращения до обновления > обращения после обновления\n",
    "- Будем использовать метод scipy.stats.ttest_rel()"
   ]
  },
  {
   "cell_type": "markdown",
   "id": "ba1b23da",
   "metadata": {},
   "source": [
    "<div style=\"border:solid Blue 2px; padding: 20px\">\n",
    "\n",
    "**Вывод:**\n",
    "1. **Тратят ли пользователи с подпиской больше времени на поездки?** - Да, пользователи с подпиской тратят больше времени на поездки;\n",
    "2. **Можно ли сказать, что среднее расстояние, которое проезжают пользователи с подпиской за одну поездку, не превышает 3130 метров?** - Можно, ведь не получилось отвергнуть нулевую гипотезу;\n",
    "3. **Будет ли помесячная выручка от пользователей с подпиской по месяцам выше, чем выручка от пользователей без подписки?** - Да, помесячная выручка от пользователей с подпиской по месяцам выше, чем выручка от пользователей без подписки\n",
    "4. **Какой тест вам понадобился бы для проверки этой гипотезы?** - В данном случае более правильным будет использовать гипотезу о равенстве средних для зависимых выборок, где: \n",
    "- H_0: обращения до обновления = обращения после обновления\n",
    "- H_1: обращения до обновления > обращения после обновления\n",
    "- Будем использовать метод scipy.stats.ttest_rel()"
   ]
  },
  {
   "cell_type": "markdown",
   "id": "5c31d878",
   "metadata": {},
   "source": [
    "## **Общий вывод**"
   ]
  },
  {
   "cell_type": "markdown",
   "id": "481f4abe",
   "metadata": {},
   "source": [
    "<div style=\"border:solid Blue 2px; padding: 20px\">\n",
    "\n",
    "**1. Загрузили и ознакомились с данными, а также провели предобработку данных:**\n",
    "- Привели столбец \"date\" к правильному типу\n",
    "- Создали новый столбец с номером месяца\n",
    "- Пропущенных значений не обнаружили\n",
    "- Избавились от дубликатов в \"users_go\"\n",
    "\n",
    "**2. Провели исследовательский анализ данных:**\n",
    "\n",
    "**Частота встречаемости городов:**\n",
    "- Самым часто встречающимся городом является Пятигорск - 14%, наименее же встречаемый город Москва - 11%. Могу предположить, что связано это с размерами городов: Москва намного больше Пятигорска и в большинстве случаев жители преподчитают пользоваться услугами такси, нежели самокатами.\n",
    "\n",
    "**Соотношение пользователей с подпиской и без:**\n",
    "- Пользователей с подпиской меньше(46%), чем без подписки(54%);\n",
    "\n",
    "**Возраст пользователей:**\n",
    "- Возраст младшего пользователя - 12;\n",
    "- Возраст старшего пользователя - 43;\n",
    "- Средний возраст - 25. В общем и целом же от 22 до 27 лет;\n",
    "\n",
    "**Расстояние, которое пользователь преодолел за одну поездку:**\n",
    "- Самая короткая поездка - 0.86 метра\n",
    "- Самая длинная поездка - 7211.01 метров\n",
    "- Среднее расстояние - 3070.66 метров\n",
    "\n",
    "**Продолжительность поездок:**\n",
    "- Самая быстрая поездка - 0.5 минуты. Тут есть несколько причин, почему так может быть: Пользователь взял самокат, необратив внимание на зарядку, либо же какая-то неисправность самого самоката(не работают тормоза и т.д.)\n",
    "- Самая долгая поездка - 40.82 минут\n",
    "- Среднее время поездки - 17.81 минут. В общем и целом же от 15 до 21 минуты\n",
    "\n",
    "**3. Объединили данные и визуализировали информацию:**\n",
    "\n",
    "- Создали общий датафрейм - **df**\n",
    "- Создали отдельные датафреймы для пользователей с подпиской - **df_ultra** и без подписки - **df_free**\n",
    "\n",
    "**Пользователи без подписки:**\n",
    "- Самая короткая поездка - 0.86 метра\n",
    "- Самая длинная поездка - 7211.01 метров\n",
    "- Средняя длина поездки - 3045.5 метров\n",
    "\n",
    "**Пользователи с подпиской:**\n",
    "- Самая короткая поездка - 244.21 метра\n",
    "- Самая длинная поездка - 5699.77 метров\n",
    "- Средняя длина поездки - 3115.45 метров\n",
    "\n",
    "В общем и целом, можно заметить, что пользователи без подписки совершают длинные поездки чаще, чем пользователи с подпиской, однако средняя длина все же больше и пользователей с подпиской\n",
    "\n",
    "**4. Подсчитали выручку:**\n",
    "\n",
    "- Создали новый датафрейм с суммарным расстояние, количеством поездок и суммарным временем для каждого пользователя за каждый месяц;\n",
    "- Добавили в датафрейм столбец с помесячной выручкой, которую принес каждый пользователь.\n",
    "\n",
    "**5. Проверили гипотезы:**\n",
    "\n",
    "1. **Тратят ли пользователи с подпиской больше времени на поездки?** - Да, пользователи с подпиской тратят больше времени на поездки;\n",
    "2. **Можно ли сказать, что среднее расстояние, которое проезжают пользователи с подпиской за одну поездку, не превышает 3130 метров?** - Можно, ведь не полуичлось отвергнуть нулевую гипотезу;\n",
    "3. **Будет ли помесячная выручка от пользователей с подпиской по месяцам выше, чем выручка от пользователей без подписки?** - Да, помесячная выручка от пользователей с подпиской по месяцам выше, чем выручка от пользователей без подписки\n",
    "4. **Какой тест вам понадобился бы для проверки этой гипотезы?** - В данном случае более правильным будет использовать гипотезу о равенстве средних для зависимых выборок, где: \n",
    "- H_0: обращения до обновления = обращения после обновления\n",
    "- H_1: обращения до обновления > обращения после обновления\n",
    "- Будем использовать метод scipy.stats.ttest_rel()\n",
    "    "
   ]
  }
 ],
 "metadata": {
  "ExecuteTimeLog": [
   {
    "duration": 1049,
    "start_time": "2023-09-07T18:31:21.597Z"
   },
   {
    "duration": 157,
    "start_time": "2023-09-07T18:31:22.648Z"
   },
   {
    "duration": 0,
    "start_time": "2023-09-07T18:31:22.808Z"
   },
   {
    "duration": 0,
    "start_time": "2023-09-07T18:31:22.809Z"
   },
   {
    "duration": 0,
    "start_time": "2023-09-07T18:31:22.810Z"
   },
   {
    "duration": 0,
    "start_time": "2023-09-07T18:31:22.812Z"
   },
   {
    "duration": 0,
    "start_time": "2023-09-07T18:31:22.813Z"
   },
   {
    "duration": 0,
    "start_time": "2023-09-07T18:31:22.814Z"
   },
   {
    "duration": 0,
    "start_time": "2023-09-07T18:31:22.815Z"
   },
   {
    "duration": 0,
    "start_time": "2023-09-07T18:31:22.816Z"
   },
   {
    "duration": 0,
    "start_time": "2023-09-07T18:31:22.818Z"
   },
   {
    "duration": 0,
    "start_time": "2023-09-07T18:31:22.819Z"
   },
   {
    "duration": 0,
    "start_time": "2023-09-07T18:31:22.821Z"
   },
   {
    "duration": 0,
    "start_time": "2023-09-07T18:31:22.822Z"
   },
   {
    "duration": 0,
    "start_time": "2023-09-07T18:31:22.844Z"
   },
   {
    "duration": 0,
    "start_time": "2023-09-07T18:31:22.845Z"
   },
   {
    "duration": 0,
    "start_time": "2023-09-07T18:31:22.846Z"
   },
   {
    "duration": 0,
    "start_time": "2023-09-07T18:31:22.847Z"
   },
   {
    "duration": 0,
    "start_time": "2023-09-07T18:31:22.848Z"
   },
   {
    "duration": 0,
    "start_time": "2023-09-07T18:31:22.849Z"
   },
   {
    "duration": 0,
    "start_time": "2023-09-07T18:31:22.850Z"
   },
   {
    "duration": 0,
    "start_time": "2023-09-07T18:31:22.851Z"
   },
   {
    "duration": 0,
    "start_time": "2023-09-07T18:31:22.852Z"
   },
   {
    "duration": 0,
    "start_time": "2023-09-07T18:31:22.853Z"
   },
   {
    "duration": 0,
    "start_time": "2023-09-07T18:31:22.854Z"
   },
   {
    "duration": 0,
    "start_time": "2023-09-07T18:31:22.855Z"
   },
   {
    "duration": 0,
    "start_time": "2023-09-07T18:31:22.855Z"
   },
   {
    "duration": 0,
    "start_time": "2023-09-07T18:31:22.857Z"
   },
   {
    "duration": 0,
    "start_time": "2023-09-07T18:31:22.858Z"
   },
   {
    "duration": 1,
    "start_time": "2023-09-07T18:31:22.858Z"
   },
   {
    "duration": 0,
    "start_time": "2023-09-07T18:31:22.859Z"
   },
   {
    "duration": 0,
    "start_time": "2023-09-07T18:31:22.861Z"
   },
   {
    "duration": 0,
    "start_time": "2023-09-07T18:31:22.861Z"
   },
   {
    "duration": 0,
    "start_time": "2023-09-07T18:31:22.862Z"
   },
   {
    "duration": 0,
    "start_time": "2023-09-07T18:31:22.863Z"
   },
   {
    "duration": 0,
    "start_time": "2023-09-07T18:31:22.864Z"
   },
   {
    "duration": 0,
    "start_time": "2023-09-07T18:31:22.865Z"
   },
   {
    "duration": 0,
    "start_time": "2023-09-07T18:31:22.866Z"
   },
   {
    "duration": 0,
    "start_time": "2023-09-07T18:31:22.867Z"
   },
   {
    "duration": 0,
    "start_time": "2023-09-07T18:31:22.868Z"
   },
   {
    "duration": 0,
    "start_time": "2023-09-07T18:31:22.868Z"
   },
   {
    "duration": 0,
    "start_time": "2023-09-07T18:31:22.869Z"
   },
   {
    "duration": 0,
    "start_time": "2023-09-07T18:31:22.870Z"
   },
   {
    "duration": 0,
    "start_time": "2023-09-07T18:31:22.871Z"
   },
   {
    "duration": 0,
    "start_time": "2023-09-07T18:31:22.872Z"
   },
   {
    "duration": 0,
    "start_time": "2023-09-07T18:31:22.873Z"
   },
   {
    "duration": 0,
    "start_time": "2023-09-07T18:31:22.874Z"
   },
   {
    "duration": 0,
    "start_time": "2023-09-07T18:31:22.875Z"
   },
   {
    "duration": 0,
    "start_time": "2023-09-07T18:31:22.876Z"
   },
   {
    "duration": 0,
    "start_time": "2023-09-07T18:31:22.877Z"
   },
   {
    "duration": 0,
    "start_time": "2023-09-07T18:31:22.878Z"
   },
   {
    "duration": 0,
    "start_time": "2023-09-07T18:31:22.879Z"
   },
   {
    "duration": 0,
    "start_time": "2023-09-07T18:31:22.880Z"
   },
   {
    "duration": 98,
    "start_time": "2023-09-07T18:34:32.894Z"
   },
   {
    "duration": 1064,
    "start_time": "2023-09-07T18:34:38.693Z"
   },
   {
    "duration": 98,
    "start_time": "2023-09-07T18:34:39.759Z"
   },
   {
    "duration": 116,
    "start_time": "2023-09-07T18:34:39.859Z"
   },
   {
    "duration": 78,
    "start_time": "2023-09-07T18:34:39.977Z"
   },
   {
    "duration": 7,
    "start_time": "2023-09-07T18:34:40.057Z"
   },
   {
    "duration": 28,
    "start_time": "2023-09-07T18:34:40.066Z"
   },
   {
    "duration": 6,
    "start_time": "2023-09-07T18:34:40.097Z"
   },
   {
    "duration": 18,
    "start_time": "2023-09-07T18:34:40.105Z"
   },
   {
    "duration": 31,
    "start_time": "2023-09-07T18:34:40.125Z"
   },
   {
    "duration": 8,
    "start_time": "2023-09-07T18:34:40.159Z"
   },
   {
    "duration": 24,
    "start_time": "2023-09-07T18:34:40.169Z"
   },
   {
    "duration": 31,
    "start_time": "2023-09-07T18:34:40.195Z"
   },
   {
    "duration": 6,
    "start_time": "2023-09-07T18:34:40.228Z"
   },
   {
    "duration": 12,
    "start_time": "2023-09-07T18:34:40.235Z"
   },
   {
    "duration": 17,
    "start_time": "2023-09-07T18:34:40.249Z"
   },
   {
    "duration": 18,
    "start_time": "2023-09-07T18:34:40.268Z"
   },
   {
    "duration": 169,
    "start_time": "2023-09-07T18:34:40.288Z"
   },
   {
    "duration": 6,
    "start_time": "2023-09-07T18:34:40.458Z"
   },
   {
    "duration": 14,
    "start_time": "2023-09-07T18:34:40.466Z"
   },
   {
    "duration": 93,
    "start_time": "2023-09-07T18:34:40.482Z"
   },
   {
    "duration": 5,
    "start_time": "2023-09-07T18:34:40.577Z"
   },
   {
    "duration": 27,
    "start_time": "2023-09-07T18:34:40.584Z"
   },
   {
    "duration": 11,
    "start_time": "2023-09-07T18:34:40.613Z"
   },
   {
    "duration": 135,
    "start_time": "2023-09-07T18:34:40.626Z"
   },
   {
    "duration": 5,
    "start_time": "2023-09-07T18:34:40.763Z"
   },
   {
    "duration": 32,
    "start_time": "2023-09-07T18:34:40.770Z"
   },
   {
    "duration": 55,
    "start_time": "2023-09-07T18:34:40.804Z"
   },
   {
    "duration": 236,
    "start_time": "2023-09-07T18:34:40.866Z"
   },
   {
    "duration": 5,
    "start_time": "2023-09-07T18:34:41.104Z"
   },
   {
    "duration": 12,
    "start_time": "2023-09-07T18:34:41.111Z"
   },
   {
    "duration": 8,
    "start_time": "2023-09-07T18:34:41.124Z"
   },
   {
    "duration": 204,
    "start_time": "2023-09-07T18:34:41.145Z"
   },
   {
    "duration": 30,
    "start_time": "2023-09-07T18:34:41.351Z"
   },
   {
    "duration": 20,
    "start_time": "2023-09-07T18:34:41.382Z"
   },
   {
    "duration": 26,
    "start_time": "2023-09-07T18:34:41.403Z"
   },
   {
    "duration": 10,
    "start_time": "2023-09-07T18:34:41.445Z"
   },
   {
    "duration": 264,
    "start_time": "2023-09-07T18:34:41.456Z"
   },
   {
    "duration": 258,
    "start_time": "2023-09-07T18:34:41.722Z"
   },
   {
    "duration": 9,
    "start_time": "2023-09-07T18:34:41.982Z"
   },
   {
    "duration": 211,
    "start_time": "2023-09-07T18:34:41.992Z"
   },
   {
    "duration": 220,
    "start_time": "2023-09-07T18:34:42.204Z"
   },
   {
    "duration": 905,
    "start_time": "2023-09-07T18:34:42.425Z"
   },
   {
    "duration": 4,
    "start_time": "2023-09-07T18:34:43.331Z"
   },
   {
    "duration": 11,
    "start_time": "2023-09-07T18:34:43.337Z"
   },
   {
    "duration": 14,
    "start_time": "2023-09-07T18:34:43.350Z"
   },
   {
    "duration": 3,
    "start_time": "2023-09-07T18:34:43.367Z"
   },
   {
    "duration": 146,
    "start_time": "2023-09-07T18:34:43.372Z"
   },
   {
    "duration": 5,
    "start_time": "2023-09-07T18:34:43.520Z"
   },
   {
    "duration": 207,
    "start_time": "2023-09-07T18:34:43.526Z"
   },
   {
    "duration": 11,
    "start_time": "2023-09-07T18:34:43.735Z"
   },
   {
    "duration": 178,
    "start_time": "2023-09-07T18:34:43.747Z"
   },
   {
    "duration": 18,
    "start_time": "2023-09-07T18:34:43.926Z"
   },
   {
    "duration": 5,
    "start_time": "2023-09-07T18:34:43.946Z"
   },
   {
    "duration": 7,
    "start_time": "2023-09-07T19:05:52.309Z"
   },
   {
    "duration": 1193,
    "start_time": "2023-09-07T19:10:44.758Z"
   },
   {
    "duration": 151,
    "start_time": "2023-09-07T19:10:45.953Z"
   },
   {
    "duration": 90,
    "start_time": "2023-09-07T19:10:46.105Z"
   },
   {
    "duration": 85,
    "start_time": "2023-09-07T19:10:46.197Z"
   },
   {
    "duration": 8,
    "start_time": "2023-09-07T19:10:46.284Z"
   },
   {
    "duration": 20,
    "start_time": "2023-09-07T19:10:46.293Z"
   },
   {
    "duration": 5,
    "start_time": "2023-09-07T19:10:46.314Z"
   },
   {
    "duration": 32,
    "start_time": "2023-09-07T19:10:46.321Z"
   },
   {
    "duration": 19,
    "start_time": "2023-09-07T19:10:46.354Z"
   },
   {
    "duration": 7,
    "start_time": "2023-09-07T19:10:46.376Z"
   },
   {
    "duration": 5,
    "start_time": "2023-09-07T19:10:46.384Z"
   },
   {
    "duration": 12,
    "start_time": "2023-09-07T19:10:46.390Z"
   },
   {
    "duration": 6,
    "start_time": "2023-09-07T19:10:46.403Z"
   },
   {
    "duration": 8,
    "start_time": "2023-09-07T19:10:46.411Z"
   },
   {
    "duration": 24,
    "start_time": "2023-09-07T19:10:46.421Z"
   },
   {
    "duration": 10,
    "start_time": "2023-09-07T19:10:46.447Z"
   },
   {
    "duration": 187,
    "start_time": "2023-09-07T19:10:46.459Z"
   },
   {
    "duration": 5,
    "start_time": "2023-09-07T19:10:46.648Z"
   },
   {
    "duration": 34,
    "start_time": "2023-09-07T19:10:46.654Z"
   },
   {
    "duration": 94,
    "start_time": "2023-09-07T19:10:46.690Z"
   },
   {
    "duration": 6,
    "start_time": "2023-09-07T19:10:46.786Z"
   },
   {
    "duration": 11,
    "start_time": "2023-09-07T19:10:46.794Z"
   },
   {
    "duration": 6,
    "start_time": "2023-09-07T19:10:46.807Z"
   },
   {
    "duration": 160,
    "start_time": "2023-09-07T19:10:46.816Z"
   },
   {
    "duration": 5,
    "start_time": "2023-09-07T19:10:46.978Z"
   },
   {
    "duration": 7,
    "start_time": "2023-09-07T19:10:46.985Z"
   },
   {
    "duration": 6,
    "start_time": "2023-09-07T19:10:46.994Z"
   },
   {
    "duration": 252,
    "start_time": "2023-09-07T19:10:47.003Z"
   },
   {
    "duration": 6,
    "start_time": "2023-09-07T19:10:47.256Z"
   },
   {
    "duration": 6,
    "start_time": "2023-09-07T19:10:47.263Z"
   },
   {
    "duration": 5,
    "start_time": "2023-09-07T19:10:47.271Z"
   },
   {
    "duration": 250,
    "start_time": "2023-09-07T19:10:47.278Z"
   },
   {
    "duration": 41,
    "start_time": "2023-09-07T19:10:47.530Z"
   },
   {
    "duration": 23,
    "start_time": "2023-09-07T19:10:47.573Z"
   },
   {
    "duration": 20,
    "start_time": "2023-09-07T19:10:47.598Z"
   },
   {
    "duration": 32,
    "start_time": "2023-09-07T19:10:47.620Z"
   },
   {
    "duration": 245,
    "start_time": "2023-09-07T19:10:47.653Z"
   },
   {
    "duration": 299,
    "start_time": "2023-09-07T19:10:47.900Z"
   },
   {
    "duration": 10,
    "start_time": "2023-09-07T19:10:48.201Z"
   },
   {
    "duration": 233,
    "start_time": "2023-09-07T19:10:48.213Z"
   },
   {
    "duration": 232,
    "start_time": "2023-09-07T19:10:48.448Z"
   },
   {
    "duration": 884,
    "start_time": "2023-09-07T19:10:48.681Z"
   },
   {
    "duration": 4,
    "start_time": "2023-09-07T19:10:49.566Z"
   },
   {
    "duration": 16,
    "start_time": "2023-09-07T19:10:49.571Z"
   },
   {
    "duration": 28,
    "start_time": "2023-09-07T19:10:49.589Z"
   },
   {
    "duration": 3,
    "start_time": "2023-09-07T19:10:49.619Z"
   },
   {
    "duration": 130,
    "start_time": "2023-09-07T19:10:49.623Z"
   },
   {
    "duration": 5,
    "start_time": "2023-09-07T19:10:49.755Z"
   },
   {
    "duration": 188,
    "start_time": "2023-09-07T19:10:49.761Z"
   },
   {
    "duration": 5,
    "start_time": "2023-09-07T19:10:49.950Z"
   },
   {
    "duration": 186,
    "start_time": "2023-09-07T19:10:49.957Z"
   },
   {
    "duration": 6,
    "start_time": "2023-09-07T19:10:50.145Z"
   },
   {
    "duration": 5,
    "start_time": "2023-09-07T19:10:50.153Z"
   },
   {
    "duration": 54,
    "start_time": "2023-09-07T22:26:32.319Z"
   },
   {
    "duration": 1503,
    "start_time": "2023-09-07T22:26:51.421Z"
   },
   {
    "duration": 156,
    "start_time": "2023-09-07T22:26:52.929Z"
   },
   {
    "duration": 148,
    "start_time": "2023-09-07T22:26:53.087Z"
   },
   {
    "duration": 118,
    "start_time": "2023-09-07T22:26:53.236Z"
   },
   {
    "duration": 7,
    "start_time": "2023-09-07T22:26:53.356Z"
   },
   {
    "duration": 22,
    "start_time": "2023-09-07T22:26:53.364Z"
   },
   {
    "duration": 5,
    "start_time": "2023-09-07T22:26:53.388Z"
   },
   {
    "duration": 21,
    "start_time": "2023-09-07T22:26:53.394Z"
   },
   {
    "duration": 19,
    "start_time": "2023-09-07T22:26:53.422Z"
   },
   {
    "duration": 8,
    "start_time": "2023-09-07T22:26:53.443Z"
   },
   {
    "duration": 6,
    "start_time": "2023-09-07T22:26:53.453Z"
   },
   {
    "duration": 13,
    "start_time": "2023-09-07T22:26:53.461Z"
   },
   {
    "duration": 5,
    "start_time": "2023-09-07T22:26:53.477Z"
   },
   {
    "duration": 21,
    "start_time": "2023-09-07T22:26:53.483Z"
   },
   {
    "duration": 26,
    "start_time": "2023-09-07T22:26:53.506Z"
   },
   {
    "duration": 13,
    "start_time": "2023-09-07T22:26:53.533Z"
   },
   {
    "duration": 190,
    "start_time": "2023-09-07T22:26:53.548Z"
   },
   {
    "duration": 6,
    "start_time": "2023-09-07T22:26:53.740Z"
   },
   {
    "duration": 13,
    "start_time": "2023-09-07T22:26:53.747Z"
   },
   {
    "duration": 93,
    "start_time": "2023-09-07T22:26:53.761Z"
   },
   {
    "duration": 4,
    "start_time": "2023-09-07T22:26:53.855Z"
   },
   {
    "duration": 11,
    "start_time": "2023-09-07T22:26:53.861Z"
   },
   {
    "duration": 11,
    "start_time": "2023-09-07T22:26:53.874Z"
   },
   {
    "duration": 296,
    "start_time": "2023-09-07T22:26:53.887Z"
   },
   {
    "duration": 8,
    "start_time": "2023-09-07T22:26:54.185Z"
   },
   {
    "duration": 128,
    "start_time": "2023-09-07T22:26:54.205Z"
   },
   {
    "duration": 10,
    "start_time": "2023-09-07T22:26:54.335Z"
   },
   {
    "duration": 293,
    "start_time": "2023-09-07T22:26:54.349Z"
   },
   {
    "duration": 7,
    "start_time": "2023-09-07T22:26:54.645Z"
   },
   {
    "duration": 7,
    "start_time": "2023-09-07T22:26:54.654Z"
   },
   {
    "duration": 13,
    "start_time": "2023-09-07T22:26:54.664Z"
   },
   {
    "duration": 309,
    "start_time": "2023-09-07T22:26:54.680Z"
   },
   {
    "duration": 48,
    "start_time": "2023-09-07T22:26:54.990Z"
   },
   {
    "duration": 21,
    "start_time": "2023-09-07T22:26:55.040Z"
   },
   {
    "duration": 20,
    "start_time": "2023-09-07T22:26:55.062Z"
   },
   {
    "duration": 23,
    "start_time": "2023-09-07T22:26:55.084Z"
   },
   {
    "duration": 235,
    "start_time": "2023-09-07T22:26:55.115Z"
   },
   {
    "duration": 379,
    "start_time": "2023-09-07T22:26:55.352Z"
   },
   {
    "duration": 10,
    "start_time": "2023-09-07T22:26:55.732Z"
   },
   {
    "duration": 309,
    "start_time": "2023-09-07T22:26:55.743Z"
   },
   {
    "duration": 240,
    "start_time": "2023-09-07T22:26:56.054Z"
   },
   {
    "duration": 966,
    "start_time": "2023-09-07T22:26:56.296Z"
   },
   {
    "duration": 4,
    "start_time": "2023-09-07T22:26:57.264Z"
   },
   {
    "duration": 7,
    "start_time": "2023-09-07T22:26:57.270Z"
   },
   {
    "duration": 44,
    "start_time": "2023-09-07T22:26:57.279Z"
   },
   {
    "duration": 4,
    "start_time": "2023-09-07T22:26:57.326Z"
   },
   {
    "duration": 152,
    "start_time": "2023-09-07T22:26:57.332Z"
   },
   {
    "duration": 5,
    "start_time": "2023-09-07T22:26:57.486Z"
   },
   {
    "duration": 233,
    "start_time": "2023-09-07T22:26:57.493Z"
   },
   {
    "duration": 5,
    "start_time": "2023-09-07T22:26:57.730Z"
   },
   {
    "duration": 340,
    "start_time": "2023-09-07T22:26:57.737Z"
   },
   {
    "duration": 7,
    "start_time": "2023-09-07T22:26:58.079Z"
   },
   {
    "duration": 28,
    "start_time": "2023-09-07T22:26:58.088Z"
   },
   {
    "duration": 151,
    "start_time": "2023-09-07T22:28:55.581Z"
   },
   {
    "duration": 69,
    "start_time": "2023-09-07T22:32:45.428Z"
   },
   {
    "duration": 122,
    "start_time": "2023-09-07T22:35:22.791Z"
   },
   {
    "duration": 52,
    "start_time": "2023-09-08T09:06:56.079Z"
   },
   {
    "duration": 1473,
    "start_time": "2023-09-08T09:07:02.396Z"
   },
   {
    "duration": 140,
    "start_time": "2023-09-08T09:07:03.871Z"
   },
   {
    "duration": 132,
    "start_time": "2023-09-08T09:07:04.012Z"
   },
   {
    "duration": 106,
    "start_time": "2023-09-08T09:07:04.146Z"
   },
   {
    "duration": 7,
    "start_time": "2023-09-08T09:07:04.254Z"
   },
   {
    "duration": 26,
    "start_time": "2023-09-08T09:07:04.262Z"
   },
   {
    "duration": 4,
    "start_time": "2023-09-08T09:07:04.290Z"
   },
   {
    "duration": 9,
    "start_time": "2023-09-08T09:07:04.296Z"
   },
   {
    "duration": 20,
    "start_time": "2023-09-08T09:07:04.306Z"
   },
   {
    "duration": 91,
    "start_time": "2023-09-08T09:07:04.328Z"
   },
   {
    "duration": 24,
    "start_time": "2023-09-08T09:07:04.420Z"
   },
   {
    "duration": 18,
    "start_time": "2023-09-08T09:07:04.446Z"
   },
   {
    "duration": 10,
    "start_time": "2023-09-08T09:07:04.466Z"
   },
   {
    "duration": 9,
    "start_time": "2023-09-08T09:07:04.478Z"
   },
   {
    "duration": 13,
    "start_time": "2023-09-08T09:07:04.488Z"
   },
   {
    "duration": 11,
    "start_time": "2023-09-08T09:07:04.503Z"
   },
   {
    "duration": 178,
    "start_time": "2023-09-08T09:07:04.516Z"
   },
   {
    "duration": 13,
    "start_time": "2023-09-08T09:07:04.696Z"
   },
   {
    "duration": 89,
    "start_time": "2023-09-08T09:07:04.712Z"
   },
   {
    "duration": 115,
    "start_time": "2023-09-08T09:07:04.802Z"
   },
   {
    "duration": 4,
    "start_time": "2023-09-08T09:07:04.919Z"
   },
   {
    "duration": 41,
    "start_time": "2023-09-08T09:07:04.925Z"
   },
   {
    "duration": 21,
    "start_time": "2023-09-08T09:07:04.968Z"
   },
   {
    "duration": 194,
    "start_time": "2023-09-08T09:07:04.990Z"
   },
   {
    "duration": 6,
    "start_time": "2023-09-08T09:07:05.186Z"
   },
   {
    "duration": 16,
    "start_time": "2023-09-08T09:07:05.194Z"
   },
   {
    "duration": 8,
    "start_time": "2023-09-08T09:07:05.211Z"
   },
   {
    "duration": 281,
    "start_time": "2023-09-08T09:07:05.223Z"
   },
   {
    "duration": 8,
    "start_time": "2023-09-08T09:07:05.508Z"
   },
   {
    "duration": 25,
    "start_time": "2023-09-08T09:07:05.518Z"
   },
   {
    "duration": 24,
    "start_time": "2023-09-08T09:07:05.545Z"
   },
   {
    "duration": 227,
    "start_time": "2023-09-08T09:07:05.571Z"
   },
   {
    "duration": 39,
    "start_time": "2023-09-08T09:07:05.800Z"
   },
   {
    "duration": 23,
    "start_time": "2023-09-08T09:07:05.840Z"
   },
   {
    "duration": 20,
    "start_time": "2023-09-08T09:07:05.865Z"
   },
   {
    "duration": 32,
    "start_time": "2023-09-08T09:07:05.886Z"
   },
   {
    "duration": 240,
    "start_time": "2023-09-08T09:07:05.920Z"
   },
   {
    "duration": 297,
    "start_time": "2023-09-08T09:07:06.162Z"
   },
   {
    "duration": 10,
    "start_time": "2023-09-08T09:07:06.461Z"
   },
   {
    "duration": 230,
    "start_time": "2023-09-08T09:07:06.474Z"
   },
   {
    "duration": 229,
    "start_time": "2023-09-08T09:07:06.706Z"
   },
   {
    "duration": 854,
    "start_time": "2023-09-08T09:07:06.937Z"
   },
   {
    "duration": 3,
    "start_time": "2023-09-08T09:07:07.793Z"
   },
   {
    "duration": 12,
    "start_time": "2023-09-08T09:07:07.797Z"
   },
   {
    "duration": 25,
    "start_time": "2023-09-08T09:07:07.811Z"
   },
   {
    "duration": 8,
    "start_time": "2023-09-08T09:07:07.838Z"
   },
   {
    "duration": 136,
    "start_time": "2023-09-08T09:07:07.848Z"
   },
   {
    "duration": 5,
    "start_time": "2023-09-08T09:07:07.986Z"
   },
   {
    "duration": 226,
    "start_time": "2023-09-08T09:07:07.993Z"
   },
   {
    "duration": 6,
    "start_time": "2023-09-08T09:07:08.221Z"
   },
   {
    "duration": 203,
    "start_time": "2023-09-08T09:07:08.228Z"
   },
   {
    "duration": 7,
    "start_time": "2023-09-08T09:07:08.433Z"
   },
   {
    "duration": 5,
    "start_time": "2023-09-08T09:07:08.441Z"
   },
   {
    "duration": 7,
    "start_time": "2023-09-08T09:14:24.722Z"
   },
   {
    "duration": 181,
    "start_time": "2023-09-08T09:14:29.387Z"
   },
   {
    "duration": 1251,
    "start_time": "2023-09-08T09:22:51.029Z"
   },
   {
    "duration": 92,
    "start_time": "2023-09-08T09:22:52.282Z"
   },
   {
    "duration": 120,
    "start_time": "2023-09-08T09:22:52.376Z"
   },
   {
    "duration": 89,
    "start_time": "2023-09-08T09:22:52.499Z"
   },
   {
    "duration": 10,
    "start_time": "2023-09-08T09:22:52.590Z"
   },
   {
    "duration": 87,
    "start_time": "2023-09-08T09:22:52.601Z"
   },
   {
    "duration": 5,
    "start_time": "2023-09-08T09:22:52.690Z"
   },
   {
    "duration": 7,
    "start_time": "2023-09-08T09:22:52.696Z"
   },
   {
    "duration": 22,
    "start_time": "2023-09-08T09:22:52.705Z"
   },
   {
    "duration": 7,
    "start_time": "2023-09-08T09:22:52.730Z"
   },
   {
    "duration": 5,
    "start_time": "2023-09-08T09:22:52.738Z"
   },
   {
    "duration": 8,
    "start_time": "2023-09-08T09:22:52.745Z"
   },
   {
    "duration": 5,
    "start_time": "2023-09-08T09:22:52.754Z"
   },
   {
    "duration": 12,
    "start_time": "2023-09-08T09:22:52.760Z"
   },
   {
    "duration": 42,
    "start_time": "2023-09-08T09:22:52.773Z"
   },
   {
    "duration": 28,
    "start_time": "2023-09-08T09:22:52.817Z"
   },
   {
    "duration": 178,
    "start_time": "2023-09-08T09:22:52.846Z"
   },
   {
    "duration": 6,
    "start_time": "2023-09-08T09:22:53.026Z"
   },
   {
    "duration": 10,
    "start_time": "2023-09-08T09:22:53.033Z"
   },
   {
    "duration": 104,
    "start_time": "2023-09-08T09:22:53.045Z"
   },
   {
    "duration": 5,
    "start_time": "2023-09-08T09:22:53.150Z"
   },
   {
    "duration": 11,
    "start_time": "2023-09-08T09:22:53.156Z"
   },
   {
    "duration": 18,
    "start_time": "2023-09-08T09:22:53.169Z"
   },
   {
    "duration": 174,
    "start_time": "2023-09-08T09:22:53.189Z"
   },
   {
    "duration": 6,
    "start_time": "2023-09-08T09:22:53.365Z"
   },
   {
    "duration": 41,
    "start_time": "2023-09-08T09:22:53.373Z"
   },
   {
    "duration": 41,
    "start_time": "2023-09-08T09:22:53.416Z"
   },
   {
    "duration": 265,
    "start_time": "2023-09-08T09:22:53.461Z"
   },
   {
    "duration": 6,
    "start_time": "2023-09-08T09:22:53.728Z"
   },
   {
    "duration": 29,
    "start_time": "2023-09-08T09:22:53.736Z"
   },
   {
    "duration": 12,
    "start_time": "2023-09-08T09:22:53.767Z"
   },
   {
    "duration": 267,
    "start_time": "2023-09-08T09:22:53.781Z"
   },
   {
    "duration": 35,
    "start_time": "2023-09-08T09:22:54.049Z"
   },
   {
    "duration": 42,
    "start_time": "2023-09-08T09:22:54.085Z"
   },
   {
    "duration": 22,
    "start_time": "2023-09-08T09:22:54.129Z"
   },
   {
    "duration": 28,
    "start_time": "2023-09-08T09:22:54.152Z"
   },
   {
    "duration": 260,
    "start_time": "2023-09-08T09:22:54.181Z"
   },
   {
    "duration": 328,
    "start_time": "2023-09-08T09:22:54.442Z"
   },
   {
    "duration": 9,
    "start_time": "2023-09-08T09:22:54.771Z"
   },
   {
    "duration": 229,
    "start_time": "2023-09-08T09:22:54.783Z"
   },
   {
    "duration": 247,
    "start_time": "2023-09-08T09:22:55.014Z"
   },
   {
    "duration": 924,
    "start_time": "2023-09-08T09:22:55.263Z"
   },
   {
    "duration": 4,
    "start_time": "2023-09-08T09:22:56.189Z"
   },
   {
    "duration": 14,
    "start_time": "2023-09-08T09:22:56.195Z"
   },
   {
    "duration": 20,
    "start_time": "2023-09-08T09:22:56.212Z"
   },
   {
    "duration": 4,
    "start_time": "2023-09-08T09:22:56.234Z"
   },
   {
    "duration": 154,
    "start_time": "2023-09-08T09:22:56.240Z"
   },
   {
    "duration": 13,
    "start_time": "2023-09-08T09:22:56.396Z"
   },
   {
    "duration": 236,
    "start_time": "2023-09-08T09:22:56.412Z"
   },
   {
    "duration": 7,
    "start_time": "2023-09-08T09:22:56.650Z"
   },
   {
    "duration": 216,
    "start_time": "2023-09-08T09:22:56.659Z"
   },
   {
    "duration": 10,
    "start_time": "2023-09-08T09:22:56.877Z"
   },
   {
    "duration": 23,
    "start_time": "2023-09-08T09:22:56.888Z"
   },
   {
    "duration": 92,
    "start_time": "2023-09-08T09:23:16.813Z"
   },
   {
    "duration": 1235,
    "start_time": "2023-09-08T09:23:44.555Z"
   },
   {
    "duration": 91,
    "start_time": "2023-09-08T09:23:45.792Z"
   },
   {
    "duration": 99,
    "start_time": "2023-09-08T09:23:45.885Z"
   },
   {
    "duration": 95,
    "start_time": "2023-09-08T09:23:45.986Z"
   },
   {
    "duration": 7,
    "start_time": "2023-09-08T09:23:46.082Z"
   },
   {
    "duration": 26,
    "start_time": "2023-09-08T09:23:46.091Z"
   },
   {
    "duration": 5,
    "start_time": "2023-09-08T09:23:46.119Z"
   },
   {
    "duration": 13,
    "start_time": "2023-09-08T09:23:46.126Z"
   },
   {
    "duration": 13,
    "start_time": "2023-09-08T09:23:46.140Z"
   },
   {
    "duration": 8,
    "start_time": "2023-09-08T09:23:46.156Z"
   },
   {
    "duration": 5,
    "start_time": "2023-09-08T09:23:46.166Z"
   },
   {
    "duration": 40,
    "start_time": "2023-09-08T09:23:46.172Z"
   },
   {
    "duration": 9,
    "start_time": "2023-09-08T09:23:46.213Z"
   },
   {
    "duration": 7,
    "start_time": "2023-09-08T09:23:46.224Z"
   },
   {
    "duration": 14,
    "start_time": "2023-09-08T09:23:46.233Z"
   },
   {
    "duration": 13,
    "start_time": "2023-09-08T09:23:46.249Z"
   },
   {
    "duration": 218,
    "start_time": "2023-09-08T09:23:46.264Z"
   },
   {
    "duration": 7,
    "start_time": "2023-09-08T09:23:46.485Z"
   },
   {
    "duration": 19,
    "start_time": "2023-09-08T09:23:46.494Z"
   },
   {
    "duration": 107,
    "start_time": "2023-09-08T09:23:46.515Z"
   },
   {
    "duration": 5,
    "start_time": "2023-09-08T09:23:46.624Z"
   },
   {
    "duration": 9,
    "start_time": "2023-09-08T09:23:46.631Z"
   },
   {
    "duration": 7,
    "start_time": "2023-09-08T09:23:46.642Z"
   },
   {
    "duration": 187,
    "start_time": "2023-09-08T09:23:46.651Z"
   },
   {
    "duration": 7,
    "start_time": "2023-09-08T09:23:46.839Z"
   },
   {
    "duration": 6,
    "start_time": "2023-09-08T09:23:46.848Z"
   },
   {
    "duration": 9,
    "start_time": "2023-09-08T09:23:46.856Z"
   },
   {
    "duration": 251,
    "start_time": "2023-09-08T09:23:46.869Z"
   },
   {
    "duration": 6,
    "start_time": "2023-09-08T09:23:47.122Z"
   },
   {
    "duration": 12,
    "start_time": "2023-09-08T09:23:47.129Z"
   },
   {
    "duration": 6,
    "start_time": "2023-09-08T09:23:47.143Z"
   },
   {
    "duration": 251,
    "start_time": "2023-09-08T09:23:47.150Z"
   },
   {
    "duration": 34,
    "start_time": "2023-09-08T09:23:47.409Z"
   },
   {
    "duration": 23,
    "start_time": "2023-09-08T09:23:47.445Z"
   },
   {
    "duration": 49,
    "start_time": "2023-09-08T09:23:47.470Z"
   },
   {
    "duration": 10,
    "start_time": "2023-09-08T09:23:47.521Z"
   },
   {
    "duration": 255,
    "start_time": "2023-09-08T09:23:47.533Z"
   },
   {
    "duration": 295,
    "start_time": "2023-09-08T09:23:47.790Z"
   },
   {
    "duration": 9,
    "start_time": "2023-09-08T09:23:48.087Z"
   },
   {
    "duration": 230,
    "start_time": "2023-09-08T09:23:48.098Z"
   },
   {
    "duration": 241,
    "start_time": "2023-09-08T09:23:48.330Z"
   },
   {
    "duration": 898,
    "start_time": "2023-09-08T09:23:48.582Z"
   },
   {
    "duration": 4,
    "start_time": "2023-09-08T09:23:49.482Z"
   },
   {
    "duration": 21,
    "start_time": "2023-09-08T09:23:49.489Z"
   },
   {
    "duration": 18,
    "start_time": "2023-09-08T09:23:49.511Z"
   },
   {
    "duration": 7,
    "start_time": "2023-09-08T09:23:49.531Z"
   },
   {
    "duration": 156,
    "start_time": "2023-09-08T09:23:49.540Z"
   },
   {
    "duration": 12,
    "start_time": "2023-09-08T09:23:49.697Z"
   },
   {
    "duration": 228,
    "start_time": "2023-09-08T09:23:49.711Z"
   },
   {
    "duration": 5,
    "start_time": "2023-09-08T09:23:49.941Z"
   },
   {
    "duration": 217,
    "start_time": "2023-09-08T09:23:49.948Z"
   },
   {
    "duration": 8,
    "start_time": "2023-09-08T09:23:50.166Z"
   },
   {
    "duration": 9,
    "start_time": "2023-09-08T09:23:50.176Z"
   },
   {
    "duration": 1652,
    "start_time": "2023-09-08T15:01:46.094Z"
   },
   {
    "duration": 107,
    "start_time": "2023-09-08T15:01:47.748Z"
   },
   {
    "duration": 82,
    "start_time": "2023-09-08T15:01:47.857Z"
   },
   {
    "duration": 167,
    "start_time": "2023-09-08T15:01:47.942Z"
   },
   {
    "duration": 9,
    "start_time": "2023-09-08T15:01:48.110Z"
   },
   {
    "duration": 30,
    "start_time": "2023-09-08T15:01:48.121Z"
   },
   {
    "duration": 4,
    "start_time": "2023-09-08T15:01:48.153Z"
   },
   {
    "duration": 21,
    "start_time": "2023-09-08T15:01:48.159Z"
   },
   {
    "duration": 60,
    "start_time": "2023-09-08T15:01:48.182Z"
   },
   {
    "duration": 25,
    "start_time": "2023-09-08T15:01:48.245Z"
   },
   {
    "duration": 20,
    "start_time": "2023-09-08T15:01:48.272Z"
   },
   {
    "duration": 20,
    "start_time": "2023-09-08T15:01:48.298Z"
   },
   {
    "duration": 30,
    "start_time": "2023-09-08T15:01:48.320Z"
   },
   {
    "duration": 26,
    "start_time": "2023-09-08T15:01:48.351Z"
   },
   {
    "duration": 38,
    "start_time": "2023-09-08T15:01:48.379Z"
   },
   {
    "duration": 26,
    "start_time": "2023-09-08T15:01:48.419Z"
   },
   {
    "duration": 413,
    "start_time": "2023-09-08T15:01:48.446Z"
   },
   {
    "duration": 6,
    "start_time": "2023-09-08T15:01:48.860Z"
   },
   {
    "duration": 13,
    "start_time": "2023-09-08T15:01:48.868Z"
   },
   {
    "duration": 139,
    "start_time": "2023-09-08T15:01:48.883Z"
   },
   {
    "duration": 4,
    "start_time": "2023-09-08T15:01:49.025Z"
   },
   {
    "duration": 82,
    "start_time": "2023-09-08T15:01:49.031Z"
   },
   {
    "duration": 7,
    "start_time": "2023-09-08T15:01:49.116Z"
   },
   {
    "duration": 341,
    "start_time": "2023-09-08T15:01:49.124Z"
   },
   {
    "duration": 5,
    "start_time": "2023-09-08T15:01:49.467Z"
   },
   {
    "duration": 17,
    "start_time": "2023-09-08T15:01:49.474Z"
   },
   {
    "duration": 9,
    "start_time": "2023-09-08T15:01:49.493Z"
   },
   {
    "duration": 382,
    "start_time": "2023-09-08T15:01:49.509Z"
   },
   {
    "duration": 16,
    "start_time": "2023-09-08T15:01:49.893Z"
   },
   {
    "duration": 18,
    "start_time": "2023-09-08T15:01:49.914Z"
   },
   {
    "duration": 27,
    "start_time": "2023-09-08T15:01:49.933Z"
   },
   {
    "duration": 397,
    "start_time": "2023-09-08T15:01:49.962Z"
   },
   {
    "duration": 27,
    "start_time": "2023-09-08T15:01:50.361Z"
   },
   {
    "duration": 32,
    "start_time": "2023-09-08T15:01:50.390Z"
   },
   {
    "duration": 91,
    "start_time": "2023-09-08T15:01:50.424Z"
   },
   {
    "duration": 9,
    "start_time": "2023-09-08T15:01:50.517Z"
   },
   {
    "duration": 428,
    "start_time": "2023-09-08T15:01:50.528Z"
   },
   {
    "duration": 418,
    "start_time": "2023-09-08T15:01:50.958Z"
   },
   {
    "duration": 9,
    "start_time": "2023-09-08T15:01:51.378Z"
   },
   {
    "duration": 523,
    "start_time": "2023-09-08T15:01:51.402Z"
   },
   {
    "duration": 456,
    "start_time": "2023-09-08T15:01:51.926Z"
   },
   {
    "duration": 828,
    "start_time": "2023-09-08T15:01:52.384Z"
   },
   {
    "duration": 5,
    "start_time": "2023-09-08T15:01:53.214Z"
   },
   {
    "duration": 7,
    "start_time": "2023-09-08T15:01:53.220Z"
   },
   {
    "duration": 26,
    "start_time": "2023-09-08T15:01:53.229Z"
   },
   {
    "duration": 12,
    "start_time": "2023-09-08T15:01:53.256Z"
   },
   {
    "duration": 149,
    "start_time": "2023-09-08T15:01:53.270Z"
   },
   {
    "duration": 8,
    "start_time": "2023-09-08T15:01:53.421Z"
   },
   {
    "duration": 439,
    "start_time": "2023-09-08T15:01:53.431Z"
   },
   {
    "duration": 6,
    "start_time": "2023-09-08T15:01:53.871Z"
   },
   {
    "duration": 440,
    "start_time": "2023-09-08T15:01:53.878Z"
   },
   {
    "duration": 9,
    "start_time": "2023-09-08T15:01:54.320Z"
   },
   {
    "duration": 39,
    "start_time": "2023-09-08T15:01:54.331Z"
   }
  ],
  "celltoolbar": "Raw Cell Format",
  "kernelspec": {
   "display_name": "Python 3 (ipykernel)",
   "language": "python",
   "name": "python3"
  },
  "language_info": {
   "codemirror_mode": {
    "name": "ipython",
    "version": 3
   },
   "file_extension": ".py",
   "mimetype": "text/x-python",
   "name": "python",
   "nbconvert_exporter": "python",
   "pygments_lexer": "ipython3",
   "version": "3.9.13"
  },
  "toc": {
   "base_numbering": 1,
   "nav_menu": {},
   "number_sections": true,
   "sideBar": true,
   "skip_h1_title": true,
   "title_cell": "Статистический анализ данных",
   "title_sidebar": "Contents",
   "toc_cell": false,
   "toc_position": {
    "height": "calc(100% - 180px)",
    "left": "10px",
    "top": "150px",
    "width": "341.333344px"
   },
   "toc_section_display": true,
   "toc_window_display": true
  }
 },
 "nbformat": 4,
 "nbformat_minor": 5
}
