{
 "cells": [
  {
   "cell_type": "markdown",
   "metadata": {},
   "source": [
    "# Исследование объявлений о продаже квартир\n",
    "\n",
    "В вашем распоряжении данные сервиса Яндекс.Недвижимость — архив объявлений о продаже квартир в Санкт-Петербурге и соседних населённых пунктов за несколько лет. Нужно научиться определять рыночную стоимость объектов недвижимости. Ваша задача — установить параметры. Это позволит построить автоматизированную систему: она отследит аномалии и мошенническую деятельность. \n",
    "\n",
    "По каждой квартире на продажу доступны два вида данных. Первые вписаны пользователем, вторые — получены автоматически на основе картографических данных. Например, расстояние до центра, аэропорта, ближайшего парка и водоёма. "
   ]
  },
  {
   "cell_type": "markdown",
   "metadata": {},
   "source": [
    "### Откроем файл с данными и изучим общую информацию"
   ]
  },
  {
   "cell_type": "code",
   "execution_count": 1,
   "metadata": {
    "scrolled": false
   },
   "outputs": [
    {
     "name": "stdout",
     "output_type": "stream",
     "text": [
      "<class 'pandas.core.frame.DataFrame'>\n",
      "RangeIndex: 23699 entries, 0 to 23698\n",
      "Data columns (total 22 columns):\n",
      " #   Column                Non-Null Count  Dtype  \n",
      "---  ------                --------------  -----  \n",
      " 0   total_images          23699 non-null  int64  \n",
      " 1   last_price            23699 non-null  float64\n",
      " 2   total_area            23699 non-null  float64\n",
      " 3   first_day_exposition  23699 non-null  object \n",
      " 4   rooms                 23699 non-null  int64  \n",
      " 5   ceiling_height        14504 non-null  float64\n",
      " 6   floors_total          23613 non-null  float64\n",
      " 7   living_area           21796 non-null  float64\n",
      " 8   floor                 23699 non-null  int64  \n",
      " 9   is_apartment          2775 non-null   object \n",
      " 10  studio                23699 non-null  bool   \n",
      " 11  open_plan             23699 non-null  bool   \n",
      " 12  kitchen_area          21421 non-null  float64\n",
      " 13  balcony               12180 non-null  float64\n",
      " 14  locality_name         23650 non-null  object \n",
      " 15  airports_nearest      18157 non-null  float64\n",
      " 16  cityCenters_nearest   18180 non-null  float64\n",
      " 17  parks_around3000      18181 non-null  float64\n",
      " 18  parks_nearest         8079 non-null   float64\n",
      " 19  ponds_around3000      18181 non-null  float64\n",
      " 20  ponds_nearest         9110 non-null   float64\n",
      " 21  days_exposition       20518 non-null  float64\n",
      "dtypes: bool(2), float64(14), int64(3), object(3)\n",
      "memory usage: 3.7+ MB\n"
     ]
    },
    {
     "data": {
      "text/html": [
       "<div>\n",
       "<style scoped>\n",
       "    .dataframe tbody tr th:only-of-type {\n",
       "        vertical-align: middle;\n",
       "    }\n",
       "\n",
       "    .dataframe tbody tr th {\n",
       "        vertical-align: top;\n",
       "    }\n",
       "\n",
       "    .dataframe thead th {\n",
       "        text-align: right;\n",
       "    }\n",
       "</style>\n",
       "<table border=\"1\" class=\"dataframe\">\n",
       "  <thead>\n",
       "    <tr style=\"text-align: right;\">\n",
       "      <th></th>\n",
       "      <th>total_images</th>\n",
       "      <th>last_price</th>\n",
       "      <th>total_area</th>\n",
       "      <th>first_day_exposition</th>\n",
       "      <th>rooms</th>\n",
       "      <th>ceiling_height</th>\n",
       "      <th>floors_total</th>\n",
       "      <th>living_area</th>\n",
       "      <th>floor</th>\n",
       "      <th>is_apartment</th>\n",
       "      <th>...</th>\n",
       "      <th>kitchen_area</th>\n",
       "      <th>balcony</th>\n",
       "      <th>locality_name</th>\n",
       "      <th>airports_nearest</th>\n",
       "      <th>cityCenters_nearest</th>\n",
       "      <th>parks_around3000</th>\n",
       "      <th>parks_nearest</th>\n",
       "      <th>ponds_around3000</th>\n",
       "      <th>ponds_nearest</th>\n",
       "      <th>days_exposition</th>\n",
       "    </tr>\n",
       "  </thead>\n",
       "  <tbody>\n",
       "    <tr>\n",
       "      <th>0</th>\n",
       "      <td>20</td>\n",
       "      <td>13000000.0</td>\n",
       "      <td>108.0</td>\n",
       "      <td>2019-03-07T00:00:00</td>\n",
       "      <td>3</td>\n",
       "      <td>2.70</td>\n",
       "      <td>16.0</td>\n",
       "      <td>51.0</td>\n",
       "      <td>8</td>\n",
       "      <td>NaN</td>\n",
       "      <td>...</td>\n",
       "      <td>25.0</td>\n",
       "      <td>NaN</td>\n",
       "      <td>Санкт-Петербург</td>\n",
       "      <td>18863.0</td>\n",
       "      <td>16028.0</td>\n",
       "      <td>1.0</td>\n",
       "      <td>482.0</td>\n",
       "      <td>2.0</td>\n",
       "      <td>755.0</td>\n",
       "      <td>NaN</td>\n",
       "    </tr>\n",
       "    <tr>\n",
       "      <th>1</th>\n",
       "      <td>7</td>\n",
       "      <td>3350000.0</td>\n",
       "      <td>40.4</td>\n",
       "      <td>2018-12-04T00:00:00</td>\n",
       "      <td>1</td>\n",
       "      <td>NaN</td>\n",
       "      <td>11.0</td>\n",
       "      <td>18.6</td>\n",
       "      <td>1</td>\n",
       "      <td>NaN</td>\n",
       "      <td>...</td>\n",
       "      <td>11.0</td>\n",
       "      <td>2.0</td>\n",
       "      <td>посёлок Шушары</td>\n",
       "      <td>12817.0</td>\n",
       "      <td>18603.0</td>\n",
       "      <td>0.0</td>\n",
       "      <td>NaN</td>\n",
       "      <td>0.0</td>\n",
       "      <td>NaN</td>\n",
       "      <td>81.0</td>\n",
       "    </tr>\n",
       "    <tr>\n",
       "      <th>2</th>\n",
       "      <td>10</td>\n",
       "      <td>5196000.0</td>\n",
       "      <td>56.0</td>\n",
       "      <td>2015-08-20T00:00:00</td>\n",
       "      <td>2</td>\n",
       "      <td>NaN</td>\n",
       "      <td>5.0</td>\n",
       "      <td>34.3</td>\n",
       "      <td>4</td>\n",
       "      <td>NaN</td>\n",
       "      <td>...</td>\n",
       "      <td>8.3</td>\n",
       "      <td>0.0</td>\n",
       "      <td>Санкт-Петербург</td>\n",
       "      <td>21741.0</td>\n",
       "      <td>13933.0</td>\n",
       "      <td>1.0</td>\n",
       "      <td>90.0</td>\n",
       "      <td>2.0</td>\n",
       "      <td>574.0</td>\n",
       "      <td>558.0</td>\n",
       "    </tr>\n",
       "    <tr>\n",
       "      <th>3</th>\n",
       "      <td>0</td>\n",
       "      <td>64900000.0</td>\n",
       "      <td>159.0</td>\n",
       "      <td>2015-07-24T00:00:00</td>\n",
       "      <td>3</td>\n",
       "      <td>NaN</td>\n",
       "      <td>14.0</td>\n",
       "      <td>NaN</td>\n",
       "      <td>9</td>\n",
       "      <td>NaN</td>\n",
       "      <td>...</td>\n",
       "      <td>NaN</td>\n",
       "      <td>0.0</td>\n",
       "      <td>Санкт-Петербург</td>\n",
       "      <td>28098.0</td>\n",
       "      <td>6800.0</td>\n",
       "      <td>2.0</td>\n",
       "      <td>84.0</td>\n",
       "      <td>3.0</td>\n",
       "      <td>234.0</td>\n",
       "      <td>424.0</td>\n",
       "    </tr>\n",
       "    <tr>\n",
       "      <th>4</th>\n",
       "      <td>2</td>\n",
       "      <td>10000000.0</td>\n",
       "      <td>100.0</td>\n",
       "      <td>2018-06-19T00:00:00</td>\n",
       "      <td>2</td>\n",
       "      <td>3.03</td>\n",
       "      <td>14.0</td>\n",
       "      <td>32.0</td>\n",
       "      <td>13</td>\n",
       "      <td>NaN</td>\n",
       "      <td>...</td>\n",
       "      <td>41.0</td>\n",
       "      <td>NaN</td>\n",
       "      <td>Санкт-Петербург</td>\n",
       "      <td>31856.0</td>\n",
       "      <td>8098.0</td>\n",
       "      <td>2.0</td>\n",
       "      <td>112.0</td>\n",
       "      <td>1.0</td>\n",
       "      <td>48.0</td>\n",
       "      <td>121.0</td>\n",
       "    </tr>\n",
       "  </tbody>\n",
       "</table>\n",
       "<p>5 rows × 22 columns</p>\n",
       "</div>"
      ],
      "text/plain": [
       "   total_images  last_price  total_area first_day_exposition  rooms  \\\n",
       "0            20  13000000.0       108.0  2019-03-07T00:00:00      3   \n",
       "1             7   3350000.0        40.4  2018-12-04T00:00:00      1   \n",
       "2            10   5196000.0        56.0  2015-08-20T00:00:00      2   \n",
       "3             0  64900000.0       159.0  2015-07-24T00:00:00      3   \n",
       "4             2  10000000.0       100.0  2018-06-19T00:00:00      2   \n",
       "\n",
       "   ceiling_height  floors_total  living_area  floor is_apartment  ...  \\\n",
       "0            2.70          16.0         51.0      8          NaN  ...   \n",
       "1             NaN          11.0         18.6      1          NaN  ...   \n",
       "2             NaN           5.0         34.3      4          NaN  ...   \n",
       "3             NaN          14.0          NaN      9          NaN  ...   \n",
       "4            3.03          14.0         32.0     13          NaN  ...   \n",
       "\n",
       "   kitchen_area  balcony    locality_name  airports_nearest  \\\n",
       "0          25.0      NaN  Санкт-Петербург           18863.0   \n",
       "1          11.0      2.0   посёлок Шушары           12817.0   \n",
       "2           8.3      0.0  Санкт-Петербург           21741.0   \n",
       "3           NaN      0.0  Санкт-Петербург           28098.0   \n",
       "4          41.0      NaN  Санкт-Петербург           31856.0   \n",
       "\n",
       "  cityCenters_nearest  parks_around3000  parks_nearest  ponds_around3000  \\\n",
       "0             16028.0               1.0          482.0               2.0   \n",
       "1             18603.0               0.0            NaN               0.0   \n",
       "2             13933.0               1.0           90.0               2.0   \n",
       "3              6800.0               2.0           84.0               3.0   \n",
       "4              8098.0               2.0          112.0               1.0   \n",
       "\n",
       "   ponds_nearest  days_exposition  \n",
       "0          755.0              NaN  \n",
       "1            NaN             81.0  \n",
       "2          574.0            558.0  \n",
       "3          234.0            424.0  \n",
       "4           48.0            121.0  \n",
       "\n",
       "[5 rows x 22 columns]"
      ]
     },
     "metadata": {},
     "output_type": "display_data"
    },
    {
     "data": {
      "text/plain": [
       "array([[<AxesSubplot:title={'center':'total_images'}>,\n",
       "        <AxesSubplot:title={'center':'last_price'}>,\n",
       "        <AxesSubplot:title={'center':'total_area'}>,\n",
       "        <AxesSubplot:title={'center':'rooms'}>],\n",
       "       [<AxesSubplot:title={'center':'ceiling_height'}>,\n",
       "        <AxesSubplot:title={'center':'floors_total'}>,\n",
       "        <AxesSubplot:title={'center':'living_area'}>,\n",
       "        <AxesSubplot:title={'center':'floor'}>],\n",
       "       [<AxesSubplot:title={'center':'kitchen_area'}>,\n",
       "        <AxesSubplot:title={'center':'balcony'}>,\n",
       "        <AxesSubplot:title={'center':'airports_nearest'}>,\n",
       "        <AxesSubplot:title={'center':'cityCenters_nearest'}>],\n",
       "       [<AxesSubplot:title={'center':'parks_around3000'}>,\n",
       "        <AxesSubplot:title={'center':'parks_nearest'}>,\n",
       "        <AxesSubplot:title={'center':'ponds_around3000'}>,\n",
       "        <AxesSubplot:title={'center':'ponds_nearest'}>],\n",
       "       [<AxesSubplot:title={'center':'days_exposition'}>, <AxesSubplot:>,\n",
       "        <AxesSubplot:>, <AxesSubplot:>]], dtype=object)"
      ]
     },
     "execution_count": 1,
     "metadata": {},
     "output_type": "execute_result"
    },
    {
     "data": {
      "image/png": "[encoded data removed]",
      "text/plain": [
       "<Figure size 1080x1440 with 20 Axes>"
      ]
     },
     "metadata": {
      "needs_background": "light"
     },
     "output_type": "display_data"
    }
   ],
   "source": [
    "import pandas as pd\n",
    "import numpy as np\n",
    "import matplotlib.pyplot as plt\n",
    "import warnings\n",
    "warnings.filterwarnings('ignore')\n",
    "data = pd.read_csv('/datasets/real_estate_data.csv', sep = '\\t')\n",
    "data.info()\n",
    "display(data.head())\n",
    "data.hist(figsize=(15, 20)) #Изучаем файл"
   ]
  },
  {
   "cell_type": "markdown",
   "metadata": {},
   "source": [
    "**Вывод:** Всего в датафрейме 23699 записи. В столбацах присутствуют NaN-значения и присвоен некорректный тип данных."
   ]
  },
  {
   "cell_type": "markdown",
   "metadata": {},
   "source": [
    "### Предобработка данных"
   ]
  },
  {
   "cell_type": "code",
   "execution_count": 2,
   "metadata": {
    "scrolled": false
   },
   "outputs": [
    {
     "name": "stdout",
     "output_type": "stream",
     "text": [
      "Количество дубликатов: 0\n",
      "0        False\n",
      "1        False\n",
      "2        False\n",
      "3        False\n",
      "4        False\n",
      "         ...  \n",
      "23694    False\n",
      "23695    False\n",
      "23696    False\n",
      "23697    False\n",
      "23698    False\n",
      "Length: 23699, dtype: bool\n"
     ]
    }
   ],
   "source": [
    "print('Количество дубликатов:',data.duplicated().sum())#Дубликатов 0\n",
    "print(data.duplicated())\n",
    "# Стоимость квартир приводим к целоцисленному типу\n",
    "data['last_price'] = data['last_price'].astype(int)\n",
    "# Даты публикаций приводим к типу даты\n",
    "data['first_day_exposition'] = pd.to_datetime(data['first_day_exposition'], format='%Y-%m-%dT%H:%M:%S')\n",
    "# Заменяем пропущенные значения в аппартаментах\n",
    "#print(data['is_apartment'].value_counts()) На все записи 50 апартаментов, смело заменяем значения\n",
    "data['is_apartment'] = data['is_apartment'].fillna(value=False)"
   ]
  },
  {
   "cell_type": "code",
   "execution_count": 3,
   "metadata": {},
   "outputs": [
    {
     "name": "stdout",
     "output_type": "stream",
     "text": [
      "total_images                0\n",
      "last_price                  0\n",
      "total_area                  0\n",
      "first_day_exposition        0\n",
      "rooms                       0\n",
      "ceiling_height           9195\n",
      "floors_total               86\n",
      "living_area              1903\n",
      "floor                       0\n",
      "is_apartment                0\n",
      "studio                      0\n",
      "open_plan                   0\n",
      "kitchen_area             2278\n",
      "balcony                     0\n",
      "locality_name              49\n",
      "airports_nearest         5542\n",
      "cityCenters_nearest      5519\n",
      "parks_around3000            0\n",
      "parks_nearest           15620\n",
      "ponds_around3000            0\n",
      "ponds_nearest           14589\n",
      "days_exposition          3181\n",
      "dtype: int64\n"
     ]
    }
   ],
   "source": [
    "# Приводим в целочисленный тип количество балконов, парков и прудов. Заменяем их пропущенные значения на 0\n",
    "data['balcony'] = data['balcony'].fillna(value=0).astype(int)\n",
    "data['parks_around3000'] = data['parks_around3000'].fillna(value=0).astype(int)\n",
    "data['ponds_around3000'] = data['ponds_around3000'].fillna(value=0).astype(int)\n",
    "#Смотрим на количество пропущенных значений\n",
    "print(data.isna().sum())"
   ]
  },
  {
   "cell_type": "code",
   "execution_count": 4,
   "metadata": {},
   "outputs": [],
   "source": [
    "#Далее следует удалить записи, где отсутствуют локации и этажность, после чего этажность приводим к целочисленным значениям\n",
    "data.dropna(subset=['locality_name'], inplace=True)\n",
    "data.dropna(subset=['floors_total'], inplace=True)\n",
    "data['floors_total'] = data['floors_total'].astype(int)"
   ]
  },
  {
   "cell_type": "code",
   "execution_count": 5,
   "metadata": {},
   "outputs": [
    {
     "name": "stdout",
     "output_type": "stream",
     "text": [
      "total_images                0\n",
      "last_price                  0\n",
      "total_area                  0\n",
      "first_day_exposition        0\n",
      "rooms                       0\n",
      "ceiling_height              0\n",
      "floors_total                0\n",
      "living_area                 0\n",
      "floor                       0\n",
      "is_apartment                0\n",
      "studio                      0\n",
      "open_plan                   0\n",
      "kitchen_area                0\n",
      "balcony                     0\n",
      "locality_name               0\n",
      "airports_nearest         5524\n",
      "cityCenters_nearest      5501\n",
      "parks_around3000            0\n",
      "parks_nearest           15535\n",
      "ponds_around3000            0\n",
      "ponds_nearest           14529\n",
      "days_exposition          3171\n",
      "dtype: int64\n"
     ]
    }
   ],
   "source": [
    "#Пустые значения высоты потолков заменяем на медианное\n",
    "data['ceiling_height'] = data.groupby(['locality_name', 'floors_total'])['ceiling_height'].apply(lambda x: x.fillna(x.median()))\n",
    "data['ceiling_height'].fillna(data['ceiling_height'].median(), inplace=True)\n",
    "# Заменяем пустые значения жилой площади и площади кухни\n",
    "living_ratio = data['living_area'].mean() / data['total_area'].mean()\n",
    "kitchen_ratio = data['kitchen_area'].mean() / data['total_area'].mean()\n",
    "data['living_area'].fillna(living_ratio * data['total_area'], inplace=True)\n",
    "data['kitchen_area'].fillna(kitchen_ratio * data['total_area'], inplace=True)\n",
    "\n",
    "# Проверяем количество пропущенных значений\n",
    "print(data.isna().sum())"
   ]
  },
  {
   "cell_type": "code",
   "execution_count": 6,
   "metadata": {},
   "outputs": [
    {
     "name": "stdout",
     "output_type": "stream",
     "text": [
      "['Агалатово' 'Александровская' 'Алексеевка' 'Аннино' 'Аро' 'Барышево'\n",
      " 'Батово' 'Бегуницы' 'Белогорка' 'Белоостров' 'Бокситогорск'\n",
      " 'Большая Вруда' 'Большая Ижора' 'Большая Пустомержа' 'Большие Колпаны'\n",
      " 'Большое Рейзино' 'Большой Сабск' 'Бор' 'Борисова Грива' 'Бугры'\n",
      " 'Будогощь' 'Ваганово' 'Важины' 'Вартемяги' 'Вахнова Кара' 'Виллози'\n",
      " 'Вознесенье' 'Возрождение' 'Войсковицы' 'Войскорово' 'Володарское'\n",
      " 'Волосово' 'Волхов' 'Всеволожск' 'Выборг' 'Вырица' 'Выскатка'\n",
      " 'Высокоключевой' 'Высоцк' 'Гаврилово' 'Гарболово' 'Гатчина' 'Гладкое'\n",
      " 'Глажево' 'Глебычево' 'Глинка' 'Гончарово' 'Горбунки' 'Гостилицы'\n",
      " 'Громово' 'Дзержинского' 'Дружная Горка' 'Дружноселье' 'Дубровка'\n",
      " 'Елизаветино' 'Ефимовский' 'Жилгородок' 'Жилпосёлок' 'Житково'\n",
      " 'Заводской' 'Заклинье' 'Заневка' 'Запорожское' 'Зеленогорск' 'Зимитицы'\n",
      " 'Ивангород' 'Извара' 'Ильичёво' 'Иссад' 'Калитино' 'Каложицы' 'Кальтино'\n",
      " 'Каменногорск' 'Камышовка' 'Каськово' 'Келози' 'Кикерино' 'Кингисепп'\n",
      " 'Кингисеппский' 'Кипень' 'Кириши' 'Кировск' 'Кирпичное' 'Кисельня'\n",
      " 'Кобралово' 'Кобринское' 'Колпино' 'Колтуши' 'Коммунар' 'Коммунары'\n",
      " 'Кондратьево' 'Копорье' 'Коркино' 'Коробицыно' 'Котельский' 'Котлы'\n",
      " 'Красная Долина' 'Красное Село' 'Красносельское' 'Красный Бор' 'Кривко'\n",
      " 'Кронштадт' 'Кудрово' 'Кузнечное' 'Кузьмолово' 'Кузьмоловский'\n",
      " 'Курковицы' 'Куровицы' 'Куттузи' 'Лаврики' 'Лаголово' 'Лампово' 'Лебяжье'\n",
      " 'Левашово' 'Ленинское' 'Лесколово' 'Лесное' 'Лесогорский' 'Лисий Нос'\n",
      " 'Лодейное Поле' 'Ломоносов' 'Лопухинка' 'Луга' 'Лукаши' 'Лупполово'\n",
      " 'Любань' 'Малая Романовка' 'Малое Верево' 'Малое Карлино' 'Малые Колпаны'\n",
      " 'Мануйлово' 'Мга' 'Мельниково' 'Меньково' 'Металлострой' 'Мины'\n",
      " 'Мистолово' 'Мичуринское' 'Молодцово' 'Молодёжное' 'Мурино'\n",
      " 'Мыза-Ивановка' 'Назия' 'Ненимяки' 'Нижние Осельки' 'Нижняя' 'Низино'\n",
      " 'Никольский' 'Никольское' 'Новая Ладога' 'Новогорелово' 'Новое Девяткино'\n",
      " 'Новолисино' 'Новоселье' 'Новый Свет' 'Новый Учхоз' 'Нурма' 'Оредеж'\n",
      " 'Оржицы' 'Отрадное' 'Павлово' 'Павловск' 'Пансионат Зелёный Бор'\n",
      " 'Парголово' 'Парицы' 'Паша' 'Пельгора' 'Пеники' 'Первомайское' 'Перово'\n",
      " 'Песочный' 'Петергоф' 'Петро-Славянка' 'Петровское' 'Пижма' 'Пикалёво'\n",
      " 'Пикколово' 'Платформа 69-й километр' 'Плодовое' 'Плоское' 'Победа'\n",
      " 'Подпорожье' 'Поляны' 'Понтонный' 'Почап' 'Починок' 'Пригородный'\n",
      " 'Приладожский' 'Приморск' 'Приозерск' 'Пудомяги' 'Пудость' 'Пустынка'\n",
      " 'Путилово' 'Пушкин' 'Пушное' 'Пчева' 'Пчевжа' 'Рабитицы' 'Разбегаево'\n",
      " 'Раздолье' 'Разметелево' 'Рапполово' 'Рахья' 'Реброво' 'Репино'\n",
      " 'Рождествено' 'Романовка' 'Ромашки' 'Ропша' 'Рощино' 'Русско'\n",
      " 'Русско-Высоцкое' 'Рябово' 'Санкт-Петербург' 'Сапёрное' 'Сапёрный'\n",
      " 'Светогорск' 'Свирьстрой' 'Севастьяново' 'Селезнёво' 'Сельцо'\n",
      " 'Семиозерье' 'Семрино' 'Серебрянский' 'Сертолово' 'Сестрорецк'\n",
      " 'Сиверский' 'Сижно' 'Синявино' 'Сланцы' 'Снегирёвка' 'Советский'\n",
      " 'Совхозный' 'Сосново' 'Сосновый Бор' 'Старая' 'Старая Ладога'\n",
      " 'Старая Малукса' 'Старая Пустошь' 'Старое Хинколово' 'Старополье'\n",
      " 'Старосиверская' 'Старые Бегуницы' 'Стеклянный' 'Стрельна' 'Суйда'\n",
      " 'Сумино' 'Суоранда' 'Суходолье' 'Сяськелево' 'Сясьстрой' 'Тайцы'\n",
      " 'Тарасово' 'Тельмана' 'Терволово' 'Терпилицы' 'Тихвин' 'Тихковицы'\n",
      " 'Тойворово' 'Токсово' 'Торковичи' 'Торосово' 'Торошковичи' 'Торфяное'\n",
      " 'Тосно' 'Трубников Бор' 'Тёсово-4' 'Углово' 'Ульяновка' 'Усть-Ижора'\n",
      " 'Усть-Луга' 'Ушаки' 'Фалилеево' 'Форносово' 'Форт Красная Горка'\n",
      " 'Фёдоровское' 'Хапо-Ое' 'Хязельки' 'Цвелодубово' 'Цвылёво' 'Чудской Бор'\n",
      " 'Шлиссельбург' 'Шпаньково' 'Шугозеро' 'Шум' 'Шушары' 'Щеглово' 'Юкки'\n",
      " 'Ялгино' 'Яльгелево' 'Ям-Тесово' 'Янино-1' 'имени Морозова'\n",
      " 'имени Свердлова' 'коттеджный Кивеннапа Север' 'коттеджный Лесное'\n",
      " 'коттеджный Счастье' 'при железнодорожной станции Вещево'\n",
      " 'при железнодорожной станции Приветнинское'\n",
      " 'садоводческое некоммерческое товарищество Лесная Поляна'\n",
      " 'садовое товарищество Новая Ропша' 'садовое товарищество Приладожский'\n",
      " 'садовое товарищество Рахья' 'садовое товарищество Садко'\n",
      " 'станции Вещево' 'станции Громово' 'станции Корнево' 'станции Лужайка'\n",
      " 'станции Приветнинское' 'станции Свирь']\n"
     ]
    }
   ],
   "source": [
    "#Смотрим уникальные значения\n",
    "#data['locality_name'].unique()\n",
    "#Создаем список с очищенными названиями\n",
    "replace_list = ['поселок городского типа ', 'посёлок городского типа ', 'городской поселок ', \n",
    "                'городской посёлок ', 'посёлок ', 'поселок ', 'деревня ', 'село ', 'пгт'] \n",
    "data['locality_unduplicated'] = data['locality_name'] \n",
    "for replace in replace_list: \n",
    "    data['locality_unduplicated'] = data['locality_unduplicated'].str.replace(replace, '') \n",
    "print(data.locality_unduplicated.sort_values().unique())"
   ]
  },
  {
   "cell_type": "code",
   "execution_count": 7,
   "metadata": {
    "scrolled": true
   },
   "outputs": [
    {
     "data": {
      "text/html": [
       "<div>\n",
       "<style scoped>\n",
       "    .dataframe tbody tr th:only-of-type {\n",
       "        vertical-align: middle;\n",
       "    }\n",
       "\n",
       "    .dataframe tbody tr th {\n",
       "        vertical-align: top;\n",
       "    }\n",
       "\n",
       "    .dataframe thead th {\n",
       "        text-align: right;\n",
       "    }\n",
       "</style>\n",
       "<table border=\"1\" class=\"dataframe\">\n",
       "  <thead>\n",
       "    <tr style=\"text-align: right;\">\n",
       "      <th></th>\n",
       "      <th>total_images</th>\n",
       "      <th>last_price</th>\n",
       "      <th>total_area</th>\n",
       "      <th>rooms</th>\n",
       "      <th>ceiling_height</th>\n",
       "      <th>floors_total</th>\n",
       "      <th>living_area</th>\n",
       "      <th>floor</th>\n",
       "      <th>kitchen_area</th>\n",
       "      <th>balcony</th>\n",
       "      <th>airports_nearest</th>\n",
       "      <th>cityCenters_nearest</th>\n",
       "      <th>parks_around3000</th>\n",
       "      <th>parks_nearest</th>\n",
       "      <th>ponds_around3000</th>\n",
       "      <th>ponds_nearest</th>\n",
       "      <th>days_exposition</th>\n",
       "    </tr>\n",
       "  </thead>\n",
       "  <tbody>\n",
       "    <tr>\n",
       "      <th>count</th>\n",
       "      <td>23565.000000</td>\n",
       "      <td>2.356500e+04</td>\n",
       "      <td>23565.000000</td>\n",
       "      <td>23565.000000</td>\n",
       "      <td>23565.000000</td>\n",
       "      <td>23565.000000</td>\n",
       "      <td>23565.000000</td>\n",
       "      <td>23565.000000</td>\n",
       "      <td>23565.000000</td>\n",
       "      <td>23565.000000</td>\n",
       "      <td>18041.000000</td>\n",
       "      <td>18064.000000</td>\n",
       "      <td>23565.000000</td>\n",
       "      <td>8030.000000</td>\n",
       "      <td>23565.000000</td>\n",
       "      <td>9036.000000</td>\n",
       "      <td>20394.000000</td>\n",
       "    </tr>\n",
       "    <tr>\n",
       "      <th>mean</th>\n",
       "      <td>9.878421</td>\n",
       "      <td>6.540058e+06</td>\n",
       "      <td>60.322824</td>\n",
       "      <td>2.070656</td>\n",
       "      <td>2.737873</td>\n",
       "      <td>10.675875</td>\n",
       "      <td>34.592277</td>\n",
       "      <td>5.878124</td>\n",
       "      <td>10.499898</td>\n",
       "      <td>0.593677</td>\n",
       "      <td>28797.082701</td>\n",
       "      <td>14192.656056</td>\n",
       "      <td>0.468831</td>\n",
       "      <td>490.580448</td>\n",
       "      <td>0.589900</td>\n",
       "      <td>518.289509</td>\n",
       "      <td>180.741395</td>\n",
       "    </tr>\n",
       "    <tr>\n",
       "      <th>std</th>\n",
       "      <td>5.681156</td>\n",
       "      <td>1.091093e+07</td>\n",
       "      <td>35.657060</td>\n",
       "      <td>1.078591</td>\n",
       "      <td>1.009172</td>\n",
       "      <td>6.594823</td>\n",
       "      <td>22.373679</td>\n",
       "      <td>4.871485</td>\n",
       "      <td>6.037750</td>\n",
       "      <td>0.960660</td>\n",
       "      <td>12632.499735</td>\n",
       "      <td>8613.348153</td>\n",
       "      <td>0.748403</td>\n",
       "      <td>341.572956</td>\n",
       "      <td>0.883966</td>\n",
       "      <td>278.009558</td>\n",
       "      <td>219.732782</td>\n",
       "    </tr>\n",
       "    <tr>\n",
       "      <th>min</th>\n",
       "      <td>0.000000</td>\n",
       "      <td>1.219000e+04</td>\n",
       "      <td>12.000000</td>\n",
       "      <td>0.000000</td>\n",
       "      <td>1.000000</td>\n",
       "      <td>1.000000</td>\n",
       "      <td>2.000000</td>\n",
       "      <td>1.000000</td>\n",
       "      <td>1.300000</td>\n",
       "      <td>0.000000</td>\n",
       "      <td>0.000000</td>\n",
       "      <td>181.000000</td>\n",
       "      <td>0.000000</td>\n",
       "      <td>1.000000</td>\n",
       "      <td>0.000000</td>\n",
       "      <td>13.000000</td>\n",
       "      <td>1.000000</td>\n",
       "    </tr>\n",
       "    <tr>\n",
       "      <th>25%</th>\n",
       "      <td>6.000000</td>\n",
       "      <td>3.400000e+06</td>\n",
       "      <td>40.000000</td>\n",
       "      <td>1.000000</td>\n",
       "      <td>2.550000</td>\n",
       "      <td>5.000000</td>\n",
       "      <td>19.000000</td>\n",
       "      <td>2.000000</td>\n",
       "      <td>7.000000</td>\n",
       "      <td>0.000000</td>\n",
       "      <td>18565.000000</td>\n",
       "      <td>9238.000000</td>\n",
       "      <td>0.000000</td>\n",
       "      <td>288.000000</td>\n",
       "      <td>0.000000</td>\n",
       "      <td>293.000000</td>\n",
       "      <td>45.000000</td>\n",
       "    </tr>\n",
       "    <tr>\n",
       "      <th>50%</th>\n",
       "      <td>9.000000</td>\n",
       "      <td>4.646000e+06</td>\n",
       "      <td>52.000000</td>\n",
       "      <td>2.000000</td>\n",
       "      <td>2.650000</td>\n",
       "      <td>9.000000</td>\n",
       "      <td>30.000000</td>\n",
       "      <td>4.000000</td>\n",
       "      <td>9.000000</td>\n",
       "      <td>0.000000</td>\n",
       "      <td>26757.000000</td>\n",
       "      <td>13096.500000</td>\n",
       "      <td>0.000000</td>\n",
       "      <td>455.000000</td>\n",
       "      <td>0.000000</td>\n",
       "      <td>503.000000</td>\n",
       "      <td>95.000000</td>\n",
       "    </tr>\n",
       "    <tr>\n",
       "      <th>75%</th>\n",
       "      <td>14.000000</td>\n",
       "      <td>6.790000e+06</td>\n",
       "      <td>69.700000</td>\n",
       "      <td>3.000000</td>\n",
       "      <td>2.750000</td>\n",
       "      <td>16.000000</td>\n",
       "      <td>42.100000</td>\n",
       "      <td>8.000000</td>\n",
       "      <td>12.000000</td>\n",
       "      <td>1.000000</td>\n",
       "      <td>37273.000000</td>\n",
       "      <td>16285.000000</td>\n",
       "      <td>1.000000</td>\n",
       "      <td>612.000000</td>\n",
       "      <td>1.000000</td>\n",
       "      <td>730.000000</td>\n",
       "      <td>231.000000</td>\n",
       "    </tr>\n",
       "    <tr>\n",
       "      <th>max</th>\n",
       "      <td>50.000000</td>\n",
       "      <td>7.630000e+08</td>\n",
       "      <td>900.000000</td>\n",
       "      <td>19.000000</td>\n",
       "      <td>100.000000</td>\n",
       "      <td>60.000000</td>\n",
       "      <td>409.700000</td>\n",
       "      <td>33.000000</td>\n",
       "      <td>112.000000</td>\n",
       "      <td>5.000000</td>\n",
       "      <td>84869.000000</td>\n",
       "      <td>65968.000000</td>\n",
       "      <td>3.000000</td>\n",
       "      <td>3190.000000</td>\n",
       "      <td>3.000000</td>\n",
       "      <td>1344.000000</td>\n",
       "      <td>1580.000000</td>\n",
       "    </tr>\n",
       "  </tbody>\n",
       "</table>\n",
       "</div>"
      ],
      "text/plain": [
       "       total_images    last_price    total_area         rooms  ceiling_height  \\\n",
       "count  23565.000000  2.356500e+04  23565.000000  23565.000000    23565.000000   \n",
       "mean       9.878421  6.540058e+06     60.322824      2.070656        2.737873   \n",
       "std        5.681156  1.091093e+07     35.657060      1.078591        1.009172   \n",
       "min        0.000000  1.219000e+04     12.000000      0.000000        1.000000   \n",
       "25%        6.000000  3.400000e+06     40.000000      1.000000        2.550000   \n",
       "50%        9.000000  4.646000e+06     52.000000      2.000000        2.650000   \n",
       "75%       14.000000  6.790000e+06     69.700000      3.000000        2.750000   \n",
       "max       50.000000  7.630000e+08    900.000000     19.000000      100.000000   \n",
       "\n",
       "       floors_total   living_area         floor  kitchen_area       balcony  \\\n",
       "count  23565.000000  23565.000000  23565.000000  23565.000000  23565.000000   \n",
       "mean      10.675875     34.592277      5.878124     10.499898      0.593677   \n",
       "std        6.594823     22.373679      4.871485      6.037750      0.960660   \n",
       "min        1.000000      2.000000      1.000000      1.300000      0.000000   \n",
       "25%        5.000000     19.000000      2.000000      7.000000      0.000000   \n",
       "50%        9.000000     30.000000      4.000000      9.000000      0.000000   \n",
       "75%       16.000000     42.100000      8.000000     12.000000      1.000000   \n",
       "max       60.000000    409.700000     33.000000    112.000000      5.000000   \n",
       "\n",
       "       airports_nearest  cityCenters_nearest  parks_around3000  parks_nearest  \\\n",
       "count      18041.000000         18064.000000      23565.000000    8030.000000   \n",
       "mean       28797.082701         14192.656056          0.468831     490.580448   \n",
       "std        12632.499735          8613.348153          0.748403     341.572956   \n",
       "min            0.000000           181.000000          0.000000       1.000000   \n",
       "25%        18565.000000          9238.000000          0.000000     288.000000   \n",
       "50%        26757.000000         13096.500000          0.000000     455.000000   \n",
       "75%        37273.000000         16285.000000          1.000000     612.000000   \n",
       "max        84869.000000         65968.000000          3.000000    3190.000000   \n",
       "\n",
       "       ponds_around3000  ponds_nearest  days_exposition  \n",
       "count      23565.000000    9036.000000     20394.000000  \n",
       "mean           0.589900     518.289509       180.741395  \n",
       "std            0.883966     278.009558       219.732782  \n",
       "min            0.000000      13.000000         1.000000  \n",
       "25%            0.000000     293.000000        45.000000  \n",
       "50%            0.000000     503.000000        95.000000  \n",
       "75%            1.000000     730.000000       231.000000  \n",
       "max            3.000000    1344.000000      1580.000000  "
      ]
     },
     "execution_count": 7,
     "metadata": {},
     "output_type": "execute_result"
    }
   ],
   "source": [
    "data.describe()"
   ]
  },
  {
   "cell_type": "code",
   "execution_count": 8,
   "metadata": {
    "scrolled": false
   },
   "outputs": [
    {
     "data": {
      "text/plain": [
       "count    23538.000000\n",
       "mean        60.372970\n",
       "std         35.646653\n",
       "min         20.000000\n",
       "25%         40.000000\n",
       "50%         52.000000\n",
       "75%         69.747500\n",
       "max        900.000000\n",
       "Name: total_area, dtype: float64"
      ]
     },
     "execution_count": 8,
     "metadata": {},
     "output_type": "execute_result"
    },
    {
     "data": {
      "image/png": "[encoded data removed]",
      "text/plain": [
       "<Figure size 432x288 with 1 Axes>"
      ]
     },
     "metadata": {
      "needs_background": "light"
     },
     "output_type": "display_data"
    }
   ],
   "source": [
    "#Удалим квартиры общей площадью меньше 20 кв.м\n",
    "data.drop(data[data['total_area'] < 20].index, inplace=True)\n",
    "data.boxplot(column=['total_area'])\n",
    "data['total_area'].describe()"
   ]
  },
  {
   "cell_type": "code",
   "execution_count": 9,
   "metadata": {},
   "outputs": [
    {
     "data": {
      "text/plain": [
       "count    23218.000000\n",
       "mean        34.932530\n",
       "std         22.363885\n",
       "min         14.000000\n",
       "25%         19.100000\n",
       "50%         30.100000\n",
       "75%         42.400000\n",
       "max        409.700000\n",
       "Name: living_area, dtype: float64"
      ]
     },
     "execution_count": 9,
     "metadata": {},
     "output_type": "execute_result"
    },
    {
     "data": {
      "image/png": "[encoded data removed]",
      "text/plain": [
       "<Figure size 432x288 with 1 Axes>"
      ]
     },
     "metadata": {
      "needs_background": "light"
     },
     "output_type": "display_data"
    }
   ],
   "source": [
    "#Удалим квартиры с жилой площадью меньше 14 кв.м (данные из ЖК РФ)\n",
    "data.drop(data[data['living_area'] < 14].index, inplace=True)\n",
    "data.boxplot(column=['living_area'])\n",
    "data['living_area'].describe()"
   ]
  },
  {
   "cell_type": "code",
   "execution_count": 10,
   "metadata": {},
   "outputs": [
    {
     "data": {
      "text/plain": [
       "count    21028.000000\n",
       "mean        11.036661\n",
       "std          6.073441\n",
       "min          6.000000\n",
       "25%          7.878357\n",
       "50%          9.716640\n",
       "75%         12.000000\n",
       "max        112.000000\n",
       "Name: kitchen_area, dtype: float64"
      ]
     },
     "execution_count": 10,
     "metadata": {},
     "output_type": "execute_result"
    },
    {
     "data": {
      "image/png": "[encoded data removed]",
      "text/plain": [
       "<Figure size 432x288 with 1 Axes>"
      ]
     },
     "metadata": {
      "needs_background": "light"
     },
     "output_type": "display_data"
    }
   ],
   "source": [
    "#Удалим квартиры с площадью кухни меньше 6 кв.м(в интернете указывают минимум от 5 до 8, поэтому взял что-то среднее)\n",
    "data.drop(data[data['kitchen_area'] < 6].index, inplace=True)\n",
    "data.boxplot(column=['kitchen_area'])\n",
    "data['kitchen_area'].describe()"
   ]
  },
  {
   "cell_type": "code",
   "execution_count": 11,
   "metadata": {},
   "outputs": [
    {
     "data": {
      "text/plain": [
       "count    10028.000000\n",
       "mean         2.946644\n",
       "std          1.444448\n",
       "min          2.700000\n",
       "25%          2.700000\n",
       "50%          2.760000\n",
       "75%          3.000000\n",
       "max        100.000000\n",
       "Name: ceiling_height, dtype: float64"
      ]
     },
     "execution_count": 11,
     "metadata": {},
     "output_type": "execute_result"
    },
    {
     "data": {
      "image/png": "[encoded data removed]",
      "text/plain": [
       "<Figure size 432x288 with 1 Axes>"
      ]
     },
     "metadata": {
      "needs_background": "light"
     },
     "output_type": "display_data"
    }
   ],
   "source": [
    "#Удалим квартиры с высотой потолков меньших 2.7 метра(данные из интернета)\n",
    "data.drop(data[data['ceiling_height'] < 2.7].index, inplace=True)\n",
    "data.boxplot(column=['ceiling_height'])\n",
    "data['ceiling_height'].describe()"
   ]
  },
  {
   "cell_type": "code",
   "execution_count": 12,
   "metadata": {},
   "outputs": [
    {
     "name": "stdout",
     "output_type": "stream",
     "text": [
      "298\n"
     ]
    },
    {
     "data": {
      "text/plain": [
       "count    9730.000000\n",
       "mean        2.858398\n",
       "std         0.189442\n",
       "min         2.700000\n",
       "25%         2.700000\n",
       "50%         2.750000\n",
       "75%         3.000000\n",
       "max         3.500000\n",
       "Name: ceiling_height, dtype: float64"
      ]
     },
     "execution_count": 12,
     "metadata": {},
     "output_type": "execute_result"
    },
    {
     "data": {
      "image/png": "[encoded data removed]",
      "text/plain": [
       "<Figure size 432x288 with 1 Axes>"
      ]
     },
     "metadata": {
      "needs_background": "light"
     },
     "output_type": "display_data"
    }
   ],
   "source": [
    "#Выведем количество квартир в которых потолки выше 3.5м\n",
    "print(len(data.loc[data['ceiling_height'] > 3.5]))\n",
    "#298 квартир\n",
    "#Удалим данные квартиры\n",
    "data.drop(data[data['ceiling_height'] > 3.5].index, inplace=True)\n",
    "data.boxplot(column=['ceiling_height'])\n",
    "data['ceiling_height'].describe()"
   ]
  },
  {
   "cell_type": "markdown",
   "metadata": {},
   "source": [
    "**Вывод:**\n",
    "1. Причинами пропуска данных мог послужить человеческих фактор, из-за чего данные могли быть некорректны \n",
    "2. Изменить тип данных следует для дальнейшей работы с этими данными\n",
    "3. Главной особенностью как я и указывал выше, являются пропущенные значения, которые пришлось исправить"
   ]
  },
  {
   "cell_type": "code",
   "execution_count": 13,
   "metadata": {},
   "outputs": [
    {
     "data": {
      "text/plain": [
       "array([2.7  , 3.03 , 2.75 , 3.05 , 3.   , 2.9  , 2.8  , 2.76 , 3.2  ,\n",
       "       3.15 , 3.25 , 3.45 , 2.77 , 2.85 , 3.5  , 3.3  , 2.71 , 2.73 ,\n",
       "       2.84 , 3.1  , 3.4  , 3.06 , 2.72 , 2.78 , 2.745, 2.87 , 2.775,\n",
       "       2.725, 3.11 , 3.13 , 3.16 , 3.12 , 2.74 , 2.96 , 2.79 , 2.95 ,\n",
       "       2.94 , 2.83 , 3.325, 3.38 , 3.01 , 2.735, 3.18 , 3.35 , 2.82 ,\n",
       "       2.92 , 2.88 , 3.24 , 3.36 , 3.08 , 3.07 , 3.37 , 3.09 , 3.26 ,\n",
       "       3.34 , 2.775, 2.81 , 3.44 , 3.14 , 3.22 , 3.27 , 2.93 , 3.46 ,\n",
       "       2.785, 3.47 , 3.33 , 3.32 , 2.98 , 2.86 , 3.17 , 3.28 , 3.04 ,\n",
       "       3.23 , 2.97 , 3.02 , 3.21 , 3.43 , 3.39 , 3.31 , 3.42 , 3.49 ,\n",
       "       2.91 , 2.715, 3.29 , 3.48 ])"
      ]
     },
     "execution_count": 13,
     "metadata": {},
     "output_type": "execute_result"
    }
   ],
   "source": [
    "data['ceiling_height'].unique()"
   ]
  },
  {
   "cell_type": "markdown",
   "metadata": {},
   "source": [
    "### Посчитайте и добавьте в таблицу новые столбцы"
   ]
  },
  {
   "cell_type": "code",
   "execution_count": 14,
   "metadata": {},
   "outputs": [],
   "source": [
    "#Добавим столбец c ценой одного квадратного метра\n",
    "data['price_sm'] = data['last_price'] / data['total_area']\n",
    "#Привоим к целочисленному типу\n",
    "data['price_sm'] = data['price_sm'].astype(int)"
   ]
  },
  {
   "cell_type": "code",
   "execution_count": 15,
   "metadata": {},
   "outputs": [],
   "source": [
    "#Добавим столбец с днем недели\n",
    "data['weekday'] = data['first_day_exposition'].dt.weekday\n",
    "#Добавим столбец с месяцами\n",
    "data['month'] = data['first_day_exposition'].dt.month\n",
    "#Добавим столбец с годами\n",
    "data['year'] = data['first_day_exposition'].dt.year"
   ]
  },
  {
   "cell_type": "code",
   "execution_count": 16,
   "metadata": {},
   "outputs": [],
   "source": [
    "#Добавим тип этажа квартиры\n",
    "def floor_group(row):\n",
    "    if row['floor'] == 1:\n",
    "        return 'первый'\n",
    "    elif row['floor'] == row['floors_total']:\n",
    "        return 'последний'\n",
    "    else:\n",
    "        return 'другой'\n",
    "data['floor_type'] = data.apply(floor_group, axis=1)"
   ]
  },
  {
   "cell_type": "code",
   "execution_count": 17,
   "metadata": {},
   "outputs": [],
   "source": [
    "#Добавим столбец с переводом метров в км\n",
    "data['distance_km'] = (data['cityCenters_nearest'] / 1000).round()"
   ]
  },
  {
   "cell_type": "markdown",
   "metadata": {},
   "source": [
    "**Вывод:** Были добавлены новые столбы с ценой одного квадратного метра, с днем недели, месяцем, годом, типом этажа, с переводом метров в км."
   ]
  },
  {
   "cell_type": "markdown",
   "metadata": {},
   "source": [
    "### Проведите исследовательский анализ данных"
   ]
  },
  {
   "cell_type": "code",
   "execution_count": 18,
   "metadata": {},
   "outputs": [
    {
     "data": {
      "image/png": "[encoded data removed]",
      "text/plain": [
       "<Figure size 432x288 with 1 Axes>"
      ]
     },
     "metadata": {
      "needs_background": "light"
     },
     "output_type": "display_data"
    }
   ],
   "source": [
    "#Изучим общую площадь\n",
    "plt.hist(data['total_area'], bins=30, range=(10,200))\n",
    "plt.title('Площадь квартир')\n",
    "plt.xlabel('Квадратные метры')\n",
    "plt.ylabel('Количество квартир')\n",
    "plt.show()"
   ]
  },
  {
   "cell_type": "markdown",
   "metadata": {},
   "source": [
    "**Общая площадь:** Наибольшая составляющая квартир в районе 100 кв.м., однако встречаются квартиры и с большим показателем, но их не так много."
   ]
  },
  {
   "cell_type": "code",
   "execution_count": 19,
   "metadata": {},
   "outputs": [
    {
     "data": {
      "image/png": "[encoded data removed]",
      "text/plain": [
       "<Figure size 432x288 with 1 Axes>"
      ]
     },
     "metadata": {
      "needs_background": "light"
     },
     "output_type": "display_data"
    }
   ],
   "source": [
    "#Изучаем жилую площадь\n",
    "plt.hist(data['living_area'], bins=70, range=(10,80))\n",
    "plt.title('Жилая площадь')\n",
    "plt.xlabel('Квадратные метры')\n",
    "plt.ylabel('Количество квартир')\n",
    "plt.show()"
   ]
  },
  {
   "cell_type": "markdown",
   "metadata": {},
   "source": [
    "**Жилая площадь:** В данном случае чаще встречаются значения от 10 до 50 кв.м. После 50 кв.м. единичные варианты квартир."
   ]
  },
  {
   "cell_type": "code",
   "execution_count": 20,
   "metadata": {},
   "outputs": [
    {
     "data": {
      "image/png": "[encoded data removed]",
      "text/plain": [
       "<Figure size 432x288 with 1 Axes>"
      ]
     },
     "metadata": {
      "needs_background": "light"
     },
     "output_type": "display_data"
    }
   ],
   "source": [
    "#Изучаем площадь кухни\n",
    "plt.hist(data['kitchen_area'], bins=30, range=(0,30))\n",
    "plt.title('Площадь кухни')\n",
    "plt.xlabel('Квадратные метры')\n",
    "plt.ylabel('Количество квартир')\n",
    "plt.show()"
   ]
  },
  {
   "cell_type": "markdown",
   "metadata": {},
   "source": [
    "**Площадь кухни:** Площадь кухни в квартирах имеет популярность в значениях от 5 до 15 кв.м. После 15 кв.м также единичные случаи."
   ]
  },
  {
   "cell_type": "code",
   "execution_count": 21,
   "metadata": {},
   "outputs": [
    {
     "data": {
      "image/png": "[encoded data removed]",
      "text/plain": [
       "<Figure size 432x288 with 1 Axes>"
      ]
     },
     "metadata": {
      "needs_background": "light"
     },
     "output_type": "display_data"
    }
   ],
   "source": [
    "#Изучаем цену объекта\n",
    "#data['last_price'].max()\n",
    "plt.hist(data['last_price'], bins=30, range=(0,10000000))\n",
    "plt.title('Цена объекта')\n",
    "plt.xlabel('Цена')\n",
    "plt.ylabel('Количество квартир')\n",
    "plt.show()"
   ]
  },
  {
   "cell_type": "markdown",
   "metadata": {},
   "source": [
    "**Цена объекта:** Популярная цена объекта варьируется от 3-х до 5-ти миллионов."
   ]
  },
  {
   "cell_type": "code",
   "execution_count": 22,
   "metadata": {},
   "outputs": [
    {
     "data": {
      "image/png": "[encoded data removed]",
      "text/plain": [
       "<Figure size 432x288 with 1 Axes>"
      ]
     },
     "metadata": {
      "needs_background": "light"
     },
     "output_type": "display_data"
    }
   ],
   "source": [
    "#Изучаем количество комнат в квартире\n",
    "plt.hist(data['rooms'], bins=7, range=(1,7))\n",
    "plt.title('Комнаты')\n",
    "plt.xlabel('Количество комнат')\n",
    "plt.ylabel('Количество квартир')\n",
    "plt.show()"
   ]
  },
  {
   "cell_type": "markdown",
   "metadata": {},
   "source": [
    "**Количество комнат:** В лидерах по количеству выступают квартиры с 1-ой и 2-мя комнатами, после же идут квартиры с 3-мя комнатами. Квартиры с 4-мя и более комнатами имеет наименьшее значение."
   ]
  },
  {
   "cell_type": "code",
   "execution_count": 23,
   "metadata": {},
   "outputs": [
    {
     "data": {
      "image/png": "[encoded data removed]",
      "text/plain": [
       "<Figure size 432x288 with 1 Axes>"
      ]
     },
     "metadata": {
      "needs_background": "light"
     },
     "output_type": "display_data"
    }
   ],
   "source": [
    "#Изучаем высоту потолков\n",
    "plt.hist(data.query('(ceiling_height > 2) & (ceiling_height < 4)')['ceiling_height'], bins=20)\n",
    "plt.title('Высота потолков')\n",
    "plt.xlabel('Метры')\n",
    "plt.ylabel('Количество квартир')\n",
    "plt.show()"
   ]
  },
  {
   "cell_type": "markdown",
   "metadata": {},
   "source": [
    "**Высота потолков:** Оптимальной высотой выступают значения от 2.5 до 3-х метров. В данных присутствуют значения свыше 20 м., что скорее всего является ошибкой и имелось в виду 2м."
   ]
  },
  {
   "cell_type": "code",
   "execution_count": 24,
   "metadata": {},
   "outputs": [
    {
     "data": {
      "image/png": "[encoded data removed]",
      "text/plain": [
       "<Figure size 432x288 with 1 Axes>"
      ]
     },
     "metadata": {
      "needs_background": "light"
     },
     "output_type": "display_data"
    }
   ],
   "source": [
    "#Изучаем этажность\n",
    "plt.hist(data['floor'], bins=25, range=(1,25))\n",
    "plt.title('Этажи')\n",
    "plt.xlabel('Количество этажей')\n",
    "plt.ylabel('Количество квартир')\n",
    "plt.show()"
   ]
  },
  {
   "cell_type": "markdown",
   "metadata": {},
   "source": [
    "**Этаж квартиры:** В большинстве случаев квартиры находятся с 1 по 5 этаж."
   ]
  },
  {
   "cell_type": "code",
   "execution_count": 25,
   "metadata": {},
   "outputs": [
    {
     "data": {
      "image/png": "[encoded data removed]",
      "text/plain": [
       "<Figure size 432x288 with 1 Axes>"
      ]
     },
     "metadata": {
      "needs_background": "light"
     },
     "output_type": "display_data"
    }
   ],
   "source": [
    "#Изучаем тип этажа квартиры\n",
    "plt.hist(data['floor_type'], bins=3)\n",
    "plt.title('Тип этажа')\n",
    "plt.xlabel('Типы этажей')\n",
    "plt.ylabel('Количество квартир')\n",
    "plt.show()"
   ]
  },
  {
   "cell_type": "markdown",
   "metadata": {},
   "source": [
    "**Тип этажа квартиры («первый», «последний», «другой»):** На графике видно, что предпочтительными этажами являются этажи между первым и последним."
   ]
  },
  {
   "cell_type": "code",
   "execution_count": 26,
   "metadata": {},
   "outputs": [
    {
     "data": {
      "image/png": "[encoded data removed]",
      "text/plain": [
       "<Figure size 432x288 with 1 Axes>"
      ]
     },
     "metadata": {
      "needs_background": "light"
     },
     "output_type": "display_data"
    }
   ],
   "source": [
    "#Изучаем общее количество этажей в доме\n",
    "plt.hist(data['floors_total'], bins=25, range=(1,28))\n",
    "plt.title('Общее кол-во этажей')\n",
    "plt.xlabel('Количество этажей')\n",
    "plt.ylabel('Количество квартир')\n",
    "plt.show()"
   ]
  },
  {
   "cell_type": "markdown",
   "metadata": {},
   "source": [
    "**Общее количество этажей в доме:** На графике видно, что лидирующие позиции занимают 5-тиэтажки и 9-тиэтажки."
   ]
  },
  {
   "cell_type": "code",
   "execution_count": 27,
   "metadata": {
    "scrolled": true
   },
   "outputs": [
    {
     "data": {
      "image/png": "[encoded data removed]",
      "text/plain": [
       "<Figure size 432x288 with 1 Axes>"
      ]
     },
     "metadata": {
      "needs_background": "light"
     },
     "output_type": "display_data"
    }
   ],
   "source": [
    "#Изучаем расстояние до центра города в метрах\n",
    "plt.hist(data['cityCenters_nearest'], bins=25)\n",
    "plt.title('Расстояние до центра города')\n",
    "plt.xlabel('Расстояние в метрах')\n",
    "plt.ylabel('Количество квартир')\n",
    "plt.show()"
   ]
  },
  {
   "cell_type": "markdown",
   "metadata": {},
   "source": [
    "**Расстояние до центра города в метрах:** Преобладают квартиры на расстоянии от центра в 15-20 тысяч метров."
   ]
  },
  {
   "cell_type": "code",
   "execution_count": 28,
   "metadata": {},
   "outputs": [
    {
     "data": {
      "image/png": "[encoded data removed]",
      "text/plain": [
       "<Figure size 432x288 with 1 Axes>"
      ]
     },
     "metadata": {
      "needs_background": "light"
     },
     "output_type": "display_data"
    }
   ],
   "source": [
    "#Изучаем расстояние до ближайшего аэропорта\n",
    "plt.hist(data['airports_nearest'], bins=15)\n",
    "plt.title('Расстояние до ближайшего аэропорта')\n",
    "plt.xlabel('Расстояние в метрах')\n",
    "plt.ylabel('Количество квартир')\n",
    "plt.show()"
   ]
  },
  {
   "cell_type": "markdown",
   "metadata": {},
   "source": [
    "**Расстояние до ближайшего аэропорта:** Пик расстояния имеют квартиры на расстоянии до ближайшего аэропорта в 10-30 тысяч метров."
   ]
  },
  {
   "cell_type": "code",
   "execution_count": 29,
   "metadata": {},
   "outputs": [
    {
     "data": {
      "image/png": "[encoded data removed]",
      "text/plain": [
       "<Figure size 432x288 with 1 Axes>"
      ]
     },
     "metadata": {
      "needs_background": "light"
     },
     "output_type": "display_data"
    }
   ],
   "source": [
    "#Изучаем расстояние до ближайшего парка\n",
    "plt.hist(data['parks_nearest'], bins=15)\n",
    "plt.title('Расстояние до ближайшего парка')\n",
    "plt.xlabel('Расстояние в метрах')\n",
    "plt.ylabel('Количество квартир')\n",
    "plt.show()"
   ]
  },
  {
   "cell_type": "markdown",
   "metadata": {},
   "source": [
    "**Расстояние до ближайшего парка:** Расстояние до ближайшего парка практически минимальное, варьируется от 0(рядом с парком) и в районе 1 км."
   ]
  },
  {
   "cell_type": "code",
   "execution_count": 30,
   "metadata": {},
   "outputs": [
    {
     "data": {
      "image/png": "[encoded data removed]",
      "text/plain": [
       "<Figure size 432x288 with 1 Axes>"
      ]
     },
     "metadata": {
      "needs_background": "light"
     },
     "output_type": "display_data"
    },
    {
     "data": {
      "image/png": "[encoded data removed]",
      "text/plain": [
       "<Figure size 432x288 with 1 Axes>"
      ]
     },
     "metadata": {
      "needs_background": "light"
     },
     "output_type": "display_data"
    }
   ],
   "source": [
    "#Изучаем день и месяц публикации объявления\n",
    "plt.hist(data['weekday'], bins=7)\n",
    "plt.title('День')\n",
    "plt.xlabel('Номер дня')\n",
    "plt.ylabel('Количество квартир')\n",
    "plt.show()\n",
    "\n",
    "plt.hist(data['month'], bins=12)\n",
    "plt.title('Месяц')\n",
    "plt.xlabel('Номер месяца')\n",
    "plt.ylabel('Количество квартир')\n",
    "plt.show()"
   ]
  },
  {
   "cell_type": "markdown",
   "metadata": {},
   "source": [
    "**День и месяц публикации объявления:** В будние дни объявления выкладывают чаще, чем в выходные. Также в зимний и осенний период объявления выкладывают чаще, чем в весенний и летний."
   ]
  },
  {
   "cell_type": "markdown",
   "metadata": {},
   "source": [
    "**Изучим, как быстро продавались квартиры**"
   ]
  },
  {
   "cell_type": "code",
   "execution_count": 31,
   "metadata": {},
   "outputs": [
    {
     "name": "stdout",
     "output_type": "stream",
     "text": [
      "Среднее время продажи: 198.9635472690331\n",
      "Медианное время продажи 106.0\n"
     ]
    }
   ],
   "source": [
    "#Посчитаем среднее и медиану\n",
    "print('Среднее время продажи:', data['days_exposition'].mean())\n",
    "print('Медианное время продажи',data['days_exposition'].median())"
   ]
  },
  {
   "cell_type": "code",
   "execution_count": 32,
   "metadata": {},
   "outputs": [
    {
     "data": {
      "image/png": "[encoded data removed]",
      "text/plain": [
       "<Figure size 432x288 with 1 Axes>"
      ]
     },
     "metadata": {
      "needs_background": "light"
     },
     "output_type": "display_data"
    },
    {
     "data": {
      "text/plain": [
       "count    8367.000000\n",
       "mean      198.963547\n",
       "std       238.346849\n",
       "min         2.000000\n",
       "25%        45.000000\n",
       "50%       106.000000\n",
       "75%       259.000000\n",
       "max      1572.000000\n",
       "Name: days_exposition, dtype: float64"
      ]
     },
     "execution_count": 32,
     "metadata": {},
     "output_type": "execute_result"
    }
   ],
   "source": [
    "data.hist('days_exposition', bins=100)\n",
    "plt.title('Сколько дней было размещено объявление', size=10)\n",
    "plt.xlabel('Количество дней, дни')\n",
    "plt.ylabel('Количество квартир, шт.')\n",
    "plt.show()\n",
    "data['days_exposition'].describe()"
   ]
  },
  {
   "cell_type": "markdown",
   "metadata": {},
   "source": [
    "**Вывод:** \n",
    "- Среднее время продажи - 181 день;\n",
    "- Медианное время продажи - 95 дней;\n",
    "- На графике можно заметить, что большинство квартир продается до 100 дней. Также видно, что пик продаж около 45-50 дней. Здесь конечно присутствуют значения и выше, и выбросы после 1200 дней."
   ]
  },
  {
   "cell_type": "markdown",
   "metadata": {},
   "source": [
    "**Какие факторы больше всего влияют на общую (полную) стоимость объекта:**"
   ]
  },
  {
   "cell_type": "code",
   "execution_count": 33,
   "metadata": {},
   "outputs": [
    {
     "data": {
      "image/png": "[encoded data removed]",
      "text/plain": [
       "<Figure size 360x360 with 1 Axes>"
      ]
     },
     "metadata": {
      "needs_background": "light"
     },
     "output_type": "display_data"
    },
    {
     "name": "stdout",
     "output_type": "stream",
     "text": [
      "Корреляция цены и площади: \n",
      "\n",
      "            last_price  total_area\n",
      "last_price    1.000000    0.745216\n",
      "total_area    0.745216    1.000000 \n",
      "\n"
     ]
    }
   ],
   "source": [
    "#Цена от общей площади + корреляция\n",
    "(\n",
    "    data.pivot_table(index='total_area', values='last_price')\n",
    "    .plot(style='o',grid=True ,figsize=(5, 5))\n",
    ")\n",
    "plt.show()\n",
    "print('Корреляция цены и площади:','\\n')\n",
    "print(data.pivot_table(index='floor', values=['total_area', 'last_price']).corr(),'\\n')"
   ]
  },
  {
   "cell_type": "code",
   "execution_count": 34,
   "metadata": {},
   "outputs": [
    {
     "data": {
      "image/png": "[encoded data removed]",
      "text/plain": [
       "<Figure size 360x360 with 1 Axes>"
      ]
     },
     "metadata": {
      "needs_background": "light"
     },
     "output_type": "display_data"
    },
    {
     "name": "stdout",
     "output_type": "stream",
     "text": [
      "Корреляция цены и жилой площади \n",
      "\n",
      "             last_price  living_area\n",
      "last_price     1.000000     0.630806\n",
      "living_area    0.630806     1.000000 \n",
      "\n"
     ]
    }
   ],
   "source": [
    "#Цена от жилой площади + корреляция\n",
    "(\n",
    "    data.pivot_table(index='living_area', values='last_price')\n",
    "    .plot(style = 'o', grid=True, figsize=(5, 5))\n",
    ")\n",
    "plt.show()\n",
    "print('Корреляция цены и жилой площади','\\n')\n",
    "print(data.pivot_table(index='floor', values=['living_area', 'last_price']).corr(),'\\n')"
   ]
  },
  {
   "cell_type": "code",
   "execution_count": 35,
   "metadata": {},
   "outputs": [
    {
     "data": {
      "image/png": "[encoded data removed]",
      "text/plain": [
       "<Figure size 360x360 with 1 Axes>"
      ]
     },
     "metadata": {
      "needs_background": "light"
     },
     "output_type": "display_data"
    },
    {
     "name": "stdout",
     "output_type": "stream",
     "text": [
      "Корреляция цены и площади кухни \n",
      "\n",
      "              kitchen_area  last_price\n",
      "kitchen_area      1.000000    0.140681\n",
      "last_price        0.140681    1.000000 \n",
      "\n"
     ]
    }
   ],
   "source": [
    "#Цена от площади кухни + корреляция\n",
    "(\n",
    "    data.pivot_table(index='kitchen_area', values='last_price')\n",
    "    .plot(style = 'o', grid=True, figsize=(5, 5))\n",
    ")\n",
    "plt.show()\n",
    "print('Корреляция цены и площади кухни','\\n')\n",
    "print(data.pivot_table(index='floor', values=['kitchen_area', 'last_price']).corr(),'\\n')"
   ]
  },
  {
   "cell_type": "markdown",
   "metadata": {},
   "source": [
    "**Цена от площади:** По корреляции и данным из таблиц видно, что чем больше площадь, тем больше цена, так и в обратную сторону."
   ]
  },
  {
   "cell_type": "code",
   "execution_count": 36,
   "metadata": {},
   "outputs": [
    {
     "data": {
      "image/png": "[encoded data removed]",
      "text/plain": [
       "<Figure size 360x360 with 1 Axes>"
      ]
     },
     "metadata": {
      "needs_background": "light"
     },
     "output_type": "display_data"
    },
    {
     "name": "stdout",
     "output_type": "stream",
     "text": [
      "Корреляция цены и количества комнат \n",
      "\n",
      "            last_price     rooms\n",
      "last_price    1.000000  0.405663\n",
      "rooms         0.405663  1.000000 \n",
      "\n"
     ]
    }
   ],
   "source": [
    "#Цена от количества комнат + корреляция\n",
    "(\n",
    "    data.query('rooms > 0')\n",
    "    .pivot_table(index='rooms', values='last_price')\n",
    "    .plot(style='o-', grid=True, figsize=(5,5))\n",
    ")\n",
    "plt.show()\n",
    "print('Корреляция цены и количества комнат','\\n')\n",
    "print(data.query('rooms > 0').pivot_table(index='floor', values=['rooms', 'last_price']).corr(),'\\n')"
   ]
  },
  {
   "cell_type": "markdown",
   "metadata": {},
   "source": [
    "**Цена от комнат:** Цена здесь также заивисит от количества комнат, однако по сравнению с площадью - меньше."
   ]
  },
  {
   "cell_type": "code",
   "execution_count": 37,
   "metadata": {},
   "outputs": [
    {
     "data": {
      "image/png": "[encoded data removed]",
      "text/plain": [
       "<Figure size 1080x360 with 1 Axes>"
      ]
     },
     "metadata": {
      "needs_background": "light"
     },
     "output_type": "display_data"
    }
   ],
   "source": [
    "#Цена от этажа, на котором находится квартира\n",
    "(\n",
    "    data.pivot_table(index='floor_type', values='last_price', aggfunc=['mean', 'count', 'median'])\n",
    "    .plot(kind='bar', figsize=(15, 5))\n",
    ")\n",
    "plt.ylim(bottom=1000)\n",
    "plt.title('Зависимость цены от этажа, на котором расположена квартира', size=10)\n",
    "plt.xlabel('Этаж')\n",
    "plt.ylabel('Количество квартир, шт.')\n",
    "plt.show()"
   ]
  },
  {
   "cell_type": "markdown",
   "metadata": {},
   "source": [
    "**Цена от этажа:** По данным видно, что самые дорогие квартиры располагаются между 1-м и последними этажами."
   ]
  },
  {
   "cell_type": "code",
   "execution_count": 38,
   "metadata": {},
   "outputs": [
    {
     "data": {
      "image/png": "[encoded data removed]",
      "text/plain": [
       "<Figure size 1080x288 with 1 Axes>"
      ]
     },
     "metadata": {
      "needs_background": "light"
     },
     "output_type": "display_data"
    }
   ],
   "source": [
    "#Цена от даты размещений(день)\n",
    "(\n",
    "    data.pivot_table(index='weekday', values='last_price', aggfunc=['mean', 'count', 'median'])\n",
    "    .reset_index()\n",
    "    .plot(kind='bar', figsize=(15, 4))\n",
    ")\n",
    "plt.ylim(bottom=1000)\n",
    "plt.title('Дата размещения', size=14)\n",
    "plt.xlabel('Площадь, кв.м')\n",
    "plt.ylabel('Количество квартир')\n",
    "plt.show()"
   ]
  },
  {
   "cell_type": "code",
   "execution_count": 39,
   "metadata": {},
   "outputs": [
    {
     "data": {
      "image/png": "[encoded data removed]",
      "text/plain": [
       "<Figure size 1080x288 with 1 Axes>"
      ]
     },
     "metadata": {
      "needs_background": "light"
     },
     "output_type": "display_data"
    }
   ],
   "source": [
    "#Цена от даты размещений(месяц)\n",
    "(\n",
    "    data.pivot_table(index='month', values='last_price', aggfunc=['mean', 'count', 'median'])\n",
    "    .reset_index()\n",
    "    .plot(kind='bar', figsize=(15, 4))\n",
    ")\n",
    "plt.ylim(bottom=1000)\n",
    "plt.title('Месяц размещения', size=14)\n",
    "plt.xlabel('Площадь, кв.м')\n",
    "plt.ylabel('Количество квартир')\n",
    "plt.show()"
   ]
  },
  {
   "cell_type": "code",
   "execution_count": 40,
   "metadata": {},
   "outputs": [
    {
     "data": {
      "image/png": "[encoded data removed]",
      "text/plain": [
       "<Figure size 1080x288 with 1 Axes>"
      ]
     },
     "metadata": {
      "needs_background": "light"
     },
     "output_type": "display_data"
    }
   ],
   "source": [
    "#Цена от даты размещений(год)\n",
    "(\n",
    "    data.pivot_table(index='year', values='last_price', aggfunc=['mean', 'count', 'median'])\n",
    "    .reset_index()\n",
    "    .plot(kind='bar', figsize=(15, 4))\n",
    ")\n",
    "plt.ylim(bottom=1000)\n",
    "plt.title('Год размещения', size=14)\n",
    "plt.xlabel('Площадь, кв.м')\n",
    "plt.ylabel('Количество квартир')\n",
    "plt.show()"
   ]
  },
  {
   "cell_type": "markdown",
   "metadata": {},
   "source": [
    "**Цена от даты:** \n",
    "- Как уже упомяналось выше, цена также зависит от дня - в будние больше, в выходные меньше;\n",
    "- По месяцам заметно, что пик в начале и в конце года; \n",
    "- По первым годам сложно сделать какой-то вывод, скорее всего данные были утеряны или не внесены, последующие же года уже выглядят более-менее правдоподобно и по ним можно увидеть зависимость."
   ]
  },
  {
   "cell_type": "markdown",
   "metadata": {},
   "source": [
    "**Посчитаем среднюю цену одного квадратного метра в 10 населённых пунктах с наибольшим числом объявлений**"
   ]
  },
  {
   "cell_type": "code",
   "execution_count": 41,
   "metadata": {},
   "outputs": [],
   "source": [
    "#Выводим 10 населенных пунктов с наибольшим числом объявлений\n",
    "lu = (\n",
    "    data.groupby('locality_unduplicated')['price_sm']\n",
    "    .agg(['median', 'count'])\n",
    "    .sort_values(by='count', ascending=False)\n",
    "    .head(10)\n",
    ")\n",
    "#lu"
   ]
  },
  {
   "cell_type": "code",
   "execution_count": 42,
   "metadata": {},
   "outputs": [
    {
     "name": "stdout",
     "output_type": "stream",
     "text": [
      "                         median  count\n",
      "locality_unduplicated                 \n",
      "Санкт-Петербург        113849.0   7493\n",
      "Пушкин                 106707.0    116\n",
      "Сестрорецк              98958.0     93\n",
      "                        median  count\n",
      "locality_unduplicated                \n",
      "Колпино                75268.0     68\n",
      "Гатчина                71471.0     58\n",
      "Всеволожск             69045.0    164\n"
     ]
    }
   ],
   "source": [
    "print(lu.sort_values(by='median', ascending=False).head(3))\n",
    "print(lu.sort_values(by='median', ascending=False).tail(3))"
   ]
  },
  {
   "cell_type": "markdown",
   "metadata": {},
   "source": [
    "**Вывод:** В первом выводе представлены данные с самой высокой стоимостью, во втором с самой низкой."
   ]
  },
  {
   "cell_type": "markdown",
   "metadata": {},
   "source": [
    "**Вычислить среднюю цену каждого километра**"
   ]
  },
  {
   "cell_type": "code",
   "execution_count": 43,
   "metadata": {
    "scrolled": false
   },
   "outputs": [
    {
     "data": {
      "text/html": [
       "<div>\n",
       "<style scoped>\n",
       "    .dataframe tbody tr th:only-of-type {\n",
       "        vertical-align: middle;\n",
       "    }\n",
       "\n",
       "    .dataframe tbody tr th {\n",
       "        vertical-align: top;\n",
       "    }\n",
       "\n",
       "    .dataframe thead th {\n",
       "        text-align: right;\n",
       "    }\n",
       "</style>\n",
       "<table border=\"1\" class=\"dataframe\">\n",
       "  <thead>\n",
       "    <tr style=\"text-align: right;\">\n",
       "      <th></th>\n",
       "      <th>price_sm</th>\n",
       "    </tr>\n",
       "    <tr>\n",
       "      <th>cityCenters_nearest_km</th>\n",
       "      <th></th>\n",
       "    </tr>\n",
       "  </thead>\n",
       "  <tbody>\n",
       "    <tr>\n",
       "      <th>0</th>\n",
       "      <td>170895.931034</td>\n",
       "    </tr>\n",
       "    <tr>\n",
       "      <th>1</th>\n",
       "      <td>162036.189024</td>\n",
       "    </tr>\n",
       "    <tr>\n",
       "      <th>2</th>\n",
       "      <td>139446.915179</td>\n",
       "    </tr>\n",
       "    <tr>\n",
       "      <th>3</th>\n",
       "      <td>123281.264249</td>\n",
       "    </tr>\n",
       "    <tr>\n",
       "      <th>4</th>\n",
       "      <td>136661.456221</td>\n",
       "    </tr>\n",
       "    <tr>\n",
       "      <th>5</th>\n",
       "      <td>150292.841603</td>\n",
       "    </tr>\n",
       "    <tr>\n",
       "      <th>6</th>\n",
       "      <td>162110.439024</td>\n",
       "    </tr>\n",
       "    <tr>\n",
       "      <th>7</th>\n",
       "      <td>157998.353659</td>\n",
       "    </tr>\n",
       "    <tr>\n",
       "      <th>8</th>\n",
       "      <td>126971.810219</td>\n",
       "    </tr>\n",
       "    <tr>\n",
       "      <th>9</th>\n",
       "      <td>117663.325581</td>\n",
       "    </tr>\n",
       "    <tr>\n",
       "      <th>10</th>\n",
       "      <td>126761.025157</td>\n",
       "    </tr>\n",
       "    <tr>\n",
       "      <th>11</th>\n",
       "      <td>117799.398305</td>\n",
       "    </tr>\n",
       "    <tr>\n",
       "      <th>12</th>\n",
       "      <td>119233.975221</td>\n",
       "    </tr>\n",
       "    <tr>\n",
       "      <th>13</th>\n",
       "      <td>116775.486711</td>\n",
       "    </tr>\n",
       "    <tr>\n",
       "      <th>14</th>\n",
       "      <td>111612.063467</td>\n",
       "    </tr>\n",
       "    <tr>\n",
       "      <th>15</th>\n",
       "      <td>110499.438061</td>\n",
       "    </tr>\n",
       "    <tr>\n",
       "      <th>16</th>\n",
       "      <td>108377.661538</td>\n",
       "    </tr>\n",
       "    <tr>\n",
       "      <th>17</th>\n",
       "      <td>98006.220408</td>\n",
       "    </tr>\n",
       "    <tr>\n",
       "      <th>18</th>\n",
       "      <td>103607.083333</td>\n",
       "    </tr>\n",
       "    <tr>\n",
       "      <th>19</th>\n",
       "      <td>90712.868421</td>\n",
       "    </tr>\n",
       "    <tr>\n",
       "      <th>20</th>\n",
       "      <td>111186.142857</td>\n",
       "    </tr>\n",
       "    <tr>\n",
       "      <th>21</th>\n",
       "      <td>94553.593750</td>\n",
       "    </tr>\n",
       "    <tr>\n",
       "      <th>22</th>\n",
       "      <td>89661.753846</td>\n",
       "    </tr>\n",
       "    <tr>\n",
       "      <th>23</th>\n",
       "      <td>84498.875000</td>\n",
       "    </tr>\n",
       "    <tr>\n",
       "      <th>24</th>\n",
       "      <td>81438.571429</td>\n",
       "    </tr>\n",
       "    <tr>\n",
       "      <th>25</th>\n",
       "      <td>89089.588235</td>\n",
       "    </tr>\n",
       "    <tr>\n",
       "      <th>26</th>\n",
       "      <td>55118.500000</td>\n",
       "    </tr>\n",
       "    <tr>\n",
       "      <th>27</th>\n",
       "      <td>132115.000000</td>\n",
       "    </tr>\n",
       "    <tr>\n",
       "      <th>28</th>\n",
       "      <td>68473.000000</td>\n",
       "    </tr>\n",
       "    <tr>\n",
       "      <th>29</th>\n",
       "      <td>65459.500000</td>\n",
       "    </tr>\n",
       "  </tbody>\n",
       "</table>\n",
       "</div>"
      ],
      "text/plain": [
       "                             price_sm\n",
       "cityCenters_nearest_km               \n",
       "0                       170895.931034\n",
       "1                       162036.189024\n",
       "2                       139446.915179\n",
       "3                       123281.264249\n",
       "4                       136661.456221\n",
       "5                       150292.841603\n",
       "6                       162110.439024\n",
       "7                       157998.353659\n",
       "8                       126971.810219\n",
       "9                       117663.325581\n",
       "10                      126761.025157\n",
       "11                      117799.398305\n",
       "12                      119233.975221\n",
       "13                      116775.486711\n",
       "14                      111612.063467\n",
       "15                      110499.438061\n",
       "16                      108377.661538\n",
       "17                       98006.220408\n",
       "18                      103607.083333\n",
       "19                       90712.868421\n",
       "20                      111186.142857\n",
       "21                       94553.593750\n",
       "22                       89661.753846\n",
       "23                       84498.875000\n",
       "24                       81438.571429\n",
       "25                       89089.588235\n",
       "26                       55118.500000\n",
       "27                      132115.000000\n",
       "28                       68473.000000\n",
       "29                       65459.500000"
      ]
     },
     "execution_count": 43,
     "metadata": {},
     "output_type": "execute_result"
    },
    {
     "data": {
      "image/png": "[encoded data removed]",
      "text/plain": [
       "<Figure size 432x288 with 1 Axes>"
      ]
     },
     "metadata": {
      "needs_background": "light"
     },
     "output_type": "display_data"
    }
   ],
   "source": [
    "data['cityCenters_nearest_km'] = data['cityCenters_nearest'] / 1000\n",
    "data['cityCenters_nearest_km'] = data['cityCenters_nearest_km'].fillna(999999)\n",
    "data['cityCenters_nearest_km'] = data['cityCenters_nearest_km'].astype('int')\n",
    "means = (\n",
    "    data.query('locality_unduplicated == \"Санкт-Петербург\" and cityCenters_nearest_km !=999999')\n",
    "    .pivot_table(index = 'cityCenters_nearest_km', values = 'price_sm', aggfunc = 'mean')\n",
    ")\n",
    "means.plot(grid = True, title = 'Заголовок')\n",
    "means"
   ]
  },
  {
   "cell_type": "markdown",
   "metadata": {},
   "source": [
    "**Вывод:** По графику видно, что после 5км зависимость убывает. Т.е. чем ближе квартира к центру города, тем дороже будет ее стоимость."
   ]
  },
  {
   "cell_type": "markdown",
   "metadata": {},
   "source": [
    "### Общий вывод"
   ]
  },
  {
   "cell_type": "markdown",
   "metadata": {},
   "source": [
    "В данном проекте были изучены предоставленные материалы, была проведена предобратка данных,исследовательский анализ данных, также были добавлены новые столбы, которые в дальнейшем помогли разобраться с данными. Конечно, к каждому пункту шел вывод, в котором описывались детали проведенных действий. \n",
    "В процессе предобратки данных были изменены данные, которые могли сбить столку и отвлечь от важной информации. Также были приведены столбы к нужному типу данных. \n",
    "На основе всех предоставленных выше данных можно сделать вывод о том, что существует большая зависимость между ценой и факторами, присущих квартире(площадь, этаж, расстояние до центра, аэропорта, парка и т.д.).\n",
    "1. На графиках можно заметить, что большинство квартир продается до 100 дней. Пик продаж около 45-50 дней.\n",
    "2. Наибольшая составляющая площадь квартир в районе 100 кв.м.\n",
    "3. Популярная цена квартиры составляет 3-5 миллиона\n",
    "4. В будние дни объявления выкладывают чаще, чем в выходные. Также в зимний и осенний период объявления выкладывают чаще, чем в весенний и летний.\n"
   ]
  }
 ],
 "metadata": {
  "ExecuteTimeLog": [
   {
    "duration": 560,
    "start_time": "2023-01-30T09:30:56.609Z"
   },
   {
    "duration": 109,
    "start_time": "2023-01-30T09:31:33.125Z"
   },
   {
    "duration": 97,
    "start_time": "2023-01-30T09:32:37.617Z"
   },
   {
    "duration": 495,
    "start_time": "2023-01-30T09:33:27.896Z"
   },
   {
    "duration": 102,
    "start_time": "2023-01-30T09:40:18.813Z"
   },
   {
    "duration": 104,
    "start_time": "2023-01-30T09:41:35.383Z"
   },
   {
    "duration": 2164,
    "start_time": "2023-01-30T09:42:16.464Z"
   },
   {
    "duration": 2977,
    "start_time": "2023-02-04T12:59:37.168Z"
   },
   {
    "duration": 2383,
    "start_time": "2023-02-04T12:59:43.485Z"
   },
   {
    "duration": 4,
    "start_time": "2023-02-04T13:18:47.529Z"
   },
   {
    "duration": 5,
    "start_time": "2023-02-04T13:22:33.217Z"
   },
   {
    "duration": 7,
    "start_time": "2023-02-04T13:28:58.608Z"
   },
   {
    "duration": 29,
    "start_time": "2023-02-04T13:32:30.764Z"
   },
   {
    "duration": 9,
    "start_time": "2023-02-04T13:33:00.205Z"
   },
   {
    "duration": 4,
    "start_time": "2023-02-04T13:36:55.869Z"
   },
   {
    "duration": 843,
    "start_time": "2023-02-09T14:09:10.914Z"
   },
   {
    "duration": 542,
    "start_time": "2023-02-09T14:11:07.458Z"
   },
   {
    "duration": 106,
    "start_time": "2023-02-09T14:11:43.710Z"
   },
   {
    "duration": 105,
    "start_time": "2023-02-09T14:13:11.389Z"
   },
   {
    "duration": 111,
    "start_time": "2023-02-09T14:13:19.085Z"
   },
   {
    "duration": 2073,
    "start_time": "2023-02-09T14:13:50.079Z"
   },
   {
    "duration": 24,
    "start_time": "2023-02-09T14:17:19.939Z"
   },
   {
    "duration": 32,
    "start_time": "2023-02-09T14:37:10.681Z"
   },
   {
    "duration": 32,
    "start_time": "2023-02-09T14:52:54.708Z"
   },
   {
    "duration": 92,
    "start_time": "2023-02-09T15:03:57.844Z"
   },
   {
    "duration": 610,
    "start_time": "2023-02-09T15:05:07.672Z"
   },
   {
    "duration": 46,
    "start_time": "2023-02-11T19:47:46.179Z"
   },
   {
    "duration": 888,
    "start_time": "2023-02-11T19:48:00.587Z"
   },
   {
    "duration": 506,
    "start_time": "2023-02-11T19:48:01.478Z"
   },
   {
    "duration": 2002,
    "start_time": "2023-02-11T19:53:29.054Z"
   },
   {
    "duration": 551,
    "start_time": "2023-02-11T19:56:03.453Z"
   },
   {
    "duration": 359,
    "start_time": "2023-02-11T19:56:17.374Z"
   },
   {
    "duration": 91,
    "start_time": "2023-02-11T19:56:46.974Z"
   },
   {
    "duration": 485,
    "start_time": "2023-02-11T19:56:47.067Z"
   },
   {
    "duration": 32,
    "start_time": "2023-02-11T20:00:22.880Z"
   },
   {
    "duration": 5,
    "start_time": "2023-02-11T20:00:31.142Z"
   },
   {
    "duration": 5,
    "start_time": "2023-02-11T20:00:37.609Z"
   },
   {
    "duration": 119,
    "start_time": "2023-02-11T20:00:54.123Z"
   },
   {
    "duration": 5,
    "start_time": "2023-02-11T20:01:09.976Z"
   },
   {
    "duration": 7,
    "start_time": "2023-02-11T20:01:46.352Z"
   },
   {
    "duration": 43,
    "start_time": "2023-02-11T20:05:28.887Z"
   },
   {
    "duration": 109,
    "start_time": "2023-02-11T20:05:44.976Z"
   },
   {
    "duration": 94,
    "start_time": "2023-02-11T20:09:00.876Z"
   },
   {
    "duration": 113,
    "start_time": "2023-02-11T20:09:10.277Z"
   },
   {
    "duration": 486,
    "start_time": "2023-02-11T20:09:10.391Z"
   },
   {
    "duration": 100,
    "start_time": "2023-02-11T20:09:10.879Z"
   },
   {
    "duration": 5,
    "start_time": "2023-02-11T20:32:38.176Z"
   },
   {
    "duration": 13,
    "start_time": "2023-02-11T20:32:39.947Z"
   },
   {
    "duration": 369,
    "start_time": "2023-02-11T20:32:41.084Z"
   },
   {
    "duration": 91,
    "start_time": "2023-02-11T20:32:43.043Z"
   },
   {
    "duration": 133,
    "start_time": "2023-02-11T20:33:15.672Z"
   },
   {
    "duration": 19,
    "start_time": "2023-02-11T20:33:15.808Z"
   },
   {
    "duration": 21,
    "start_time": "2023-02-11T20:33:15.829Z"
   },
   {
    "duration": 14,
    "start_time": "2023-02-11T20:33:15.852Z"
   },
   {
    "duration": 490,
    "start_time": "2023-02-11T20:33:15.868Z"
   },
   {
    "duration": 131,
    "start_time": "2023-02-11T20:33:16.360Z"
   },
   {
    "duration": 2,
    "start_time": "2023-02-11T20:33:16.493Z"
   },
   {
    "duration": 7,
    "start_time": "2023-02-11T20:36:31.316Z"
   },
   {
    "duration": 51,
    "start_time": "2023-02-11T20:47:02.767Z"
   },
   {
    "duration": 7,
    "start_time": "2023-02-11T20:48:35.987Z"
   },
   {
    "duration": 56,
    "start_time": "2023-02-11T20:49:00.635Z"
   },
   {
    "duration": 7,
    "start_time": "2023-02-11T20:49:43.307Z"
   },
   {
    "duration": 2039,
    "start_time": "2023-02-11T20:50:41.518Z"
   },
   {
    "duration": 12,
    "start_time": "2023-02-11T20:50:43.559Z"
   },
   {
    "duration": 12,
    "start_time": "2023-02-11T20:50:43.573Z"
   },
   {
    "duration": 11,
    "start_time": "2023-02-11T20:50:43.586Z"
   },
   {
    "duration": 463,
    "start_time": "2023-02-11T20:50:43.599Z"
   },
   {
    "duration": 106,
    "start_time": "2023-02-11T20:50:44.064Z"
   },
   {
    "duration": 4,
    "start_time": "2023-02-11T20:50:44.172Z"
   },
   {
    "duration": 14,
    "start_time": "2023-02-11T20:50:44.177Z"
   },
   {
    "duration": 315,
    "start_time": "2023-02-11T20:50:44.192Z"
   },
   {
    "duration": 6,
    "start_time": "2023-02-11T20:50:44.509Z"
   },
   {
    "duration": 4,
    "start_time": "2023-02-11T20:50:53.480Z"
   },
   {
    "duration": 41,
    "start_time": "2023-02-11T20:54:36.666Z"
   },
   {
    "duration": 41,
    "start_time": "2023-02-11T20:55:15.294Z"
   },
   {
    "duration": 10,
    "start_time": "2023-02-11T20:55:37.276Z"
   },
   {
    "duration": 1947,
    "start_time": "2023-02-11T20:55:48.739Z"
   },
   {
    "duration": 12,
    "start_time": "2023-02-11T20:55:50.688Z"
   },
   {
    "duration": 12,
    "start_time": "2023-02-11T20:55:50.701Z"
   },
   {
    "duration": 31,
    "start_time": "2023-02-11T20:55:50.714Z"
   },
   {
    "duration": 458,
    "start_time": "2023-02-11T20:55:50.747Z"
   },
   {
    "duration": 114,
    "start_time": "2023-02-11T20:55:51.206Z"
   },
   {
    "duration": 5,
    "start_time": "2023-02-11T20:55:51.322Z"
   },
   {
    "duration": 15,
    "start_time": "2023-02-11T20:55:51.337Z"
   },
   {
    "duration": 400,
    "start_time": "2023-02-11T20:55:51.353Z"
   },
   {
    "duration": 11,
    "start_time": "2023-02-11T20:55:51.754Z"
   },
   {
    "duration": 2955,
    "start_time": "2023-02-13T17:16:36.006Z"
   },
   {
    "duration": 14,
    "start_time": "2023-02-13T17:16:38.964Z"
   },
   {
    "duration": 13,
    "start_time": "2023-02-13T17:16:38.980Z"
   },
   {
    "duration": 14,
    "start_time": "2023-02-13T17:16:38.995Z"
   },
   {
    "duration": 451,
    "start_time": "2023-02-13T17:16:39.011Z"
   },
   {
    "duration": 123,
    "start_time": "2023-02-13T17:16:39.464Z"
   },
   {
    "duration": 6,
    "start_time": "2023-02-13T17:16:39.589Z"
   },
   {
    "duration": 16,
    "start_time": "2023-02-13T17:16:39.597Z"
   },
   {
    "duration": 307,
    "start_time": "2023-02-13T17:16:39.614Z"
   },
   {
    "duration": 4,
    "start_time": "2023-02-13T17:16:39.924Z"
   },
   {
    "duration": 43,
    "start_time": "2023-02-13T17:20:00.067Z"
   },
   {
    "duration": 96,
    "start_time": "2023-02-13T17:21:06.476Z"
   },
   {
    "duration": 8,
    "start_time": "2023-02-13T17:21:09.862Z"
   },
   {
    "duration": 8,
    "start_time": "2023-02-13T17:21:12.783Z"
   },
   {
    "duration": 8,
    "start_time": "2023-02-13T17:21:21.696Z"
   },
   {
    "duration": 9,
    "start_time": "2023-02-13T17:21:24.486Z"
   },
   {
    "duration": 8,
    "start_time": "2023-02-13T17:21:27.271Z"
   },
   {
    "duration": 42,
    "start_time": "2023-02-13T17:21:51.239Z"
   },
   {
    "duration": 16,
    "start_time": "2023-02-13T17:23:30.597Z"
   },
   {
    "duration": 2063,
    "start_time": "2023-02-13T17:25:08.066Z"
   },
   {
    "duration": 12,
    "start_time": "2023-02-13T17:25:10.131Z"
   },
   {
    "duration": 11,
    "start_time": "2023-02-13T17:25:10.145Z"
   },
   {
    "duration": 42,
    "start_time": "2023-02-13T17:25:10.158Z"
   },
   {
    "duration": 554,
    "start_time": "2023-02-13T17:25:10.202Z"
   },
   {
    "duration": 118,
    "start_time": "2023-02-13T17:25:10.757Z"
   },
   {
    "duration": 18,
    "start_time": "2023-02-13T17:25:10.876Z"
   },
   {
    "duration": 14,
    "start_time": "2023-02-13T17:25:10.896Z"
   },
   {
    "duration": 315,
    "start_time": "2023-02-13T17:25:10.911Z"
   },
   {
    "duration": 4,
    "start_time": "2023-02-13T17:25:11.229Z"
   },
   {
    "duration": 18,
    "start_time": "2023-02-13T17:25:11.234Z"
   },
   {
    "duration": 88,
    "start_time": "2023-02-13T17:25:41.652Z"
   },
   {
    "duration": 0,
    "start_time": "2023-02-13T17:25:41.741Z"
   },
   {
    "duration": 0,
    "start_time": "2023-02-13T17:25:41.742Z"
   },
   {
    "duration": 0,
    "start_time": "2023-02-13T17:25:41.743Z"
   },
   {
    "duration": 0,
    "start_time": "2023-02-13T17:25:41.745Z"
   },
   {
    "duration": 0,
    "start_time": "2023-02-13T17:25:41.746Z"
   },
   {
    "duration": 0,
    "start_time": "2023-02-13T17:25:41.747Z"
   },
   {
    "duration": 0,
    "start_time": "2023-02-13T17:25:41.748Z"
   },
   {
    "duration": 0,
    "start_time": "2023-02-13T17:25:41.749Z"
   },
   {
    "duration": 0,
    "start_time": "2023-02-13T17:25:41.750Z"
   },
   {
    "duration": 0,
    "start_time": "2023-02-13T17:25:41.751Z"
   },
   {
    "duration": 487,
    "start_time": "2023-02-13T17:26:55.507Z"
   },
   {
    "duration": 2056,
    "start_time": "2023-02-13T17:34:29.469Z"
   },
   {
    "duration": 12,
    "start_time": "2023-02-13T17:34:31.526Z"
   },
   {
    "duration": 20,
    "start_time": "2023-02-13T17:34:31.540Z"
   },
   {
    "duration": 12,
    "start_time": "2023-02-13T17:34:31.562Z"
   },
   {
    "duration": 484,
    "start_time": "2023-02-13T17:34:31.575Z"
   },
   {
    "duration": 141,
    "start_time": "2023-02-13T17:34:32.061Z"
   },
   {
    "duration": 5,
    "start_time": "2023-02-13T17:34:32.204Z"
   },
   {
    "duration": 31,
    "start_time": "2023-02-13T17:34:32.212Z"
   },
   {
    "duration": 321,
    "start_time": "2023-02-13T17:34:32.245Z"
   },
   {
    "duration": 4,
    "start_time": "2023-02-13T17:34:32.568Z"
   },
   {
    "duration": 176,
    "start_time": "2023-02-13T17:45:26.935Z"
   },
   {
    "duration": 271,
    "start_time": "2023-02-13T17:47:37.475Z"
   },
   {
    "duration": 163,
    "start_time": "2023-02-13T17:48:12.144Z"
   },
   {
    "duration": 192,
    "start_time": "2023-02-13T17:49:26.752Z"
   },
   {
    "duration": 255,
    "start_time": "2023-02-13T17:49:49.001Z"
   },
   {
    "duration": 939,
    "start_time": "2023-02-13T17:54:25.333Z"
   },
   {
    "duration": 161,
    "start_time": "2023-02-13T17:54:37.061Z"
   },
   {
    "duration": 5,
    "start_time": "2023-02-13T17:55:46.559Z"
   },
   {
    "duration": 4,
    "start_time": "2023-02-13T17:55:54.000Z"
   },
   {
    "duration": 6,
    "start_time": "2023-02-13T17:56:02.470Z"
   },
   {
    "duration": 5,
    "start_time": "2023-02-13T17:56:08.944Z"
   },
   {
    "duration": 163,
    "start_time": "2023-02-13T17:58:19.920Z"
   },
   {
    "duration": 251,
    "start_time": "2023-02-13T17:59:24.296Z"
   },
   {
    "duration": 175,
    "start_time": "2023-02-13T17:59:42.372Z"
   },
   {
    "duration": 178,
    "start_time": "2023-02-13T17:59:48.336Z"
   },
   {
    "duration": 5,
    "start_time": "2023-02-13T18:00:44.995Z"
   },
   {
    "duration": 139,
    "start_time": "2023-02-13T18:01:07.126Z"
   },
   {
    "duration": 229,
    "start_time": "2023-02-13T18:02:23.954Z"
   },
   {
    "duration": 288,
    "start_time": "2023-02-13T18:04:58.006Z"
   },
   {
    "duration": 145,
    "start_time": "2023-02-13T18:05:04.191Z"
   },
   {
    "duration": 131,
    "start_time": "2023-02-13T18:05:10.109Z"
   },
   {
    "duration": 168,
    "start_time": "2023-02-13T18:19:42.261Z"
   },
   {
    "duration": 175,
    "start_time": "2023-02-13T18:19:50.492Z"
   },
   {
    "duration": 156,
    "start_time": "2023-02-13T18:19:57.455Z"
   },
   {
    "duration": 142,
    "start_time": "2023-02-13T18:30:13.328Z"
   },
   {
    "duration": 144,
    "start_time": "2023-02-13T18:30:19.359Z"
   },
   {
    "duration": 119,
    "start_time": "2023-02-13T18:30:24.693Z"
   },
   {
    "duration": 122,
    "start_time": "2023-02-13T18:30:29.499Z"
   },
   {
    "duration": 119,
    "start_time": "2023-02-13T18:30:55.285Z"
   },
   {
    "duration": 129,
    "start_time": "2023-02-13T18:31:12.173Z"
   },
   {
    "duration": 46,
    "start_time": "2023-02-13T18:31:33.625Z"
   },
   {
    "duration": 124,
    "start_time": "2023-02-13T18:31:52.933Z"
   },
   {
    "duration": 156,
    "start_time": "2023-02-13T18:32:00.072Z"
   },
   {
    "duration": 133,
    "start_time": "2023-02-13T18:32:04.489Z"
   },
   {
    "duration": 142,
    "start_time": "2023-02-13T18:33:02.251Z"
   },
   {
    "duration": 132,
    "start_time": "2023-02-13T18:36:42.311Z"
   },
   {
    "duration": 2110,
    "start_time": "2023-02-13T18:40:12.018Z"
   },
   {
    "duration": 12,
    "start_time": "2023-02-13T18:40:14.130Z"
   },
   {
    "duration": 65,
    "start_time": "2023-02-13T18:40:14.144Z"
   },
   {
    "duration": 28,
    "start_time": "2023-02-13T18:40:14.211Z"
   },
   {
    "duration": 7,
    "start_time": "2023-02-13T18:40:14.241Z"
   },
   {
    "duration": 586,
    "start_time": "2023-02-13T18:40:14.250Z"
   },
   {
    "duration": 141,
    "start_time": "2023-02-13T18:40:14.838Z"
   },
   {
    "duration": 5,
    "start_time": "2023-02-13T18:40:14.981Z"
   },
   {
    "duration": 46,
    "start_time": "2023-02-13T18:40:14.994Z"
   },
   {
    "duration": 427,
    "start_time": "2023-02-13T18:40:15.044Z"
   },
   {
    "duration": 4,
    "start_time": "2023-02-13T18:40:15.473Z"
   },
   {
    "duration": 187,
    "start_time": "2023-02-13T18:40:15.479Z"
   },
   {
    "duration": 249,
    "start_time": "2023-02-13T18:40:15.667Z"
   },
   {
    "duration": 177,
    "start_time": "2023-02-13T18:40:15.918Z"
   },
   {
    "duration": 197,
    "start_time": "2023-02-13T18:40:16.097Z"
   },
   {
    "duration": 142,
    "start_time": "2023-02-13T18:40:16.296Z"
   },
   {
    "duration": 157,
    "start_time": "2023-02-13T18:40:16.440Z"
   },
   {
    "duration": 160,
    "start_time": "2023-02-13T18:40:16.599Z"
   },
   {
    "duration": 138,
    "start_time": "2023-02-13T18:40:16.761Z"
   },
   {
    "duration": 2012,
    "start_time": "2023-02-13T18:41:48.246Z"
   },
   {
    "duration": 12,
    "start_time": "2023-02-13T18:41:50.260Z"
   },
   {
    "duration": 26,
    "start_time": "2023-02-13T18:41:50.274Z"
   },
   {
    "duration": 12,
    "start_time": "2023-02-13T18:41:50.302Z"
   },
   {
    "duration": 560,
    "start_time": "2023-02-13T18:41:50.316Z"
   },
   {
    "duration": 138,
    "start_time": "2023-02-13T18:41:50.878Z"
   },
   {
    "duration": 5,
    "start_time": "2023-02-13T18:41:51.018Z"
   },
   {
    "duration": 23,
    "start_time": "2023-02-13T18:41:51.025Z"
   },
   {
    "duration": 369,
    "start_time": "2023-02-13T18:41:51.049Z"
   },
   {
    "duration": 4,
    "start_time": "2023-02-13T18:41:51.421Z"
   },
   {
    "duration": 219,
    "start_time": "2023-02-13T18:41:51.427Z"
   },
   {
    "duration": 245,
    "start_time": "2023-02-13T18:41:51.648Z"
   },
   {
    "duration": 232,
    "start_time": "2023-02-13T18:41:51.895Z"
   },
   {
    "duration": 268,
    "start_time": "2023-02-13T18:41:52.130Z"
   },
   {
    "duration": 144,
    "start_time": "2023-02-13T18:41:52.400Z"
   },
   {
    "duration": 187,
    "start_time": "2023-02-13T18:41:52.545Z"
   },
   {
    "duration": 325,
    "start_time": "2023-02-13T18:41:52.734Z"
   },
   {
    "duration": 158,
    "start_time": "2023-02-13T18:41:53.062Z"
   },
   {
    "duration": 178,
    "start_time": "2023-02-13T18:44:31.800Z"
   },
   {
    "duration": 154,
    "start_time": "2023-02-13T18:44:46.512Z"
   },
   {
    "duration": 149,
    "start_time": "2023-02-13T18:44:54.568Z"
   },
   {
    "duration": 147,
    "start_time": "2023-02-13T18:44:59.226Z"
   },
   {
    "duration": 144,
    "start_time": "2023-02-13T19:03:50.358Z"
   },
   {
    "duration": 152,
    "start_time": "2023-02-13T19:04:10.730Z"
   },
   {
    "duration": 155,
    "start_time": "2023-02-13T19:04:18.155Z"
   },
   {
    "duration": 156,
    "start_time": "2023-02-13T19:04:22.040Z"
   },
   {
    "duration": 162,
    "start_time": "2023-02-13T19:04:26.714Z"
   },
   {
    "duration": 167,
    "start_time": "2023-02-13T19:04:31.257Z"
   },
   {
    "duration": 149,
    "start_time": "2023-02-13T19:06:29.590Z"
   },
   {
    "duration": 124,
    "start_time": "2023-02-13T19:06:55.287Z"
   },
   {
    "duration": 161,
    "start_time": "2023-02-13T19:07:00.975Z"
   },
   {
    "duration": 146,
    "start_time": "2023-02-13T19:07:09.967Z"
   },
   {
    "duration": 160,
    "start_time": "2023-02-13T19:07:15.389Z"
   },
   {
    "duration": 162,
    "start_time": "2023-02-13T19:07:29.753Z"
   },
   {
    "duration": 340,
    "start_time": "2023-02-13T19:07:41.105Z"
   },
   {
    "duration": 133,
    "start_time": "2023-02-13T19:07:46.792Z"
   },
   {
    "duration": 113,
    "start_time": "2023-02-13T19:07:50.774Z"
   },
   {
    "duration": 41,
    "start_time": "2023-02-13T19:08:17.193Z"
   },
   {
    "duration": 20,
    "start_time": "2023-02-13T19:08:38.787Z"
   },
   {
    "duration": 6,
    "start_time": "2023-02-13T19:09:03.083Z"
   },
   {
    "duration": 123,
    "start_time": "2023-02-13T19:12:19.659Z"
   },
   {
    "duration": 132,
    "start_time": "2023-02-13T19:13:09.733Z"
   },
   {
    "duration": 143,
    "start_time": "2023-02-13T19:13:18.215Z"
   },
   {
    "duration": 111,
    "start_time": "2023-02-13T19:13:23.023Z"
   },
   {
    "duration": 120,
    "start_time": "2023-02-13T19:13:27.391Z"
   },
   {
    "duration": 115,
    "start_time": "2023-02-13T19:13:32.051Z"
   },
   {
    "duration": 146,
    "start_time": "2023-02-13T19:13:42.646Z"
   },
   {
    "duration": 138,
    "start_time": "2023-02-13T19:13:43.459Z"
   },
   {
    "duration": 156,
    "start_time": "2023-02-13T19:14:07.638Z"
   },
   {
    "duration": 151,
    "start_time": "2023-02-13T19:14:19.570Z"
   },
   {
    "duration": 154,
    "start_time": "2023-02-13T19:14:24.795Z"
   },
   {
    "duration": 147,
    "start_time": "2023-02-13T19:14:28.465Z"
   },
   {
    "duration": 158,
    "start_time": "2023-02-13T19:14:34.657Z"
   },
   {
    "duration": 124,
    "start_time": "2023-02-13T19:15:13.260Z"
   },
   {
    "duration": 144,
    "start_time": "2023-02-13T19:15:22.117Z"
   },
   {
    "duration": 199,
    "start_time": "2023-02-13T19:15:28.461Z"
   },
   {
    "duration": 141,
    "start_time": "2023-02-13T19:15:47.361Z"
   },
   {
    "duration": 153,
    "start_time": "2023-02-13T19:15:52.365Z"
   },
   {
    "duration": 154,
    "start_time": "2023-02-13T19:16:01.461Z"
   },
   {
    "duration": 152,
    "start_time": "2023-02-13T19:16:05.964Z"
   },
   {
    "duration": 109,
    "start_time": "2023-02-13T19:16:49.223Z"
   },
   {
    "duration": 275,
    "start_time": "2023-02-13T19:19:06.764Z"
   },
   {
    "duration": 320,
    "start_time": "2023-02-13T19:19:19.429Z"
   },
   {
    "duration": 315,
    "start_time": "2023-02-13T19:20:07.315Z"
   },
   {
    "duration": 149,
    "start_time": "2023-02-13T20:13:53.005Z"
   },
   {
    "duration": 8,
    "start_time": "2023-02-13T20:25:09.547Z"
   },
   {
    "duration": 5,
    "start_time": "2023-02-13T20:25:17.047Z"
   },
   {
    "duration": 8,
    "start_time": "2023-02-13T20:26:40.358Z"
   },
   {
    "duration": 525,
    "start_time": "2023-02-13T20:26:46.990Z"
   },
   {
    "duration": 234,
    "start_time": "2023-02-13T20:27:17.399Z"
   },
   {
    "duration": 305,
    "start_time": "2023-02-13T20:27:24.072Z"
   },
   {
    "duration": 219,
    "start_time": "2023-02-13T20:27:30.017Z"
   },
   {
    "duration": 253,
    "start_time": "2023-02-13T20:27:41.250Z"
   },
   {
    "duration": 5,
    "start_time": "2023-02-13T20:30:54.601Z"
   },
   {
    "duration": 133,
    "start_time": "2023-02-13T20:50:49.767Z"
   },
   {
    "duration": 140,
    "start_time": "2023-02-13T20:51:05.051Z"
   },
   {
    "duration": 154,
    "start_time": "2023-02-13T20:52:58.540Z"
   },
   {
    "duration": 147,
    "start_time": "2023-02-13T20:54:36.789Z"
   },
   {
    "duration": 160,
    "start_time": "2023-02-13T20:54:42.037Z"
   },
   {
    "duration": 115,
    "start_time": "2023-02-13T20:55:07.217Z"
   },
   {
    "duration": 147,
    "start_time": "2023-02-13T20:55:13.714Z"
   },
   {
    "duration": 162,
    "start_time": "2023-02-13T20:55:22.040Z"
   },
   {
    "duration": 146,
    "start_time": "2023-02-13T20:55:27.590Z"
   },
   {
    "duration": 132,
    "start_time": "2023-02-13T20:58:28.336Z"
   },
   {
    "duration": 137,
    "start_time": "2023-02-13T20:58:50.230Z"
   },
   {
    "duration": 138,
    "start_time": "2023-02-13T20:59:42.473Z"
   },
   {
    "duration": 138,
    "start_time": "2023-02-13T21:03:54.764Z"
   },
   {
    "duration": 149,
    "start_time": "2023-02-13T21:04:46.486Z"
   },
   {
    "duration": 152,
    "start_time": "2023-02-13T21:05:08.542Z"
   },
   {
    "duration": 147,
    "start_time": "2023-02-13T21:07:11.796Z"
   },
   {
    "duration": 162,
    "start_time": "2023-02-13T21:07:30.255Z"
   },
   {
    "duration": 57,
    "start_time": "2023-02-13T21:10:49.460Z"
   },
   {
    "duration": 147,
    "start_time": "2023-02-13T21:11:08.909Z"
   },
   {
    "duration": 169,
    "start_time": "2023-02-13T21:13:11.483Z"
   },
   {
    "duration": 180,
    "start_time": "2023-02-13T21:14:25.409Z"
   },
   {
    "duration": 444,
    "start_time": "2023-02-13T21:14:42.048Z"
   },
   {
    "duration": 156,
    "start_time": "2023-02-13T21:16:03.665Z"
   },
   {
    "duration": 157,
    "start_time": "2023-02-13T21:18:16.366Z"
   },
   {
    "duration": 206,
    "start_time": "2023-02-13T21:18:21.769Z"
   },
   {
    "duration": 269,
    "start_time": "2023-02-13T21:24:04.044Z"
   },
   {
    "duration": 174,
    "start_time": "2023-02-13T21:24:23.464Z"
   },
   {
    "duration": 7,
    "start_time": "2023-02-13T21:35:44.261Z"
   },
   {
    "duration": 54,
    "start_time": "2023-02-13T21:37:42.684Z"
   },
   {
    "duration": 13,
    "start_time": "2023-02-13T21:37:52.786Z"
   },
   {
    "duration": 15,
    "start_time": "2023-02-13T21:39:21.975Z"
   },
   {
    "duration": 18,
    "start_time": "2023-02-13T21:41:10.193Z"
   },
   {
    "duration": 11,
    "start_time": "2023-02-13T21:41:14.448Z"
   },
   {
    "duration": 11,
    "start_time": "2023-02-13T21:41:52.796Z"
   },
   {
    "duration": 23,
    "start_time": "2023-02-13T21:51:00.852Z"
   },
   {
    "duration": 146,
    "start_time": "2023-02-13T21:51:45.608Z"
   },
   {
    "duration": 163,
    "start_time": "2023-02-13T21:52:26.162Z"
   },
   {
    "duration": 163,
    "start_time": "2023-02-13T21:53:03.788Z"
   },
   {
    "duration": 145,
    "start_time": "2023-02-13T21:53:16.786Z"
   },
   {
    "duration": 3094,
    "start_time": "2023-02-13T22:31:56.237Z"
   },
   {
    "duration": 18,
    "start_time": "2023-02-13T22:31:59.334Z"
   },
   {
    "duration": 17,
    "start_time": "2023-02-13T22:31:59.354Z"
   },
   {
    "duration": 23,
    "start_time": "2023-02-13T22:31:59.373Z"
   },
   {
    "duration": 604,
    "start_time": "2023-02-13T22:31:59.400Z"
   },
   {
    "duration": 196,
    "start_time": "2023-02-13T22:32:00.006Z"
   },
   {
    "duration": 19,
    "start_time": "2023-02-13T22:32:00.205Z"
   },
   {
    "duration": 36,
    "start_time": "2023-02-13T22:32:00.226Z"
   },
   {
    "duration": 378,
    "start_time": "2023-02-13T22:32:00.264Z"
   },
   {
    "duration": 4,
    "start_time": "2023-02-13T22:32:00.644Z"
   },
   {
    "duration": 312,
    "start_time": "2023-02-13T22:32:00.650Z"
   },
   {
    "duration": 286,
    "start_time": "2023-02-13T22:32:00.964Z"
   },
   {
    "duration": 209,
    "start_time": "2023-02-13T22:32:01.252Z"
   },
   {
    "duration": 212,
    "start_time": "2023-02-13T22:32:01.465Z"
   },
   {
    "duration": 172,
    "start_time": "2023-02-13T22:32:01.679Z"
   },
   {
    "duration": 202,
    "start_time": "2023-02-13T22:32:01.854Z"
   },
   {
    "duration": 205,
    "start_time": "2023-02-13T22:32:02.058Z"
   },
   {
    "duration": 175,
    "start_time": "2023-02-13T22:32:02.265Z"
   },
   {
    "duration": 174,
    "start_time": "2023-02-13T22:32:02.441Z"
   },
   {
    "duration": 194,
    "start_time": "2023-02-13T22:32:02.623Z"
   },
   {
    "duration": 288,
    "start_time": "2023-02-13T22:32:02.820Z"
   },
   {
    "duration": 176,
    "start_time": "2023-02-13T22:32:03.110Z"
   },
   {
    "duration": 336,
    "start_time": "2023-02-13T22:32:03.288Z"
   },
   {
    "duration": 14,
    "start_time": "2023-02-13T22:32:03.626Z"
   },
   {
    "duration": 307,
    "start_time": "2023-02-13T22:32:03.643Z"
   },
   {
    "duration": 187,
    "start_time": "2023-02-13T22:32:03.952Z"
   },
   {
    "duration": 227,
    "start_time": "2023-02-13T22:32:04.142Z"
   },
   {
    "duration": 225,
    "start_time": "2023-02-13T22:32:04.372Z"
   },
   {
    "duration": 250,
    "start_time": "2023-02-13T22:32:04.601Z"
   },
   {
    "duration": 223,
    "start_time": "2023-02-13T22:32:04.853Z"
   },
   {
    "duration": 364,
    "start_time": "2023-02-13T22:32:05.078Z"
   },
   {
    "duration": 258,
    "start_time": "2023-02-13T22:32:05.444Z"
   },
   {
    "duration": 239,
    "start_time": "2023-02-13T22:32:05.704Z"
   },
   {
    "duration": 11,
    "start_time": "2023-02-13T22:32:05.945Z"
   },
   {
    "duration": 11,
    "start_time": "2023-02-13T22:32:05.958Z"
   },
   {
    "duration": 228,
    "start_time": "2023-02-13T22:32:05.971Z"
   },
   {
    "duration": 97,
    "start_time": "2023-02-13T22:33:48.559Z"
   },
   {
    "duration": 182,
    "start_time": "2023-02-13T22:37:18.993Z"
   },
   {
    "duration": 49,
    "start_time": "2023-02-14T15:04:08.846Z"
   },
   {
    "duration": 2813,
    "start_time": "2023-02-14T15:04:14.264Z"
   },
   {
    "duration": 34,
    "start_time": "2023-02-14T15:04:17.079Z"
   },
   {
    "duration": 11,
    "start_time": "2023-02-14T15:04:17.115Z"
   },
   {
    "duration": 12,
    "start_time": "2023-02-14T15:04:17.128Z"
   },
   {
    "duration": 472,
    "start_time": "2023-02-14T15:04:17.141Z"
   },
   {
    "duration": 109,
    "start_time": "2023-02-14T15:04:17.615Z"
   },
   {
    "duration": 70,
    "start_time": "2023-02-14T15:04:17.725Z"
   },
   {
    "duration": 4,
    "start_time": "2023-02-14T15:04:17.797Z"
   },
   {
    "duration": 14,
    "start_time": "2023-02-14T15:04:17.803Z"
   },
   {
    "duration": 304,
    "start_time": "2023-02-14T15:04:17.820Z"
   },
   {
    "duration": 4,
    "start_time": "2023-02-14T15:04:18.126Z"
   },
   {
    "duration": 241,
    "start_time": "2023-02-14T15:04:18.131Z"
   },
   {
    "duration": 207,
    "start_time": "2023-02-14T15:04:18.374Z"
   },
   {
    "duration": 147,
    "start_time": "2023-02-14T15:04:18.583Z"
   },
   {
    "duration": 153,
    "start_time": "2023-02-14T15:04:18.731Z"
   },
   {
    "duration": 137,
    "start_time": "2023-02-14T15:04:18.886Z"
   },
   {
    "duration": 164,
    "start_time": "2023-02-14T15:04:19.025Z"
   },
   {
    "duration": 151,
    "start_time": "2023-02-14T15:04:19.192Z"
   },
   {
    "duration": 116,
    "start_time": "2023-02-14T15:04:19.344Z"
   },
   {
    "duration": 147,
    "start_time": "2023-02-14T15:04:19.461Z"
   },
   {
    "duration": 154,
    "start_time": "2023-02-14T15:04:19.610Z"
   },
   {
    "duration": 222,
    "start_time": "2023-02-14T15:04:19.765Z"
   },
   {
    "duration": 135,
    "start_time": "2023-02-14T15:04:19.989Z"
   },
   {
    "duration": 270,
    "start_time": "2023-02-14T15:04:20.127Z"
   },
   {
    "duration": 5,
    "start_time": "2023-02-14T15:04:20.398Z"
   },
   {
    "duration": 256,
    "start_time": "2023-02-14T15:04:20.404Z"
   },
   {
    "duration": 140,
    "start_time": "2023-02-14T15:04:20.661Z"
   },
   {
    "duration": 151,
    "start_time": "2023-02-14T15:04:20.804Z"
   },
   {
    "duration": 153,
    "start_time": "2023-02-14T15:04:20.957Z"
   },
   {
    "duration": 157,
    "start_time": "2023-02-14T15:04:21.112Z"
   },
   {
    "duration": 180,
    "start_time": "2023-02-14T15:04:21.270Z"
   },
   {
    "duration": 307,
    "start_time": "2023-02-14T15:04:21.452Z"
   },
   {
    "duration": 218,
    "start_time": "2023-02-14T15:04:21.760Z"
   },
   {
    "duration": 174,
    "start_time": "2023-02-14T15:04:21.980Z"
   },
   {
    "duration": 8,
    "start_time": "2023-02-14T15:04:22.155Z"
   },
   {
    "duration": 8,
    "start_time": "2023-02-14T15:04:22.165Z"
   },
   {
    "duration": 201,
    "start_time": "2023-02-14T15:04:22.174Z"
   },
   {
    "duration": 54,
    "start_time": "2023-02-14T15:05:04.255Z"
   },
   {
    "duration": 54,
    "start_time": "2023-02-14T15:06:44.472Z"
   },
   {
    "duration": 66,
    "start_time": "2023-02-14T15:07:23.354Z"
   },
   {
    "duration": 1926,
    "start_time": "2023-02-14T15:10:37.760Z"
   },
   {
    "duration": 45,
    "start_time": "2023-02-14T15:10:39.688Z"
   },
   {
    "duration": 11,
    "start_time": "2023-02-14T15:10:39.735Z"
   },
   {
    "duration": 13,
    "start_time": "2023-02-14T15:10:39.748Z"
   },
   {
    "duration": 360,
    "start_time": "2023-02-14T15:10:39.762Z"
   },
   {
    "duration": 115,
    "start_time": "2023-02-14T15:10:40.124Z"
   },
   {
    "duration": 72,
    "start_time": "2023-02-14T15:10:40.241Z"
   },
   {
    "duration": 6,
    "start_time": "2023-02-14T15:10:40.315Z"
   },
   {
    "duration": 25,
    "start_time": "2023-02-14T15:10:40.322Z"
   },
   {
    "duration": 384,
    "start_time": "2023-02-14T15:10:40.350Z"
   },
   {
    "duration": 5,
    "start_time": "2023-02-14T15:10:40.735Z"
   },
   {
    "duration": 175,
    "start_time": "2023-02-14T15:10:40.742Z"
   },
   {
    "duration": 219,
    "start_time": "2023-02-14T15:10:40.919Z"
   },
   {
    "duration": 159,
    "start_time": "2023-02-14T15:10:41.140Z"
   },
   {
    "duration": 163,
    "start_time": "2023-02-14T15:10:41.301Z"
   },
   {
    "duration": 141,
    "start_time": "2023-02-14T15:10:41.466Z"
   },
   {
    "duration": 162,
    "start_time": "2023-02-14T15:10:41.609Z"
   },
   {
    "duration": 153,
    "start_time": "2023-02-14T15:10:41.773Z"
   },
   {
    "duration": 114,
    "start_time": "2023-02-14T15:10:41.928Z"
   },
   {
    "duration": 148,
    "start_time": "2023-02-14T15:10:42.044Z"
   },
   {
    "duration": 174,
    "start_time": "2023-02-14T15:10:42.194Z"
   },
   {
    "duration": 143,
    "start_time": "2023-02-14T15:10:42.370Z"
   },
   {
    "duration": 139,
    "start_time": "2023-02-14T15:10:42.515Z"
   },
   {
    "duration": 399,
    "start_time": "2023-02-14T15:10:42.655Z"
   },
   {
    "duration": 5,
    "start_time": "2023-02-14T15:10:43.056Z"
   },
   {
    "duration": 280,
    "start_time": "2023-02-14T15:10:43.063Z"
   },
   {
    "duration": 148,
    "start_time": "2023-02-14T15:10:43.345Z"
   },
   {
    "duration": 170,
    "start_time": "2023-02-14T15:10:43.497Z"
   },
   {
    "duration": 158,
    "start_time": "2023-02-14T15:10:43.668Z"
   },
   {
    "duration": 183,
    "start_time": "2023-02-14T15:10:43.828Z"
   },
   {
    "duration": 235,
    "start_time": "2023-02-14T15:10:44.014Z"
   },
   {
    "duration": 189,
    "start_time": "2023-02-14T15:10:44.251Z"
   },
   {
    "duration": 210,
    "start_time": "2023-02-14T15:10:44.442Z"
   },
   {
    "duration": 165,
    "start_time": "2023-02-14T15:10:44.653Z"
   },
   {
    "duration": 9,
    "start_time": "2023-02-14T15:10:44.819Z"
   },
   {
    "duration": 16,
    "start_time": "2023-02-14T15:10:44.830Z"
   },
   {
    "duration": 159,
    "start_time": "2023-02-14T15:10:44.848Z"
   },
   {
    "duration": 7,
    "start_time": "2023-02-14T15:15:33.814Z"
   },
   {
    "duration": 459,
    "start_time": "2023-02-14T15:18:51.567Z"
   },
   {
    "duration": 333,
    "start_time": "2023-02-14T15:19:02.536Z"
   },
   {
    "duration": 347,
    "start_time": "2023-02-14T15:19:17.664Z"
   },
   {
    "duration": 351,
    "start_time": "2023-02-14T15:19:30.473Z"
   },
   {
    "duration": 84,
    "start_time": "2023-02-14T15:50:44.234Z"
   },
   {
    "duration": 88,
    "start_time": "2023-02-14T15:51:47.293Z"
   },
   {
    "duration": 108,
    "start_time": "2023-02-14T15:54:35.497Z"
   },
   {
    "duration": 96,
    "start_time": "2023-02-14T15:58:35.324Z"
   },
   {
    "duration": 114,
    "start_time": "2023-02-14T15:59:21.285Z"
   },
   {
    "duration": 114,
    "start_time": "2023-02-14T15:59:30.974Z"
   },
   {
    "duration": 191,
    "start_time": "2023-02-14T15:59:34.982Z"
   },
   {
    "duration": 112,
    "start_time": "2023-02-14T16:01:42.971Z"
   },
   {
    "duration": 115,
    "start_time": "2023-02-14T16:03:54.880Z"
   },
   {
    "duration": 119,
    "start_time": "2023-02-14T16:19:18.900Z"
   },
   {
    "duration": 127,
    "start_time": "2023-02-14T16:34:55.342Z"
   },
   {
    "duration": 108,
    "start_time": "2023-02-14T16:36:48.120Z"
   },
   {
    "duration": 115,
    "start_time": "2023-02-14T16:36:58.355Z"
   },
   {
    "duration": 114,
    "start_time": "2023-02-14T16:37:10.519Z"
   },
   {
    "duration": 108,
    "start_time": "2023-02-14T16:37:45.108Z"
   },
   {
    "duration": 8,
    "start_time": "2023-02-14T16:40:52.120Z"
   },
   {
    "duration": 9,
    "start_time": "2023-02-14T16:41:32.529Z"
   },
   {
    "duration": 136,
    "start_time": "2023-02-14T16:41:43.953Z"
   },
   {
    "duration": 125,
    "start_time": "2023-02-14T16:59:02.220Z"
   },
   {
    "duration": 130,
    "start_time": "2023-02-14T16:59:23.839Z"
   },
   {
    "duration": 122,
    "start_time": "2023-02-14T16:59:26.336Z"
   },
   {
    "duration": 113,
    "start_time": "2023-02-14T16:59:33.199Z"
   },
   {
    "duration": 108,
    "start_time": "2023-02-14T16:59:42.952Z"
   },
   {
    "duration": 88,
    "start_time": "2023-02-14T16:59:48.033Z"
   },
   {
    "duration": 90,
    "start_time": "2023-02-14T16:59:58.368Z"
   },
   {
    "duration": 2035,
    "start_time": "2023-02-14T17:00:01.101Z"
   },
   {
    "duration": 55,
    "start_time": "2023-02-14T17:00:03.138Z"
   },
   {
    "duration": 12,
    "start_time": "2023-02-14T17:00:03.195Z"
   },
   {
    "duration": 39,
    "start_time": "2023-02-14T17:00:03.208Z"
   },
   {
    "duration": 355,
    "start_time": "2023-02-14T17:00:03.249Z"
   },
   {
    "duration": 122,
    "start_time": "2023-02-14T17:00:03.605Z"
   },
   {
    "duration": 69,
    "start_time": "2023-02-14T17:00:03.728Z"
   },
   {
    "duration": 125,
    "start_time": "2023-02-14T17:00:03.799Z"
   },
   {
    "duration": 336,
    "start_time": "2023-02-14T17:00:03.925Z"
   },
   {
    "duration": 5,
    "start_time": "2023-02-14T17:00:04.264Z"
   },
   {
    "duration": 25,
    "start_time": "2023-02-14T17:00:04.270Z"
   },
   {
    "duration": 308,
    "start_time": "2023-02-14T17:00:04.297Z"
   },
   {
    "duration": 4,
    "start_time": "2023-02-14T17:00:04.607Z"
   },
   {
    "duration": 193,
    "start_time": "2023-02-14T17:00:04.613Z"
   },
   {
    "duration": 225,
    "start_time": "2023-02-14T17:00:04.808Z"
   },
   {
    "duration": 177,
    "start_time": "2023-02-14T17:00:05.034Z"
   },
   {
    "duration": 176,
    "start_time": "2023-02-14T17:00:05.213Z"
   },
   {
    "duration": 161,
    "start_time": "2023-02-14T17:00:05.394Z"
   },
   {
    "duration": 173,
    "start_time": "2023-02-14T17:00:05.557Z"
   },
   {
    "duration": 157,
    "start_time": "2023-02-14T17:00:05.732Z"
   },
   {
    "duration": 118,
    "start_time": "2023-02-14T17:00:05.892Z"
   },
   {
    "duration": 154,
    "start_time": "2023-02-14T17:00:06.011Z"
   },
   {
    "duration": 176,
    "start_time": "2023-02-14T17:00:06.167Z"
   },
   {
    "duration": 141,
    "start_time": "2023-02-14T17:00:06.345Z"
   },
   {
    "duration": 330,
    "start_time": "2023-02-14T17:00:06.488Z"
   },
   {
    "duration": 290,
    "start_time": "2023-02-14T17:00:06.820Z"
   },
   {
    "duration": 7,
    "start_time": "2023-02-14T17:00:07.112Z"
   },
   {
    "duration": 276,
    "start_time": "2023-02-14T17:00:07.122Z"
   },
   {
    "duration": 148,
    "start_time": "2023-02-14T17:00:07.400Z"
   },
   {
    "duration": 157,
    "start_time": "2023-02-14T17:00:07.550Z"
   },
   {
    "duration": 147,
    "start_time": "2023-02-14T17:00:07.709Z"
   },
   {
    "duration": 159,
    "start_time": "2023-02-14T17:00:07.858Z"
   },
   {
    "duration": 175,
    "start_time": "2023-02-14T17:00:08.019Z"
   },
   {
    "duration": 184,
    "start_time": "2023-02-14T17:00:08.196Z"
   },
   {
    "duration": 221,
    "start_time": "2023-02-14T17:00:08.382Z"
   },
   {
    "duration": 184,
    "start_time": "2023-02-14T17:00:08.604Z"
   },
   {
    "duration": 9,
    "start_time": "2023-02-14T17:00:08.789Z"
   },
   {
    "duration": 35,
    "start_time": "2023-02-14T17:00:08.800Z"
   },
   {
    "duration": 190,
    "start_time": "2023-02-14T17:00:08.837Z"
   },
   {
    "duration": 136,
    "start_time": "2023-02-14T17:03:07.969Z"
   },
   {
    "duration": 113,
    "start_time": "2023-02-14T17:04:22.653Z"
   },
   {
    "duration": 55,
    "start_time": "2023-02-14T17:07:27.748Z"
   },
   {
    "duration": 61,
    "start_time": "2023-02-14T17:07:32.107Z"
   },
   {
    "duration": 41,
    "start_time": "2023-02-14T17:07:38.277Z"
   },
   {
    "duration": 46,
    "start_time": "2023-02-14T17:21:22.752Z"
   },
   {
    "duration": 44,
    "start_time": "2023-02-14T17:21:40.480Z"
   },
   {
    "duration": 55,
    "start_time": "2023-02-14T17:21:51.194Z"
   },
   {
    "duration": 41,
    "start_time": "2023-02-14T17:22:00.626Z"
   },
   {
    "duration": 147,
    "start_time": "2023-02-14T17:24:58.945Z"
   },
   {
    "duration": 214,
    "start_time": "2023-02-14T17:28:56.971Z"
   },
   {
    "duration": 281,
    "start_time": "2023-02-14T17:29:10.868Z"
   },
   {
    "duration": 3845,
    "start_time": "2023-02-14T19:01:10.501Z"
   },
   {
    "duration": 63,
    "start_time": "2023-02-14T19:01:14.348Z"
   },
   {
    "duration": 33,
    "start_time": "2023-02-14T19:01:14.413Z"
   },
   {
    "duration": 30,
    "start_time": "2023-02-14T19:01:14.449Z"
   },
   {
    "duration": 479,
    "start_time": "2023-02-14T19:01:14.482Z"
   },
   {
    "duration": 180,
    "start_time": "2023-02-14T19:01:14.963Z"
   },
   {
    "duration": 100,
    "start_time": "2023-02-14T19:01:15.148Z"
   },
   {
    "duration": 164,
    "start_time": "2023-02-14T19:01:15.250Z"
   },
   {
    "duration": 214,
    "start_time": "2023-02-14T19:01:15.417Z"
   },
   {
    "duration": 166,
    "start_time": "2023-02-14T19:01:15.638Z"
   },
   {
    "duration": 6,
    "start_time": "2023-02-14T19:01:15.806Z"
   },
   {
    "duration": 35,
    "start_time": "2023-02-14T19:01:15.814Z"
   },
   {
    "duration": 422,
    "start_time": "2023-02-14T19:01:15.850Z"
   },
   {
    "duration": 5,
    "start_time": "2023-02-14T19:01:16.274Z"
   },
   {
    "duration": 225,
    "start_time": "2023-02-14T19:01:16.280Z"
   },
   {
    "duration": 297,
    "start_time": "2023-02-14T19:01:16.507Z"
   },
   {
    "duration": 275,
    "start_time": "2023-02-14T19:01:16.809Z"
   },
   {
    "duration": 287,
    "start_time": "2023-02-14T19:01:17.086Z"
   },
   {
    "duration": 208,
    "start_time": "2023-02-14T19:01:17.375Z"
   },
   {
    "duration": 281,
    "start_time": "2023-02-14T19:01:17.587Z"
   },
   {
    "duration": 207,
    "start_time": "2023-02-14T19:01:17.871Z"
   },
   {
    "duration": 320,
    "start_time": "2023-02-14T19:01:18.080Z"
   },
   {
    "duration": 264,
    "start_time": "2023-02-14T19:01:18.404Z"
   },
   {
    "duration": 214,
    "start_time": "2023-02-14T19:01:18.670Z"
   },
   {
    "duration": 198,
    "start_time": "2023-02-14T19:01:18.887Z"
   },
   {
    "duration": 208,
    "start_time": "2023-02-14T19:01:19.087Z"
   },
   {
    "duration": 357,
    "start_time": "2023-02-14T19:01:19.297Z"
   },
   {
    "duration": 9,
    "start_time": "2023-02-14T19:01:19.661Z"
   },
   {
    "duration": 389,
    "start_time": "2023-02-14T19:01:19.672Z"
   },
   {
    "duration": 210,
    "start_time": "2023-02-14T19:01:20.063Z"
   },
   {
    "duration": 240,
    "start_time": "2023-02-14T19:01:20.275Z"
   },
   {
    "duration": 356,
    "start_time": "2023-02-14T19:01:20.517Z"
   },
   {
    "duration": 248,
    "start_time": "2023-02-14T19:01:20.876Z"
   },
   {
    "duration": 302,
    "start_time": "2023-02-14T19:01:21.126Z"
   },
   {
    "duration": 298,
    "start_time": "2023-02-14T19:01:21.430Z"
   },
   {
    "duration": 272,
    "start_time": "2023-02-14T19:01:21.731Z"
   },
   {
    "duration": 248,
    "start_time": "2023-02-14T19:01:22.005Z"
   },
   {
    "duration": 13,
    "start_time": "2023-02-14T19:01:22.260Z"
   },
   {
    "duration": 26,
    "start_time": "2023-02-14T19:01:22.275Z"
   },
   {
    "duration": 270,
    "start_time": "2023-02-14T19:01:22.303Z"
   },
   {
    "duration": 105,
    "start_time": "2023-02-14T19:01:52.167Z"
   },
   {
    "duration": 7,
    "start_time": "2023-02-14T19:02:12.906Z"
   },
   {
    "duration": 83,
    "start_time": "2023-02-15T05:13:01.903Z"
   },
   {
    "duration": 3034,
    "start_time": "2023-02-15T05:13:06.950Z"
   },
   {
    "duration": 60,
    "start_time": "2023-02-15T05:13:09.987Z"
   },
   {
    "duration": 12,
    "start_time": "2023-02-15T05:13:10.049Z"
   },
   {
    "duration": 20,
    "start_time": "2023-02-15T05:13:10.062Z"
   },
   {
    "duration": 347,
    "start_time": "2023-02-15T05:13:10.084Z"
   },
   {
    "duration": 140,
    "start_time": "2023-02-15T05:13:10.432Z"
   },
   {
    "duration": 74,
    "start_time": "2023-02-15T05:13:10.574Z"
   },
   {
    "duration": 125,
    "start_time": "2023-02-15T05:13:10.649Z"
   },
   {
    "duration": 162,
    "start_time": "2023-02-15T05:13:10.776Z"
   },
   {
    "duration": 202,
    "start_time": "2023-02-15T05:13:10.939Z"
   },
   {
    "duration": 133,
    "start_time": "2023-02-15T05:13:11.142Z"
   },
   {
    "duration": 7,
    "start_time": "2023-02-15T05:13:11.277Z"
   },
   {
    "duration": 5,
    "start_time": "2023-02-15T05:13:11.286Z"
   },
   {
    "duration": 28,
    "start_time": "2023-02-15T05:13:11.294Z"
   },
   {
    "duration": 184,
    "start_time": "2023-02-15T05:13:11.324Z"
   },
   {
    "duration": 13,
    "start_time": "2023-02-15T05:13:11.510Z"
   },
   {
    "duration": 178,
    "start_time": "2023-02-15T05:13:11.529Z"
   },
   {
    "duration": 228,
    "start_time": "2023-02-15T05:13:11.708Z"
   },
   {
    "duration": 165,
    "start_time": "2023-02-15T05:13:11.937Z"
   },
   {
    "duration": 170,
    "start_time": "2023-02-15T05:13:12.103Z"
   },
   {
    "duration": 163,
    "start_time": "2023-02-15T05:13:12.274Z"
   },
   {
    "duration": 149,
    "start_time": "2023-02-15T05:13:12.439Z"
   },
   {
    "duration": 250,
    "start_time": "2023-02-15T05:13:12.590Z"
   },
   {
    "duration": 132,
    "start_time": "2023-02-15T05:13:12.841Z"
   },
   {
    "duration": 187,
    "start_time": "2023-02-15T05:13:12.975Z"
   },
   {
    "duration": 203,
    "start_time": "2023-02-15T05:13:13.165Z"
   },
   {
    "duration": 160,
    "start_time": "2023-02-15T05:13:13.371Z"
   },
   {
    "duration": 153,
    "start_time": "2023-02-15T05:13:13.535Z"
   },
   {
    "duration": 288,
    "start_time": "2023-02-15T05:13:13.690Z"
   },
   {
    "duration": 6,
    "start_time": "2023-02-15T05:13:13.979Z"
   },
   {
    "duration": 294,
    "start_time": "2023-02-15T05:13:13.986Z"
   },
   {
    "duration": 171,
    "start_time": "2023-02-15T05:13:14.281Z"
   },
   {
    "duration": 239,
    "start_time": "2023-02-15T05:13:14.454Z"
   },
   {
    "duration": 161,
    "start_time": "2023-02-15T05:13:14.695Z"
   },
   {
    "duration": 184,
    "start_time": "2023-02-15T05:13:14.857Z"
   },
   {
    "duration": 216,
    "start_time": "2023-02-15T05:13:15.042Z"
   },
   {
    "duration": 276,
    "start_time": "2023-02-15T05:13:15.259Z"
   },
   {
    "duration": 232,
    "start_time": "2023-02-15T05:13:15.538Z"
   },
   {
    "duration": 197,
    "start_time": "2023-02-15T05:13:15.773Z"
   },
   {
    "duration": 8,
    "start_time": "2023-02-15T05:13:15.972Z"
   },
   {
    "duration": 9,
    "start_time": "2023-02-15T05:13:15.983Z"
   },
   {
    "duration": 190,
    "start_time": "2023-02-15T05:13:15.994Z"
   },
   {
    "duration": 7,
    "start_time": "2023-02-15T05:15:12.573Z"
   },
   {
    "duration": 45,
    "start_time": "2023-02-15T05:20:02.641Z"
   },
   {
    "duration": 3,
    "start_time": "2023-02-15T05:26:59.596Z"
   },
   {
    "duration": 8,
    "start_time": "2023-02-15T05:28:16.101Z"
   },
   {
    "duration": 9,
    "start_time": "2023-02-15T05:29:15.053Z"
   },
   {
    "duration": 5,
    "start_time": "2023-02-15T05:29:21.834Z"
   },
   {
    "duration": 12,
    "start_time": "2023-02-15T05:32:30.840Z"
   },
   {
    "duration": 5,
    "start_time": "2023-02-15T05:33:28.943Z"
   },
   {
    "duration": 8,
    "start_time": "2023-02-15T05:37:44.780Z"
   },
   {
    "duration": 2,
    "start_time": "2023-02-15T05:37:53.997Z"
   },
   {
    "duration": 13,
    "start_time": "2023-02-15T06:24:43.031Z"
   },
   {
    "duration": 250,
    "start_time": "2023-02-15T06:30:58.989Z"
   },
   {
    "duration": 273,
    "start_time": "2023-02-15T06:31:21.781Z"
   },
   {
    "duration": 246,
    "start_time": "2023-02-15T06:33:18.952Z"
   },
   {
    "duration": 319,
    "start_time": "2023-02-15T06:33:32.364Z"
   },
   {
    "duration": 206,
    "start_time": "2023-02-15T06:34:00.764Z"
   },
   {
    "duration": 245,
    "start_time": "2023-02-15T06:34:08.352Z"
   },
   {
    "duration": 318,
    "start_time": "2023-02-15T06:34:14.071Z"
   },
   {
    "duration": 375,
    "start_time": "2023-02-15T06:35:22.145Z"
   },
   {
    "duration": 240,
    "start_time": "2023-02-15T06:35:28.703Z"
   },
   {
    "duration": 14,
    "start_time": "2023-02-15T06:36:30.971Z"
   },
   {
    "duration": 11,
    "start_time": "2023-02-15T06:36:40.433Z"
   },
   {
    "duration": 7,
    "start_time": "2023-02-15T06:36:45.340Z"
   },
   {
    "duration": 10,
    "start_time": "2023-02-15T06:36:58.817Z"
   },
   {
    "duration": 10,
    "start_time": "2023-02-15T06:37:04.665Z"
   },
   {
    "duration": 8,
    "start_time": "2023-02-15T06:37:06.268Z"
   },
   {
    "duration": 2162,
    "start_time": "2023-02-15T06:37:28.636Z"
   },
   {
    "duration": 62,
    "start_time": "2023-02-15T06:37:30.800Z"
   },
   {
    "duration": 15,
    "start_time": "2023-02-15T06:37:30.864Z"
   },
   {
    "duration": 35,
    "start_time": "2023-02-15T06:37:30.881Z"
   },
   {
    "duration": 344,
    "start_time": "2023-02-15T06:37:30.918Z"
   },
   {
    "duration": 168,
    "start_time": "2023-02-15T06:37:31.263Z"
   },
   {
    "duration": 65,
    "start_time": "2023-02-15T06:37:31.433Z"
   },
   {
    "duration": 141,
    "start_time": "2023-02-15T06:37:31.499Z"
   },
   {
    "duration": 138,
    "start_time": "2023-02-15T06:37:31.641Z"
   },
   {
    "duration": 131,
    "start_time": "2023-02-15T06:37:31.782Z"
   },
   {
    "duration": 209,
    "start_time": "2023-02-15T06:37:31.915Z"
   },
   {
    "duration": 7,
    "start_time": "2023-02-15T06:37:32.126Z"
   },
   {
    "duration": 13,
    "start_time": "2023-02-15T06:37:32.134Z"
   },
   {
    "duration": 12,
    "start_time": "2023-02-15T06:37:32.148Z"
   },
   {
    "duration": 16,
    "start_time": "2023-02-15T06:37:32.161Z"
   },
   {
    "duration": 222,
    "start_time": "2023-02-15T06:37:32.179Z"
   },
   {
    "duration": 7,
    "start_time": "2023-02-15T06:37:32.404Z"
   },
   {
    "duration": 231,
    "start_time": "2023-02-15T06:37:32.413Z"
   },
   {
    "duration": 223,
    "start_time": "2023-02-15T06:37:32.646Z"
   },
   {
    "duration": 207,
    "start_time": "2023-02-15T06:37:32.871Z"
   },
   {
    "duration": 182,
    "start_time": "2023-02-15T06:37:33.080Z"
   },
   {
    "duration": 167,
    "start_time": "2023-02-15T06:37:33.264Z"
   },
   {
    "duration": 152,
    "start_time": "2023-02-15T06:37:33.433Z"
   },
   {
    "duration": 164,
    "start_time": "2023-02-15T06:37:33.586Z"
   },
   {
    "duration": 129,
    "start_time": "2023-02-15T06:37:33.752Z"
   },
   {
    "duration": 168,
    "start_time": "2023-02-15T06:37:33.882Z"
   },
   {
    "duration": 265,
    "start_time": "2023-02-15T06:37:34.052Z"
   },
   {
    "duration": 165,
    "start_time": "2023-02-15T06:37:34.320Z"
   },
   {
    "duration": 169,
    "start_time": "2023-02-15T06:37:34.487Z"
   },
   {
    "duration": 281,
    "start_time": "2023-02-15T06:37:34.657Z"
   },
   {
    "duration": 6,
    "start_time": "2023-02-15T06:37:34.940Z"
   },
   {
    "duration": 303,
    "start_time": "2023-02-15T06:37:34.947Z"
   },
   {
    "duration": 152,
    "start_time": "2023-02-15T06:37:35.251Z"
   },
   {
    "duration": 179,
    "start_time": "2023-02-15T06:37:35.404Z"
   },
   {
    "duration": 158,
    "start_time": "2023-02-15T06:37:35.585Z"
   },
   {
    "duration": 173,
    "start_time": "2023-02-15T06:37:35.745Z"
   },
   {
    "duration": 323,
    "start_time": "2023-02-15T06:37:35.919Z"
   },
   {
    "duration": 236,
    "start_time": "2023-02-15T06:37:36.244Z"
   },
   {
    "duration": 412,
    "start_time": "2023-02-15T06:37:36.482Z"
   },
   {
    "duration": 404,
    "start_time": "2023-02-15T06:37:36.896Z"
   },
   {
    "duration": 18,
    "start_time": "2023-02-15T06:37:37.301Z"
   },
   {
    "duration": 21,
    "start_time": "2023-02-15T06:37:37.321Z"
   },
   {
    "duration": 192,
    "start_time": "2023-02-15T06:37:37.344Z"
   },
   {
    "duration": 10,
    "start_time": "2023-02-15T06:38:00.144Z"
   },
   {
    "duration": 11,
    "start_time": "2023-02-15T06:38:01.594Z"
   },
   {
    "duration": 8,
    "start_time": "2023-02-15T06:47:25.735Z"
   },
   {
    "duration": 156,
    "start_time": "2023-02-15T06:47:39.602Z"
   },
   {
    "duration": 177,
    "start_time": "2023-02-15T06:48:06.267Z"
   },
   {
    "duration": 107,
    "start_time": "2023-02-15T06:50:14.638Z"
   },
   {
    "duration": 2122,
    "start_time": "2023-02-15T06:50:20.865Z"
   },
   {
    "duration": 81,
    "start_time": "2023-02-15T06:50:22.990Z"
   },
   {
    "duration": 14,
    "start_time": "2023-02-15T06:50:23.073Z"
   },
   {
    "duration": 34,
    "start_time": "2023-02-15T06:50:23.092Z"
   },
   {
    "duration": 343,
    "start_time": "2023-02-15T06:50:23.129Z"
   },
   {
    "duration": 152,
    "start_time": "2023-02-15T06:50:23.474Z"
   },
   {
    "duration": 69,
    "start_time": "2023-02-15T06:50:23.630Z"
   },
   {
    "duration": 157,
    "start_time": "2023-02-15T06:50:23.701Z"
   },
   {
    "duration": 136,
    "start_time": "2023-02-15T06:50:23.859Z"
   },
   {
    "duration": 139,
    "start_time": "2023-02-15T06:50:23.996Z"
   },
   {
    "duration": 128,
    "start_time": "2023-02-15T06:50:24.137Z"
   },
   {
    "duration": 132,
    "start_time": "2023-02-15T06:50:24.266Z"
   },
   {
    "duration": 18,
    "start_time": "2023-02-15T06:50:24.400Z"
   },
   {
    "duration": 10,
    "start_time": "2023-02-15T06:50:24.421Z"
   },
   {
    "duration": 11,
    "start_time": "2023-02-15T06:50:24.433Z"
   },
   {
    "duration": 174,
    "start_time": "2023-02-15T06:50:24.445Z"
   },
   {
    "duration": 8,
    "start_time": "2023-02-15T06:50:24.621Z"
   },
   {
    "duration": 190,
    "start_time": "2023-02-15T06:50:24.631Z"
   },
   {
    "duration": 338,
    "start_time": "2023-02-15T06:50:24.825Z"
   },
   {
    "duration": 196,
    "start_time": "2023-02-15T06:50:25.165Z"
   },
   {
    "duration": 174,
    "start_time": "2023-02-15T06:50:25.363Z"
   },
   {
    "duration": 208,
    "start_time": "2023-02-15T06:50:25.539Z"
   },
   {
    "duration": 154,
    "start_time": "2023-02-15T06:50:25.748Z"
   },
   {
    "duration": 243,
    "start_time": "2023-02-15T06:50:25.910Z"
   },
   {
    "duration": 145,
    "start_time": "2023-02-15T06:50:26.155Z"
   },
   {
    "duration": 159,
    "start_time": "2023-02-15T06:50:26.302Z"
   },
   {
    "duration": 175,
    "start_time": "2023-02-15T06:50:26.462Z"
   },
   {
    "duration": 172,
    "start_time": "2023-02-15T06:50:26.639Z"
   },
   {
    "duration": 184,
    "start_time": "2023-02-15T06:50:26.813Z"
   },
   {
    "duration": 415,
    "start_time": "2023-02-15T06:50:26.999Z"
   },
   {
    "duration": 6,
    "start_time": "2023-02-15T06:50:27.416Z"
   },
   {
    "duration": 311,
    "start_time": "2023-02-15T06:50:27.424Z"
   },
   {
    "duration": 154,
    "start_time": "2023-02-15T06:50:27.737Z"
   },
   {
    "duration": 168,
    "start_time": "2023-02-15T06:50:27.893Z"
   },
   {
    "duration": 305,
    "start_time": "2023-02-15T06:50:28.063Z"
   },
   {
    "duration": 171,
    "start_time": "2023-02-15T06:50:28.370Z"
   },
   {
    "duration": 221,
    "start_time": "2023-02-15T06:50:28.543Z"
   },
   {
    "duration": 259,
    "start_time": "2023-02-15T06:50:28.765Z"
   },
   {
    "duration": 333,
    "start_time": "2023-02-15T06:50:29.026Z"
   },
   {
    "duration": 325,
    "start_time": "2023-02-15T06:50:29.361Z"
   },
   {
    "duration": 7,
    "start_time": "2023-02-15T06:50:29.690Z"
   },
   {
    "duration": 18,
    "start_time": "2023-02-15T06:50:29.699Z"
   },
   {
    "duration": 183,
    "start_time": "2023-02-15T06:50:29.719Z"
   },
   {
    "duration": 109,
    "start_time": "2023-02-15T06:52:27.402Z"
   },
   {
    "duration": 8,
    "start_time": "2023-02-15T06:54:06.864Z"
   },
   {
    "duration": 4,
    "start_time": "2023-02-15T06:54:24.037Z"
   },
   {
    "duration": 103,
    "start_time": "2023-02-15T06:54:37.856Z"
   },
   {
    "duration": 2202,
    "start_time": "2023-02-15T06:54:40.739Z"
   },
   {
    "duration": 82,
    "start_time": "2023-02-15T06:54:42.943Z"
   },
   {
    "duration": 20,
    "start_time": "2023-02-15T06:54:43.027Z"
   },
   {
    "duration": 19,
    "start_time": "2023-02-15T06:54:43.049Z"
   },
   {
    "duration": 356,
    "start_time": "2023-02-15T06:54:43.072Z"
   },
   {
    "duration": 142,
    "start_time": "2023-02-15T06:54:43.430Z"
   },
   {
    "duration": 104,
    "start_time": "2023-02-15T06:54:43.574Z"
   },
   {
    "duration": 160,
    "start_time": "2023-02-15T06:54:43.680Z"
   },
   {
    "duration": 147,
    "start_time": "2023-02-15T06:54:43.842Z"
   },
   {
    "duration": 136,
    "start_time": "2023-02-15T06:54:43.990Z"
   },
   {
    "duration": 129,
    "start_time": "2023-02-15T06:54:44.128Z"
   },
   {
    "duration": 113,
    "start_time": "2023-02-15T06:54:44.258Z"
   },
   {
    "duration": 5,
    "start_time": "2023-02-15T06:54:44.373Z"
   },
   {
    "duration": 6,
    "start_time": "2023-02-15T06:54:44.383Z"
   },
   {
    "duration": 26,
    "start_time": "2023-02-15T06:54:44.391Z"
   },
   {
    "duration": 171,
    "start_time": "2023-02-15T06:54:44.419Z"
   },
   {
    "duration": 4,
    "start_time": "2023-02-15T06:54:44.592Z"
   },
   {
    "duration": 179,
    "start_time": "2023-02-15T06:54:44.597Z"
   },
   {
    "duration": 221,
    "start_time": "2023-02-15T06:54:44.777Z"
   },
   {
    "duration": 335,
    "start_time": "2023-02-15T06:54:45.000Z"
   },
   {
    "duration": 163,
    "start_time": "2023-02-15T06:54:45.336Z"
   },
   {
    "duration": 140,
    "start_time": "2023-02-15T06:54:45.501Z"
   },
   {
    "duration": 168,
    "start_time": "2023-02-15T06:54:45.644Z"
   },
   {
    "duration": 159,
    "start_time": "2023-02-15T06:54:45.814Z"
   },
   {
    "duration": 141,
    "start_time": "2023-02-15T06:54:45.975Z"
   },
   {
    "duration": 153,
    "start_time": "2023-02-15T06:54:46.118Z"
   },
   {
    "duration": 171,
    "start_time": "2023-02-15T06:54:46.273Z"
   },
   {
    "duration": 194,
    "start_time": "2023-02-15T06:54:46.445Z"
   },
   {
    "duration": 230,
    "start_time": "2023-02-15T06:54:46.641Z"
   },
   {
    "duration": 308,
    "start_time": "2023-02-15T06:54:46.873Z"
   },
   {
    "duration": 5,
    "start_time": "2023-02-15T06:54:47.183Z"
   },
   {
    "duration": 340,
    "start_time": "2023-02-15T06:54:47.190Z"
   },
   {
    "duration": 161,
    "start_time": "2023-02-15T06:54:47.532Z"
   },
   {
    "duration": 180,
    "start_time": "2023-02-15T06:54:47.695Z"
   },
   {
    "duration": 166,
    "start_time": "2023-02-15T06:54:47.876Z"
   },
   {
    "duration": 188,
    "start_time": "2023-02-15T06:54:48.044Z"
   },
   {
    "duration": 249,
    "start_time": "2023-02-15T06:54:48.234Z"
   },
   {
    "duration": 268,
    "start_time": "2023-02-15T06:54:48.485Z"
   },
   {
    "duration": 483,
    "start_time": "2023-02-15T06:54:48.755Z"
   },
   {
    "duration": 275,
    "start_time": "2023-02-15T06:54:49.240Z"
   },
   {
    "duration": 17,
    "start_time": "2023-02-15T06:54:49.521Z"
   },
   {
    "duration": 11,
    "start_time": "2023-02-15T06:54:49.540Z"
   },
   {
    "duration": 189,
    "start_time": "2023-02-15T06:54:49.553Z"
   },
   {
    "duration": 9,
    "start_time": "2023-02-15T06:55:44.899Z"
   },
   {
    "duration": 161,
    "start_time": "2023-02-15T06:55:52.829Z"
   },
   {
    "duration": 109,
    "start_time": "2023-02-15T06:56:26.460Z"
   },
   {
    "duration": 107,
    "start_time": "2023-02-15T06:56:34.178Z"
   },
   {
    "duration": 116,
    "start_time": "2023-02-15T06:56:37.851Z"
   },
   {
    "duration": 2833,
    "start_time": "2023-02-15T06:56:42.929Z"
   },
   {
    "duration": 81,
    "start_time": "2023-02-15T06:56:45.764Z"
   },
   {
    "duration": 14,
    "start_time": "2023-02-15T06:56:45.848Z"
   },
   {
    "duration": 16,
    "start_time": "2023-02-15T06:56:45.864Z"
   },
   {
    "duration": 352,
    "start_time": "2023-02-15T06:56:45.883Z"
   },
   {
    "duration": 142,
    "start_time": "2023-02-15T06:56:46.237Z"
   },
   {
    "duration": 86,
    "start_time": "2023-02-15T06:56:46.381Z"
   },
   {
    "duration": 131,
    "start_time": "2023-02-15T06:56:46.469Z"
   },
   {
    "duration": 194,
    "start_time": "2023-02-15T06:56:46.602Z"
   },
   {
    "duration": 184,
    "start_time": "2023-02-15T06:56:46.798Z"
   },
   {
    "duration": 174,
    "start_time": "2023-02-15T06:56:46.984Z"
   },
   {
    "duration": 187,
    "start_time": "2023-02-15T06:56:47.161Z"
   },
   {
    "duration": 7,
    "start_time": "2023-02-15T06:56:47.351Z"
   },
   {
    "duration": 6,
    "start_time": "2023-02-15T06:56:47.363Z"
   },
   {
    "duration": 10,
    "start_time": "2023-02-15T06:56:47.371Z"
   },
   {
    "duration": 257,
    "start_time": "2023-02-15T06:56:47.383Z"
   },
   {
    "duration": 5,
    "start_time": "2023-02-15T06:56:47.642Z"
   },
   {
    "duration": 196,
    "start_time": "2023-02-15T06:56:47.648Z"
   },
   {
    "duration": 324,
    "start_time": "2023-02-15T06:56:47.846Z"
   },
   {
    "duration": 184,
    "start_time": "2023-02-15T06:56:48.172Z"
   },
   {
    "duration": 188,
    "start_time": "2023-02-15T06:56:48.358Z"
   },
   {
    "duration": 145,
    "start_time": "2023-02-15T06:56:48.548Z"
   },
   {
    "duration": 173,
    "start_time": "2023-02-15T06:56:48.694Z"
   },
   {
    "duration": 190,
    "start_time": "2023-02-15T06:56:48.869Z"
   },
   {
    "duration": 134,
    "start_time": "2023-02-15T06:56:49.061Z"
   },
   {
    "duration": 201,
    "start_time": "2023-02-15T06:56:49.198Z"
   },
   {
    "duration": 179,
    "start_time": "2023-02-15T06:56:49.400Z"
   },
   {
    "duration": 191,
    "start_time": "2023-02-15T06:56:49.581Z"
   },
   {
    "duration": 374,
    "start_time": "2023-02-15T06:56:49.774Z"
   },
   {
    "duration": 301,
    "start_time": "2023-02-15T06:56:50.150Z"
   },
   {
    "duration": 8,
    "start_time": "2023-02-15T06:56:50.454Z"
   },
   {
    "duration": 309,
    "start_time": "2023-02-15T06:56:50.464Z"
   },
   {
    "duration": 168,
    "start_time": "2023-02-15T06:56:50.777Z"
   },
   {
    "duration": 202,
    "start_time": "2023-02-15T06:56:50.947Z"
   },
   {
    "duration": 280,
    "start_time": "2023-02-15T06:56:51.151Z"
   },
   {
    "duration": 391,
    "start_time": "2023-02-15T06:56:51.436Z"
   },
   {
    "duration": 430,
    "start_time": "2023-02-15T06:56:51.829Z"
   },
   {
    "duration": 537,
    "start_time": "2023-02-15T06:56:52.310Z"
   },
   {
    "duration": 777,
    "start_time": "2023-02-15T06:56:52.849Z"
   },
   {
    "duration": 512,
    "start_time": "2023-02-15T06:56:53.627Z"
   },
   {
    "duration": 8,
    "start_time": "2023-02-15T06:56:54.144Z"
   },
   {
    "duration": 26,
    "start_time": "2023-02-15T06:56:54.154Z"
   },
   {
    "duration": 202,
    "start_time": "2023-02-15T06:56:54.182Z"
   },
   {
    "duration": 5,
    "start_time": "2023-02-15T09:46:13.550Z"
   },
   {
    "duration": 192,
    "start_time": "2023-02-15T09:48:22.864Z"
   },
   {
    "duration": 2690,
    "start_time": "2023-02-15T12:39:28.030Z"
   },
   {
    "duration": 46,
    "start_time": "2023-02-15T12:39:30.722Z"
   },
   {
    "duration": 11,
    "start_time": "2023-02-15T12:39:30.770Z"
   },
   {
    "duration": 15,
    "start_time": "2023-02-15T12:39:30.783Z"
   },
   {
    "duration": 354,
    "start_time": "2023-02-15T12:39:30.799Z"
   },
   {
    "duration": 113,
    "start_time": "2023-02-15T12:39:31.155Z"
   },
   {
    "duration": 70,
    "start_time": "2023-02-15T12:39:31.270Z"
   },
   {
    "duration": 119,
    "start_time": "2023-02-15T12:39:31.341Z"
   },
   {
    "duration": 119,
    "start_time": "2023-02-15T12:39:31.462Z"
   },
   {
    "duration": 110,
    "start_time": "2023-02-15T12:39:31.583Z"
   },
   {
    "duration": 167,
    "start_time": "2023-02-15T12:39:31.694Z"
   },
   {
    "duration": 124,
    "start_time": "2023-02-15T12:39:31.862Z"
   },
   {
    "duration": 5,
    "start_time": "2023-02-15T12:39:31.987Z"
   },
   {
    "duration": 9,
    "start_time": "2023-02-15T12:39:31.993Z"
   },
   {
    "duration": 10,
    "start_time": "2023-02-15T12:39:32.003Z"
   },
   {
    "duration": 148,
    "start_time": "2023-02-15T12:39:32.014Z"
   },
   {
    "duration": 5,
    "start_time": "2023-02-15T12:39:32.164Z"
   },
   {
    "duration": 164,
    "start_time": "2023-02-15T12:39:32.171Z"
   },
   {
    "duration": 235,
    "start_time": "2023-02-15T12:39:32.336Z"
   },
   {
    "duration": 173,
    "start_time": "2023-02-15T12:39:32.573Z"
   },
   {
    "duration": 148,
    "start_time": "2023-02-15T12:39:32.748Z"
   },
   {
    "duration": 128,
    "start_time": "2023-02-15T12:39:32.898Z"
   },
   {
    "duration": 152,
    "start_time": "2023-02-15T12:39:33.027Z"
   },
   {
    "duration": 149,
    "start_time": "2023-02-15T12:39:33.181Z"
   },
   {
    "duration": 192,
    "start_time": "2023-02-15T12:39:33.331Z"
   },
   {
    "duration": 135,
    "start_time": "2023-02-15T12:39:33.524Z"
   },
   {
    "duration": 158,
    "start_time": "2023-02-15T12:39:33.660Z"
   },
   {
    "duration": 144,
    "start_time": "2023-02-15T12:39:33.821Z"
   },
   {
    "duration": 144,
    "start_time": "2023-02-15T12:39:33.967Z"
   },
   {
    "duration": 256,
    "start_time": "2023-02-15T12:39:34.112Z"
   },
   {
    "duration": 5,
    "start_time": "2023-02-15T12:39:34.370Z"
   },
   {
    "duration": 266,
    "start_time": "2023-02-15T12:39:34.376Z"
   },
   {
    "duration": 135,
    "start_time": "2023-02-15T12:39:34.643Z"
   },
   {
    "duration": 163,
    "start_time": "2023-02-15T12:39:34.779Z"
   },
   {
    "duration": 217,
    "start_time": "2023-02-15T12:39:34.943Z"
   },
   {
    "duration": 151,
    "start_time": "2023-02-15T12:39:35.161Z"
   },
   {
    "duration": 192,
    "start_time": "2023-02-15T12:39:35.313Z"
   },
   {
    "duration": 237,
    "start_time": "2023-02-15T12:39:35.507Z"
   },
   {
    "duration": 264,
    "start_time": "2023-02-15T12:39:35.746Z"
   },
   {
    "duration": 221,
    "start_time": "2023-02-15T12:39:36.012Z"
   },
   {
    "duration": 7,
    "start_time": "2023-02-15T12:39:36.237Z"
   },
   {
    "duration": 13,
    "start_time": "2023-02-15T12:39:36.245Z"
   },
   {
    "duration": 163,
    "start_time": "2023-02-15T12:39:36.259Z"
   }
  ],
  "kernelspec": {
   "display_name": "Python 3 (ipykernel)",
   "language": "python",
   "name": "python3"
  },
  "language_info": {
   "codemirror_mode": {
    "name": "ipython",
    "version": 3
   },
   "file_extension": ".py",
   "mimetype": "text/x-python",
   "name": "python",
   "nbconvert_exporter": "python",
   "pygments_lexer": "ipython3",
   "version": "3.9.13"
  },
  "toc": {
   "base_numbering": 1,
   "nav_menu": {},
   "number_sections": true,
   "sideBar": true,
   "skip_h1_title": true,
   "title_cell": "Table of Contents",
   "title_sidebar": "Contents",
   "toc_cell": false,
   "toc_position": {
    "height": "calc(100% - 180px)",
    "left": "10px",
    "top": "150px",
    "width": "238.1875px"
   },
   "toc_section_display": true,
   "toc_window_display": true
  }
 },
 "nbformat": 4,
 "nbformat_minor": 2
}
